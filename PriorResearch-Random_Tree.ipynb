{
 "cells": [
  {
   "cell_type": "code",
   "execution_count": 27,
   "metadata": {},
   "outputs": [],
   "source": [
    "import numpy as np\n",
    "import pickle\n",
    "import matplotlib.pyplot as plt\n",
    "import pandas as pd\n",
    "\n",
    "import utils.luigi_wrapper as luigi\n",
    "from utils.utils import *\n",
    "\n",
    "# from preprocess.questions_label_extraction import QuestionsLabelExtractionTask\n",
    "# from questions_model.create_predictions import QuestionsMakePredictionsTask\n",
    "# from preprocess.train_test_split import TrainTestSplitTask\n",
    "# from preprocess.data_tokenization import DataTokenizationTask\n",
    "# from preprocess.feature_selection import FeatureSelectionTask\n",
    "from preprocess.create_dataset import CreateDataSetTask\n",
    "from preprocess.dataset import DataSet\n",
    "\n",
    "\n",
    "from sklearn.metrics import classification_report\n",
    "from sklearn.metrics import roc_auc_score, f1_score\n",
    "\n",
    "from IPython.display import display"
   ]
  },
  {
   "cell_type": "code",
   "execution_count": 28,
   "metadata": {},
   "outputs": [],
   "source": [
    "from scipy.sparse.csgraph import minimum_spanning_tree\n",
    "import networkx as nx"
   ]
  },
  {
   "cell_type": "code",
   "execution_count": 29,
   "metadata": {},
   "outputs": [],
   "source": [
    "pd.set_option('max_rows', 70)"
   ]
  },
  {
   "cell_type": "code",
   "execution_count": 30,
   "metadata": {},
   "outputs": [],
   "source": [
    "def get_prior(y):\n",
    "    num_of_pages = y.shape[0]\n",
    "    num_of_classes = y.shape[1]\n",
    "\n",
    "    p_ij = np.zeros((num_of_classes, num_of_classes))\n",
    "    for lst in y:\n",
    "        for i in range(num_of_classes):\n",
    "            for j in range(num_of_classes):\n",
    "                p_ij[i, j] += (lst[i] * lst[j]) / num_of_pages\n",
    "    return p_ij\n",
    "\n",
    "def get_mutual_information(p_ij, nan=0, neginf=-5):\n",
    "    E = np.zeros(p_ij.shape)\n",
    "    for i in range(p_ij.shape[0]):\n",
    "        for j in range(p_ij.shape[0]):\n",
    "            E[i, j] = p_ij[i,j] * np.log(p_ij[i,j] / (p_ij[i, i] * p_ij[j, j]))\n",
    "    E_filled = - np.nan_to_num(E, nan=nan, neginf=neginf)\n",
    "    return E_filled\n",
    "\n",
    "def theta(p_ij, i, j, i_val, j_val):\n",
    "    if i_val == 1 and j_val == 1:\n",
    "        return p_ij[i,j] / (p_ij[i,i] * p_ij[j,j])\n",
    "    elif i_val == 1 and j_val == 0:\n",
    "        return (p_ij[i,i] - p_ij[i,j]) / (p_ij[i,i] * (1 - p_ij[j,j]))\n",
    "    elif i_val == 0 and j_val == 1:\n",
    "        return (p_ij[j,j] - p_ij[i,j]) / (p_ij[j,j] * (1 - p_ij[i,i]))\n",
    "    elif i_val == 0 and j_val == 0:\n",
    "        return (1 - p_ij[j,j] - p_ij[i,i] + p_ij[i,j]) / ((1 - p_ij[j,j]) * (1 - p_ij[i,i]))\n",
    "    \n",
    "def get_neg_conn_strength(p_ij):\n",
    "    conn_strength = np.zeros(p_ij.shape)\n",
    "    for i in range(p_ij.shape[0]):\n",
    "        for j in range(p_ij.shape[0]):\n",
    "            conn_strength[i, j] = (theta(p_ij, i, j, 1, 0) + theta(p_ij, i, j, 0, 1)) / 2\n",
    "    return conn_strength"
   ]
  },
  {
   "cell_type": "code",
   "execution_count": 32,
   "metadata": {},
   "outputs": [],
   "source": [
    "def get_y_by_thresh(y_proba, th= 0.5):\n",
    "    return (y_proba > th).astype(int)\n",
    "\n",
    "def get_thresh(y_true, y_pred, n_thers = 500, plot=False):\n",
    "    thresholds = [n / n_thers for n in list(range(1, n_thers, 1))]\n",
    "    f1_scores = [f1_score(y_true, get_y_by_thresh(y_pred, thresh), average = 'macro') for thresh in thresholds]\n",
    "    \n",
    "    if plot:\n",
    "        plt.plot(thresholds, f1_scores)\n",
    "        plt.show()\n",
    "    \n",
    "    return thresholds[np.argmax(f1_scores)]\n",
    "\n",
    "def normalize(y_proba, th= 0.5):\n",
    "    y_proba_fixed = np.zeros(y_proba.shape)\n",
    "    y_proba_fixed[y_proba<th] = (y_proba[y_proba<th] / th) * 0.5\n",
    "    y_proba_fixed[y_proba>=th] = ((y_proba[y_proba>=th] - th) / (1-th)) * 0.5 + 0.5\n",
    "    return y_proba_fixed\n",
    "\n",
    "# def sigmoid_normalize(y_proba, th= 0.5):\n",
    "#     y_proba_fixed = np.zeros(y_proba.shape)\n",
    "#     y_proba_fixed = 1 / (1 + np.exp())\n",
    "#     return y_proba_fixed\n",
    "\n",
    "def get_y(y_test, y_proba, do_normalize=False):\n",
    "    y = []\n",
    "    y_proba_fixed = []\n",
    "    for c in range(y_proba.shape[1]):\n",
    "        y_proba_c = y_proba[:, c]\n",
    "        y_test_c = y_test[:, c]\n",
    "        th = get_thresh(y_test_c, y_proba_c)\n",
    "        y.append(get_y_by_thresh(y_proba_c, th))\n",
    "        y_proba_fixed.append(normalize(y_proba_c, th))\n",
    "    \n",
    "    if do_normalize:\n",
    "        return np.array(y).T, np.array(y_proba_fixed).T\n",
    "    else:\n",
    "        return np.array(y).T, y_proba    "
   ]
  },
  {
   "cell_type": "markdown",
   "metadata": {},
   "source": [
    "## Read Data"
   ]
  },
  {
   "cell_type": "code",
   "execution_count": 33,
   "metadata": {},
   "outputs": [],
   "source": [
    "data: DataSet = read_data(get_file_path('dataset.pickle', 'data'))\n",
    "X = data.X\n",
    "y = data.y\n",
    "X_train, X_test = data.X_train, data.X_test\n",
    "y_train, y_test = data.y_train, data.y_test"
   ]
  },
  {
   "cell_type": "markdown",
   "metadata": {},
   "source": [
    "## Get Prior"
   ]
  },
  {
   "cell_type": "code",
   "execution_count": 34,
   "metadata": {},
   "outputs": [],
   "source": [
    "p_ij = get_prior(y_train)"
   ]
  },
  {
   "cell_type": "code",
   "execution_count": 50,
   "metadata": {},
   "outputs": [],
   "source": [
    "import random"
   ]
  },
  {
   "cell_type": "code",
   "execution_count": 58,
   "metadata": {},
   "outputs": [],
   "source": [
    "import random\n",
    "def get_random_tree_no_zeros(E):\n",
    "    E_rand1 = np.zeros(E.shape)\n",
    "    for i in range(len(E)):\n",
    "        for j in range(len(E)):\n",
    "            if E[i,j] != 0:\n",
    "                E_rand1[i,j] = random.random()\n",
    "    return minimum_spanning_tree(E)            "
   ]
  },
  {
   "cell_type": "code",
   "execution_count": 59,
   "metadata": {},
   "outputs": [],
   "source": [
    "import random\n",
    "def get_random_tree():\n",
    "    E_rand1 = np.array(E)\n",
    "    for i in range(len(E)):\n",
    "        for j in range(len(E)):\n",
    "            E_rand1[i,j] = random.random()\n",
    "    minimum_spanning_tree(E)            "
   ]
  }
 ],
 "metadata": {
  "kernelspec": {
   "display_name": "Python 3",
   "language": "python",
   "name": "python3"
  },
  "language_info": {
   "codemirror_mode": {
    "name": "ipython",
    "version": 3
   },
   "file_extension": ".py",
   "mimetype": "text/x-python",
   "name": "python",
   "nbconvert_exporter": "python",
   "pygments_lexer": "ipython3",
   "version": "3.7.5"
  }
 },
 "nbformat": 4,
 "nbformat_minor": 4
}
