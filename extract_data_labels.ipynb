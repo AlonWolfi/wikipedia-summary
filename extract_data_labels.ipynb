{
 "cells": [
  {
   "cell_type": "code",
   "execution_count": 1,
   "metadata": {},
   "outputs": [],
   "source": [
    "import luigi"
   ]
  },
  {
   "cell_type": "code",
   "execution_count": 2,
   "metadata": {},
   "outputs": [],
   "source": [
    "import os\n",
    "import glob\n",
    "import nltk\n",
    "import gensim"
   ]
  },
  {
   "cell_type": "code",
   "execution_count": 3,
   "metadata": {},
   "outputs": [],
   "source": [
    "import pandas as pd"
   ]
  },
  {
   "cell_type": "code",
   "execution_count": 4,
   "metadata": {},
   "outputs": [],
   "source": [
    "import wikipedia"
   ]
  },
  {
   "cell_type": "code",
   "execution_count": 5,
   "metadata": {},
   "outputs": [],
   "source": [
    "import wikipediaapi\n",
    "wiki_wiki = wikipediaapi.Wikipedia('en')"
   ]
  },
  {
   "cell_type": "code",
   "execution_count": 6,
   "metadata": {},
   "outputs": [],
   "source": [
    "import wptools\n",
    "# so = wptools.page('Wilt Chamberlain').get_parse()\n",
    "# infobox = so.data['infobox']\n",
    "# print(infobox.keys())"
   ]
  },
  {
   "cell_type": "code",
   "execution_count": 9,
   "metadata": {
    "scrolled": true
   },
   "outputs": [],
   "source": [
    "from nltk.corpus import stopwords\n",
    "from nltk.stem.porter import PorterStemmer\n",
    "stop_words = set(stopwords.words('english'))\n",
    "porter = PorterStemmer()"
   ]
  },
  {
   "cell_type": "code",
   "execution_count": 10,
   "metadata": {},
   "outputs": [],
   "source": [
    "import logging"
   ]
  },
  {
   "cell_type": "code",
   "execution_count": 11,
   "metadata": {},
   "outputs": [],
   "source": [
    "def load_text(page_name):\n",
    "    f = wiki_wiki.page(page_name)\n",
    "    if f.exists():\n",
    "        return f.text\n",
    "    else:\n",
    "        print('Page not found: ' + page_name)\n",
    "        return None"
   ]
  },
  {
   "cell_type": "code",
   "execution_count": 12,
   "metadata": {},
   "outputs": [],
   "source": [
    "def load_info_box(page_name):\n",
    "    so = wptools.page(page_name).get_parse()\n",
    "    infobox = so.data['infobox']\n",
    "    return infobox"
   ]
  },
  {
   "cell_type": "code",
   "execution_count": 13,
   "metadata": {},
   "outputs": [],
   "source": [
    "def tokenize_doc(doc):\n",
    "    tokens = nltk.word_tokenize(doc)\n",
    "    tokens = [w for w in tokens if not w in stop_words]\n",
    "    tokens = [porter.stem(w) for w in tokens]\n",
    "    return tokens\n"
   ]
  },
  {
   "cell_type": "code",
   "execution_count": 14,
   "metadata": {},
   "outputs": [],
   "source": [
    "DATA_DIR = 'data/data_list.txt'"
   ]
  },
  {
   "cell_type": "code",
   "execution_count": 17,
   "metadata": {},
   "outputs": [],
   "source": [
    "with open(DATA_DIR, 'r', encoding=\"utf8\") as f:\n",
    "    data = f.read()\n",
    "pages_lst = data.split('\\n')"
   ]
  },
  {
   "cell_type": "code",
   "execution_count": 32,
   "metadata": {},
   "outputs": [],
   "source": [
    "pages_lst = pages_lst[:3]"
   ]
  },
  {
   "cell_type": "code",
   "execution_count": 33,
   "metadata": {
    "jupyter": {
     "outputs_hidden": true
    },
    "scrolled": false
   },
   "outputs": [
    {
     "name": "stderr",
     "output_type": "stream",
     "text": [
      "en.wikipedia.org (parse) Darren Fells\n",
      "en.wikipedia.org (imageinfo) File:Darren Fells (cropped).jpg\n",
      "Darren Fells (en) data\n",
      "{\n",
      "  image: <list(1)> {'kind': 'parse-image', 'file': 'File:Darren Fe...\n",
      "  infobox: <dict(25)> name, image, caption, image_size, current_te...\n",
      "  pageid: 43702897\n",
      "  parsetree: <str(23858)> <root><template><title>short description...\n",
      "  requests: <list(2)> parse, imageinfo\n",
      "  title: Darren Fells\n",
      "  wikibase: Q17715099\n",
      "  wikidata_url: https://www.wikidata.org/wiki/Q17715099\n",
      "  wikitext: <str(17299)> {{short description|American football tig...\n",
      "}\n",
      "en.wikipedia.org (parse) Christian Okoye\n",
      "en.wikipedia.org (imageinfo) File:Christian Okoye Iraq 4.jpg\n",
      "Christian Okoye (en) data\n",
      "{\n",
      "  image: <list(1)> {'kind': 'parse-image', 'file': 'File:Christian...\n",
      "  infobox: <dict(22)> image, image_size, caption, position, number...\n",
      "  iwlinks: <list(1)> https://commons.wikimedia.org/wiki/Category:C...\n",
      "  pageid: 1335006\n",
      "  parsetree: <str(13774)> <root><template><title>short description...\n",
      "  requests: <list(2)> parse, imageinfo\n",
      "  title: Christian Okoye\n",
      "  wikibase: Q5109988\n",
      "  wikidata_url: https://www.wikidata.org/wiki/Q5109988\n",
      "  wikitext: <str(10223)> {{short description|Nigerian American foo...\n",
      "}\n",
      "en.wikipedia.org (parse) Luis Enrique (footballer)\n",
      "en.wikipedia.org (imageinfo) File:2015 UEFA Super Cup 66.jpg\n",
      "Luis Enrique (en) data\n",
      "{\n",
      "  image: <list(1)> {'kind': 'parse-image', 'file': 'File:2015 UEFA...\n",
      "  infobox: <dict(61)> name, image, caption, image_size, fullname, ...\n",
      "  iwlinks: <list(1)> https://commons.wikimedia.org/wiki/Category:L...\n",
      "  pageid: 616593\n",
      "  parsetree: <str(73320)> <root><template><title>other people</tit...\n",
      "  requests: <list(2)> parse, imageinfo\n",
      "  title: Luis Enrique\n",
      "  wikibase: Q222789\n",
      "  wikidata_url: https://www.wikidata.org/wiki/Q222789\n",
      "  wikitext: <str(54543)> {{other people}}{{Spanish name|[[Martínez...\n",
      "}\n"
     ]
    }
   ],
   "source": [
    "vocab = set()\n",
    "content_lst = []\n",
    "infoboxes_lst = []\n",
    "for p in pages_lst:\n",
    "    doc = load_text(p)\n",
    "    if doc is None:\n",
    "        continue\n",
    "    infobox = load_info_box(p)\n",
    "\n",
    "    tokens = tokenize_doc(doc)\n",
    "    vocab = vocab.union(set(tokens))\n",
    "    content_lst.append(doc)\n",
    "#     pages_lst.append(f)\n",
    "    infoboxes_lst.append(infobox)\n",
    "    \n",
    "    \n",
    "    \n",
    "df = pd.DataFrame()\n",
    "df['page'] = pages_lst\n",
    "df['text'] = content_lst\n",
    "df['infobox'] = infoboxes_lst\n",
    "df = df.set_index('page')"
   ]
  },
  {
   "cell_type": "code",
   "execution_count": 34,
   "metadata": {},
   "outputs": [
    {
     "data": {
      "text/html": [
       "<div>\n",
       "<style scoped>\n",
       "    .dataframe tbody tr th:only-of-type {\n",
       "        vertical-align: middle;\n",
       "    }\n",
       "\n",
       "    .dataframe tbody tr th {\n",
       "        vertical-align: top;\n",
       "    }\n",
       "\n",
       "    .dataframe thead th {\n",
       "        text-align: right;\n",
       "    }\n",
       "</style>\n",
       "<table border=\"1\" class=\"dataframe\">\n",
       "  <thead>\n",
       "    <tr style=\"text-align: right;\">\n",
       "      <th></th>\n",
       "      <th>text</th>\n",
       "      <th>infobox</th>\n",
       "    </tr>\n",
       "    <tr>\n",
       "      <th>page</th>\n",
       "      <th></th>\n",
       "      <th></th>\n",
       "    </tr>\n",
       "  </thead>\n",
       "  <tbody>\n",
       "    <tr>\n",
       "      <th>Darren Fells</th>\n",
       "      <td>Darren Andre Fells (born April 22, 1986) is an...</td>\n",
       "      <td>{'name': 'Darren Fells', 'image': 'Darren Fell...</td>\n",
       "    </tr>\n",
       "    <tr>\n",
       "      <th>Christian Okoye</th>\n",
       "      <td>Christian Emeka Okoye (; born August 16, 1961)...</td>\n",
       "      <td>{'image': 'Christian Okoye Iraq 4.jpg', 'image...</td>\n",
       "    </tr>\n",
       "    <tr>\n",
       "      <th>Luis Enrique (footballer)</th>\n",
       "      <td>Luis Enrique Martínez García (Spanish pronunci...</td>\n",
       "      <td>{'name': 'Luis Enrique', 'image': '2015 UEFA S...</td>\n",
       "    </tr>\n",
       "  </tbody>\n",
       "</table>\n",
       "</div>"
      ],
      "text/plain": [
       "                                                                        text  \\\n",
       "page                                                                           \n",
       "Darren Fells               Darren Andre Fells (born April 22, 1986) is an...   \n",
       "Christian Okoye            Christian Emeka Okoye (; born August 16, 1961)...   \n",
       "Luis Enrique (footballer)  Luis Enrique Martínez García (Spanish pronunci...   \n",
       "\n",
       "                                                                     infobox  \n",
       "page                                                                          \n",
       "Darren Fells               {'name': 'Darren Fells', 'image': 'Darren Fell...  \n",
       "Christian Okoye            {'image': 'Christian Okoye Iraq 4.jpg', 'image...  \n",
       "Luis Enrique (footballer)  {'name': 'Luis Enrique', 'image': '2015 UEFA S...  "
      ]
     },
     "execution_count": 34,
     "metadata": {},
     "output_type": "execute_result"
    }
   ],
   "source": [
    "df.tail()"
   ]
  },
  {
   "cell_type": "code",
   "execution_count": 38,
   "metadata": {
    "scrolled": true
   },
   "outputs": [
    {
     "data": {
      "text/plain": [
       "\"Darren Andre Fells (born April 22, 1986) is an American football tight end for the Houston Texans of the National Football League (NFL). He did not play college football, instead playing college basketball at the University of California, Irvine. Prior to his NFL career, he played professional basketball in several countries and was then signed by the Seattle Seahawks. He has also played for the Arizona Cardinals, Detroit Lions, and Cleveland Browns, and is the brother of former NFL tight end Daniel Fells.\\n\\nEarly years\\nFells attended Fullerton Union High School in Fullerton, California, where he played basketball. He was selected to the All-CIF Southern Section II-A second team as a junior while averaging 17 points and 10 rebounds as the team's center. He was named All-Freeway League second team also in his junior season.\\n\\nProfessional basketball career\\nBetween 2008 and 2012, Fells played basketball professionally in Argentina, Mexico, Belgium, Finland, and France.As a rookie on the Basketball League Belgium Division I team Leuven Bears in 2008–09, Fells wore jersey #14 and averaged 9.3 points, 4.9 rebounds, and 1.5 assists in 33 games. In his second season with the team in 2009–10, Fells averaged 8.1 points and 4.7 rebounds.In the 2010–11 season, Fells played for Kataja Basket Club of the Finnish Korisliiga, wearing jersey #7. In 55 games, Fells averaged 13.8 points and 8.3 rebounds. Kataja were runners-up of the 2011 Korisliiga Finals.A Étendard de Brest of French LNB Pro B, Fells played 25 games for Soles de Mexicali of the Mexican Liga Nacional de Baloncesto Profesional in the 2011–12 season and wore jersey #12. He averaged 13.5 points and 7.5 rebounds. After the LNBP season ended, Fells played nine games for Obras Sanitarias of the Argentine Liga Nacional de Basquet from March to April 2012 and averaged 6.9 points and 4.7 rebounds. Like at Soles de Mexicali, Fells wore jersey #12 for Obras.In December 2012, Fells signed with Libertad de Sunchales but did not play any games.\\n\\nProfessional football career\\nSeattle Seahawks\\nOn March 6, 2013, Fells was signed by the Seattle Seahawks. On May 18, 2013, he was waived by the team. On May 20, 2013, he was re-signed with the team. On August 31, 2013, Fells was released by the team.\\n\\nArizona Cardinals\\nOn October 9, 2013, Fells signed with the Arizona Cardinals practice squad. On January 1, 2014, he was re-signed to a reserve/future contract with the Arizona Cardinals.\\n\\n2014 season\\nFells entered Cardinals' training camp competing with John Carlson, Troy Niklas, and Jake Ballard to be a backup tight end. He was named the fifth tight end on the Cardinals' depth chart to begin the regular season, behind Rob Housler, John Carlson, Troy Niklas, and Jake Ballard.During Week 3, he made his first NFL start as the Cardinals defeated the San Francisco 49ers by a score of 23–14. On December 11, 2014, Fells made his first NFL reception on a six-yard pass from Carson Palmer during a 12–6 victory over the St. Louis Rams. During the regular-season finale, he caught a 24-yard pass for his longest catch of the season and finished the 17–20 loss to the 49ers with two receptions for 39 receiving yards.\\nFells completed his rookie season with five receptions for 59 yards while playing ten games and starting in five.\\nOn January 3, 2015, Fells appeared in his first NFL postseason game after the Cardinals finished the season with an 11–5 record. In the 16–27 NFC Wildcard loss to the Carolina Panthers, he caught a one-yard touchdown.\\n\\n2015 season\\nFells started the 2015 season as the second tight end behind Jermaine Gresham. During the Arizona Cardinals' home opener against the New Orleans Saints, he caught his first NFL touchdown on a 17-yard pass from Carson Palmer. He finished the 31-19 victory with four receptions for 82 yards and a touchdown. On October 18, 2015, he left a 25-13 loss to the Pittsburgh Steelers after suffering a shoulder sprain that would keep him out the next two games.Fells finished the 2015 season with a career-high 21 receptions for 311 yards and three touchdowns in 14 games and 12 starts.In the postseason, Fells caught four receptions for 50 yards and a touchdown.\\n\\n2016 season\\nFells remained the Cardinals' second tight end behind Gresham in 2016. During Week 2 against the Tampa Bay Buccaneers, he caught a career-high four passes for 31 yards in a 40-7 victory. On January 1, 2017, he caught a 37-yard touchdown  from Carson Palmer as the Cardinals defeated the Los Angeles Rams by a score44-7.Fells finished the 2016 season with 14 receptions for 154 yards and a touchdown in 14 games and seven starts.\\n\\nDetroit Lions\\nOn March 11, 2017, Fells signed a one-year, $1.5 million contract with the Detroit Lions.Fells entered training camp competing with Cole Wick, Khari Lee, and Michael Roberts to be the backup tight end. He was named the backup behind Eric Ebron to begin the regular season. Ebron struggled with drops in the first half of the season, and Fells saw increased snaps and eventually started in place of him.\\nFells finished the 2017 season with 17 receptions for 177 yards and three touchdowns in 16 games and 13 starts.\\n\\nCleveland Browns\\nOn March 15, 2018, Fells signed a three-year contract with the Cleveland Browns. He played in 16 games with 11 starts, recording 11 receptions for 117 yards and three touchdowns.\\nOn March 11, 2019, Fells was released by the Browns.\\n\\nHouston Texans\\nOn March 18, 2019, Fells signed a one-year contract with the Houston Texans. In week 13 against the New England Patriots, Fells set the single-season record for most touchdown receptions by a tight end in Texans' history, a record previously held by Owen Daniels and Joel Dreessen. Fells finished the regular season with 34 receptions for 341 yards and 7 touchdowns, all career bests.\\n\\nNFL statistics\\nRegular season\\nPostseason\\nReferences\\nExternal links\\nCalifornia-Irvine bio\\nSeattle Seahawks bio\\nArizona Cardinals bio\""
      ]
     },
     "execution_count": 38,
     "metadata": {},
     "output_type": "execute_result"
    }
   ],
   "source": [
    "df.loc['Darren Fells'].text"
   ]
  }
 ],
 "metadata": {
  "kernelspec": {
   "display_name": "Python 3",
   "language": "python",
   "name": "python3"
  },
  "language_info": {
   "codemirror_mode": {
    "name": "ipython",
    "version": 3
   },
   "file_extension": ".py",
   "mimetype": "text/x-python",
   "name": "python",
   "nbconvert_exporter": "python",
   "pygments_lexer": "ipython3",
   "version": "3.7.5"
  }
 },
 "nbformat": 4,
 "nbformat_minor": 4
}
