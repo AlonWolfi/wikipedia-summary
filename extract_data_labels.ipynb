{
 "cells": [
  {
   "cell_type": "code",
   "execution_count": 44,
   "metadata": {},
   "outputs": [],
   "source": [
    "import luigi"
   ]
  },
  {
   "cell_type": "code",
   "execution_count": 45,
   "metadata": {},
   "outputs": [],
   "source": [
    "import os\n",
    "import glob\n",
    "import nltk\n",
    "import gensim"
   ]
  },
  {
   "cell_type": "code",
   "execution_count": 46,
   "metadata": {},
   "outputs": [],
   "source": [
    "import pandas as pd"
   ]
  },
  {
   "cell_type": "code",
   "execution_count": 47,
   "metadata": {},
   "outputs": [],
   "source": [
    "import wikipedia"
   ]
  },
  {
   "cell_type": "code",
   "execution_count": 48,
   "metadata": {},
   "outputs": [],
   "source": [
    "import wikipediaapi\n",
    "wiki_wiki = wikipediaapi.Wikipedia('en')"
   ]
  },
  {
   "cell_type": "code",
   "execution_count": 70,
   "metadata": {},
   "outputs": [],
   "source": [
    "import wptools\n",
    "# so = wptools.page('Wilt Chamberlain').get_parse()\n",
    "# infobox = so.data['infobox']\n",
    "# print(infobox.keys())"
   ]
  },
  {
   "cell_type": "code",
   "execution_count": 71,
   "metadata": {
    "scrolled": true
   },
   "outputs": [],
   "source": [
    "from nltk.corpus import stopwords\n",
    "from nltk.stem.porter import PorterStemmer\n",
    "stop_words = set(stopwords.words('english'))\n",
    "porter = PorterStemmer()"
   ]
  },
  {
   "cell_type": "code",
   "execution_count": 72,
   "metadata": {},
   "outputs": [],
   "source": [
    "import logging"
   ]
  },
  {
   "cell_type": "code",
   "execution_count": 73,
   "metadata": {},
   "outputs": [],
   "source": [
    "def load_text(page_name):\n",
    "    f = wiki_wiki.page(page_name)\n",
    "    if f.exists():\n",
    "        return f.text\n",
    "    else:\n",
    "        print('Page not found: ' + page_name)\n",
    "        return None"
   ]
  },
  {
   "cell_type": "code",
   "execution_count": 74,
   "metadata": {},
   "outputs": [],
   "source": [
    "def load_info_box(page_name):\n",
    "    so = wptools.page(page_name).get_parse()\n",
    "    infobox = so.data['infobox']\n",
    "    return infobox"
   ]
  },
  {
   "cell_type": "code",
   "execution_count": 75,
   "metadata": {},
   "outputs": [],
   "source": [
    "def tokenize_doc(doc):\n",
    "    tokens = nltk.word_tokenize(doc)\n",
    "    tokens = [w for w in tokens if not w in stop_words]\n",
    "    tokens = [porter.stem(w) for w in tokens]\n",
    "    return tokens\n"
   ]
  },
  {
   "cell_type": "code",
   "execution_count": 76,
   "metadata": {},
   "outputs": [],
   "source": [
    "DATA_DIR = 'cache/page_list.txt'"
   ]
  },
  {
   "cell_type": "code",
   "execution_count": 77,
   "metadata": {},
   "outputs": [],
   "source": [
    "with open(DATA_DIR, 'r', encoding=\"utf8\") as f:\n",
    "    data = f.read()\n",
    "pages_lst = data.split('\\n')"
   ]
  },
  {
   "cell_type": "code",
   "execution_count": 78,
   "metadata": {},
   "outputs": [],
   "source": [
    "# pages_lst = pages_lst[:3]"
   ]
  },
  {
   "cell_type": "code",
   "execution_count": 79,
   "metadata": {
    "jupyter": {
     "outputs_hidden": true
    },
    "scrolled": true
   },
   "outputs": [
    {
     "name": "stdout",
     "output_type": "stream",
     "text": [
      "1\n"
     ]
    },
    {
     "name": "stderr",
     "output_type": "stream",
     "text": [
      "en.wikipedia.org (parse) Darren Fells\n",
      "en.wikipedia.org (imageinfo) File:Darren Fells (cropped).jpg\n",
      "Darren Fells (en) data\n",
      "{\n",
      "  image: <list(1)> {'kind': 'parse-image', 'file': 'File:Darren Fe...\n",
      "  infobox: <dict(25)> name, image, caption, image_size, current_te...\n",
      "  pageid: 43702897\n",
      "  parsetree: <str(23858)> <root><template><title>short description...\n",
      "  requests: <list(2)> parse, imageinfo\n",
      "  title: Darren Fells\n",
      "  wikibase: Q17715099\n",
      "  wikidata_url: https://www.wikidata.org/wiki/Q17715099\n",
      "  wikitext: <str(17299)> {{short description|American football tig...\n",
      "}\n"
     ]
    },
    {
     "name": "stdout",
     "output_type": "stream",
     "text": [
      "2\n"
     ]
    },
    {
     "name": "stderr",
     "output_type": "stream",
     "text": [
      "en.wikipedia.org (parse) Christian Okoye\n",
      "en.wikipedia.org (imageinfo) File:Christian Okoye Iraq 4.jpg\n",
      "Christian Okoye (en) data\n",
      "{\n",
      "  image: <list(1)> {'kind': 'parse-image', 'file': 'File:Christian...\n",
      "  infobox: <dict(22)> image, image_size, caption, position, number...\n",
      "  iwlinks: <list(1)> https://commons.wikimedia.org/wiki/Category:C...\n",
      "  pageid: 1335006\n",
      "  parsetree: <str(13774)> <root><template><title>short description...\n",
      "  requests: <list(2)> parse, imageinfo\n",
      "  title: Christian Okoye\n",
      "  wikibase: Q5109988\n",
      "  wikidata_url: https://www.wikidata.org/wiki/Q5109988\n",
      "  wikitext: <str(10223)> {{short description|Nigerian American foo...\n",
      "}\n"
     ]
    },
    {
     "name": "stdout",
     "output_type": "stream",
     "text": [
      "3\n"
     ]
    },
    {
     "name": "stderr",
     "output_type": "stream",
     "text": [
      "en.wikipedia.org (parse) Luis Enrique (footballer)\n",
      "en.wikipedia.org (imageinfo) File:2015 UEFA Super Cup 66.jpg\n",
      "Luis Enrique (en) data\n",
      "{\n",
      "  image: <list(1)> {'kind': 'parse-image', 'file': 'File:2015 UEFA...\n",
      "  infobox: <dict(61)> name, image, caption, image_size, fullname, ...\n",
      "  iwlinks: <list(1)> https://commons.wikimedia.org/wiki/Category:L...\n",
      "  pageid: 616593\n",
      "  parsetree: <str(73320)> <root><template><title>other people</tit...\n",
      "  requests: <list(2)> parse, imageinfo\n",
      "  title: Luis Enrique\n",
      "  wikibase: Q222789\n",
      "  wikidata_url: https://www.wikidata.org/wiki/Q222789\n",
      "  wikitext: <str(54543)> {{other people}}{{Spanish name|[[Martínez...\n",
      "}\n"
     ]
    },
    {
     "name": "stdout",
     "output_type": "stream",
     "text": [
      "4\n"
     ]
    },
    {
     "name": "stderr",
     "output_type": "stream",
     "text": [
      "en.wikipedia.org (parse) Lev Yashin\n",
      "en.wikipedia.org (imageinfo) File:LevYashin.JPG\n",
      "Lev Yashin (en) data\n",
      "{\n",
      "  image: <list(1)> {'kind': 'parse-image', 'file': 'File:LevYashin...\n",
      "  infobox: <dict(19)> name, image, caption, fullname, height, birt...\n",
      "  iwlinks: <list(1)> https://commons.wikimedia.org/wiki/Category:L...\n",
      "  pageid: 60886\n",
      "  parsetree: <str(48645)> <root><template><title>Use dmy dates</ti...\n",
      "  requests: <list(2)> parse, imageinfo\n",
      "  title: Lev Yashin\n",
      "  wikibase: Q167828\n",
      "  wikidata_url: https://www.wikidata.org/wiki/Q167828\n",
      "  wikitext: <str(35590)> {{Use dmy dates|date=July 2018}}{{Eastern...\n",
      "}\n"
     ]
    },
    {
     "name": "stdout",
     "output_type": "stream",
     "text": [
      "5\n"
     ]
    },
    {
     "name": "stderr",
     "output_type": "stream",
     "text": [
      "en.wikipedia.org (parse) Henrik Larsson\n",
      "en.wikipedia.org (imageinfo) File:Henrik Larsson in Jan 2014.jpg\n",
      "Henrik Larsson (en) data\n",
      "{\n",
      "  image: <list(1)> {'kind': 'parse-image', 'file': 'File:Henrik La...\n",
      "  infobox: <dict(74)> name, image, image_size, caption, fullname, ...\n",
      "  iwlinks: <list(2)> https://commons.wikimedia.org/wiki/Category:H...\n",
      "  pageid: 240952\n",
      "  parsetree: <str(141203)> <root><template><title>About</title><pa...\n",
      "  requests: <list(2)> parse, imageinfo\n",
      "  title: Henrik Larsson\n",
      "  wikibase: Q179334\n",
      "  wikidata_url: https://www.wikidata.org/wiki/Q179334\n",
      "  wikitext: <str(109664)> {{About|the Swedish footballer|the sprin...\n",
      "}\n"
     ]
    },
    {
     "name": "stdout",
     "output_type": "stream",
     "text": [
      "6\n"
     ]
    },
    {
     "name": "stderr",
     "output_type": "stream",
     "text": [
      "en.wikipedia.org (parse) Younis Mahmoud\n",
      "en.wikipedia.org (imageinfo) File:Younis Mahmoud 2012 2.jpg\n",
      "Younis Mahmoud (en) data\n",
      "{\n",
      "  image: <list(1)> {'kind': 'parse-image', 'file': 'File:Younis Ma...\n",
      "  infobox: <dict(71)> name, image, image_size, caption, fullname, ...\n",
      "  iwlinks: <list(1)> https://commons.wikimedia.org/wiki/Category:Y...\n",
      "  pageid: 6387424\n",
      "  parsetree: <str(61045)> <root><template><title>EngvarB</title><p...\n",
      "  requests: <list(2)> parse, imageinfo\n",
      "  title: Younis Mahmoud\n",
      "  wikibase: Q318780\n",
      "  wikidata_url: https://www.wikidata.org/wiki/Q318780\n",
      "  wikitext: <str(45745)> {{EngvarB|date=May 2014}}{{Infobox footba...\n",
      "}\n"
     ]
    },
    {
     "name": "stdout",
     "output_type": "stream",
     "text": [
      "7\n"
     ]
    },
    {
     "name": "stderr",
     "output_type": "stream",
     "text": [
      "en.wikipedia.org (parse) Clive Allen\n",
      "en.wikipedia.org (imageinfo) File:Clive Allen 2016.jpeg\n",
      "Clive Allen (en) data\n",
      "{\n",
      "  image: <list(1)> {'kind': 'parse-image', 'file': 'File:Clive All...\n",
      "  infobox: <dict(68)> name, image, caption, height, birth_name, bi...\n",
      "  pageid: 1924626\n",
      "  parsetree: <str(24011)> <root><template><title>about</title><par...\n",
      "  requests: <list(2)> parse, imageinfo\n",
      "  title: Clive Allen\n",
      "  wikibase: Q706818\n",
      "  wikidata_url: https://www.wikidata.org/wiki/Q706818\n",
      "  wikitext: <str(14970)> {{about|English footballer|the basketball...\n",
      "}\n"
     ]
    },
    {
     "name": "stdout",
     "output_type": "stream",
     "text": [
      "8\n"
     ]
    },
    {
     "name": "stderr",
     "output_type": "stream",
     "text": [
      "en.wikipedia.org (parse) Bruce Arena\n",
      "en.wikipedia.org (imageinfo) File:BruceArena 20060511.jpg {{!}} border\n",
      "Bruce Arena (en) data\n",
      "{\n",
      "  image: <list(1)> {'kind': 'parse-image', 'file': 'File:BruceAren...\n",
      "  infobox: <dict(43)> name, image, caption, birth_date, birth_plac...\n",
      "  pageid: 437329\n",
      "  parsetree: <str(43405)> <root><template><title>short description...\n",
      "  requests: <list(2)> parse, imageinfo\n",
      "  title: Bruce Arena\n",
      "  wikibase: Q431216\n",
      "  wikidata_url: https://www.wikidata.org/wiki/Q431216\n",
      "  wikitext: <str(33550)> {{short description|American soccer coach...\n",
      "}\n"
     ]
    },
    {
     "name": "stdout",
     "output_type": "stream",
     "text": [
      "9\n"
     ]
    },
    {
     "name": "stderr",
     "output_type": "stream",
     "text": [
      "en.wikipedia.org (parse) Can Bartu\n",
      "Can Bartu (en) data\n",
      "{\n",
      "  infobox: <dict(39)> name, fullname, birth_date, birth_place, dea...\n",
      "  iwlinks: <list(3)> https://tr.wikipedia.org/wiki/Ali_Limoncuo%C4...\n",
      "  pageid: 2361482\n",
      "  parsetree: <str(11458)> <root><template><title>Infobox football ...\n",
      "  requests: <list(1)> parse\n",
      "  title: Can Bartu\n",
      "  wikibase: Q1031846\n",
      "  wikidata_url: https://www.wikidata.org/wiki/Q1031846\n",
      "  wikitext: <str(6889)> {{Infobox football biography| name = Can B...\n",
      "}\n"
     ]
    },
    {
     "name": "stdout",
     "output_type": "stream",
     "text": [
      "10\n"
     ]
    },
    {
     "name": "stderr",
     "output_type": "stream",
     "text": [
      "en.wikipedia.org (parse) Devin Barclay\n",
      "Devin Barclay (en) data\n",
      "{\n",
      "  infobox: <dict(6)> name, birth_date, birth_place, height, module...\n",
      "  pageid: 1160341\n",
      "  parsetree: <str(8594)> <root><template><title>Use mdy dates</tit...\n",
      "  requests: <list(1)> parse\n",
      "  title: Devin Barclay\n",
      "  wikibase: Q5267475\n",
      "  wikidata_url: https://www.wikidata.org/wiki/Q5267475\n",
      "  wikitext: <str(5551)> {{Use mdy dates|date=December 2015}}{{Info...\n",
      "}\n"
     ]
    },
    {
     "name": "stdout",
     "output_type": "stream",
     "text": [
      "11\n"
     ]
    },
    {
     "name": "stderr",
     "output_type": "stream",
     "text": [
      "en.wikipedia.org (parse) Mihai Flamaropol\n",
      "Mihai Flamaropol (en) data\n",
      "{\n",
      "  infobox: <dict(23)> name, birth_date, birth_place, death_date, d...\n",
      "  pageid: 25310577\n",
      "  parsetree: <str(13246)> <root><template><title>short description...\n",
      "  requests: <list(1)> parse\n",
      "  title: Mihai Flamaropol\n",
      "  wikibase: Q18540182\n",
      "  wikidata_url: https://www.wikidata.org/wiki/Q18540182\n",
      "  wikitext: <str(7692)> {{short description|Romanian footballer (b...\n",
      "}\n"
     ]
    },
    {
     "name": "stdout",
     "output_type": "stream",
     "text": [
      "12\n"
     ]
    },
    {
     "name": "stderr",
     "output_type": "stream",
     "text": [
      "en.wikipedia.org (parse) Chuni Goswami\n",
      "Chuni Goswami (en) data\n",
      "{\n",
      "  infobox: <dict(19)> name, fullname, birth_date, birth_place, pos...\n",
      "  pageid: 5996612\n",
      "  parsetree: <str(20317)> <root><template><title>Use Indian Englis...\n",
      "  requests: <list(1)> parse\n",
      "  title: Chuni Goswami\n",
      "  wikibase: Q3351390\n",
      "  wikidata_url: https://www.wikidata.org/wiki/Q3351390\n",
      "  wikitext: <str(13305)> {{Use Indian English|date=July 2013}}{{Us...\n",
      "}\n"
     ]
    },
    {
     "name": "stdout",
     "output_type": "stream",
     "text": [
      "13\n"
     ]
    },
    {
     "name": "stderr",
     "output_type": "stream",
     "text": [
      "en.wikipedia.org (parse) Devin Barclay\n",
      "Devin Barclay (en) data\n",
      "{\n",
      "  infobox: <dict(6)> name, birth_date, birth_place, height, module...\n",
      "  pageid: 1160341\n",
      "  parsetree: <str(8594)> <root><template><title>Use mdy dates</tit...\n",
      "  requests: <list(1)> parse\n",
      "  title: Devin Barclay\n",
      "  wikibase: Q5267475\n",
      "  wikidata_url: https://www.wikidata.org/wiki/Q5267475\n",
      "  wikitext: <str(5551)> {{Use mdy dates|date=December 2015}}{{Info...\n",
      "}\n"
     ]
    },
    {
     "name": "stdout",
     "output_type": "stream",
     "text": [
      "14\n"
     ]
    },
    {
     "name": "stderr",
     "output_type": "stream",
     "text": [
      "en.wikipedia.org (parse) Aldo Donelli\n",
      "Aldo Donelli (en) data\n",
      "{\n",
      "  infobox: <dict(25)> name, birth_date, birth_place, death_date, d...\n",
      "  pageid: 6715586\n",
      "  parsetree: <str(44829)> <root><template><title>Use American Engl...\n",
      "  requests: <list(1)> parse\n",
      "  title: Aldo Donelli\n",
      "  wikibase: Q2633193\n",
      "  wikidata_url: https://www.wikidata.org/wiki/Q2633193\n",
      "  wikitext: <str(19107)> {{Use American English|date=April 2017}}{...\n",
      "}\n"
     ]
    },
    {
     "name": "stdout",
     "output_type": "stream",
     "text": [
      "15\n"
     ]
    },
    {
     "name": "stderr",
     "output_type": "stream",
     "text": [
      "en.wikipedia.org (parse) Knut Anders Fostervold\n",
      "en.wikipedia.org (imageinfo) File:Knut Anders Fostervold.jpg\n",
      "Knut Anders Fostervold (en) data\n",
      "{\n",
      "  image: <list(1)> {'kind': 'parse-image', 'file': 'File:Knut Ande...\n",
      "  infobox: <dict(24)> name, image, caption, fullname, birth_date, ...\n",
      "  pageid: 19911265\n",
      "  parsetree: <str(9038)> <root><template><title>Infobox football b...\n",
      "  requests: <list(2)> parse, imageinfo\n",
      "  title: Knut Anders Fostervold\n",
      "  wikibase: Q719728\n",
      "  wikidata_url: https://www.wikidata.org/wiki/Q719728\n",
      "  wikitext: <str(5707)> {{Infobox football biography| name        ...\n",
      "}\n"
     ]
    },
    {
     "name": "stdout",
     "output_type": "stream",
     "text": [
      "16\n"
     ]
    },
    {
     "name": "stderr",
     "output_type": "stream",
     "text": [
      "en.wikipedia.org (parse) Andy Goram\n",
      "Andy Goram (en) data\n",
      "{\n",
      "  infobox: <dict(69)> name, fullname, birth_date, birth_place, hei...\n",
      "  pageid: 1083631\n",
      "  parsetree: <str(53530)> <root><template><title>Use dmy dates</ti...\n",
      "  requests: <list(1)> parse\n",
      "  title: Andy Goram\n",
      "  wikibase: Q525909\n",
      "  wikidata_url: https://www.wikidata.org/wiki/Q525909\n",
      "  wikitext: <str(38298)> {{Use dmy dates|date=April 2012}}{{Infobo...\n",
      "}\n"
     ]
    },
    {
     "name": "stdout",
     "output_type": "stream",
     "text": [
      "17\n"
     ]
    },
    {
     "name": "stderr",
     "output_type": "stream",
     "text": [
      "en.wikipedia.org (parse) Harold Jarman\n",
      "Harold Jarman (en) data\n",
      "{\n",
      "  infobox: <dict(23)> name, birth_date, birth_place, position, yea...\n",
      "  pageid: 13259408\n",
      "  parsetree: <str(13021)> <root><template><title>short description...\n",
      "  requests: <list(1)> parse\n",
      "  title: Harold Jarman\n",
      "  wikibase: Q5661262\n",
      "  wikidata_url: https://www.wikidata.org/wiki/Q5661262\n",
      "  wikitext: <str(6036)> {{short description|English footballer and...\n",
      "}\n"
     ]
    },
    {
     "name": "stdout",
     "output_type": "stream",
     "text": [
      "18\n"
     ]
    },
    {
     "name": "stderr",
     "output_type": "stream",
     "text": [
      "en.wikipedia.org (parse) Paolo Maldini\n",
      "en.wikipedia.org (imageinfo) File:Maldini2008.JPG\n",
      "Paolo Maldini (en) data\n",
      "{\n",
      "  image: <list(1)> {'kind': 'parse-image', 'file': 'File:Maldini20...\n",
      "  infobox: <dict(25)> name, image, image_size, caption, fullname, ...\n",
      "  iwlinks: <list(1)> https://commons.wikimedia.org/wiki/Category:P...\n",
      "  pageid: 147719\n",
      "  parsetree: <str(139416)> <root><template><title>Redirect</title>...\n",
      "  requests: <list(2)> parse, imageinfo\n",
      "  title: Paolo Maldini\n",
      "  wikibase: Q483027\n",
      "  wikidata_url: https://www.wikidata.org/wiki/Q483027\n",
      "  wikitext: <str(112472)> {{Redirect|Maldini|his father|Cesare Mal...\n",
      "}\n"
     ]
    },
    {
     "name": "stdout",
     "output_type": "stream",
     "text": [
      "19\n"
     ]
    },
    {
     "name": "stderr",
     "output_type": "stream",
     "text": [
      "en.wikipedia.org (parse) Leon McKenzie\n",
      "Leon McKenzie (en) data\n",
      "{\n",
      "  infobox: <dict(48)> name, fullname, birth_date, birth_place, pos...\n",
      "  pageid: 1854059\n",
      "  parsetree: <str(24577)> <root><template><title>short description...\n",
      "  requests: <list(1)> parse\n",
      "  title: Leon McKenzie\n",
      "  wikibase: Q8982102\n",
      "  wikidata_url: https://www.wikidata.org/wiki/Q8982102\n",
      "  wikitext: <str(15121)> {{short description|British footballer}}{...\n",
      "}\n"
     ]
    },
    {
     "name": "stdout",
     "output_type": "stream",
     "text": [
      "20\n"
     ]
    },
    {
     "name": "stderr",
     "output_type": "stream",
     "text": [
      "en.wikipedia.org (parse) Kevin Moran (footballer)\n",
      "Kevin Moran (footballer) (en) data\n",
      "{\n",
      "  infobox: <dict(35)> name, fullname, birth_date, birth_place, pos...\n",
      "  pageid: 1530092\n",
      "  parsetree: <str(18930)> <root><template><title>EngvarB</title><p...\n",
      "  requests: <list(1)> parse\n",
      "  title: Kevin Moran (footballer)\n",
      "  wikibase: Q940663\n",
      "  wikidata_url: https://www.wikidata.org/wiki/Q940663\n",
      "  wikitext: <str(11953)> {{EngvarB|date=July 2013}}{{Use dmy dates...\n",
      "}\n"
     ]
    },
    {
     "name": "stdout",
     "output_type": "stream",
     "text": [
      "21\n"
     ]
    },
    {
     "name": "stderr",
     "output_type": "stream",
     "text": [
      "en.wikipedia.org (parse) Ivan Perišić\n",
      "en.wikipedia.org (imageinfo) File:Ivan Perišić (cropped).jpg\n",
      "Ivan Perišić (en) data\n",
      "{\n",
      "  image: <list(1)> {'kind': 'parse-image', 'file': 'File:Ivan Peri...\n",
      "  infobox: <dict(61)> name, image, caption, fullname, birth_date, ...\n",
      "  iwlinks: <list(1)> https://commons.wikimedia.org/wiki/Category:I...\n",
      "  pageid: 12352108\n",
      "  parsetree: <str(77604)> <root><template><title>tone</title><part...\n",
      "  requests: <list(2)> parse, imageinfo\n",
      "  title: Ivan Perišić\n",
      "  wikibase: Q161054\n",
      "  wikidata_url: https://www.wikidata.org/wiki/Q161054\n",
      "  wikitext: <str(59078)> {{tone|date=February 2020}}{{short descri...\n",
      "}\n"
     ]
    },
    {
     "name": "stdout",
     "output_type": "stream",
     "text": [
      "22\n"
     ]
    },
    {
     "name": "stderr",
     "output_type": "stream",
     "text": [
      "en.wikipedia.org (parse) Ron Tindall\n",
      "Ron Tindall (en) data\n",
      "{\n",
      "  infobox: <dict(33)> name, fullname, birth_date, birth_place, dea...\n",
      "  pageid: 7440545\n",
      "  parsetree: <str(10549)> <root><template><title>short description...\n",
      "  requests: <list(1)> parse\n",
      "  title: Ron Tindall\n",
      "  wikibase: Q3441464\n",
      "  wikidata_url: https://www.wikidata.org/wiki/Q3441464\n",
      "  wikitext: <str(6439)> {{short description|English cricketer and ...\n",
      "}\n"
     ]
    },
    {
     "name": "stdout",
     "output_type": "stream",
     "text": [
      "23\n"
     ]
    },
    {
     "name": "stderr",
     "output_type": "stream",
     "text": [
      "en.wikipedia.org (parse) Taylor Twellman\n",
      "en.wikipedia.org (imageinfo) File:CINvSKC 2019-04-07 - Taylor Twe...\n",
      "Taylor Twellman (en) data\n",
      "{\n",
      "  image: <list(1)> {'kind': 'parse-image', 'file': 'File:CINvSKC 2...\n",
      "  infobox: <dict(35)> name, image, caption, fullname, birth_date, ...\n",
      "  iwlinks: <list(1)> https://commons.wikimedia.org/wiki/Category:T...\n",
      "  pageid: 1020771\n",
      "  parsetree: <str(23039)> <root><template><title>Use American Engl...\n",
      "  requests: <list(2)> parse, imageinfo\n",
      "  title: Taylor Twellman\n",
      "  wikibase: Q735074\n",
      "  wikidata_url: https://www.wikidata.org/wiki/Q735074\n",
      "  wikitext: <str(17176)> {{Use American English|date=May 2017}}{{I...\n",
      "}\n"
     ]
    },
    {
     "name": "stdout",
     "output_type": "stream",
     "text": [
      "24\n"
     ]
    },
    {
     "name": "stderr",
     "output_type": "stream",
     "text": [
      "en.wikipedia.org (parse) Curtis Woodhouse\n",
      "Curtis Woodhouse (en) data\n",
      "{\n",
      "  infobox: <dict(79)> name, fullname, height, birth_date, birth_pl...\n",
      "  pageid: 4447495\n",
      "  parsetree: <str(85589)> <root><template><title>Use British Engli...\n",
      "  requests: <list(1)> parse\n",
      "  title: Curtis Woodhouse\n",
      "  wikibase: Q5195927\n",
      "  wikidata_url: https://www.wikidata.org/wiki/Q5195927\n",
      "  wikitext: <str(62066)> {{Use British English|date=June 2013}}{{U...\n",
      "}\n"
     ]
    },
    {
     "name": "stdout",
     "output_type": "stream",
     "text": [
      "25\n"
     ]
    },
    {
     "name": "stderr",
     "output_type": "stream",
     "text": [
      "en.wikipedia.org (parse) Vanda Sigurgeirsdóttir\n",
      "Vanda Sigurgeirsdóttir (en) data\n",
      "{\n",
      "  infobox: <dict(40)> name, birth_date, birth_place, years1, clubs...\n",
      "  pageid: 62683493\n",
      "  parsetree: <str(15225)> <root><template><title>Icelandic name</t...\n",
      "  requests: <list(1)> parse\n",
      "  title: Vanda Sigurgeirsdóttir\n",
      "  wikibase: Q80106263\n",
      "  wikidata_url: https://www.wikidata.org/wiki/Q80106263\n",
      "  wikitext: <str(9054)> {{Icelandic name|Vanda}}{{Infobox football...\n",
      "}\n"
     ]
    },
    {
     "name": "stdout",
     "output_type": "stream",
     "text": [
      "26\n"
     ]
    },
    {
     "name": "stderr",
     "output_type": "stream",
     "text": [
      "en.wikipedia.org (parse) Jón Oddsson\n",
      "Jón Oddsson (en) data\n",
      "{\n",
      "  infobox: <dict(28)> name, birth_date, birth_place, position, yea...\n",
      "  pageid: 56884254\n",
      "  parsetree: <str(14147)> <root><template><title>icelandic name</t...\n",
      "  requests: <list(1)> parse\n",
      "  title: Jón Oddsson\n",
      "  wikibase: Q24006902\n",
      "  wikidata_url: https://www.wikidata.org/wiki/Q24006902\n",
      "  wikitext: <str(7926)> {{icelandic name|Jón|male}}{{Infobox footb...\n",
      "}\n"
     ]
    },
    {
     "name": "stdout",
     "output_type": "stream",
     "text": [
      "27\n"
     ]
    },
    {
     "name": "stderr",
     "output_type": "stream",
     "text": [
      "en.wikipedia.org (parse) Olga Færseth\n",
      "Olga Færseth (en) data\n",
      "{\n",
      "  infobox: <dict(47)> name, fullname, height, birth_date, birth_pl...\n",
      "  pageid: 53731618\n",
      "  parsetree: <str(16603)> <root><template><title>Icelandic name</t...\n",
      "  requests: <list(1)> parse\n",
      "  title: Olga Færseth\n",
      "  wikibase: Q16423439\n",
      "  wikidata_url: https://www.wikidata.org/wiki/Q16423439\n",
      "  wikitext: <str(9524)> {{Icelandic name|Olga|surname}}{{Infobox f...\n",
      "}\n"
     ]
    },
    {
     "name": "stdout",
     "output_type": "stream",
     "text": [
      "28\n"
     ]
    },
    {
     "name": "stderr",
     "output_type": "stream",
     "text": [
      "en.wikipedia.org (parse) Wayne Athorne\n",
      "Wayne Athorne (en) data\n",
      "{\n",
      "  infobox: <dict(5)> name, birth_date, death_date, nationality, kn...\n",
      "  pageid: 26996490\n",
      "  parsetree: <str(5153)> <root><template><title>Use dmy dates</tit...\n",
      "  requests: <list(1)> parse\n",
      "  title: Wayne Athorne\n",
      "  wikibase: Q7976021\n",
      "  wikidata_url: https://www.wikidata.org/wiki/Q7976021\n",
      "  wikitext: <str(3144)> {{Use dmy dates|date=September 2015}}{{Use...\n",
      "}\n"
     ]
    },
    {
     "name": "stdout",
     "output_type": "stream",
     "text": [
      "29\n"
     ]
    },
    {
     "name": "stderr",
     "output_type": "stream",
     "text": [
      "en.wikipedia.org (parse) George Blake (athlete)\n",
      "en.wikipedia.org (imageinfo) File:George Blake.jpg\n",
      "George Blake (athlete) (en) data\n",
      "{\n",
      "  image: <list(1)> {'kind': 'parse-image', 'file': 'File:George Bl...\n",
      "  infobox: <dict(17)> name, image, image_size, fullname, birth_dat...\n",
      "  iwlinks: <list(1)> https://commons.wikimedia.org/wiki/Category:G...\n",
      "  pageid: 31169860\n",
      "  parsetree: <str(8952)> <root><template><title>For</title><part><...\n",
      "  requests: <list(2)> parse, imageinfo\n",
      "  title: George Blake (athlete)\n",
      "  wikibase: Q1506995\n",
      "  wikidata_url: https://www.wikidata.org/wiki/Q1506995\n",
      "  wikitext: <str(5734)> {{For|other people named George Blake|Geor...\n",
      "}\n"
     ]
    },
    {
     "name": "stdout",
     "output_type": "stream",
     "text": [
      "30\n"
     ]
    },
    {
     "name": "stderr",
     "output_type": "stream",
     "text": [
      "en.wikipedia.org (parse) Ashleigh Brazill\n",
      "en.wikipedia.org (imageinfo) File:Ashleigh Brazill 09.02.19.jpg\n",
      "Ashleigh Brazill (en) data\n",
      "{\n",
      "  image: <list(1)> {'kind': 'parse-image', 'file': 'File:Ashleigh ...\n",
      "  infobox: <dict(21)> name, image, caption, updated, fullname, bir...\n",
      "  iwlinks: <list(1)> https://commons.wikimedia.org/wiki/Category:A...\n",
      "  pageid: 31531172\n",
      "  parsetree: <str(15645)> <root><template><title>Use dmy dates</ti...\n",
      "  requests: <list(2)> parse, imageinfo\n",
      "  title: Ashleigh Brazill\n",
      "  wikibase: Q4805304\n",
      "  wikidata_url: https://www.wikidata.org/wiki/Q4805304\n",
      "  wikitext: <str(10654)> {{Use dmy dates|date=April 2018}}{{Use Au...\n",
      "}\n"
     ]
    },
    {
     "name": "stdout",
     "output_type": "stream",
     "text": [
      "31\n"
     ]
    },
    {
     "name": "stderr",
     "output_type": "stream",
     "text": [
      "en.wikipedia.org (parse) Dean Brogan\n",
      "en.wikipedia.org (imageinfo) File:Dean Brogan Port Power.JPG\n",
      "Dean Brogan (en) data\n",
      "{\n",
      "  image: <list(1)> {'kind': 'parse-image', 'file': 'File:Dean Brog...\n",
      "  infobox: <dict(21)> name, image, image_size, fullname, nickname,...\n",
      "  iwlinks: <list(1)> https://commons.wikimedia.org/wiki/Category:D...\n",
      "  pageid: 5502180\n",
      "  parsetree: <str(20051)> <root><template><title>Use Australian En...\n",
      "  requests: <list(2)> parse, imageinfo\n",
      "  title: Dean Brogan\n",
      "  wikibase: Q5246029\n",
      "  wikidata_url: https://www.wikidata.org/wiki/Q5246029\n",
      "  wikitext: <str(14277)> {{Use Australian English|date=September 2...\n",
      "}\n"
     ]
    },
    {
     "name": "stdout",
     "output_type": "stream",
     "text": [
      "32\n"
     ]
    },
    {
     "name": "stderr",
     "output_type": "stream",
     "text": [
      "en.wikipedia.org (parse) Mason Cox\n",
      "en.wikipedia.org (imageinfo) File:Mason Cox 2018.1.jpg\n",
      "Mason Cox (en) data\n",
      "{\n",
      "  image: <list(1)> {'kind': 'parse-image', 'file': 'File:Mason Cox...\n",
      "  infobox: <dict(19)> name, image, caption, fullname, nickname, bi...\n",
      "  iwlinks: <list(1)> https://commons.wikimedia.org/wiki/Category:M...\n",
      "  pageid: 50313128\n",
      "  parsetree: <str(17796)> <root><template><title>Use mdy dates</ti...\n",
      "  requests: <list(2)> parse, imageinfo\n",
      "  title: Mason Cox\n",
      "  wikibase: Q24006396\n",
      "  wikidata_url: https://www.wikidata.org/wiki/Q24006396\n",
      "  wikitext: <str(13703)> {{Use mdy dates|date=October 2018}}{{Use ...\n",
      "}\n"
     ]
    },
    {
     "name": "stdout",
     "output_type": "stream",
     "text": [
      "33\n"
     ]
    },
    {
     "name": "stderr",
     "output_type": "stream",
     "text": [
      "en.wikipedia.org (parse) Shane Crothers\n",
      "Shane Crothers (en) data\n",
      "{\n",
      "  infobox: <dict(15)> name, fullname, birth_date, originalteam, dr...\n",
      "  pageid: 26811241\n",
      "  parsetree: <str(5907)> <root><template><title>Use British Englis...\n",
      "  requests: <list(1)> parse\n",
      "  title: Shane Crothers\n",
      "  wikibase: Q7488033\n",
      "  wikidata_url: https://www.wikidata.org/wiki/Q7488033\n",
      "  wikitext: <str(3745)> {{Use British English|date=November 2011}}...\n",
      "}\n"
     ]
    },
    {
     "name": "stdout",
     "output_type": "stream",
     "text": [
      "34\n"
     ]
    },
    {
     "name": "stderr",
     "output_type": "stream",
     "text": [
      "en.wikipedia.org (parse) Denis Dalton\n",
      "Denis Dalton (en) data\n",
      "{\n",
      "  infobox: <dict(11)> name, fullname, birth_date, originalteam, he...\n",
      "  pageid: 22344053\n",
      "  parsetree: <str(5527)> <root><template><title>Use dmy dates</tit...\n",
      "  requests: <list(1)> parse\n",
      "  title: Denis Dalton\n",
      "  wikibase: Q5257190\n",
      "  wikidata_url: https://www.wikidata.org/wiki/Q5257190\n",
      "  wikitext: <str(3068)> {{Use dmy dates|date=October 2011}}{{Use A...\n",
      "}\n"
     ]
    },
    {
     "name": "stdout",
     "output_type": "stream",
     "text": [
      "35\n"
     ]
    },
    {
     "name": "stderr",
     "output_type": "stream",
     "text": [
      "en.wikipedia.org (parse) Bob Edmond\n",
      "Bob Edmond (en) data\n",
      "{\n",
      "  infobox: <dict(12)> name, fullname, birth_date, birth_place, ori...\n",
      "  pageid: 21560743\n",
      "  parsetree: <str(5285)> <root><template><title>short description<...\n",
      "  requests: <list(1)> parse\n",
      "  title: Bob Edmond\n",
      "  wikibase: Q4932354\n",
      "  wikidata_url: https://www.wikidata.org/wiki/Q4932354\n",
      "  wikitext: <str(3049)> {{short description|Australian sportsman}}...\n",
      "}\n"
     ]
    },
    {
     "name": "stdout",
     "output_type": "stream",
     "text": [
      "36\n"
     ]
    },
    {
     "name": "stderr",
     "output_type": "stream",
     "text": [
      "en.wikipedia.org (parse) Hugh Greenwood\n",
      "en.wikipedia.org (imageinfo) File:Hugh Greenwood 2019.1.jpg\n",
      "Hugh Greenwood (en) data\n",
      "{\n",
      "  image: <list(1)> {'kind': 'parse-image', 'file': 'File:Hugh Gree...\n",
      "  infobox: <dict(20)> name, image, caption, fullname, birth_date, ...\n",
      "  iwlinks: <list(1)> https://commons.wikimedia.org/wiki/Category:H...\n",
      "  pageid: 52080218\n",
      "  parsetree: <str(26777)> <root><template><title>Use Australian En...\n",
      "  requests: <list(2)> parse, imageinfo\n",
      "  title: Hugh Greenwood\n",
      "  wikibase: Q27671105\n",
      "  wikidata_url: https://www.wikidata.org/wiki/Q27671105\n",
      "  wikitext: <str(20478)> {{Use Australian English|date=May 2015}}{...\n",
      "}\n"
     ]
    },
    {
     "name": "stdout",
     "output_type": "stream",
     "text": [
      "37\n"
     ]
    },
    {
     "name": "stderr",
     "output_type": "stream",
     "text": [
      "en.wikipedia.org (parse) Jason Holmes\n",
      "Jason Holmes (en) data\n",
      "{\n",
      "  infobox: <dict(12)> name, fullname, birth_date, birth_place, dra...\n",
      "  pageid: 47592610\n",
      "  parsetree: <str(8211)> <root><template><title>Use mdy dates</tit...\n",
      "  requests: <list(1)> parse\n",
      "  title: Jason Holmes\n",
      "  wikibase: Q21064504\n",
      "  wikidata_url: https://www.wikidata.org/wiki/Q21064504\n",
      "  wikitext: <str(5692)> {{Use mdy dates|date=January 2018}}{{Use A...\n",
      "}\n"
     ]
    },
    {
     "name": "stdout",
     "output_type": "stream",
     "text": [
      "38\n"
     ]
    },
    {
     "name": "stderr",
     "output_type": "stream",
     "text": [
      "en.wikipedia.org (parse) Josh Jenkins\n",
      "en.wikipedia.org (imageinfo) File:Josh Jenkins 2019.3.jpg\n",
      "Josh Jenkins (en) data\n",
      "{\n",
      "  image: <list(1)> {'kind': 'parse-image', 'file': 'File:Josh Jenk...\n",
      "  infobox: <dict(30)> name, image, caption, fullname, nickname, bi...\n",
      "  iwlinks: <list(1)> https://commons.wikimedia.org/wiki/Category:J...\n",
      "  pageid: 35802006\n",
      "  parsetree: <str(18749)> <root><template><title>for</title><part>...\n",
      "  requests: <list(2)> parse, imageinfo\n",
      "  title: Josh Jenkins\n",
      "  wikibase: Q6289025\n",
      "  wikidata_url: https://www.wikidata.org/wiki/Q6289025\n",
      "  wikitext: <str(13167)> {{for|the songwriter and producer|Josh Je...\n",
      "}\n"
     ]
    },
    {
     "name": "stdout",
     "output_type": "stream",
     "text": [
      "39\n"
     ]
    },
    {
     "name": "stderr",
     "output_type": "stream",
     "text": [
      "en.wikipedia.org (parse) Alex Keath\n",
      "en.wikipedia.org (imageinfo) File:Alex Keath 2019.2.jpg\n",
      "Alex Keath (en) data\n",
      "{\n",
      "  image: <list(1)> {'kind': 'parse-image', 'file': 'File:Alex Keat...\n",
      "  infobox: <dict(22)> name, image, caption, fullname, birth_date, ...\n",
      "  iwlinks: <list(1)> https://commons.wikimedia.org/wiki/Category:A...\n",
      "  pageid: 30086726\n",
      "  parsetree: <str(20587)> <root><template><title>Use Australian En...\n",
      "  requests: <list(2)> parse, imageinfo\n",
      "  title: Alex Keath\n",
      "  wikibase: Q4717280\n",
      "  wikidata_url: https://www.wikidata.org/wiki/Q4717280\n",
      "  wikitext: <str(12051)> {{Use Australian English|date=May 2015}}{...\n",
      "}\n"
     ]
    },
    {
     "name": "stdout",
     "output_type": "stream",
     "text": [
      "40\n"
     ]
    },
    {
     "name": "stderr",
     "output_type": "stream",
     "text": [
      "en.wikipedia.org (parse) Bill Lang\n",
      "en.wikipedia.org (imageinfo) File:Bill Lang.jpg\n",
      "Bill Lang (en) data\n",
      "{\n",
      "  image: <list(1)> {'kind': 'parse-image', 'file': 'File:Bill Lang...\n",
      "  infobox: <dict(9)> name, image, birth_name, birth_date, birth_pl...\n",
      "  iwlinks: <list(1)> https://commons.wikimedia.org/wiki/Category:B...\n",
      "  pageid: 26822899\n",
      "  parsetree: <str(39063)> <root><template><title>for</title><part>...\n",
      "  requests: <list(2)> parse, imageinfo\n",
      "  title: Bill Lang\n",
      "  wikibase: Q4271272\n",
      "  wikidata_url: https://www.wikidata.org/wiki/Q4271272\n",
      "  wikitext: <str(28195)> {{for|the British Olympic rower|Bill Lang...\n",
      "}\n"
     ]
    },
    {
     "name": "stdout",
     "output_type": "stream",
     "text": [
      "41\n"
     ]
    },
    {
     "name": "stderr",
     "output_type": "stream",
     "text": [
      "en.wikipedia.org (parse) Bill McCabe (Australian sportsman)\n",
      "Bill McCabe (Australian sportsman) (en) data\n",
      "{\n",
      "  infobox: <dict(9)> name, fullname, birth_date, height, weight, s...\n",
      "  pageid: 26796111\n",
      "  parsetree: <str(3848)> <root><template><title>short description<...\n",
      "  requests: <list(1)> parse\n",
      "  title: Bill McCabe (Australian sportsman)\n",
      "  wikibase: Q4910066\n",
      "  wikidata_url: https://www.wikidata.org/wiki/Q4910066\n",
      "  wikitext: <str(2142)> {{short description|Australian sportsman}}...\n",
      "}\n"
     ]
    },
    {
     "name": "stdout",
     "output_type": "stream",
     "text": [
      "42\n"
     ]
    },
    {
     "name": "stderr",
     "output_type": "stream",
     "text": [
      "en.wikipedia.org (parse) Jim Matthews (sportsman)\n",
      "Jim Matthews (sportsman) (en) data\n",
      "{\n",
      "  infobox: <dict(11)> name, fullname, birth_date, birth_place, dea...\n",
      "  pageid: 31168377\n",
      "  parsetree: <str(10477)> <root><template><title>Use dmy dates</ti...\n",
      "  requests: <list(1)> parse\n",
      "  title: Jim Matthews (sportsman)\n",
      "  wikibase: Q6193289\n",
      "  wikidata_url: https://www.wikidata.org/wiki/Q6193289\n",
      "  wikitext: <str(5717)> {{Use dmy dates|date=February 2014}}{{Use ...\n",
      "}\n"
     ]
    },
    {
     "name": "stdout",
     "output_type": "stream",
     "text": [
      "43\n"
     ]
    },
    {
     "name": "stderr",
     "output_type": "stream",
     "text": [
      "en.wikipedia.org (parse) Michael Parsons (footballer)\n",
      "Michael Parsons (footballer) (en) data\n",
      "{\n",
      "  infobox: <dict(14)> name, fullname, birth_date, death_date, deat...\n",
      "  pageid: 22099455\n",
      "  parsetree: <str(5833)> <root><template><title>Use dmy dates</tit...\n",
      "  requests: <list(1)> parse\n",
      "  title: Michael Parsons (footballer)\n",
      "  wikibase: Q6833386\n",
      "  wikidata_url: https://www.wikidata.org/wiki/Q6833386\n",
      "  wikitext: <str(3535)> {{Use dmy dates|date=March 2014}}{{Use Aus...\n",
      "}\n"
     ]
    },
    {
     "name": "stdout",
     "output_type": "stream",
     "text": [
      "44\n"
     ]
    },
    {
     "name": "stderr",
     "output_type": "stream",
     "text": [
      "en.wikipedia.org (parse) Mike Pyke\n",
      "Mike Pyke (en) data\n",
      "{\n",
      "  infobox: <dict(14)> name, birth_date, birth_place, height, weigh...\n",
      "  pageid: 11311029\n",
      "  parsetree: <str(33171)> <root><template><title>distinguish</titl...\n",
      "  requests: <list(1)> parse\n",
      "  title: Mike Pyke\n",
      "  wikibase: Q3313503\n",
      "  wikidata_url: https://www.wikidata.org/wiki/Q3313503\n",
      "  wikitext: <str(24785)> {{distinguish|text=the English football r...\n",
      "}\n"
     ]
    },
    {
     "name": "stdout",
     "output_type": "stream",
     "text": [
      "45\n"
     ]
    },
    {
     "name": "stderr",
     "output_type": "stream",
     "text": [
      "en.wikipedia.org (parse) Leslie Rainey\n",
      "Leslie Rainey (en) data\n",
      "{\n",
      "  infobox: <dict(16)> name, fullname, birth_date, birth_place, dea...\n",
      "  pageid: 19742631\n",
      "  parsetree: <str(6683)> <root><template><title>Use Australian Eng...\n",
      "  requests: <list(1)> parse\n",
      "  title: Leslie Rainey\n",
      "  wikibase: Q6531088\n",
      "  wikidata_url: https://www.wikidata.org/wiki/Q6531088\n",
      "  wikitext: <str(4013)> {{Use Australian English|date=September 20...\n",
      "}\n"
     ]
    },
    {
     "name": "stdout",
     "output_type": "stream",
     "text": [
      "46\n"
     ]
    },
    {
     "name": "stderr",
     "output_type": "stream",
     "text": [
      "en.wikipedia.org (parse) Les Roebuck\n",
      "Les Roebuck (en) data\n",
      "{\n",
      "  infobox: <dict(14)> name, fullname, birth_date, birth_place, dea...\n",
      "  pageid: 45158091\n",
      "  parsetree: <str(6379)> <root><template><title>Use dmy dates</tit...\n",
      "  requests: <list(1)> parse\n",
      "  title: Les Roebuck\n",
      "  wikibase: Q19665470\n",
      "  wikidata_url: https://www.wikidata.org/wiki/Q19665470\n",
      "  wikitext: <str(3716)> {{Use dmy dates|date=September 2015}}{{Use...\n",
      "}\n"
     ]
    },
    {
     "name": "stdout",
     "output_type": "stream",
     "text": [
      "47\n"
     ]
    },
    {
     "name": "stderr",
     "output_type": "stream",
     "text": [
      "en.wikipedia.org (parse) Ken Slater (sportsman)\n",
      "en.wikipedia.org (imageinfo) File:Kenslaterhawthorn.png\n",
      "Ken Slater (sportsman) (en) data\n",
      "{\n",
      "  image: <list(1)> {'kind': 'parse-image', 'file': 'File:Kenslater...\n",
      "  infobox: <dict(12)> name, image, fullname, birth_date, death_dat...\n",
      "  iwlinks: <list(1)> https://commons.wikimedia.org/wiki/Category:K...\n",
      "  pageid: 46880579\n",
      "  parsetree: <str(16455)> <root><template><title>Use dmy dates</ti...\n",
      "  requests: <list(2)> parse, imageinfo\n",
      "  title: Ken Slater (sportsman)\n",
      "  wikibase: Q20128792\n",
      "  wikidata_url: https://www.wikidata.org/wiki/Q20128792\n",
      "  wikitext: <str(11728)> {{Use dmy dates|date=September 2015}}{{Us...\n",
      "}\n"
     ]
    },
    {
     "name": "stdout",
     "output_type": "stream",
     "text": [
      "48\n"
     ]
    },
    {
     "name": "stderr",
     "output_type": "stream",
     "text": [
      "en.wikipedia.org (parse) Ron Taylor (footballer)\n",
      "Ron Taylor (footballer) (en) data\n",
      "{\n",
      "  infobox: <dict(15)> name, fullname, birth_date, death_date, orig...\n",
      "  pageid: 26823728\n",
      "  parsetree: <str(4810)> <root><template><title>short description<...\n",
      "  requests: <list(1)> parse\n",
      "  title: Ron Taylor (footballer)\n",
      "  wikibase: Q7364463\n",
      "  wikidata_url: https://www.wikidata.org/wiki/Q7364463\n",
      "  wikitext: <str(2378)> {{short description|Australian rules footb...\n",
      "}\n"
     ]
    },
    {
     "name": "stdout",
     "output_type": "stream",
     "text": [
      "49\n"
     ]
    },
    {
     "name": "stderr",
     "output_type": "stream",
     "text": [
      "en.wikipedia.org (parse) Tom Warhurst, Sr.\n",
      "en.wikipedia.org (imageinfo) File:Tom Warhurst.jpg\n",
      "Tom Warhurst Sr. (en) data\n",
      "{\n",
      "  image: <list(1)> {'kind': 'parse-image', 'file': 'File:Tom Warhu...\n",
      "  infobox: <dict(10)> name, image, country, birth_date, birth_plac...\n",
      "  iwlinks: <list(1)> https://commons.wikimedia.org/wiki/Category:T...\n",
      "  pageid: 31128065\n",
      "  parsetree: <str(8419)> <root><template><title>Use dmy dates</tit...\n",
      "  requests: <list(2)> parse, imageinfo\n",
      "  title: Tom Warhurst Sr.\n",
      "  wikibase: Q7817990\n",
      "  wikidata_url: https://www.wikidata.org/wiki/Q7817990\n",
      "  wikitext: <str(4772)> {{Use dmy dates|date=February 2014}}{{Use ...\n",
      "}\n"
     ]
    },
    {
     "name": "stdout",
     "output_type": "stream",
     "text": [
      "50\n"
     ]
    },
    {
     "name": "stderr",
     "output_type": "stream",
     "text": [
      "en.wikipedia.org (parse) Keith Wiegard\n",
      "Keith Wiegard (en) data\n",
      "{\n",
      "  infobox: <dict(12)> name, fullname, birth_date, birth_place, dea...\n",
      "  pageid: 26795919\n",
      "  parsetree: <str(5397)> <root><template><title>short description<...\n",
      "  requests: <list(1)> parse\n",
      "  title: Keith Wiegard\n",
      "  wikibase: Q6385208\n",
      "  wikidata_url: https://www.wikidata.org/wiki/Q6385208\n",
      "  wikitext: <str(3143)> {{short description|Australian sportsman}}...\n",
      "}\n"
     ]
    },
    {
     "name": "stdout",
     "output_type": "stream",
     "text": [
      "51\n"
     ]
    },
    {
     "name": "stderr",
     "output_type": "stream",
     "text": [
      "en.wikipedia.org (parse) Ed Abbaticchio\n",
      "en.wikipedia.org (imageinfo) File:Ed Abbaticchio, 1903.jpg\n",
      "Ed Abbaticchio (en) data\n",
      "{\n",
      "  image: <list(1)> {'kind': 'parse-image', 'file': 'File:Ed Abbati...\n",
      "  infobox: <dict(24)> name, image, position, birth_place, death_pl...\n",
      "  pageid: 4547714\n",
      "  parsetree: <str(15548)> <root><template><title>Infobox baseball ...\n",
      "  requests: <list(2)> parse, imageinfo\n",
      "  title: Ed Abbaticchio\n",
      "  wikibase: Q5334486\n",
      "  wikidata_url: https://www.wikidata.org/wiki/Q5334486\n",
      "  wikitext: <str(9029)> {{Infobox baseball biography|name=Ed Abbat...\n",
      "}\n"
     ]
    },
    {
     "name": "stdout",
     "output_type": "stream",
     "text": [
      "52\n"
     ]
    },
    {
     "name": "stderr",
     "output_type": "stream",
     "text": [
      "en.wikipedia.org (parse) Cliff Aberson\n",
      "Cliff Aberson (en) data\n",
      "{\n",
      "  infobox: <dict(22)> name, position, birth_place, death_place, ba...\n",
      "  pageid: 5580168\n",
      "  parsetree: <str(14208)> <root><template><title>Use mdy dates</ti...\n",
      "  requests: <list(1)> parse\n",
      "  title: Cliff Aberson\n",
      "  wikibase: Q5132519\n",
      "  wikidata_url: https://www.wikidata.org/wiki/Q5132519\n",
      "  wikitext: <str(5443)> {{Use mdy dates|date=January 2019}}{{Infob...\n",
      "}\n"
     ]
    },
    {
     "name": "stdout",
     "output_type": "stream",
     "text": [
      "53\n"
     ]
    },
    {
     "name": "stderr",
     "output_type": "stream",
     "text": [
      "en.wikipedia.org (parse) Anthony Alford\n",
      "en.wikipedia.org (imageinfo) File:Anthony Alford (33959777723) (c...\n",
      "Anthony Alford (en) data\n",
      "{\n",
      "  image: <list(1)> {'kind': 'parse-image', 'file': 'File:Anthony A...\n",
      "  infobox: <dict(24)> name, image, caption, width, team, number, p...\n",
      "  pageid: 44000274\n",
      "  parsetree: <str(22389)> <root><template><title>short description...\n",
      "  requests: <list(2)> parse, imageinfo\n",
      "  title: Anthony Alford\n",
      "  wikibase: Q21620712\n",
      "  wikidata_url: https://www.wikidata.org/wiki/Q21620712\n",
      "  wikitext: <str(17284)> {{short description|American baseball pla...\n",
      "}\n"
     ]
    },
    {
     "name": "stdout",
     "output_type": "stream",
     "text": [
      "54\n"
     ]
    },
    {
     "name": "stderr",
     "output_type": "stream",
     "text": [
      "en.wikipedia.org (parse) Frank Baumholtz\n",
      "Frank Baumholtz (en) data\n",
      "{\n",
      "  infobox: <dict(22)> name, position, bats, throws, birth_place, d...\n",
      "  pageid: 7345288\n",
      "  parsetree: <str(13687)> <root><template><title>Infobox baseball ...\n",
      "  requests: <list(1)> parse\n",
      "  title: Frank Baumholtz\n",
      "  wikibase: Q3082506\n",
      "  wikidata_url: https://www.wikidata.org/wiki/Q3082506\n",
      "  wikitext: <str(8884)> {{Infobox baseball biography|name=Frank Ba...\n",
      "}\n"
     ]
    },
    {
     "name": "stdout",
     "output_type": "stream",
     "text": [
      "55\n"
     ]
    },
    {
     "name": "stderr",
     "output_type": "stream",
     "text": [
      "en.wikipedia.org (parse) Mookie Betts\n",
      "en.wikipedia.org (imageinfo) File:Mookie Betts running 2018.jpg\n",
      "Mookie Betts (en) data\n",
      "{\n",
      "  image: <list(1)> {'kind': 'parse-image', 'file': 'File:Mookie Be...\n",
      "  infobox: <dict(27)> name, image, image_size, caption, team, numb...\n",
      "  pageid: 39783541\n",
      "  parsetree: <str(59727)> <root><template><title>pp-vandalism</tit...\n",
      "  requests: <list(2)> parse, imageinfo\n",
      "  title: Mookie Betts\n",
      "  wikibase: Q16226579\n",
      "  wikidata_url: https://www.wikidata.org/wiki/Q16226579\n",
      "  wikitext: <str(47697)> {{pp-vandalism|small=yes}}{{short descrip...\n",
      "}\n"
     ]
    },
    {
     "name": "stdout",
     "output_type": "stream",
     "text": [
      "56\n"
     ]
    },
    {
     "name": "stderr",
     "output_type": "stream",
     "text": [
      "en.wikipedia.org (parse) Jamie Burke\n",
      "en.wikipedia.org (imageinfo) File:Jamie Burke.jpg\n",
      "Jamie Burke (en) data\n",
      "{\n",
      "  image: <list(1)> {'kind': 'parse-image', 'file': 'File:Jamie Bur...\n",
      "  infobox: <dict(23)> name, image, caption, position, bats, throws...\n",
      "  pageid: 3796748\n",
      "  parsetree: <str(12369)> <root><template><title>about</title><par...\n",
      "  requests: <list(2)> parse, imageinfo\n",
      "  title: Jamie Burke\n",
      "  wikibase: Q6146681\n",
      "  wikidata_url: https://www.wikidata.org/wiki/Q6146681\n",
      "  wikitext: <str(8234)> {{about||the American rugby union player|J...\n",
      "}\n"
     ]
    },
    {
     "name": "stdout",
     "output_type": "stream",
     "text": [
      "57\n"
     ]
    },
    {
     "name": "stderr",
     "output_type": "stream",
     "text": [
      "en.wikipedia.org (parse) Sammy Byrd\n",
      "en.wikipedia.org (imageinfo) File:SammyByrdGoudeycard.jpg\n",
      "Sammy Byrd (en) data\n",
      "{\n",
      "  image: <list(1)> {'kind': 'parse-image', 'file': 'File:SammyByrd...\n",
      "  infobox: <dict(24)> name, image, position, birth_place, death_pl...\n",
      "  pageid: 6790957\n",
      "  parsetree: <str(14963)> <root><template><title>Infobox baseball ...\n",
      "  requests: <list(2)> parse, imageinfo\n",
      "  title: Sammy Byrd\n",
      "  wikibase: Q7409715\n",
      "  wikidata_url: https://www.wikidata.org/wiki/Q7409715\n",
      "  wikitext: <str(8038)> {{Infobox baseball biography|name=Sammy By...\n",
      "}\n"
     ]
    },
    {
     "name": "stdout",
     "output_type": "stream",
     "text": [
      "58\n"
     ]
    },
    {
     "name": "stderr",
     "output_type": "stream",
     "text": [
      "en.wikipedia.org (parse) Tom Candiotti\n",
      "Tom Candiotti (en) data\n",
      "{\n",
      "  infobox: <dict(21)> name, position, bats, throws, birth_place, d...\n",
      "  pageid: 1581778\n",
      "  parsetree: <str(13544)> <root><template><title>Infobox baseball ...\n",
      "  requests: <list(1)> parse\n",
      "  title: Tom Candiotti\n",
      "  wikibase: Q7815192\n",
      "  wikidata_url: https://www.wikidata.org/wiki/Q7815192\n",
      "  wikitext: <str(9763)> {{Infobox baseball biography|name=Tom Cand...\n",
      "}\n"
     ]
    },
    {
     "name": "stdout",
     "output_type": "stream",
     "text": [
      "59\n"
     ]
    },
    {
     "name": "stderr",
     "output_type": "stream",
     "text": [
      "en.wikipedia.org (parse) Cris Carpenter\n",
      "Cris Carpenter (en) data\n",
      "{\n",
      "  infobox: <dict(21)> name, position, birth_place, bats, throws, d...\n",
      "  pageid: 5801346\n",
      "  parsetree: <str(6465)> <root><template><title>distinguish</title...\n",
      "  requests: <list(1)> parse\n",
      "  title: Cris Carpenter\n",
      "  wikibase: Q5185864\n",
      "  wikidata_url: https://www.wikidata.org/wiki/Q5185864\n",
      "  wikitext: <str(3548)> {{distinguish|text=the former professional...\n",
      "}\n"
     ]
    },
    {
     "name": "stdout",
     "output_type": "stream",
     "text": [
      "60\n"
     ]
    },
    {
     "name": "stderr",
     "output_type": "stream",
     "text": [
      "en.wikipedia.org (parse) Tony Clark\n",
      "en.wikipedia.org (imageinfo) File:Tony Clark May 2008 (cropped).jpg\n",
      "Tony Clark (en) data\n",
      "{\n",
      "  image: <list(1)> {'kind': 'parse-image', 'file': 'File:Tony Clar...\n",
      "  infobox: <dict(25)> name, image, caption, position, bats, throws...\n",
      "  pageid: 926313\n",
      "  parsetree: <str(25616)> <root><template><title>Other people</tit...\n",
      "  requests: <list(2)> parse, imageinfo\n",
      "  title: Tony Clark\n",
      "  wikibase: Q11321326\n",
      "  wikidata_url: https://www.wikidata.org/wiki/Q11321326\n",
      "  wikitext: <str(19227)> {{Other people|Tony Clark}}{{Use mdy date...\n",
      "}\n"
     ]
    },
    {
     "name": "stdout",
     "output_type": "stream",
     "text": [
      "61\n"
     ]
    },
    {
     "name": "stderr",
     "output_type": "stream",
     "text": [
      "en.wikipedia.org (parse) Vince Coleman\n",
      "en.wikipedia.org (imageinfo) File:Vince Coleman (31079627642) (cr...\n",
      "Vince Coleman (en) data\n",
      "{\n",
      "  image: <list(1)> {'kind': 'parse-image', 'file': 'File:Vince Col...\n",
      "  infobox: <dict(27)> name, image, image_size, caption, position, ...\n",
      "  pageid: 1725603\n",
      "  parsetree: <str(22805)> <root><template><title>BLP refimprove</t...\n",
      "  requests: <list(2)> parse, imageinfo\n",
      "  title: Vince Coleman\n",
      "  wikibase: Q3559410\n",
      "  wikidata_url: https://www.wikidata.org/wiki/Q3559410\n",
      "  wikitext: <str(16780)> {{BLP refimprove|date=June 2019}}{{For2|t...\n",
      "}\n"
     ]
    },
    {
     "name": "stdout",
     "output_type": "stream",
     "text": [
      "62\n"
     ]
    },
    {
     "name": "stderr",
     "output_type": "stream",
     "text": [
      "en.wikipedia.org (parse) Gene Conley\n",
      "en.wikipedia.org (imageinfo) File:Gene Conley - Boston Red Sox - ...\n",
      "Gene Conley (en) data\n",
      "{\n",
      "  image: <list(1)> {'kind': 'parse-image', 'file': 'File:Gene Conl...\n",
      "  infobox: <dict(25)> name, image, caption, position, bats, throws...\n",
      "  pageid: 1326010\n",
      "  parsetree: <str(34623)> <root><template><title>Infobox baseball ...\n",
      "  requests: <list(2)> parse, imageinfo\n",
      "  title: Gene Conley\n",
      "  wikibase: Q2736194\n",
      "  wikidata_url: https://www.wikidata.org/wiki/Q2736194\n",
      "  wikitext: <str(23963)> {{Infobox baseball biography|name=Gene Co...\n",
      "}\n"
     ]
    },
    {
     "name": "stdout",
     "output_type": "stream",
     "text": [
      "63\n"
     ]
    },
    {
     "name": "stderr",
     "output_type": "stream",
     "text": [
      "en.wikipedia.org (parse) Chuck Connors\n",
      "en.wikipedia.org (imageinfo) File:Chuck Connors Beverly Englander...\n",
      "Chuck Connors (en) data\n",
      "{\n",
      "  image: <list(1)> {'kind': 'parse-image', 'file': 'File:Chuck Con...\n",
      "  infobox: <dict(15)> name, image, caption, birth_name, birth_date...\n",
      "  iwlinks: <list(1)> https://commons.wikimedia.org/wiki/Category:C...\n",
      "  pageid: 496779\n",
      "  parsetree: <str(50138)> <root><template><title>short description...\n",
      "  requests: <list(2)> parse, imageinfo\n",
      "  title: Chuck Connors\n",
      "  wikibase: Q705738\n",
      "  wikidata_url: https://www.wikidata.org/wiki/Q705738\n",
      "  wikitext: <str(40481)> {{short description|Athlete and actor}}{{...\n",
      "}\n"
     ]
    },
    {
     "name": "stdout",
     "output_type": "stream",
     "text": [
      "64\n"
     ]
    },
    {
     "name": "stderr",
     "output_type": "stream",
     "text": [
      "en.wikipedia.org (parse) Carl Crawford\n",
      "en.wikipedia.org (imageinfo) File:Carl Crawford on April 21, 2013.jpg\n",
      "Carl Crawford (en) data\n",
      "{\n",
      "  image: <list(1)> {'kind': 'parse-image', 'file': 'File:Carl Craw...\n",
      "  infobox: <dict(28)> name, image, image_size, caption, position, ...\n",
      "  iwlinks: <list(1)> https://commons.wikimedia.org/wiki/Category:C...\n",
      "  pageid: 692922\n",
      "  parsetree: <str(51092)> <root><template><title>about</title><par...\n",
      "  requests: <list(2)> parse, imageinfo\n",
      "  title: Carl Crawford\n",
      "  wikibase: Q1037431\n",
      "  wikidata_url: https://www.wikidata.org/wiki/Q1037431\n",
      "  wikitext: <str(41387)> {{about|the American baseball player|the ...\n",
      "}\n"
     ]
    },
    {
     "name": "stdout",
     "output_type": "stream",
     "text": [
      "65\n"
     ]
    },
    {
     "name": "stderr",
     "output_type": "stream",
     "text": [
      "en.wikipedia.org (parse) Alvin Dark\n",
      "en.wikipedia.org (imageinfo) File:Alvin Dark 1953.jpg\n",
      "Alvin Dark (en) data\n",
      "{\n",
      "  image: <list(1)> {'kind': 'parse-image', 'file': 'File:Alvin Dar...\n",
      "  infobox: <dict(30)> name, image, caption, position, bats, throws...\n",
      "  pageid: 1166908\n",
      "  parsetree: <str(29983)> <root><template><title>more citations ne...\n",
      "  requests: <list(2)> parse, imageinfo\n",
      "  title: Alvin Dark\n",
      "  wikibase: Q2840597\n",
      "  wikidata_url: https://www.wikidata.org/wiki/Q2840597\n",
      "  wikitext: <str(19958)> {{more citations needed|date=November 201...\n",
      "}\n"
     ]
    },
    {
     "name": "stdout",
     "output_type": "stream",
     "text": [
      "66\n"
     ]
    },
    {
     "name": "stderr",
     "output_type": "stream",
     "text": [
      "en.wikipedia.org (parse) Mark DeRosa\n",
      "en.wikipedia.org (imageinfo) File:20130422-0510 Mark DeRosa.jpg\n",
      "Mark DeRosa (en) data\n",
      "{\n",
      "  image: <list(1)> {'kind': 'parse-image', 'file': 'File:20130422-...\n",
      "  infobox: <dict(25)> name, image, image_size, caption, position, ...\n",
      "  iwlinks: <list(1)> https://commons.wikimedia.org/wiki/Category:M...\n",
      "  pageid: 1085405\n",
      "  parsetree: <str(28277)> <root><template><title>Infobox baseball ...\n",
      "  requests: <list(2)> parse, imageinfo\n",
      "  title: Mark DeRosa\n",
      "  wikibase: Q3294049\n",
      "  wikidata_url: https://www.wikidata.org/wiki/Q3294049\n",
      "  wikitext: <str(21430)> {{Infobox baseball biography|name        ...\n",
      "}\n"
     ]
    },
    {
     "name": "stdout",
     "output_type": "stream",
     "text": [
      "67\n"
     ]
    },
    {
     "name": "stderr",
     "output_type": "stream",
     "text": [
      "en.wikipedia.org (parse) Walter East\n",
      "Walter East (en) data\n",
      "{\n",
      "  infobox: <dict(11)> name, position1, birth_date, birth_place, de...\n",
      "  pageid: 14951210\n",
      "  parsetree: <str(10562)> <root><template><title>Infobox gridiron ...\n",
      "  requests: <list(1)> parse\n",
      "  title: Walter East\n",
      "  wikibase: Q7964740\n",
      "  wikidata_url: https://www.wikidata.org/wiki/Q7964740\n",
      "  wikitext: <str(7897)> {{Infobox gridiron football person| name  ...\n",
      "}\n"
     ]
    },
    {
     "name": "stdout",
     "output_type": "stream",
     "text": [
      "68\n"
     ]
    },
    {
     "name": "stderr",
     "output_type": "stream",
     "text": [
      "en.wikipedia.org (parse) Darin Erstad\n",
      "en.wikipedia.org (imageinfo) File:8TH 7936 Darin Erstad.jpg\n",
      "Darin Erstad (en) data\n",
      "{\n",
      "  image: <list(1)> {'kind': 'parse-image', 'file': 'File:8TH 7936 ...\n",
      "  infobox: <dict(24)> name, image, caption, position, bats, throws...\n",
      "  iwlinks: <list(1)> https://commons.wikimedia.org/wiki/Category:D...\n",
      "  pageid: 1916815\n",
      "  parsetree: <str(26317)> <root><template><title>short description...\n",
      "  requests: <list(2)> parse, imageinfo\n",
      "  title: Darin Erstad\n",
      "  wikibase: Q861442\n",
      "  wikidata_url: https://www.wikidata.org/wiki/Q861442\n",
      "  wikitext: <str(18354)> {{short description|American baseball pla...\n",
      "}\n"
     ]
    },
    {
     "name": "stdout",
     "output_type": "stream",
     "text": [
      "69\n"
     ]
    },
    {
     "name": "stderr",
     "output_type": "stream",
     "text": [
      "en.wikipedia.org (parse) Josh Fields (infielder)\n",
      "en.wikipedia.org (imageinfo) File:00063533 Josh Fields.jpg\n",
      "Josh Fields (infielder) (en) data\n",
      "{\n",
      "  image: <list(1)> {'kind': 'parse-image', 'file': 'File:00063533 ...\n",
      "  infobox: <dict(38)> name, image, caption, position, birth_place,...\n",
      "  pageid: 7729199\n",
      "  parsetree: <str(17340)> <root><template><title>For</title><part>...\n",
      "  requests: <list(2)> parse, imageinfo\n",
      "  title: Josh Fields (infielder)\n",
      "  wikibase: Q3185962\n",
      "  wikidata_url: https://www.wikidata.org/wiki/Q3185962\n",
      "  wikitext: <str(11835)> {{For|the pitcher|Josh Fields (pitcher)}}...\n",
      "}\n"
     ]
    },
    {
     "name": "stdout",
     "output_type": "stream",
     "text": [
      "70\n"
     ]
    },
    {
     "name": "stderr",
     "output_type": "stream",
     "text": [
      "en.wikipedia.org (parse) Dámaso García\n",
      "en.wikipedia.org (imageinfo) File:Damaso Garcia Fort Lauderdale Y...\n",
      "Dámaso García (en) data\n",
      "{\n",
      "  image: <list(1)> {'kind': 'parse-image', 'file': 'File:Damaso Ga...\n",
      "  infobox: <dict(25)> name, image, position, bats, throws, birth_p...\n",
      "  pageid: 1606940\n",
      "  parsetree: <str(10122)> <root><template><title>Infobox baseball ...\n",
      "  requests: <list(2)> parse, imageinfo\n",
      "  title: Dámaso García\n",
      "  wikibase: Q3042264\n",
      "  wikidata_url: https://www.wikidata.org/wiki/Q3042264\n",
      "  wikitext: <str(6135)> {{Infobox baseball biography|name=Dámaso G...\n",
      "}\n"
     ]
    },
    {
     "name": "stdout",
     "output_type": "stream",
     "text": [
      "71\n"
     ]
    },
    {
     "name": "stderr",
     "output_type": "stream",
     "text": [
      "en.wikipedia.org (parse) Amir Garrett\n",
      "en.wikipedia.org (imageinfo) File:CINvARI - Amir Garrett (3041507...\n",
      "Amir Garrett (en) data\n",
      "{\n",
      "  image: <list(1)> {'kind': 'parse-image', 'file': 'File:CINvARI -...\n",
      "  infobox: <dict(23)> name, image, caption, team, number, position...\n",
      "  pageid: 39024527\n",
      "  parsetree: <str(23496)> <root><template><title>short description...\n",
      "  requests: <list(2)> parse, imageinfo\n",
      "  title: Amir Garrett\n",
      "  wikibase: Q16227116\n",
      "  wikidata_url: https://www.wikidata.org/wiki/Q16227116\n",
      "  wikitext: <str(16579)> {{short description|American baseball pla...\n",
      "}\n"
     ]
    },
    {
     "name": "stdout",
     "output_type": "stream",
     "text": [
      "72\n"
     ]
    },
    {
     "name": "stderr",
     "output_type": "stream",
     "text": [
      "en.wikipedia.org (parse) Steve Garvey\n",
      "en.wikipedia.org (imageinfo) File:Steve Garvey 2010.JPG\n",
      "Steve Garvey (en) data\n",
      "{\n",
      "  image: <list(1)> {'kind': 'parse-image', 'file': 'File:Steve Gar...\n",
      "  infobox: <dict(26)> name, image, caption, position, bats, throws...\n",
      "  pageid: 1502903\n",
      "  parsetree: <str(35510)> <root><template><title>other people</tit...\n",
      "  requests: <list(2)> parse, imageinfo\n",
      "  title: Steve Garvey\n",
      "  wikibase: Q615887\n",
      "  wikidata_url: https://www.wikidata.org/wiki/Q615887\n",
      "  wikitext: <str(27484)> {{other people}}{{Infobox baseball biogra...\n",
      "}\n"
     ]
    },
    {
     "name": "stdout",
     "output_type": "stream",
     "text": [
      "73\n"
     ]
    },
    {
     "name": "stderr",
     "output_type": "stream",
     "text": [
      "en.wikipedia.org (parse) Bob Gibson\n",
      "en.wikipedia.org (imageinfo) File:Bob Gibson crop.JPG\n",
      "Bob Gibson (en) data\n",
      "{\n",
      "  image: <list(1)> {'kind': 'parse-image', 'file': 'File:Bob Gibso...\n",
      "  infobox: <dict(28)> name, position, image, caption, bats, throws...\n",
      "  iwlinks: <list(1)> https://commons.wikimedia.org/wiki/Category:B...\n",
      "  pageid: 367170\n",
      "  parsetree: <str(75896)> <root><template><title>short description...\n",
      "  requests: <list(2)> parse, imageinfo\n",
      "  title: Bob Gibson\n",
      "  wikibase: Q1131535\n",
      "  wikidata_url: https://www.wikidata.org/wiki/Q1131535\n",
      "  wikitext: <str(53449)> {{short description|American professional...\n",
      "}\n"
     ]
    },
    {
     "name": "stdout",
     "output_type": "stream",
     "text": [
      "74\n"
     ]
    },
    {
     "name": "stderr",
     "output_type": "stream",
     "text": [
      "en.wikipedia.org (parse) Kirk Gibson\n",
      "en.wikipedia.org (imageinfo) File:Kirk Gibson by Gage Skidmore.jpg\n",
      "Kirk Gibson (en) data\n",
      "{\n",
      "  image: <list(1)> {'kind': 'parse-image', 'file': 'File:Kirk Gibs...\n",
      "  infobox: <dict(29)> name, image, caption, position, bats, throws...\n",
      "  pageid: 570125\n",
      "  parsetree: <str(33651)> <root><template><title>Use mdy dates</ti...\n",
      "  requests: <list(2)> parse, imageinfo\n",
      "  title: Kirk Gibson\n",
      "  wikibase: Q1185498\n",
      "  wikidata_url: https://www.wikidata.org/wiki/Q1185498\n",
      "  wikitext: <str(24355)> {{Use mdy dates|date=October 2014}}{{Info...\n",
      "}\n"
     ]
    },
    {
     "name": "stdout",
     "output_type": "stream",
     "text": [
      "75\n"
     ]
    },
    {
     "name": "stderr",
     "output_type": "stream",
     "text": [
      "en.wikipedia.org (parse) Tom Glavine\n",
      "en.wikipedia.org (imageinfo) File:Tom Glavine Pitching 1993.jpg\n",
      "Tom Glavine (en) data\n",
      "{\n",
      "  image: <list(1)> {'kind': 'parse-image', 'file': 'File:Tom Glavi...\n",
      "  infobox: <dict(29)> name, image, caption, width, position, bats,...\n",
      "  iwlinks: <list(1)> https://commons.wikimedia.org/wiki/Category:T...\n",
      "  pageid: 398025\n",
      "  parsetree: <str(34234)> <root><template><title>short description...\n",
      "  requests: <list(2)> parse, imageinfo\n",
      "  title: Tom Glavine\n",
      "  wikibase: Q943668\n",
      "  wikidata_url: https://www.wikidata.org/wiki/Q943668\n",
      "  wikitext: <str(27735)> {{short description|American baseball pit...\n",
      "}\n"
     ]
    },
    {
     "name": "stdout",
     "output_type": "stream",
     "text": [
      "76\n"
     ]
    },
    {
     "name": "stderr",
     "output_type": "stream",
     "text": [
      "en.wikipedia.org (parse) Dick Groat\n",
      "en.wikipedia.org (imageinfo) File:Dick Groat 1960.png\n",
      "Dick Groat (en) data\n",
      "{\n",
      "  image: <list(1)> {'kind': 'parse-image', 'file': 'File:Dick Groa...\n",
      "  infobox: <dict(26)> name, image, caption, position, bats, throws...\n",
      "  pageid: 1618759\n",
      "  parsetree: <str(24811)> <root><template><title>Use mdy dates</ti...\n",
      "  requests: <list(2)> parse, imageinfo\n",
      "  title: Dick Groat\n",
      "  wikibase: Q1608378\n",
      "  wikidata_url: https://www.wikidata.org/wiki/Q1608378\n",
      "  wikitext: <str(17258)> {{Use mdy dates|date=January 2019}}{{Info...\n",
      "}\n"
     ]
    },
    {
     "name": "stdout",
     "output_type": "stream",
     "text": [
      "77\n"
     ]
    },
    {
     "name": "stderr",
     "output_type": "stream",
     "text": [
      "en.wikipedia.org (parse) Gabe Gross\n",
      "en.wikipedia.org (imageinfo) File:ggross.jpg\n",
      "Gabe Gross (en) data\n",
      "{\n",
      "  image: <list(1)> {'kind': 'parse-image', 'file': 'File:ggross.jp...\n",
      "  infobox: <dict(24)> name, team, image, caption, position, birth_...\n",
      "  pageid: 1620922\n",
      "  parsetree: <str(9719)> <root><template><title>short description<...\n",
      "  requests: <list(2)> parse, imageinfo\n",
      "  title: Gabe Gross\n",
      "  wikibase: Q3093502\n",
      "  wikidata_url: https://www.wikidata.org/wiki/Q3093502\n",
      "  wikitext: <str(6131)> {{short description|American baseball play...\n",
      "}\n"
     ]
    },
    {
     "name": "stdout",
     "output_type": "stream",
     "text": [
      "78\n"
     ]
    },
    {
     "name": "stderr",
     "output_type": "stream",
     "text": [
      "en.wikipedia.org (parse) Frank Grube\n",
      "en.wikipedia.org (imageinfo) File:FrankGrubeGoudeycard.jpg\n",
      "Frank Grube (en) data\n",
      "{\n",
      "  image: <list(1)> {'kind': 'parse-image', 'file': 'File:FrankGrub...\n",
      "  infobox: <dict(25)> name, image, image_size, caption, position, ...\n",
      "  pageid: 25104356\n",
      "  parsetree: <str(4978)> <root><template><title>for</title><part><...\n",
      "  requests: <list(2)> parse, imageinfo\n",
      "  title: Frank Grube\n",
      "  wikibase: Q5486974\n",
      "  wikidata_url: https://www.wikidata.org/wiki/Q5486974\n",
      "  wikitext: <str(2324)> {{for|the physician and politician|Frankli...\n",
      "}\n"
     ]
    },
    {
     "name": "stdout",
     "output_type": "stream",
     "text": [
      "79\n"
     ]
    },
    {
     "name": "stderr",
     "output_type": "stream",
     "text": [
      "en.wikipedia.org (parse) Tony Gwynn\n",
      "en.wikipedia.org (imageinfo) File:Tony Gwynn 2011.jpg\n",
      "Tony Gwynn (en) data\n",
      "{\n",
      "  image: <list(1)> {'kind': 'parse-image', 'file': 'File:Tony Gwyn...\n",
      "  infobox: <dict(32)> name, image, image_size, caption, position, ...\n",
      "  iwlinks: <list(1)> https://commons.wikimedia.org/wiki/Category:T...\n",
      "  pageid: 306190\n",
      "  parsetree: <str(244097)> <root><template><title>about</title><pa...\n",
      "  requests: <list(2)> parse, imageinfo\n",
      "  title: Tony Gwynn\n",
      "  wikibase: Q1145222\n",
      "  wikidata_url: https://www.wikidata.org/wiki/Q1145222\n",
      "  wikitext: <str(190696)> {{about|the Baseball Hall of Famer|his s...\n",
      "}\n"
     ]
    },
    {
     "name": "stdout",
     "output_type": "stream",
     "text": [
      "80\n"
     ]
    },
    {
     "name": "stderr",
     "output_type": "stream",
     "text": [
      "en.wikipedia.org (parse) Steve Hamilton\n",
      "Steve Hamilton (en) data\n",
      "{\n",
      "  infobox: <dict(22)> name, position, bats, throws, birth_place, d...\n",
      "  pageid: 10564975\n",
      "  parsetree: <str(15029)> <root><template><title>For</title><part>...\n",
      "  requests: <list(1)> parse\n",
      "  title: Steve Hamilton\n",
      "  wikibase: Q6932895\n",
      "  wikidata_url: https://www.wikidata.org/wiki/Q6932895\n",
      "  wikitext: <str(8069)> {{For|other people with this name|Steve Ha...\n",
      "}\n"
     ]
    },
    {
     "name": "stdout",
     "output_type": "stream",
     "text": [
      "81\n"
     ]
    },
    {
     "name": "stderr",
     "output_type": "stream",
     "text": [
      "en.wikipedia.org (parse) Richie Hebner\n",
      "en.wikipedia.org (imageinfo) File:Richie Hebner.jpg\n",
      "Richie Hebner (en) data\n",
      "{\n",
      "  image: <list(1)> {'kind': 'parse-image', 'file': 'File:Richie He...\n",
      "  infobox: <dict(23)> name, image, position, bats, throws, birth_p...\n",
      "  pageid: 2763464\n",
      "  parsetree: <str(35931)> <root><template><title>Infobox baseball ...\n",
      "  requests: <list(2)> parse, imageinfo\n",
      "  title: Richie Hebner\n",
      "  wikibase: Q7330514\n",
      "  wikidata_url: https://www.wikidata.org/wiki/Q7330514\n",
      "  wikitext: <str(27115)> {{Infobox baseball biography|name=Richie ...\n",
      "}\n"
     ]
    },
    {
     "name": "stdout",
     "output_type": "stream",
     "text": [
      "82\n"
     ]
    },
    {
     "name": "stderr",
     "output_type": "stream",
     "text": [
      "en.wikipedia.org (parse) Todd Helton\n",
      "en.wikipedia.org (imageinfo) File:Todd Helton on August 18, 2013.jpg\n",
      "Todd Helton (en) data\n",
      "{\n",
      "  image: <list(1)> {'kind': 'parse-image', 'file': 'File:Todd Helt...\n",
      "  infobox: <dict(27)> name, image, caption, position, birth_date, ...\n",
      "  iwlinks: <list(1)> https://commons.wikimedia.org/wiki/Category:T...\n",
      "  pageid: 1037675\n",
      "  parsetree: <str(58414)> <root><template><title>short description...\n",
      "  requests: <list(2)> parse, imageinfo\n",
      "  title: Todd Helton\n",
      "  wikibase: Q1131278\n",
      "  wikidata_url: https://www.wikidata.org/wiki/Q1131278\n",
      "  wikitext: <str(45310)> {{short description|American baseball pla...\n",
      "}\n"
     ]
    },
    {
     "name": "stdout",
     "output_type": "stream",
     "text": [
      "83\n"
     ]
    },
    {
     "name": "stderr",
     "output_type": "stream",
     "text": [
      "en.wikipedia.org (parse) Mark Hendrickson\n",
      "en.wikipedia.org (imageinfo) File:001U8598 Mark Hendrickson.jpg\n",
      "Mark Hendrickson (en) data\n",
      "{\n",
      "  image: <list(1)> {'kind': 'parse-image', 'file': 'File:001U8598 ...\n",
      "  infobox: <dict(23)> name, image, caption, position, birth_place,...\n",
      "  pageid: 428187\n",
      "  parsetree: <str(26072)> <root><template><title>for</title><part>...\n",
      "  requests: <list(2)> parse, imageinfo\n",
      "  title: Mark Hendrickson\n",
      "  wikibase: Q2737369\n",
      "  wikidata_url: https://www.wikidata.org/wiki/Q2737369\n",
      "  wikitext: <str(17933)> {{for|the American football coach and for...\n",
      "}\n"
     ]
    },
    {
     "name": "stdout",
     "output_type": "stream",
     "text": [
      "84\n"
     ]
    },
    {
     "name": "stderr",
     "output_type": "stream",
     "text": [
      "en.wikipedia.org (parse) Frank Howard (baseball)\n",
      "en.wikipedia.org (imageinfo) File:Frank Howard 2009.jpg\n",
      "Frank Howard (baseball) (en) data\n",
      "{\n",
      "  image: <list(1)> {'kind': 'parse-image', 'file': 'File:Frank How...\n",
      "  infobox: <dict(24)> name, image, caption, position, bats, throws...\n",
      "  pageid: 659254\n",
      "  parsetree: <str(29400)> <root><template><title>Infobox baseball ...\n",
      "  requests: <list(2)> parse, imageinfo\n",
      "  title: Frank Howard (baseball)\n",
      "  wikibase: Q5487342\n",
      "  wikidata_url: https://www.wikidata.org/wiki/Q5487342\n",
      "  wikitext: <str(18601)> {{Infobox baseball biography|name=Frank H...\n",
      "}\n"
     ]
    },
    {
     "name": "stdout",
     "output_type": "stream",
     "text": [
      "85\n"
     ]
    },
    {
     "name": "stderr",
     "output_type": "stream",
     "text": [
      "en.wikipedia.org (parse) Bo Jackson\n",
      "en.wikipedia.org (imageinfo) File:Bo Jackson, 2011 NCAA Honors Ce...\n",
      "Bo Jackson (en) data\n",
      "{\n",
      "  image: <list(1)> {'kind': 'parse-image', 'file': 'File:Bo Jackso...\n",
      "  infobox: <dict(24)> position, number, image, caption, birth_plac...\n",
      "  iwlinks: <list(1)> https://commons.wikimedia.org/wiki/Category:B...\n",
      "  pageid: 625066\n",
      "  parsetree: <str(68529)> <root><template><title>distinguish</titl...\n",
      "  requests: <list(2)> parse, imageinfo\n",
      "  title: Bo Jackson\n",
      "  wikibase: Q887401\n",
      "  wikidata_url: https://www.wikidata.org/wiki/Q887401\n",
      "  wikitext: <str(55693)> {{distinguish|Boo Jackson}}{{short descri...\n",
      "}\n"
     ]
    },
    {
     "name": "stdout",
     "output_type": "stream",
     "text": [
      "86\n"
     ]
    },
    {
     "name": "stderr",
     "output_type": "stream",
     "text": [
      "en.wikipedia.org (parse) Ferguson Jenkins\n",
      "en.wikipedia.org (imageinfo) File:Fergie Jenkins 1976.jpg\n",
      "Ferguson Jenkins (en) data\n",
      "{\n",
      "  image: <list(1)> {'kind': 'parse-image', 'file': 'File:Fergie Je...\n",
      "  infobox: <dict(27)> image, caption, name, position, bats, throws...\n",
      "  iwlinks: <list(1)> https://commons.wikimedia.org/wiki/Category:F...\n",
      "  pageid: 90696\n",
      "  parsetree: <str(31089)> <root><template><title>Use mdy dates</ti...\n",
      "  requests: <list(2)> parse, imageinfo\n",
      "  title: Ferguson Jenkins\n",
      "  wikibase: Q284428\n",
      "  wikidata_url: https://www.wikidata.org/wiki/Q284428\n",
      "  wikitext: <str(22422)> {{Use mdy dates|date=January 2019}}{{Info...\n",
      "}\n"
     ]
    },
    {
     "name": "stdout",
     "output_type": "stream",
     "text": [
      "87\n"
     ]
    },
    {
     "name": "stderr",
     "output_type": "stream",
     "text": [
      "en.wikipedia.org (parse) Jackie Jensen\n",
      "en.wikipedia.org (imageinfo) File:Jackie Jensen 1953.jpg\n",
      "Jackie Jensen (en) data\n",
      "{\n",
      "  image: <list(1)> {'kind': 'parse-image', 'file': 'File:Jackie Je...\n",
      "  infobox: <dict(25)> name, image, caption, position, bats, throws...\n",
      "  pageid: 753335\n",
      "  parsetree: <str(24786)> <root><template><title>short description...\n",
      "  requests: <list(2)> parse, imageinfo\n",
      "  title: Jackie Jensen\n",
      "  wikibase: Q3048466\n",
      "  wikidata_url: https://www.wikidata.org/wiki/Q3048466\n",
      "  wikitext: <str(17058)> {{short description|American baseball pla...\n",
      "}\n"
     ]
    },
    {
     "name": "stdout",
     "output_type": "stream",
     "text": [
      "88\n"
     ]
    },
    {
     "name": "stderr",
     "output_type": "stream",
     "text": [
      "en.wikipedia.org (parse) Brian Jordan\n",
      "en.wikipedia.org (imageinfo) File:Brian Jordan.JPG\n",
      "Brian Jordan (en) data\n",
      "{\n",
      "  image: <list(1)> {'kind': 'parse-image', 'file': 'File:Brian Jor...\n",
      "  infobox: <dict(23)> name, image, position, bats, throws, birth_p...\n",
      "  pageid: 1741365\n",
      "  parsetree: <str(18206)> <root><template><title>about</title><par...\n",
      "  requests: <list(2)> parse, imageinfo\n",
      "  title: Brian Jordan\n",
      "  wikibase: Q4964252\n",
      "  wikidata_url: https://www.wikidata.org/wiki/Q4964252\n",
      "  wikitext: <str(10909)> {{about||the English footballer|Brian Jor...\n",
      "}\n"
     ]
    },
    {
     "name": "stdout",
     "output_type": "stream",
     "text": [
      "89\n"
     ]
    },
    {
     "name": "stderr",
     "output_type": "stream",
     "text": [
      "en.wikipedia.org (parse) Matt Kinzer\n",
      "Matt Kinzer (en) data\n",
      "{\n",
      "  infobox: <dict(22)> name, position, birth_date, birth_place, bat...\n",
      "  pageid: 10529390\n",
      "  parsetree: <str(9700)> <root><template><title>Infobox baseball b...\n",
      "  requests: <list(1)> parse\n",
      "  title: Matt Kinzer\n",
      "  wikibase: Q6788909\n",
      "  wikidata_url: https://www.wikidata.org/wiki/Q6788909\n",
      "  wikitext: <str(5623)> {{Infobox baseball biography|name        =...\n",
      "}\n"
     ]
    },
    {
     "name": "stdout",
     "output_type": "stream",
     "text": [
      "90\n"
     ]
    },
    {
     "name": "stderr",
     "output_type": "stream",
     "text": [
      "en.wikipedia.org (parse) Sandy Koufax\n",
      "en.wikipedia.org (imageinfo) File:Sandy Koufax.jpg\n",
      "Sandy Koufax (en) data\n",
      "{\n",
      "  image: <list(1)> {'kind': 'parse-image', 'file': 'File:Sandy Kou...\n",
      "  infobox: <dict(28)> name, image, caption, position, bats, throws...\n",
      "  iwlinks: <list(2)> https://commons.wikimedia.org/wiki/Category:S...\n",
      "  pageid: 84625\n",
      "  parsetree: <str(103569)> <root><template><title>short descriptio...\n",
      "  requests: <list(2)> parse, imageinfo\n",
      "  title: Sandy Koufax\n",
      "  wikibase: Q440256\n",
      "  wikidata_url: https://www.wikidata.org/wiki/Q440256\n",
      "  wikitext: <str(74402)> {{short description|American baseball pla...\n",
      "}\n"
     ]
    },
    {
     "name": "stdout",
     "output_type": "stream",
     "text": [
      "91\n"
     ]
    },
    {
     "name": "stderr",
     "output_type": "stream",
     "text": [
      "en.wikipedia.org (parse) Rick Leach (baseball)\n",
      "en.wikipedia.org (imageinfo) File:Rick Leach Michigan football 1975.png\n",
      "Rick Leach (baseball) (en) data\n",
      "{\n",
      "  image: <list(1)> {'kind': 'parse-image', 'file': 'File:Rick Leac...\n",
      "  infobox: <dict(23)> name, image, caption, position, bats, throws...\n",
      "  iwlinks: <list(1)> https://commons.wikimedia.org/wiki/Category:R...\n",
      "  pageid: 6327226\n",
      "  parsetree: <str(22127)> <root><template><title>short description...\n",
      "  requests: <list(2)> parse, imageinfo\n",
      "  title: Rick Leach (baseball)\n",
      "  wikibase: Q7331541\n",
      "  wikidata_url: https://www.wikidata.org/wiki/Q7331541\n",
      "  wikitext: <str(16391)> {{short description|American football and...\n",
      "}\n"
     ]
    },
    {
     "name": "stdout",
     "output_type": "stream",
     "text": [
      "92\n"
     ]
    },
    {
     "name": "stderr",
     "output_type": "stream",
     "text": [
      "en.wikipedia.org (parse) Kenny Lofton\n",
      "en.wikipedia.org (imageinfo) File:Kenny Lofton.jpg\n",
      "Kenny Lofton (en) data\n",
      "{\n",
      "  image: <list(1)> {'kind': 'parse-image', 'file': 'File:Kenny Lof...\n",
      "  infobox: <dict(27)> name, image, position, birth_place, bats, th...\n",
      "  pageid: 1264752\n",
      "  parsetree: <str(73945)> <root><template><title>short description...\n",
      "  requests: <list(2)> parse, imageinfo\n",
      "  title: Kenny Lofton\n",
      "  wikibase: Q970848\n",
      "  wikidata_url: https://www.wikidata.org/wiki/Q970848\n",
      "  wikitext: <str(59236)> {{short description|American baseball pla...\n",
      "}\n"
     ]
    },
    {
     "name": "stdout",
     "output_type": "stream",
     "text": [
      "93\n"
     ]
    },
    {
     "name": "stderr",
     "output_type": "stream",
     "text": [
      "en.wikipedia.org (parse) Don Lund\n",
      "en.wikipedia.org (imageinfo) File:DonLundbowman.jpg\n",
      "Don Lund (en) data\n",
      "{\n",
      "  image: <list(1)> {'kind': 'parse-image', 'file': 'File:DonLundbo...\n",
      "  infobox: <dict(23)> name, image, position, birth_place, death_pl...\n",
      "  pageid: 5206583\n",
      "  parsetree: <str(10248)> <root><template><title>Use mdy dates</ti...\n",
      "  requests: <list(2)> parse, imageinfo\n",
      "  title: Don Lund\n",
      "  wikibase: Q5293031\n",
      "  wikidata_url: https://www.wikidata.org/wiki/Q5293031\n",
      "  wikitext: <str(6216)> {{Use mdy dates|date=December 2013}}{{Info...\n",
      "}\n"
     ]
    },
    {
     "name": "stdout",
     "output_type": "stream",
     "text": [
      "94\n"
     ]
    },
    {
     "name": "stderr",
     "output_type": "stream",
     "text": [
      "en.wikipedia.org (parse) Joe Maddon\n",
      "en.wikipedia.org (imageinfo) File:2016-10-20 Joe Maddon before NL...\n",
      "Joe Maddon (en) data\n",
      "{\n",
      "  image: <list(1)> {'kind': 'parse-image', 'file': 'File:2016-10-2...\n",
      "  infobox: <dict(14)> name, image, caption, position, team, number...\n",
      "  iwlinks: <list(1)> https://commons.wikimedia.org/wiki/Category:J...\n",
      "  pageid: 3153351\n",
      "  parsetree: <str(64118)> <root><template><title>distinguish</titl...\n",
      "  requests: <list(2)> parse, imageinfo\n",
      "  title: Joe Maddon\n",
      "  wikibase: Q1093629\n",
      "  wikidata_url: https://www.wikidata.org/wiki/Q1093629\n",
      "  wikitext: <str(47715)> {{distinguish|Joel Madden|John Madden}}{{...\n",
      "}\n"
     ]
    },
    {
     "name": "stdout",
     "output_type": "stream",
     "text": [
      "95\n"
     ]
    },
    {
     "name": "stderr",
     "output_type": "stream",
     "text": [
      "en.wikipedia.org (parse) Juan Marichal\n",
      "en.wikipedia.org (imageinfo) File:Juan Marichal 2009.jpg\n",
      "Juan Marichal (en) data\n",
      "{\n",
      "  image: <list(1)> {'kind': 'parse-image', 'file': 'File:Juan Mari...\n",
      "  infobox: <dict(28)> name, image, caption, position, bats, throws...\n",
      "  iwlinks: <list(1)> https://commons.wikimedia.org/wiki/Category:J...\n",
      "  pageid: 780287\n",
      "  parsetree: <str(46802)> <root><template><title>For</title><part>...\n",
      "  requests: <list(2)> parse, imageinfo\n",
      "  title: Juan Marichal\n",
      "  wikibase: Q327386\n",
      "  wikidata_url: https://www.wikidata.org/wiki/Q327386\n",
      "  wikitext: <str(34755)> {{For|the Spanish-Canarian historian, lit...\n",
      "}\n"
     ]
    },
    {
     "name": "stdout",
     "output_type": "stream",
     "text": [
      "96\n"
     ]
    },
    {
     "name": "stderr",
     "output_type": "stream",
     "text": [
      "en.wikipedia.org (parse) Christy Mathewson\n",
      "en.wikipedia.org (imageinfo) File:Christy Mathewson2.jpg\n",
      "Christy Mathewson (en) data\n",
      "{\n",
      "  image: <list(1)> {'kind': 'parse-image', 'file': 'File:Christy M...\n",
      "  infobox: <dict(35)> name, image, width, caption, position, birth...\n",
      "  iwlinks: <list(1)> https://commons.wikimedia.org/wiki/Category:C...\n",
      "  pageid: 74130\n",
      "  parsetree: <str(52377)> <root><template><title>Short description...\n",
      "  requests: <list(2)> parse, imageinfo\n",
      "  title: Christy Mathewson\n",
      "  wikibase: Q73086\n",
      "  wikidata_url: https://www.wikidata.org/wiki/Q73086\n",
      "  wikitext: <str(37165)> {{Short description|American baseball pla...\n",
      "}\n"
     ]
    },
    {
     "name": "stdout",
     "output_type": "stream",
     "text": [
      "97\n"
     ]
    },
    {
     "name": "stderr",
     "output_type": "stream",
     "text": [
      "en.wikipedia.org (parse) Joe Mauer\n",
      "en.wikipedia.org (imageinfo) File:Joe Mauer in 2017 (34025539223).jpg\n",
      "Joe Mauer (en) data\n",
      "{\n",
      "  image: <list(1)> {'kind': 'parse-image', 'file': 'File:Joe Mauer...\n",
      "  infobox: <dict(27)> name, image, caption, position, birth_date, ...\n",
      "  iwlinks: <list(1)> https://commons.wikimedia.org/wiki/Category:J...\n",
      "  pageid: 885448\n",
      "  parsetree: <str(66507)> <root><template><title>short description...\n",
      "  requests: <list(2)> parse, imageinfo\n",
      "  title: Joe Mauer\n",
      "  wikibase: Q739917\n",
      "  wikidata_url: https://www.wikidata.org/wiki/Q739917\n",
      "  wikitext: <str(53117)> {{short description|American baseball pla...\n",
      "}\n"
     ]
    },
    {
     "name": "stdout",
     "output_type": "stream",
     "text": [
      "98\n"
     ]
    },
    {
     "name": "stderr",
     "output_type": "stream",
     "text": [
      "en.wikipedia.org (parse) Kirk McCaskill\n",
      "en.wikipedia.org (imageinfo) File:Kirk McCaskill California Angels.jpg\n",
      "Kirk McCaskill (en) data\n",
      "{\n",
      "  image: <list(1)> {'kind': 'parse-image', 'file': 'File:Kirk McCa...\n",
      "  infobox: <dict(22)> name, image, position, bats, throws, birth_p...\n",
      "  pageid: 3590072\n",
      "  parsetree: <str(10931)> <root><template><title>Infobox baseball ...\n",
      "  requests: <list(2)> parse, imageinfo\n",
      "  title: Kirk McCaskill\n",
      "  wikibase: Q6415489\n",
      "  wikidata_url: https://www.wikidata.org/wiki/Q6415489\n",
      "  wikitext: <str(7934)> {{Infobox baseball biography|name=Kirk McC...\n",
      "}\n"
     ]
    },
    {
     "name": "stdout",
     "output_type": "stream",
     "text": [
      "99\n"
     ]
    },
    {
     "name": "stderr",
     "output_type": "stream",
     "text": [
      "en.wikipedia.org (parse) Bill McWilliams\n",
      "Bill McWilliams (en) data\n",
      "{\n",
      "  infobox: <dict(21)> name, birth_place, death_place, bats, throws...\n",
      "  pageid: 13326246\n",
      "  parsetree: <str(4395)> <root><template><title>Infobox baseball b...\n",
      "  requests: <list(1)> parse\n",
      "  title: Bill McWilliams\n",
      "  wikibase: Q4910153\n",
      "  wikidata_url: https://www.wikidata.org/wiki/Q4910153\n",
      "  wikitext: <str(2033)> {{Infobox baseball biography|name=Bill McW...\n",
      "}\n"
     ]
    },
    {
     "name": "stdout",
     "output_type": "stream",
     "text": [
      "100\n"
     ]
    },
    {
     "name": "stderr",
     "output_type": "stream",
     "text": [
      "en.wikipedia.org (parse) Joe Morgan (manager)\n",
      "en.wikipedia.org (imageinfo) File:Walpole Joe Morgan.jpg\n",
      "Joe Morgan (manager) (en) data\n",
      "{\n",
      "  image: <list(1)> {'kind': 'parse-image', 'file': 'File:Walpole J...\n",
      "  infobox: <dict(21)> name, image, position, bats, throws, birth_p...\n",
      "  pageid: 2739732\n",
      "  parsetree: <str(25499)> <root><template><title>Infobox baseball ...\n",
      "  requests: <list(2)> parse, imageinfo\n",
      "  title: Joe Morgan (manager)\n",
      "  wikibase: Q6211436\n",
      "  wikidata_url: https://www.wikidata.org/wiki/Q6211436\n",
      "  wikitext: <str(17570)> {{Infobox baseball biography|name=Joe Mor...\n",
      "}\n"
     ]
    },
    {
     "name": "stdout",
     "output_type": "stream",
     "text": [
      "101\n"
     ]
    },
    {
     "name": "stderr",
     "output_type": "stream",
     "text": [
      "en.wikipedia.org (parse) Nyjer Morgan\n",
      "en.wikipedia.org (imageinfo) File:20130317 Nyjer Jamid Morgan, ou...\n",
      "Nyjer Morgan (en) data\n",
      "{\n",
      "  image: <list(1)> {'kind': 'parse-image', 'file': 'File:20130317 ...\n",
      "  infobox: <dict(53)> name, image, caption, position, bats, throws...\n",
      "  iwlinks: <list(1)> https://commons.wikimedia.org/wiki/Category:N...\n",
      "  pageid: 11740357\n",
      "  parsetree: <str(33962)> <root><template><title>short description...\n",
      "  requests: <list(2)> parse, imageinfo\n",
      "  title: Nyjer Morgan\n",
      "  wikibase: Q861733\n",
      "  wikidata_url: https://www.wikidata.org/wiki/Q861733\n",
      "  wikitext: <str(25654)> {{short description|American baseball pla...\n",
      "}\n"
     ]
    },
    {
     "name": "stdout",
     "output_type": "stream",
     "text": [
      "102\n"
     ]
    },
    {
     "name": "stderr",
     "output_type": "stream",
     "text": [
      "en.wikipedia.org (parse) Justin Morneau\n",
      "en.wikipedia.org (imageinfo) File:0923 398c Justin Morneau.jpg\n",
      "Justin Morneau (en) data\n",
      "{\n",
      "  image: <list(1)> {'kind': 'parse-image', 'file': 'File:0923 398c...\n",
      "  infobox: <dict(30)> name, image, image_size, caption, position, ...\n",
      "  iwlinks: <list(1)> https://commons.wikimedia.org/wiki/Category:J...\n",
      "  pageid: 1918652\n",
      "  parsetree: <str(40073)> <root><template><title>Use Canadian Engl...\n",
      "  requests: <list(2)> parse, imageinfo\n",
      "  title: Justin Morneau\n",
      "  wikibase: Q127585\n",
      "  wikidata_url: https://www.wikidata.org/wiki/Q127585\n",
      "  wikitext: <str(31836)> {{Use Canadian English|date=July 2015}}{{...\n",
      "}\n"
     ]
    },
    {
     "name": "stdout",
     "output_type": "stream",
     "text": [
      "103\n"
     ]
    },
    {
     "name": "stderr",
     "output_type": "stream",
     "text": [
      "en.wikipedia.org (parse) Kyle Parker\n",
      "en.wikipedia.org (imageinfo) File:Kyle Parker on July 4, 2014.jpg\n",
      "Kyle Parker (en) data\n",
      "{\n",
      "  image: <list(1)> {'kind': 'parse-image', 'file': 'File:Kyle Park...\n",
      "  infobox: <dict(24)> name, image, caption, position, birth_date, ...\n",
      "  pageid: 28016890\n",
      "  parsetree: <str(12568)> <root><template><title>about</title><par...\n",
      "  requests: <list(2)> parse, imageinfo\n",
      "  title: Kyle Parker\n",
      "  wikibase: Q6451344\n",
      "  wikidata_url: https://www.wikidata.org/wiki/Q6451344\n",
      "  wikitext: <str(8982)> {{about||the footballer|Kyle Parker (socce...\n",
      "}\n"
     ]
    },
    {
     "name": "stdout",
     "output_type": "stream",
     "text": [
      "104\n"
     ]
    },
    {
     "name": "stderr",
     "output_type": "stream",
     "text": [
      "en.wikipedia.org (parse) Cumberland Posey\n",
      "en.wikipedia.org (imageinfo) File:Cumberland Posey 1913.jpg\n",
      "Cumberland Posey (en) data\n",
      "{\n",
      "  image: <list(1)> {'kind': 'parse-image', 'file': 'File:Cumberlan...\n",
      "  infobox: <dict(14)> name, image, image_size, position, birth_dat...\n",
      "  pageid: 2631352\n",
      "  parsetree: <str(15838)> <root><template><title>more footnotes</t...\n",
      "  requests: <list(2)> parse, imageinfo\n",
      "  title: Cumberland Posey\n",
      "  wikibase: Q5193937\n",
      "  wikidata_url: https://www.wikidata.org/wiki/Q5193937\n",
      "  wikitext: <str(10717)> {{more footnotes|date=April 2016}}{{Infob...\n",
      "}\n"
     ]
    },
    {
     "name": "stdout",
     "output_type": "stream",
     "text": [
      "105\n"
     ]
    },
    {
     "name": "stderr",
     "output_type": "stream",
     "text": [
      "en.wikipedia.org (parse) Curtis Pride\n",
      "en.wikipedia.org (imageinfo) File:Council-member curtis pride.jpg\n",
      "Curtis Pride (en) data\n",
      "{\n",
      "  image: <list(1)> {'kind': 'parse-image', 'file': 'File:Council-m...\n",
      "  infobox: <dict(23)> name, image, caption, position, bats, throws...\n",
      "  pageid: 935779\n",
      "  parsetree: <str(13868)> <root><template><title>short description...\n",
      "  requests: <list(2)> parse, imageinfo\n",
      "  title: Curtis Pride\n",
      "  wikibase: Q5195860\n",
      "  wikidata_url: https://www.wikidata.org/wiki/Q5195860\n",
      "  wikitext: <str(9952)> {{short description|Deaf American baseball...\n",
      "}\n"
     ]
    },
    {
     "name": "stdout",
     "output_type": "stream",
     "text": [
      "106\n"
     ]
    },
    {
     "name": "stderr",
     "output_type": "stream",
     "text": [
      "en.wikipedia.org (parse) Ron Reed\n",
      "Ron Reed (en) data\n",
      "{\n",
      "  infobox: <dict(24)> name, position, bats, throws, birth_place, d...\n",
      "  pageid: 7752597\n",
      "  parsetree: <str(24742)> <root><template><title>Distinguish</titl...\n",
      "  requests: <list(1)> parse\n",
      "  title: Ron Reed\n",
      "  wikibase: Q3940982\n",
      "  wikidata_url: https://www.wikidata.org/wiki/Q3940982\n",
      "  wikitext: <str(17322)> {{Distinguish|Ronald Read (disambiguation...\n",
      "}\n"
     ]
    },
    {
     "name": "stdout",
     "output_type": "stream",
     "text": [
      "107\n"
     ]
    },
    {
     "name": "stderr",
     "output_type": "stream",
     "text": [
      "en.wikipedia.org (parse) Rick Rhoden\n",
      "en.wikipedia.org (imageinfo) File:Rick Rhoden New York Yankees.jpg\n",
      "Rick Rhoden (en) data\n",
      "{\n",
      "  image: <list(1)> {'kind': 'parse-image', 'file': 'File:Rick Rhod...\n",
      "  infobox: <dict(23)> name, image, position, bats, throws, birth_p...\n",
      "  pageid: 2803215\n",
      "  parsetree: <str(10366)> <root><template><title>use mdy dates</ti...\n",
      "  requests: <list(2)> parse, imageinfo\n",
      "  title: Rick Rhoden\n",
      "  wikibase: Q11348129\n",
      "  wikidata_url: https://www.wikidata.org/wiki/Q11348129\n",
      "  wikitext: <str(6953)> {{use mdy dates|date=October 2019}}{{Infob...\n",
      "}\n"
     ]
    },
    {
     "name": "stdout",
     "output_type": "stream",
     "text": [
      "108\n"
     ]
    },
    {
     "name": "stderr",
     "output_type": "stream",
     "text": [
      "en.wikipedia.org (parse) Dave Ricketts\n",
      "Dave Ricketts (en) data\n",
      "{\n",
      "  infobox: <dict(23)> name, position, bats, throws, birth_place, d...\n",
      "  pageid: 13103007\n",
      "  parsetree: <str(8905)> <root><template><title>Infobox baseball b...\n",
      "  requests: <list(1)> parse\n",
      "  title: Dave Ricketts\n",
      "  wikibase: Q16018257\n",
      "  wikidata_url: https://www.wikidata.org/wiki/Q16018257\n",
      "  wikitext: <str(5186)> {{Infobox baseball biography|name=Dave Ric...\n",
      "}\n"
     ]
    },
    {
     "name": "stdout",
     "output_type": "stream",
     "text": [
      "109\n"
     ]
    },
    {
     "name": "stderr",
     "output_type": "stream",
     "text": [
      "en.wikipedia.org (parse) Dick Ricketts\n",
      "Dick Ricketts (en) data\n",
      "{\n",
      "  infobox: <dict(32)> name, number, position, height_ft, height_in...\n",
      "  pageid: 8110868\n",
      "  parsetree: <str(23566)> <root><template><title>more footnotes</t...\n",
      "  requests: <list(1)> parse\n",
      "  title: Dick Ricketts\n",
      "  wikibase: Q1609464\n",
      "  wikidata_url: https://www.wikidata.org/wiki/Q1609464\n",
      "  wikitext: <str(15745)> {{more footnotes|date=November 2014}}{{In...\n",
      "}\n"
     ]
    },
    {
     "name": "stdout",
     "output_type": "stream",
     "text": [
      "110\n"
     ]
    },
    {
     "name": "stderr",
     "output_type": "stream",
     "text": [
      "en.wikipedia.org (parse) Robin Roberts (baseball)\n",
      "en.wikipedia.org (imageinfo) File:RobinRoberts.jpg\n",
      "Robin Roberts (baseball) (en) data\n",
      "{\n",
      "  image: <list(1)> {'kind': 'parse-image', 'file': 'File:RobinRobe...\n",
      "  infobox: <dict(28)> name, image, position, bats, throws, birth_p...\n",
      "  iwlinks: <list(1)> https://commons.wikimedia.org/wiki/Category:R...\n",
      "  pageid: 743874\n",
      "  parsetree: <str(32930)> <root><template><title>Use mdy dates</ti...\n",
      "  requests: <list(2)> parse, imageinfo\n",
      "  title: Robin Roberts (baseball)\n",
      "  wikibase: Q1185477\n",
      "  wikidata_url: https://www.wikidata.org/wiki/Q1185477\n",
      "  wikitext: <str(23953)> {{Use mdy dates|date=January 2019}}{{Info...\n",
      "}\n"
     ]
    },
    {
     "name": "stdout",
     "output_type": "stream",
     "text": [
      "111\n"
     ]
    },
    {
     "name": "stderr",
     "output_type": "stream",
     "text": [
      "en.wikipedia.org (parse) Jackie Robinson\n",
      "en.wikipedia.org (imageinfo) File:Jackie Robinson, Brooklyn Dodge...\n",
      "Jackie Robinson (en) data\n",
      "{\n",
      "  image: <list(1)> {'kind': 'parse-image', 'file': 'File:Jackie Ro...\n",
      "  infobox: <dict(30)> name, image, caption, position, bats, throws...\n",
      "  iwlinks: <list(2)> https://commons.wikimedia.org/wiki/Category:J...\n",
      "  pageid: 16193\n",
      "  parsetree: <str(204316)> <root><template><title>Other people</ti...\n",
      "  requests: <list(2)> parse, imageinfo\n",
      "  title: Jackie Robinson\n",
      "  wikibase: Q221048\n",
      "  wikidata_url: https://www.wikidata.org/wiki/Q221048\n",
      "  wikitext: <str(154060)> {{Other people}}{{pp-semi-protected|smal...\n",
      "}\n"
     ]
    },
    {
     "name": "stdout",
     "output_type": "stream",
     "text": [
      "112\n"
     ]
    },
    {
     "name": "stderr",
     "output_type": "stream",
     "text": [
      "en.wikipedia.org (parse) Jeff Samardzija\n",
      "en.wikipedia.org (imageinfo) File:Jeff Samardzija 2018.jpg\n",
      "Jeff Samardzija (en) data\n",
      "{\n",
      "  image: <list(1)> {'kind': 'parse-image', 'file': 'File:Jeff Sama...\n",
      "  infobox: <dict(25)> name, image, image_size, caption, team, numb...\n",
      "  iwlinks: <list(1)> https://commons.wikimedia.org/wiki/Category:J...\n",
      "  pageid: 3090127\n",
      "  parsetree: <str(37952)> <root><template><title>Use mdy dates</ti...\n",
      "  requests: <list(2)> parse, imageinfo\n",
      "  title: Jeff Samardzija\n",
      "  wikibase: Q3176584\n",
      "  wikidata_url: https://www.wikidata.org/wiki/Q3176584\n",
      "  wikitext: <str(30577)> {{Use mdy dates|date=February 2017}}{{Inf...\n",
      "}\n"
     ]
    },
    {
     "name": "stdout",
     "output_type": "stream",
     "text": [
      "113\n"
     ]
    },
    {
     "name": "stderr",
     "output_type": "stream",
     "text": [
      "en.wikipedia.org (parse) Ryne Sandberg\n",
      "en.wikipedia.org (imageinfo) File:Pic of ryne sandberg from the e...\n",
      "Ryne Sandberg (en) data\n",
      "{\n",
      "  image: <list(1)> {'kind': 'parse-image', 'file': \"File:Pic of ry...\n",
      "  infobox: <dict(36)> name, image, image_size, caption, position, ...\n",
      "  iwlinks: <list(1)> https://commons.wikimedia.org/wiki/Category:R...\n",
      "  pageid: 303018\n",
      "  parsetree: <str(46647)> <root><template><title>Infobox baseball ...\n",
      "  requests: <list(2)> parse, imageinfo\n",
      "  title: Ryne Sandberg\n",
      "  wikibase: Q3453949\n",
      "  wikidata_url: https://www.wikidata.org/wiki/Q3453949\n",
      "  wikitext: <str(33675)> {{Infobox baseball biography|name        ...\n",
      "}\n"
     ]
    },
    {
     "name": "stdout",
     "output_type": "stream",
     "text": [
      "114\n"
     ]
    },
    {
     "name": "stderr",
     "output_type": "stream",
     "text": [
      "en.wikipedia.org (parse) Kevan Smith (baseball)\n",
      "en.wikipedia.org (imageinfo) File:Kevan Smith (32885482087) (crop...\n",
      "Kevan Smith (baseball) (en) data\n",
      "{\n",
      "  image: <list(1)> {'kind': 'parse-image', 'file': 'File:Kevan Smi...\n",
      "  infobox: <dict(21)> name, image, caption, team, position, bats, ...\n",
      "  pageid: 44195830\n",
      "  parsetree: <str(17842)> <root><template><title>short description...\n",
      "  requests: <list(2)> parse, imageinfo\n",
      "  title: Kevan Smith (baseball)\n",
      "  wikibase: Q18387857\n",
      "  wikidata_url: https://www.wikidata.org/wiki/Q18387857\n",
      "  wikitext: <str(13036)> {{short description|American baseball pla...\n",
      "}\n"
     ]
    },
    {
     "name": "stdout",
     "output_type": "stream",
     "text": [
      "115\n"
     ]
    },
    {
     "name": "stderr",
     "output_type": "stream",
     "text": [
      "en.wikipedia.org (parse) Rico Brogna\n",
      "Rico Brogna (en) data\n",
      "{\n",
      "  infobox: <dict(22)> name, position, bats, throws, birth_date, bi...\n",
      "  pageid: 6275327\n",
      "  parsetree: <str(14471)> <root><template><title>short description...\n",
      "  requests: <list(1)> parse\n",
      "  title: Rico Brogna\n",
      "  wikibase: Q7332249\n",
      "  wikidata_url: https://www.wikidata.org/wiki/Q7332249\n",
      "  wikitext: <str(9615)> {{short description|American baseball play...\n",
      "}\n"
     ]
    },
    {
     "name": "stdout",
     "output_type": "stream",
     "text": [
      "116\n"
     ]
    },
    {
     "name": "stderr",
     "output_type": "stream",
     "text": [
      "en.wikipedia.org (parse) Tim Stoddard\n",
      "Tim Stoddard (en) data\n",
      "{\n",
      "  infobox: <dict(23)> name, position, bats, throws, birth_place, d...\n",
      "  pageid: 6024369\n",
      "  parsetree: <str(18772)> <root><template><title>BLP sources</titl...\n",
      "  requests: <list(1)> parse\n",
      "  title: Tim Stoddard\n",
      "  wikibase: Q7804342\n",
      "  wikidata_url: https://www.wikidata.org/wiki/Q7804342\n",
      "  wikitext: <str(13666)> {{BLP sources|date=January 2008}}{{Infobo...\n",
      "}\n"
     ]
    },
    {
     "name": "stdout",
     "output_type": "stream",
     "text": [
      "117\n"
     ]
    },
    {
     "name": "stderr",
     "output_type": "stream",
     "text": [
      "en.wikipedia.org (parse) Matt Szczur\n",
      "en.wikipedia.org (imageinfo) File:Matt Szczur 1557.jpg\n",
      "Matt Szczur (en) data\n",
      "{\n",
      "  image: <list(1)> {'kind': 'parse-image', 'file': 'File:Matt Szcz...\n",
      "  infobox: <dict(23)> name, image, caption, team, position, bats, ...\n",
      "  iwlinks: <list(1)> https://commons.wikimedia.org/wiki/Category:M...\n",
      "  pageid: 27661865\n",
      "  parsetree: <str(18874)> <root><template><title>Use mdy dates</ti...\n",
      "  requests: <list(2)> parse, imageinfo\n",
      "  title: Matt Szczur\n",
      "  wikibase: Q6789407\n",
      "  wikidata_url: https://www.wikidata.org/wiki/Q6789407\n",
      "  wikitext: <str(13762)> {{Use mdy dates|date=March 2015}}{{Infobo...\n",
      "}\n"
     ]
    },
    {
     "name": "stdout",
     "output_type": "stream",
     "text": [
      "118\n"
     ]
    },
    {
     "name": "stderr",
     "output_type": "stream",
     "text": [
      "en.wikipedia.org (parse) Ralph Terry\n",
      "en.wikipedia.org (imageinfo) File:Ralph Terry.jpg\n",
      "Ralph Terry (en) data\n",
      "{\n",
      "  image: <list(1)> {'kind': 'parse-image', 'file': 'File:Ralph Ter...\n",
      "  infobox: <dict(23)> name, image, position, bats, throws, birth_p...\n",
      "  pageid: 609292\n",
      "  parsetree: <str(13492)> <root><template><title>Infobox baseball ...\n",
      "  requests: <list(2)> parse, imageinfo\n",
      "  title: Ralph Terry\n",
      "  wikibase: Q4357583\n",
      "  wikidata_url: https://www.wikidata.org/wiki/Q4357583\n",
      "  wikitext: <str(9235)> {{Infobox baseball biography|name=Ralph Te...\n",
      "}\n"
     ]
    },
    {
     "name": "stdout",
     "output_type": "stream",
     "text": [
      "119\n"
     ]
    },
    {
     "name": "stderr",
     "output_type": "stream",
     "text": [
      "en.wikipedia.org (parse) Frank Thomas (designated hitter)\n",
      "en.wikipedia.org (imageinfo) File:Frank Thomas, Future Hall-of-Fa...\n",
      "Frank Thomas (designated hitter) (en) data\n",
      "{\n",
      "  image: <list(1)> {'kind': 'parse-image', 'file': 'File:Frank Tho...\n",
      "  infobox: <dict(31)> name, image, caption, width, position, bats,...\n",
      "  iwlinks: <list(1)> https://commons.wikimedia.org/wiki/Category:F...\n",
      "  pageid: 372723\n",
      "  parsetree: <str(56779)> <root><template><title>For</title><part>...\n",
      "  requests: <list(2)> parse, imageinfo\n",
      "  title: Frank Thomas (designated hitter)\n",
      "  wikibase: Q3082840\n",
      "  wikidata_url: https://www.wikidata.org/wiki/Q3082840\n",
      "  wikitext: <str(46243)> {{For|the National League player|Frank Th...\n",
      "}\n"
     ]
    },
    {
     "name": "stdout",
     "output_type": "stream",
     "text": [
      "120\n"
     ]
    },
    {
     "name": "stderr",
     "output_type": "stream",
     "text": [
      "en.wikipedia.org (parse) Rube Waddell\n",
      "en.wikipedia.org (imageinfo) File:Waddell.jpg\n",
      "Rube Waddell (en) data\n",
      "{\n",
      "  image: <list(1)> {'kind': 'parse-image', 'file': 'File:Waddell.j...\n",
      "  infobox: <dict(29)> name, position, image, caption, birth_place,...\n",
      "  iwlinks: <list(1)> https://commons.wikimedia.org/wiki/Category:R...\n",
      "  pageid: 639356\n",
      "  parsetree: <str(27397)> <root><template><title>Infobox baseball ...\n",
      "  requests: <list(2)> parse, imageinfo\n",
      "  title: Rube Waddell\n",
      "  wikibase: Q326234\n",
      "  wikidata_url: https://www.wikidata.org/wiki/Q326234\n",
      "  wikitext: <str(21460)> {{Infobox baseball biography | name=Rube ...\n",
      "}\n"
     ]
    },
    {
     "name": "stdout",
     "output_type": "stream",
     "text": [
      "121\n"
     ]
    },
    {
     "name": "stderr",
     "output_type": "stream",
     "text": [
      "en.wikipedia.org (parse) Herb Washington\n",
      "en.wikipedia.org (imageinfo) File:Herb Washington 1974.jpg\n",
      "Herb Washington (en) data\n",
      "{\n",
      "  image: <list(1)> {'kind': 'parse-image', 'file': 'File:Herb Wash...\n",
      "  infobox: <dict(28)> name, image, image_size, caption, position, ...\n",
      "  pageid: 892711\n",
      "  parsetree: <str(15990)> <root><template><title>Use mdy dates</ti...\n",
      "  requests: <list(2)> parse, imageinfo\n",
      "  title: Herb Washington\n",
      "  wikibase: Q2908047\n",
      "  wikidata_url: https://www.wikidata.org/wiki/Q2908047\n",
      "  wikitext: <str(12027)> {{Use mdy dates|date=September 2017}}{{In...\n",
      "}\n"
     ]
    },
    {
     "name": "stdout",
     "output_type": "stream",
     "text": [
      "122\n"
     ]
    },
    {
     "name": "stderr",
     "output_type": "stream",
     "text": [
      "en.wikipedia.org (parse) Dave Winfield\n",
      "en.wikipedia.org (imageinfo) File:DaveWinfieldbyMarioCasciano.jpg\n",
      "Dave Winfield (en) data\n",
      "{\n",
      "  image: <list(1)> {'kind': 'parse-image', 'file': 'File:DaveWinfi...\n",
      "  infobox: <dict(30)> name, image, caption, position, bats, throws...\n",
      "  iwlinks: <list(3)> https://commons.wikimedia.org/wiki/Category:D...\n",
      "  pageid: 102799\n",
      "  parsetree: <str(54734)> <root><template><title>short description...\n",
      "  requests: <list(2)> parse, imageinfo\n",
      "  title: Dave Winfield\n",
      "  wikibase: Q1173396\n",
      "  wikidata_url: https://www.wikidata.org/wiki/Q1173396\n",
      "  wikitext: <str(39884)> {{short description|American baseball pla...\n",
      "}\n"
     ]
    },
    {
     "name": "stdout",
     "output_type": "stream",
     "text": [
      "123\n"
     ]
    },
    {
     "name": "stderr",
     "output_type": "stream",
     "text": [
      "en.wikipedia.org (parse) Danny Ainge\n",
      "en.wikipedia.org (imageinfo) File:Danny, calm as always.jpg\n",
      "Danny Ainge (en) data\n",
      "{\n",
      "  image: <list(1)> {'kind': 'parse-image', 'file': 'File:Danny, ca...\n",
      "  infobox: <dict(41)> name, image, caption, position, team, league...\n",
      "  iwlinks: <list(1)> https://commons.wikimedia.org/wiki/Category:B...\n",
      "  pageid: 378597\n",
      "  parsetree: <str(43503)> <root><template><title>short description...\n",
      "  requests: <list(2)> parse, imageinfo\n",
      "  title: Danny Ainge\n",
      "  wikibase: Q918347\n",
      "  wikidata_url: https://www.wikidata.org/wiki/Q918347\n",
      "  wikitext: <str(30394)> {{short description|American basketball e...\n",
      "}\n"
     ]
    },
    {
     "name": "stdout",
     "output_type": "stream",
     "text": [
      "124\n"
     ]
    },
    {
     "name": "stderr",
     "output_type": "stream",
     "text": [
      "en.wikipedia.org (parse) Dean Brogan\n",
      "en.wikipedia.org (imageinfo) File:Dean Brogan Port Power.JPG\n",
      "Dean Brogan (en) data\n",
      "{\n",
      "  image: <list(1)> {'kind': 'parse-image', 'file': 'File:Dean Brog...\n",
      "  infobox: <dict(21)> name, image, image_size, fullname, nickname,...\n",
      "  iwlinks: <list(1)> https://commons.wikimedia.org/wiki/Category:D...\n",
      "  pageid: 5502180\n",
      "  parsetree: <str(20051)> <root><template><title>Use Australian En...\n",
      "  requests: <list(2)> parse, imageinfo\n",
      "  title: Dean Brogan\n",
      "  wikibase: Q5246029\n",
      "  wikidata_url: https://www.wikidata.org/wiki/Q5246029\n",
      "  wikitext: <str(14277)> {{Use Australian English|date=September 2...\n",
      "}\n"
     ]
    },
    {
     "name": "stdout",
     "output_type": "stream",
     "text": [
      "125\n"
     ]
    },
    {
     "name": "stderr",
     "output_type": "stream",
     "text": [
      "en.wikipedia.org (parse) Chase Budinger\n",
      "en.wikipedia.org (imageinfo) File:Chase Budinger vsStanford.jpg\n",
      "Chase Budinger (en) data\n",
      "{\n",
      "  image: <list(1)> {'kind': 'parse-image', 'file': 'File:Chase Bud...\n",
      "  infobox: <dict(30)> name, image, caption, position, height_ft, h...\n",
      "  pageid: 8445147\n",
      "  parsetree: <str(27929)> <root><template><title>Use mdy dates</ti...\n",
      "  requests: <list(2)> parse, imageinfo\n",
      "  title: Chase Budinger\n",
      "  wikibase: Q286765\n",
      "  wikidata_url: https://www.wikidata.org/wiki/Q286765\n",
      "  wikitext: <str(20654)> {{Use mdy dates|date=January 2019}}{{Info...\n",
      "}\n"
     ]
    },
    {
     "name": "stdout",
     "output_type": "stream",
     "text": [
      "126\n"
     ]
    },
    {
     "name": "stderr",
     "output_type": "stream",
     "text": [
      "en.wikipedia.org (parse) Scott Burrell\n",
      "Scott Burrell (en) data\n",
      "{\n",
      "  infobox: <dict(50)> name, position, league, team, height_ft, hei...\n",
      "  pageid: 4251777\n",
      "  parsetree: <str(14540)> <root><template><title>BLP sources</titl...\n",
      "  requests: <list(1)> parse\n",
      "  title: Scott Burrell\n",
      "  wikibase: Q2532704\n",
      "  wikidata_url: https://www.wikidata.org/wiki/Q2532704\n",
      "  wikitext: <str(8748)> {{BLP sources|date=January 2011}}{{Infobox...\n",
      "}\n"
     ]
    },
    {
     "name": "stdout",
     "output_type": "stream",
     "text": [
      "127\n"
     ]
    },
    {
     "name": "stderr",
     "output_type": "stream",
     "text": [
      "en.wikipedia.org (parse) Wilt Chamberlain\n",
      "en.wikipedia.org (imageinfo) File:Wilt Chamberlain3.jpg\n",
      "Wilt Chamberlain (en) data\n",
      "{\n",
      "  image: <list(1)> {'kind': 'parse-image', 'file': 'File:Wilt Cham...\n",
      "  infobox: <dict(44)> name, image, caption, position, height_ft, h...\n",
      "  iwlinks: <list(3)> https://commons.wikimedia.org/wiki/category:W...\n",
      "  pageid: 255645\n",
      "  parsetree: <str(185963)> <root><template><title>short descriptio...\n",
      "  requests: <list(2)> parse, imageinfo\n",
      "  title: Wilt Chamberlain\n",
      "  wikibase: Q182455\n",
      "  wikidata_url: https://www.wikidata.org/wiki/Q182455\n",
      "  wikitext: <str(144375)> {{short description|American basketball ...\n",
      "}\n"
     ]
    },
    {
     "name": "stdout",
     "output_type": "stream",
     "text": [
      "128\n"
     ]
    },
    {
     "name": "stderr",
     "output_type": "stream",
     "text": [
      "en.wikipedia.org (parse) Gene Conley\n",
      "en.wikipedia.org (imageinfo) File:Gene Conley - Boston Red Sox - ...\n",
      "Gene Conley (en) data\n",
      "{\n",
      "  image: <list(1)> {'kind': 'parse-image', 'file': 'File:Gene Conl...\n",
      "  infobox: <dict(25)> name, image, caption, position, bats, throws...\n",
      "  pageid: 1326010\n",
      "  parsetree: <str(34623)> <root><template><title>Infobox baseball ...\n",
      "  requests: <list(2)> parse, imageinfo\n",
      "  title: Gene Conley\n",
      "  wikibase: Q2736194\n",
      "  wikidata_url: https://www.wikidata.org/wiki/Q2736194\n",
      "  wikitext: <str(23963)> {{Infobox baseball biography|name=Gene Co...\n",
      "}\n"
     ]
    },
    {
     "name": "stdout",
     "output_type": "stream",
     "text": [
      "129\n"
     ]
    },
    {
     "name": "stderr",
     "output_type": "stream",
     "text": [
      "en.wikipedia.org (parse) Nathaniel Clifton\n",
      "en.wikipedia.org (imageinfo) File:Nathaniel Clifton.jpg\n",
      "Nathaniel Clifton (en) data\n",
      "{\n",
      "  image: <list(1)> {'kind': 'parse-image', 'file': 'File:Nathaniel...\n",
      "  infobox: <dict(36)> name, image, position, number, height_ft, he...\n",
      "  pageid: 2057600\n",
      "  parsetree: <str(16882)> <root><template><title>Use mdy dates</ti...\n",
      "  requests: <list(2)> parse, imageinfo\n",
      "  title: Nathaniel Clifton\n",
      "  wikibase: Q1381221\n",
      "  wikidata_url: https://www.wikidata.org/wiki/Q1381221\n",
      "  wikitext: <str(11719)> {{Use mdy dates|date=January 2019}}{{more...\n",
      "}\n"
     ]
    },
    {
     "name": "stdout",
     "output_type": "stream",
     "text": [
      "130\n"
     ]
    },
    {
     "name": "stderr",
     "output_type": "stream",
     "text": [
      "en.wikipedia.org (parse) Pat Connaughton\n",
      "en.wikipedia.org (imageinfo) File:Pat Connaughton crop.jpg\n",
      "Pat Connaughton (en) data\n",
      "{\n",
      "  image: <list(1)> {'kind': 'parse-image', 'file': 'File:Pat Conna...\n",
      "  infobox: <dict(27)> name, image, caption, position, height_ft, h...\n",
      "  pageid: 43045429\n",
      "  parsetree: <str(30822)> <root><template><title>short description...\n",
      "  requests: <list(2)> parse, imageinfo\n",
      "  title: Pat Connaughton\n",
      "  wikibase: Q17180552\n",
      "  wikidata_url: https://www.wikidata.org/wiki/Q17180552\n",
      "  wikitext: <str(22376)> {{short description|American basketball a...\n",
      "}\n"
     ]
    },
    {
     "name": "stdout",
     "output_type": "stream",
     "text": [
      "131\n"
     ]
    },
    {
     "name": "stderr",
     "output_type": "stream",
     "text": [
      "en.wikipedia.org (parse) Dave DeBusschere\n",
      "en.wikipedia.org (imageinfo) File:Dave DeBusschere.jpeg\n",
      "Dave DeBusschere (en) data\n",
      "{\n",
      "  image: <list(1)> {'kind': 'parse-image', 'file': 'File:Dave DeBu...\n",
      "  infobox: <dict(38)> name, image, image_size, caption, height_ft,...\n",
      "  pageid: 227165\n",
      "  parsetree: <str(30268)> <root><template><title>short description...\n",
      "  requests: <list(2)> parse, imageinfo\n",
      "  title: Dave DeBusschere\n",
      "  wikibase: Q918916\n",
      "  wikidata_url: https://www.wikidata.org/wiki/Q918916\n",
      "  wikitext: <str(19640)> {{short description|American basketball p...\n",
      "}\n"
     ]
    },
    {
     "name": "stdout",
     "output_type": "stream",
     "text": [
      "132\n"
     ]
    },
    {
     "name": "stderr",
     "output_type": "stream",
     "text": [
      "en.wikipedia.org (parse) Elena Delle Donne\n",
      "en.wikipedia.org (imageinfo) File:20140814 Elena Delle Donne 2.jpg\n",
      "Elena Delle Donne (en) data\n",
      "{\n",
      "  image: <list(1)> {'kind': 'parse-image', 'file': 'File:20140814 ...\n",
      "  infobox: <dict(29)> name, image, caption, number, position, heig...\n",
      "  iwlinks: <list(1)> https://commons.wikimedia.org/wiki/Special:Se...\n",
      "  pageid: 3754541\n",
      "  parsetree: <str(72982)> <root><template><title>short description...\n",
      "  requests: <list(2)> parse, imageinfo\n",
      "  title: Elena Delle Donne\n",
      "  wikibase: Q2113902\n",
      "  wikidata_url: https://www.wikidata.org/wiki/Q2113902\n",
      "  wikitext: <str(57305)> {{short description|American basketball p...\n",
      "}\n"
     ]
    },
    {
     "name": "stdout",
     "output_type": "stream",
     "text": [
      "133\n"
     ]
    },
    {
     "name": "stderr",
     "output_type": "stream",
     "text": [
      "en.wikipedia.org (parse) Tim Duncan\n",
      "en.wikipedia.org (imageinfo) File:Tim Duncan.jpg\n",
      "Tim Duncan (en) data\n",
      "{\n",
      "  image: <list(1)> {'kind': 'parse-image', 'file': 'File:Tim Dunca...\n",
      "  infobox: <dict(38)> name, image, caption, height_ft, height_in, ...\n",
      "  iwlinks: <list(2)> https://commons.wikimedia.org/wiki/Special:Se...\n",
      "  pageid: 221812\n",
      "  parsetree: <str(139176)> <root><template><title>about</title><pa...\n",
      "  requests: <list(2)> parse, imageinfo\n",
      "  title: Tim Duncan\n",
      "  wikibase: Q193020\n",
      "  wikidata_url: https://www.wikidata.org/wiki/Q193020\n",
      "  wikitext: <str(109133)> {{about|the American basketball player|t...\n",
      "}\n"
     ]
    },
    {
     "name": "stdout",
     "output_type": "stream",
     "text": [
      "134\n"
     ]
    },
    {
     "name": "stderr",
     "output_type": "stream",
     "text": [
      "en.wikipedia.org (parse) Joel Embiid\n",
      "en.wikipedia.org (imageinfo) File:Joel Embiid crop.jpg\n",
      "Joel Embiid (en) data\n",
      "{\n",
      "  image: <list(1)> {'kind': 'parse-image', 'file': 'File:Joel Embi...\n",
      "  infobox: <dict(26)> name, image, caption, position, height_ft, h...\n",
      "  iwlinks: <list(1)> https://commons.wikimedia.org/wiki/Category:J...\n",
      "  pageid: 40944797\n",
      "  parsetree: <str(59173)> <root><template><title>pp-blp</title><pa...\n",
      "  requests: <list(2)> parse, imageinfo\n",
      "  title: Joel Embiid\n",
      "  wikibase: Q15920046\n",
      "  wikidata_url: https://www.wikidata.org/wiki/Q15920046\n",
      "  wikitext: <str(45508)> {{pp-blp|small=yes}}{{EngvarB|date=August...\n",
      "}\n"
     ]
    },
    {
     "name": "stdout",
     "output_type": "stream",
     "text": [
      "135\n"
     ]
    },
    {
     "name": "stderr",
     "output_type": "stream",
     "text": [
      "en.wikipedia.org (parse) John Havlicek\n",
      "en.wikipedia.org (imageinfo) File:John Havliceck, Boston Celtics,...\n",
      "John Havlicek (en) data\n",
      "{\n",
      "  image: <list(1)> {'kind': 'parse-image', 'file': 'File:John Havl...\n",
      "  infobox: <dict(34)> name, width, image, caption, birth_date, bir...\n",
      "  iwlinks: <list(2)> https://commons.wikimedia.org/wiki/Category:B...\n",
      "  pageid: 1091531\n",
      "  parsetree: <str(49083)> <root><template><title>short description...\n",
      "  requests: <list(2)> parse, imageinfo\n",
      "  title: John Havlicek\n",
      "  wikibase: Q71127\n",
      "  wikidata_url: https://www.wikidata.org/wiki/Q71127\n",
      "  wikitext: <str(29193)> {{short description|American basketball p...\n",
      "}\n"
     ]
    },
    {
     "name": "stdout",
     "output_type": "stream",
     "text": [
      "136\n"
     ]
    },
    {
     "name": "stderr",
     "output_type": "stream",
     "text": [
      "en.wikipedia.org (parse) Kris Humphries\n",
      "en.wikipedia.org (imageinfo) File:Kris Humphries (33696753930).jpg\n",
      "Kris Humphries (en) data\n",
      "{\n",
      "  image: <list(1)> {'kind': 'parse-image', 'file': 'File:Kris Hump...\n",
      "  infobox: <dict(45)> name, image, caption, height_ft, height_in, ...\n",
      "  pageid: 2312705\n",
      "  parsetree: <str(41498)> <root><template><title>other people5</ti...\n",
      "  requests: <list(2)> parse, imageinfo\n",
      "  title: Kris Humphries\n",
      "  wikibase: Q363421\n",
      "  wikidata_url: https://www.wikidata.org/wiki/Q363421\n",
      "  wikitext: <str(30084)> {{other people5|Chris Humphries (disambig...\n",
      "}\n"
     ]
    },
    {
     "name": "stdout",
     "output_type": "stream",
     "text": [
      "137\n"
     ]
    },
    {
     "name": "stderr",
     "output_type": "stream",
     "text": [
      "en.wikipedia.org (parse) Allen Iverson\n",
      "en.wikipedia.org (imageinfo) File:Allen Iverson headshot.jpg\n",
      "Allen Iverson (en) data\n",
      "{\n",
      "  image: <list(1)> {'kind': 'parse-image', 'file': 'File:Allen Ive...\n",
      "  infobox: <dict(42)> name, image, height_ft, height_in, weight_lb...\n",
      "  iwlinks: <list(2)> https://commons.wikimedia.org/wiki/Category:A...\n",
      "  pageid: 305473\n",
      "  parsetree: <str(106082)> <root><template><title>pp-blp</title><p...\n",
      "  requests: <list(2)> parse, imageinfo\n",
      "  title: Allen Iverson\n",
      "  wikibase: Q190094\n",
      "  wikidata_url: https://www.wikidata.org/wiki/Q190094\n",
      "  wikitext: <str(84295)> {{pp-blp|small=yes}}{{Use American Englis...\n",
      "}\n"
     ]
    },
    {
     "name": "stdout",
     "output_type": "stream",
     "text": [
      "138\n"
     ]
    },
    {
     "name": "stderr",
     "output_type": "stream",
     "text": [
      "en.wikipedia.org (parse) Michael Jordan\n",
      "en.wikipedia.org (imageinfo) File:Michael Jordan in 2014.jpg\n",
      "Michael Jordan (en) data\n",
      "{\n",
      "  image: <list(1)> {'kind': 'parse-image', 'file': 'File:Michael J...\n",
      "  infobox: <dict(38)> name, image, caption, team, league, position...\n",
      "  iwlinks: <list(3)> https://commons.wikimedia.org/wiki/Category:M...\n",
      "  pageid: 20455\n",
      "  parsetree: <str(207746)> <root><template><title>pp-move-indef</t...\n",
      "  requests: <list(2)> parse, imageinfo\n",
      "  title: Michael Jordan\n",
      "  wikibase: Q41421\n",
      "  wikidata_url: https://www.wikidata.org/wiki/Q41421\n",
      "  wikitext: <str(155642)> {{pp-move-indef}}{{short description|Ame...\n",
      "}\n"
     ]
    },
    {
     "name": "stdout",
     "output_type": "stream",
     "text": [
      "139\n"
     ]
    },
    {
     "name": "stderr",
     "output_type": "stream",
     "text": [
      "en.wikipedia.org (parse) Greg Lee (basketball)\n",
      "en.wikipedia.org (imageinfo) File:Greg Lee shooting.png\n",
      "Greg Lee (basketball) (en) data\n",
      "{\n",
      "  image: <list(1)> {'kind': 'parse-image', 'file': 'File:Greg Lee ...\n",
      "  infobox: <dict(25)> name, image, caption, position, height_ft, h...\n",
      "  iwlinks: <list(1)> https://commons.wikimedia.org/wiki/Special:Se...\n",
      "  pageid: 32641224\n",
      "  parsetree: <str(15263)> <root><template><title>Infobox basketbal...\n",
      "  requests: <list(2)> parse, imageinfo\n",
      "  title: Greg Lee (basketball)\n",
      "  wikibase: Q3776426\n",
      "  wikidata_url: https://www.wikidata.org/wiki/Q3776426\n",
      "  wikitext: <str(11567)> {{Infobox basketball biography| name     ...\n",
      "}\n"
     ]
    },
    {
     "name": "stdout",
     "output_type": "stream",
     "text": [
      "140\n"
     ]
    },
    {
     "name": "stderr",
     "output_type": "stream",
     "text": [
      "en.wikipedia.org (parse) John Lucas II\n",
      "en.wikipedia.org (imageinfo) File:John Lucas II.jpg\n",
      "John Lucas II (en) data\n",
      "{\n",
      "  image: <list(1)> {'kind': 'parse-image', 'file': 'File:John Luca...\n",
      "  infobox: <dict(69)> name, image, height_ft, height_in, weight_lb...\n",
      "  pageid: 30864579\n",
      "  parsetree: <str(27706)> <root><template><title>short description...\n",
      "  requests: <list(2)> parse, imageinfo\n",
      "  title: John Lucas II\n",
      "  wikibase: Q2325022\n",
      "  wikidata_url: https://www.wikidata.org/wiki/Q2325022\n",
      "  wikitext: <str(15925)> {{short description|American basketball p...\n",
      "}\n"
     ]
    },
    {
     "name": "stdout",
     "output_type": "stream",
     "text": [
      "141\n"
     ]
    },
    {
     "name": "stderr",
     "output_type": "stream",
     "text": [
      "en.wikipedia.org (parse) Mickey McCarty\n",
      "Mickey McCarty (en) data\n",
      "{\n",
      "  infobox: <dict(10)> name, birth_place, Position, College, Drafte...\n",
      "  pageid: 35975723\n",
      "  parsetree: <str(3951)> <root><template><title>short description<...\n",
      "  requests: <list(1)> parse\n",
      "  title: Mickey McCarty\n",
      "  wikibase: Q14950831\n",
      "  wikidata_url: https://www.wikidata.org/wiki/Q14950831\n",
      "  wikitext: <str(2046)> {{short description|American football tigh...\n",
      "}\n"
     ]
    },
    {
     "name": "stdout",
     "output_type": "stream",
     "text": [
      "142\n"
     ]
    },
    {
     "name": "stderr",
     "output_type": "stream",
     "text": [
      "en.wikipedia.org (parse) Cotton Nash\n",
      "en.wikipedia.org (imageinfo) File:Cotton Nash Kentucky.jpg\n",
      "Cotton Nash (en) data\n",
      "{\n",
      "  image: <list(1)> {'kind': 'parse-image', 'file': 'File:Cotton Na...\n",
      "  infobox: <dict(33)> name, image, number, position, height_ft, he...\n",
      "  pageid: 10565285\n",
      "  parsetree: <str(11798)> <root><template><title>short description...\n",
      "  requests: <list(2)> parse, imageinfo\n",
      "  title: Cotton Nash\n",
      "  wikibase: Q3695980\n",
      "  wikidata_url: https://www.wikidata.org/wiki/Q3695980\n",
      "  wikitext: <str(6540)> {{short description|American baseball play...\n",
      "}\n"
     ]
    },
    {
     "name": "stdout",
     "output_type": "stream",
     "text": [
      "143\n"
     ]
    },
    {
     "name": "stderr",
     "output_type": "stream",
     "text": [
      "en.wikipedia.org (parse) Erin Phillips\n",
      "en.wikipedia.org (imageinfo) File:Erin Phillips 2019.1.jpg\n",
      "Erin Phillips (en) data\n",
      "{\n",
      "  image: <list(1)> {'kind': 'parse-image', 'file': 'File:Erin Phil...\n",
      "  infobox: <dict(9)> image, caption, birth_date, birth_place, nati...\n",
      "  iwlinks: <list(1)> https://commons.wikimedia.org/wiki/Category:E...\n",
      "  pageid: 5275653\n",
      "  parsetree: <str(50804)> <root><template><title>short description...\n",
      "  requests: <list(2)> parse, imageinfo\n",
      "  title: Erin Phillips\n",
      "  wikibase: Q635785\n",
      "  wikidata_url: https://www.wikidata.org/wiki/Q635785\n",
      "  wikitext: <str(36697)> {{short description|Australian rules foot...\n",
      "}\n"
     ]
    },
    {
     "name": "stdout",
     "output_type": "stream",
     "text": [
      "144\n"
     ]
    },
    {
     "name": "stderr",
     "output_type": "stream",
     "text": [
      "en.wikipedia.org (parse) Pat Riley\n",
      "en.wikipedia.org (imageinfo) File:Pat Riley speaks at Eglin Air F...\n",
      "Pat Riley (en) data\n",
      "{\n",
      "  image: <list(1)> {'kind': 'parse-image', 'file': 'File:Pat Riley...\n",
      "  infobox: <dict(48)> name, image, caption, position, team, height...\n",
      "  iwlinks: <list(1)> https://commons.wikimedia.org/wiki/Special:Se...\n",
      "  pageid: 352045\n",
      "  parsetree: <str(57508)> <root><template><title>other people</tit...\n",
      "  requests: <list(2)> parse, imageinfo\n",
      "  title: Pat Riley\n",
      "  wikibase: Q335762\n",
      "  wikidata_url: https://www.wikidata.org/wiki/Q335762\n",
      "  wikitext: <str(42976)> {{other people|Patrick Riley}}{{short des...\n",
      "}\n"
     ]
    },
    {
     "name": "stdout",
     "output_type": "stream",
     "text": [
      "145\n"
     ]
    },
    {
     "name": "stderr",
     "output_type": "stream",
     "text": [
      "en.wikipedia.org (parse) Nate Robinson\n",
      "en.wikipedia.org (imageinfo) File:Nate Robinson.jpg\n",
      "Nate Robinson (en) data\n",
      "{\n",
      "  image: <list(1)> {'kind': 'parse-image', 'file': 'File:Nate Robi...\n",
      "  infobox: <dict(44)> name, image, caption, position, height_ft, h...\n",
      "  pageid: 2423824\n",
      "  parsetree: <str(58563)> <root><template><title>short description...\n",
      "  requests: <list(2)> parse, imageinfo\n",
      "  title: Nate Robinson\n",
      "  wikibase: Q315104\n",
      "  wikidata_url: https://www.wikidata.org/wiki/Q315104\n",
      "  wikitext: <str(44640)> {{short description|Basketball player fro...\n",
      "}\n"
     ]
    },
    {
     "name": "stdout",
     "output_type": "stream",
     "text": [
      "146\n"
     ]
    },
    {
     "name": "stderr",
     "output_type": "stream",
     "text": [
      "en.wikipedia.org (parse) Cesare Rubini\n",
      "en.wikipedia.org (imageinfo) File:Cesare Rubini.jpg\n",
      "Cesare Rubini (en) data\n",
      "{\n",
      "  image: <list(1)> {'kind': 'parse-image', 'file': 'File:Cesare Ru...\n",
      "  infobox: <dict(15)> name, image, image_size, caption, birth_date...\n",
      "  pageid: 2842283\n",
      "  parsetree: <str(15887)> <root><template><title>short description...\n",
      "  requests: <list(2)> parse, imageinfo\n",
      "  title: Cesare Rubini\n",
      "  wikibase: Q704922\n",
      "  wikidata_url: https://www.wikidata.org/wiki/Q704922\n",
      "  wikitext: <str(9414)> {{short description|Italian water polo and...\n",
      "}\n"
     ]
    },
    {
     "name": "stdout",
     "output_type": "stream",
     "text": [
      "147\n"
     ]
    },
    {
     "name": "stderr",
     "output_type": "stream",
     "text": [
      "en.wikipedia.org (parse) Bill Sharman\n",
      "en.wikipedia.org (imageinfo) File:SharmanatUSCjpeg.jpeg\n",
      "Bill Sharman (en) data\n",
      "{\n",
      "  image: <list(1)> {'kind': 'parse-image', 'file': 'File:Sharmanat...\n",
      "  infobox: <dict(47)> name, image, width, caption, height_ft, heig...\n",
      "  iwlinks: <list(2)> https://commons.wikimedia.org/wiki/Category:B...\n",
      "  pageid: 1683058\n",
      "  parsetree: <str(34980)> <root><template><title>Use mdy dates</ti...\n",
      "  requests: <list(2)> parse, imageinfo\n",
      "  title: Bill Sharman\n",
      "  wikibase: Q505336\n",
      "  wikidata_url: https://www.wikidata.org/wiki/Q505336\n",
      "  wikitext: <str(22710)> {{Use mdy dates|date=January 2019}}{{Info...\n",
      "}\n"
     ]
    },
    {
     "name": "stdout",
     "output_type": "stream",
     "text": [
      "148\n"
     ]
    },
    {
     "name": "stderr",
     "output_type": "stream",
     "text": [
      "en.wikipedia.org (parse) Matt Stainbrook\n",
      "Matt Stainbrook (en) data\n",
      "{\n",
      "  infobox: <dict(23)> name, position, height_ft, height_in, weight...\n",
      "  pageid: 46189485\n",
      "  parsetree: <str(15710)> <root><template><title>short description...\n",
      "  requests: <list(1)> parse\n",
      "  title: Matt Stainbrook\n",
      "  wikibase: Q19663616\n",
      "  wikidata_url: https://www.wikidata.org/wiki/Q19663616\n",
      "  wikitext: <str(12122)> {{short description|American basketball p...\n",
      "}\n"
     ]
    },
    {
     "name": "stdout",
     "output_type": "stream",
     "text": [
      "149\n"
     ]
    },
    {
     "name": "stderr",
     "output_type": "stream",
     "text": [
      "en.wikipedia.org (parse) Jay Triano\n",
      "en.wikipedia.org (imageinfo) File:Jay Triano.jpg\n",
      "Jay Triano (en) data\n",
      "{\n",
      "  image: <list(1)> {'kind': 'parse-image', 'file': 'File:Jay Trian...\n",
      "  infobox: <dict(38)> name, image, width, caption, birth_date, bir...\n",
      "  pageid: 4577759\n",
      "  parsetree: <str(24413)> <root><template><title>Infobox NBA biogr...\n",
      "  requests: <list(2)> parse, imageinfo\n",
      "  title: Jay Triano\n",
      "  wikibase: Q2454488\n",
      "  wikidata_url: https://www.wikidata.org/wiki/Q2454488\n",
      "  wikitext: <str(16597)> {{Infobox NBA biography| name = Jay Trian...\n",
      "}\n"
     ]
    },
    {
     "name": "stdout",
     "output_type": "stream",
     "text": [
      "150\n"
     ]
    },
    {
     "name": "stderr",
     "output_type": "stream",
     "text": [
      "en.wikipedia.org (parse) Charlie Ward\n",
      "Charlie Ward (en) data\n",
      "{\n",
      "  infobox: <dict(33)> name, position, height_ft, height_in, weight...\n",
      "  pageid: 1610528\n",
      "  parsetree: <str(37448)> <root><template><title>short description...\n",
      "  requests: <list(1)> parse\n",
      "  title: Charlie Ward\n",
      "  wikibase: Q71980\n",
      "  wikidata_url: https://www.wikidata.org/wiki/Q71980\n",
      "  wikitext: <str(27477)> {{short description|American football qua...\n",
      "}\n"
     ]
    },
    {
     "name": "stdout",
     "output_type": "stream",
     "text": [
      "151\n"
     ]
    },
    {
     "name": "stderr",
     "output_type": "stream",
     "text": [
      "en.wikipedia.org (parse) Kevin Nash\n",
      "en.wikipedia.org (imageinfo) File:Kevin Nash NWO.jpg\n",
      "Kevin Nash (en) data\n",
      "{\n",
      "  image: <list(1)> {'kind': 'parse-image', 'file': 'File:Kevin Nas...\n",
      "  infobox: <dict(16)> name, image, caption, birth_name, birth_date...\n",
      "  iwlinks: <list(1)> https://commons.wikimedia.org/wiki/Category:K...\n",
      "  pageid: 439260\n",
      "  parsetree: <str(124123)> <root><template><title>short descriptio...\n",
      "  requests: <list(2)> parse, imageinfo\n",
      "  title: Kevin Nash\n",
      "  wikibase: Q280793\n",
      "  wikidata_url: https://www.wikidata.org/wiki/Q280793\n",
      "  wikitext: <str(104251)> {{short description|American professiona...\n",
      "}\n"
     ]
    },
    {
     "name": "stdout",
     "output_type": "stream",
     "text": [
      "152\n"
     ]
    },
    {
     "name": "stderr",
     "output_type": "stream",
     "text": [
      "en.wikipedia.org (parse) Birgir Örn Birgisson\n",
      "Birgir Örn Birgisson (en) data\n",
      "{\n",
      "  infobox: <dict(40)> name, height_ft, height_in, weight_lb, leagu...\n",
      "  pageid: 42993138\n",
      "  parsetree: <str(8634)> <root><template><title>about</title><part...\n",
      "  requests: <list(1)> parse\n",
      "  title: Birgir Örn Birgisson\n",
      "  wikibase: Q17150559\n",
      "  wikidata_url: https://www.wikidata.org/wiki/Q17150559\n",
      "  wikitext: <str(4665)> {{about|Birgir Örn Birgisson, born in 1969...\n",
      "}\n"
     ]
    },
    {
     "name": "stdout",
     "output_type": "stream",
     "text": [
      "153\n"
     ]
    },
    {
     "name": "stderr",
     "output_type": "stream",
     "text": [
      "en.wikipedia.org (parse) Steve Holcomb\n",
      "en.wikipedia.org (imageinfo) File:Steven Holcomb 2014-02-08.jpg\n",
      "Steven Holcomb (en) data\n",
      "{\n",
      "  image: <list(1)> {'kind': 'parse-image', 'file': 'File:Steven Ho...\n",
      "  infobox: <dict(20)> name, image, caption, nickname, birth_date, ...\n",
      "  iwlinks: <list(1)> https://commons.wikimedia.org/wiki/Category:S...\n",
      "  pageid: 6585344\n",
      "  parsetree: <str(37359)> <root><template><title>Infobox sportsper...\n",
      "  requests: <list(2)> parse, imageinfo\n",
      "  title: Steven Holcomb\n",
      "  wikibase: Q549996\n",
      "  wikidata_url: https://www.wikidata.org/wiki/Q549996\n",
      "  wikitext: <str(19673)> {{Infobox sportsperson| name           = ...\n",
      "}\n"
     ]
    },
    {
     "name": "stdout",
     "output_type": "stream",
     "text": [
      "154\n"
     ]
    },
    {
     "name": "stderr",
     "output_type": "stream",
     "text": [
      "en.wikipedia.org (parse) Jesse Lumsden\n",
      "Jesse Lumsden (en) data\n",
      "{\n",
      "  infobox: <dict(11)> name, headercolor, nationality, birth_date, ...\n",
      "  pageid: 7121800\n",
      "  parsetree: <str(13708)> <root><template><title>Infobox sportsper...\n",
      "  requests: <list(1)> parse\n",
      "  title: Jesse Lumsden\n",
      "  wikibase: Q648496\n",
      "  wikidata_url: https://www.wikidata.org/wiki/Q648496\n",
      "  wikitext: <str(8321)> {{Infobox sportsperson| name           = J...\n",
      "}\n"
     ]
    },
    {
     "name": "stdout",
     "output_type": "stream",
     "text": [
      "155\n"
     ]
    },
    {
     "name": "stderr",
     "output_type": "stream",
     "text": [
      "en.wikipedia.org (parse) Steve Mesler\n",
      "en.wikipedia.org (imageinfo) File:Steve Headshot 008.jpg\n",
      "Steve Mesler (en) data\n",
      "{\n",
      "  image: <list(1)> {'kind': 'parse-image', 'file': 'File:Steve Hea...\n",
      "  infobox: <dict(19)> name, image, image_size, caption, fullname, ...\n",
      "  pageid: 13214074\n",
      "  parsetree: <str(18701)> <root><template><title>Infobox sportsper...\n",
      "  requests: <list(2)> parse, imageinfo\n",
      "  title: Steve Mesler\n",
      "  wikibase: Q1373056\n",
      "  wikidata_url: https://www.wikidata.org/wiki/Q1373056\n",
      "  wikitext: <str(13193)> {{Infobox sportsperson| name             ...\n",
      "}\n"
     ]
    },
    {
     "name": "stdout",
     "output_type": "stream",
     "text": [
      "156\n"
     ]
    },
    {
     "name": "stderr",
     "output_type": "stream",
     "text": [
      "en.wikipedia.org (parse) Lyndon Rush\n",
      "en.wikipedia.org (imageinfo) File:Two-man bobsleigh, 2014 Winter ...\n",
      "Lyndon Rush (en) data\n",
      "{\n",
      "  image: <list(1)> {'kind': 'parse-image', 'file': 'File:Two-man b...\n",
      "  infobox: <dict(13)> name, image, caption, fullname, nationality,...\n",
      "  pageid: 15824465\n",
      "  parsetree: <str(11991)> <root><template><title>Infobox sportsper...\n",
      "  requests: <list(2)> parse, imageinfo\n",
      "  title: Lyndon Rush\n",
      "  wikibase: Q543529\n",
      "  wikidata_url: https://www.wikidata.org/wiki/Q543529\n",
      "  wikitext: <str(7571)> {{Infobox sportsperson| name           = L...\n",
      "}\n"
     ]
    },
    {
     "name": "stdout",
     "output_type": "stream",
     "text": [
      "157\n"
     ]
    },
    {
     "name": "stderr",
     "output_type": "stream",
     "text": [
      "en.wikipedia.org (parse) Curtis Tomasevicz\n",
      "en.wikipedia.org (imageinfo) File:USA-1 4 man bobsleigh team with...\n",
      "Curtis Tomasevicz (en) data\n",
      "{\n",
      "  image: <list(1)> {'kind': 'parse-image', 'file': 'File:USA-1 4 m...\n",
      "  infobox: <dict(9)> name, image, image_size, caption, birth_date,...\n",
      "  pageid: 13551558\n",
      "  parsetree: <str(8896)> <root><template><title>Infobox sportspers...\n",
      "  requests: <list(2)> parse, imageinfo\n",
      "  title: Curtis Tomasevicz\n",
      "  wikibase: Q219997\n",
      "  wikidata_url: https://www.wikidata.org/wiki/Q219997\n",
      "  wikitext: <str(5278)> {{Infobox sportsperson| name           = C...\n",
      "}\n"
     ]
    },
    {
     "name": "stdout",
     "output_type": "stream",
     "text": [
      "158\n"
     ]
    },
    {
     "name": "stderr",
     "output_type": "stream",
     "text": [
      "en.wikipedia.org (parse) Herschel Walker\n",
      "en.wikipedia.org (imageinfo) File:Herschel Walker in May 2018.jpg\n",
      "Herschel Walker (en) data\n",
      "{\n",
      "  image: <list(1)> {'kind': 'parse-image', 'file': 'File:Herschel ...\n",
      "  infobox: <dict(31)> image, caption, position, number, birth_date...\n",
      "  iwlinks: <list(1)> https://commons.wikimedia.org/wiki/Category:H...\n",
      "  pageid: 635876\n",
      "  parsetree: <str(89392)> <root><template><title>short description...\n",
      "  requests: <list(2)> parse, imageinfo\n",
      "  title: Herschel Walker\n",
      "  wikibase: Q609950\n",
      "  wikidata_url: https://www.wikidata.org/wiki/Q609950\n",
      "  wikitext: <str(71533)> {{short description|American football pla...\n",
      "}\n"
     ]
    },
    {
     "name": "stdout",
     "output_type": "stream",
     "text": [
      "159\n"
     ]
    },
    {
     "name": "stderr",
     "output_type": "stream",
     "text": [
      "en.wikipedia.org (parse) Alexey Voyevoda\n",
      "en.wikipedia.org (imageinfo) File:Vladimir Putin and Aleksey Voye...\n",
      "Alexey Voyevoda (en) data\n",
      "{\n",
      "  image: <list(1)> {'kind': 'parse-image', 'file': 'File:Vladimir ...\n",
      "  infobox: <dict(17)> name, image, imagesize, caption, native_name...\n",
      "  iwlinks: <list(2)> https://commons.wikimedia.org/wiki/Category:A...\n",
      "  pageid: 4256482\n",
      "  parsetree: <str(12266)> <root><template><title>Use dmy dates</ti...\n",
      "  requests: <list(2)> parse, imageinfo\n",
      "  title: Alexey Voyevoda\n",
      "  wikibase: Q714637\n",
      "  wikidata_url: https://www.wikidata.org/wiki/Q714637\n",
      "  wikitext: <str(7829)> {{Use dmy dates|date=April 2015}}{{Infobox...\n",
      "}\n"
     ]
    },
    {
     "name": "stdout",
     "output_type": "stream",
     "text": [
      "160\n"
     ]
    },
    {
     "name": "stderr",
     "output_type": "stream",
     "text": [
      "en.wikipedia.org (parse) Don Carter (bowler)\n",
      "en.wikipedia.org (imageinfo) File:Don Carter c1955.jpg\n",
      "Don Carter (bowler) (en) data\n",
      "{\n",
      "  image: <list(1)> {'kind': 'parse-image', 'file': 'File:Don Carte...\n",
      "  infobox: <dict(11)> name, birth_date, birth_name, birth_place, d...\n",
      "  iwlinks: <list(1)> https://commons.wikimedia.org/wiki/Category:D...\n",
      "  pageid: 9859686\n",
      "  parsetree: <str(12558)> <root><template><title>Use mdy dates</ti...\n",
      "  requests: <list(2)> parse, imageinfo\n",
      "  title: Don Carter (bowler)\n",
      "  wikibase: Q5292397\n",
      "  wikidata_url: https://www.wikidata.org/wiki/Q5292397\n",
      "  wikitext: <str(9537)> {{Use mdy dates|date=June 2018}}{{Infobox ...\n",
      "}\n"
     ]
    },
    {
     "name": "stdout",
     "output_type": "stream",
     "text": [
      "161\n"
     ]
    },
    {
     "name": "stderr",
     "output_type": "stream",
     "text": [
      "en.wikipedia.org (parse) Eddie Lubanski\n",
      "en.wikipedia.org (imageinfo) File:Ed Lubanski 1959.jpg\n",
      "Eddie Lubanski (en) data\n",
      "{\n",
      "  image: <list(1)> {'kind': 'parse-image', 'file': 'File:Ed Lubans...\n",
      "  infobox: <dict(7)> image, caption, birth_date, birth_place, deat...\n",
      "  iwlinks: <list(1)> https://commons.wikimedia.org/wiki/Category:E...\n",
      "  pageid: 2779514\n",
      "  parsetree: <str(3653)> <root><template><title>Use mdy dates</tit...\n",
      "  requests: <list(2)> parse, imageinfo\n",
      "  title: Eddie Lubanski\n",
      "  wikibase: Q5336250\n",
      "  wikidata_url: https://www.wikidata.org/wiki/Q5336250\n",
      "  wikitext: <str(2509)> {{Use mdy dates|date=June 2018}}{{Infobox ...\n",
      "}\n"
     ]
    },
    {
     "name": "stdout",
     "output_type": "stream",
     "text": [
      "162\n"
     ]
    },
    {
     "name": "stderr",
     "output_type": "stream",
     "text": [
      "en.wikipedia.org (parse) Walter Ray Williams Jr.\n",
      "en.wikipedia.org (imageinfo) File:20160819-Walter-Ray-Williams-Jr.jpg\n",
      "Walter Ray Williams Jr. (en) data\n",
      "{\n",
      "  image: <list(1)> {'kind': 'parse-image', 'file': 'File:20160819-...\n",
      "  infobox: <dict(14)> name, image, caption, nickname, birth_date, ...\n",
      "  pageid: 2609761\n",
      "  parsetree: <str(31249)> <root><template><title>Infobox sportsper...\n",
      "  requests: <list(2)> parse, imageinfo\n",
      "  title: Walter Ray Williams Jr.\n",
      "  wikibase: Q2900860\n",
      "  wikidata_url: https://www.wikidata.org/wiki/Q2900860\n",
      "  wikitext: <str(26332)> {{Infobox sportsperson| name = Walter Ray...\n",
      "}\n"
     ]
    },
    {
     "name": "stdout",
     "output_type": "stream",
     "text": [
      "163\n"
     ]
    },
    {
     "name": "stderr",
     "output_type": "stream",
     "text": [
      "en.wikipedia.org (parse) Eddie Eagan\n",
      "en.wikipedia.org (imageinfo) File:Eddie Eagan c1920.jpg\n",
      "Eddie Eagan (en) data\n",
      "{\n",
      "  image: <list(1)> {'kind': 'parse-image', 'file': 'File:Eddie Eag...\n",
      "  infobox: <dict(13)> image, image_size, caption, birth_date, birt...\n",
      "  iwlinks: <list(1)> https://commons.wikimedia.org/wiki/Category:E...\n",
      "  pageid: 564677\n",
      "  parsetree: <str(11911)> <root><template><title>short description...\n",
      "  requests: <list(2)> parse, imageinfo\n",
      "  title: Eddie Eagan\n",
      "  wikibase: Q318892\n",
      "  wikidata_url: https://www.wikidata.org/wiki/Q318892\n",
      "  wikitext: <str(7924)> {{short description|American boxer}}{{Use ...\n",
      "}\n"
     ]
    },
    {
     "name": "stdout",
     "output_type": "stream",
     "text": [
      "164\n"
     ]
    },
    {
     "name": "stderr",
     "output_type": "stream",
     "text": [
      "en.wikipedia.org (parse) Adam Hollioake\n",
      "Adam Hollioake (en) data\n",
      "{\n",
      "  infobox: <dict(84)> name, country, fullname, birth_date, birth_p...\n",
      "  pageid: 2037175\n",
      "  parsetree: <str(28350)> <root><template><title>Infobox cricketer...\n",
      "  requests: <list(1)> parse\n",
      "  title: Adam Hollioake\n",
      "  wikibase: Q3528923\n",
      "  wikidata_url: https://www.wikidata.org/wiki/Q3528923\n",
      "  wikitext: <str(16541)> {{Infobox cricketer|          name = Adam...\n",
      "}\n"
     ]
    },
    {
     "name": "stdout",
     "output_type": "stream",
     "text": [
      "165\n"
     ]
    },
    {
     "name": "stderr",
     "output_type": "stream",
     "text": [
      "en.wikipedia.org (parse) Roy Jones Jr.\n",
      "en.wikipedia.org (imageinfo) File:Rou Jones Jr..jpg {{!}} border\n",
      "Roy Jones Jr. (en) data\n",
      "{\n",
      "  image: <list(1)> {'kind': 'parse-image', 'file': 'File:Rou Jones...\n",
      "  infobox: <dict(18)> name, image, imagesize, caption, realname, n...\n",
      "  pageid: 190809\n",
      "  parsetree: <str(180176)> <root><template><title>Redirect</title>...\n",
      "  requests: <list(2)> parse, imageinfo\n",
      "  title: Roy Jones Jr.\n",
      "  wikibase: Q955619\n",
      "  wikidata_url: https://www.wikidata.org/wiki/Q955619\n",
      "  wikitext: <str(116848)> {{Redirect|Roy Jones|the English footbal...\n",
      "}\n"
     ]
    },
    {
     "name": "stdout",
     "output_type": "stream",
     "text": [
      "166\n"
     ]
    },
    {
     "name": "stderr",
     "output_type": "stream",
     "text": [
      "en.wikipedia.org (parse) Bill Lang\n",
      "en.wikipedia.org (imageinfo) File:Bill Lang.jpg\n",
      "Bill Lang (en) data\n",
      "{\n",
      "  image: <list(1)> {'kind': 'parse-image', 'file': 'File:Bill Lang...\n",
      "  infobox: <dict(9)> name, image, birth_name, birth_date, birth_pl...\n",
      "  iwlinks: <list(1)> https://commons.wikimedia.org/wiki/Category:B...\n",
      "  pageid: 26822899\n",
      "  parsetree: <str(39063)> <root><template><title>for</title><part>...\n",
      "  requests: <list(2)> parse, imageinfo\n",
      "  title: Bill Lang\n",
      "  wikibase: Q4271272\n",
      "  wikidata_url: https://www.wikidata.org/wiki/Q4271272\n",
      "  wikitext: <str(28195)> {{for|the British Olympic rower|Bill Lang...\n",
      "}\n"
     ]
    },
    {
     "name": "stdout",
     "output_type": "stream",
     "text": [
      "167\n"
     ]
    },
    {
     "name": "stderr",
     "output_type": "stream",
     "text": [
      "en.wikipedia.org (parse) Ray Mercer\n",
      "en.wikipedia.org (imageinfo) File:Ray Mercer, 1988.JPEG\n",
      "Ray Mercer (en) data\n",
      "{\n",
      "  image: <list(1)> {'kind': 'parse-image', 'file': 'File:Ray Merce...\n",
      "  infobox: <dict(27)> name, image, caption, birth_name, other_name...\n",
      "  pageid: 227182\n",
      "  parsetree: <str(64960)> <root><template><title>Use mdy dates</ti...\n",
      "  requests: <list(2)> parse, imageinfo\n",
      "  title: Ray Mercer\n",
      "  wikibase: Q532540\n",
      "  wikidata_url: https://www.wikidata.org/wiki/Q532540\n",
      "  wikitext: <str(38384)> {{Use mdy dates|date=March 2016}}{{BLP so...\n",
      "}\n"
     ]
    },
    {
     "name": "stdout",
     "output_type": "stream",
     "text": [
      "168\n"
     ]
    },
    {
     "name": "stderr",
     "output_type": "stream",
     "text": [
      "en.wikipedia.org (parse) Anthony Mundine\n",
      "en.wikipedia.org (imageinfo) File:Anthony Mundine.jpg\n",
      "Anthony Mundine (en) data\n",
      "{\n",
      "  image: <list(1)> {'kind': 'parse-image', 'file': 'File:Anthony M...\n",
      "  infobox: <dict(14)> name, image, nickname, weight, height, reach...\n",
      "  pageid: 1483431\n",
      "  parsetree: <str(93315)> <root><template><title>short description...\n",
      "  requests: <list(2)> parse, imageinfo\n",
      "  title: Anthony Mundine\n",
      "  wikibase: Q614952\n",
      "  wikidata_url: https://www.wikidata.org/wiki/Q614952\n",
      "  wikitext: <str(61577)> {{short description|Australian boxer, rug...\n",
      "}\n"
     ]
    },
    {
     "name": "stdout",
     "output_type": "stream",
     "text": [
      "169\n"
     ]
    },
    {
     "name": "stderr",
     "output_type": "stream",
     "text": [
      "en.wikipedia.org (parse) Katie Taylor\n",
      "en.wikipedia.org (imageinfo) File:Katie Taylor 2012 (cropped).jpg\n",
      "Katie Taylor (en) data\n",
      "{\n",
      "  image: <list(1)> {'kind': 'parse-image', 'file': 'File:Katie Tay...\n",
      "  infobox: <dict(16)> name, image, caption, nickname, weight, heig...\n",
      "  pageid: 12426364\n",
      "  parsetree: <str(81432)> <root><template><title>short description...\n",
      "  requests: <list(2)> parse, imageinfo\n",
      "  title: Katie Taylor\n",
      "  wikibase: Q262699\n",
      "  wikidata_url: https://www.wikidata.org/wiki/Q262699\n",
      "  wikitext: <str(55917)> {{short description|Irish  association fo...\n",
      "}\n"
     ]
    },
    {
     "name": "stdout",
     "output_type": "stream",
     "text": [
      "170\n"
     ]
    },
    {
     "name": "stderr",
     "output_type": "stream",
     "text": [
      "en.wikipedia.org (parse) Mihai Leu\n",
      "en.wikipedia.org (imageinfo) File:Mihai Leu.png\n",
      "Mihai Leu (en) data\n",
      "{\n",
      "  image: <list(1)> {'kind': 'parse-image', 'file': 'File:Mihai Leu...\n",
      "  infobox: <dict(16)> image, name, caption, realname, nickname, we...\n",
      "  pageid: 4828709\n",
      "  parsetree: <str(19615)> <root><template><title>short description...\n",
      "  requests: <list(2)> parse, imageinfo\n",
      "  title: Mihai Leu\n",
      "  wikibase: Q722185\n",
      "  wikidata_url: https://www.wikidata.org/wiki/Q722185\n",
      "  wikitext: <str(11358)> {{short description|Romanian boxer}}{{Inf...\n",
      "}\n"
     ]
    },
    {
     "name": "stdout",
     "output_type": "stream",
     "text": [
      "171\n"
     ]
    },
    {
     "name": "stderr",
     "output_type": "stream",
     "text": [
      "en.wikipedia.org (parse) Seth Mitchell\n",
      "en.wikipedia.org (imageinfo) File:Seth Mitchell 2011b.jpg\n",
      "Seth Mitchell (en) data\n",
      "{\n",
      "  image: <list(1)> {'kind': 'parse-image', 'file': 'File:Seth Mitc...\n",
      "  infobox: <dict(17)> name, image, caption, realname, nickname, we...\n",
      "  iwlinks: <list(1)> https://commons.wikimedia.org/wiki/Category:S...\n",
      "  pageid: 29786216\n",
      "  parsetree: <str(41905)> <root><template><title>short description...\n",
      "  requests: <list(2)> parse, imageinfo\n",
      "  title: Seth Mitchell\n",
      "  wikibase: Q4296918\n",
      "  wikidata_url: https://www.wikidata.org/wiki/Q4296918\n",
      "  wikitext: <str(22563)> {{short description|American boxer}}{{Inf...\n",
      "}\n"
     ]
    },
    {
     "name": "stdout",
     "output_type": "stream",
     "text": [
      "172\n"
     ]
    },
    {
     "name": "stderr",
     "output_type": "stream",
     "text": [
      "en.wikipedia.org (parse) Lucia Rijker\n",
      "en.wikipedia.org (imageinfo) File:Lucia Rijker in training.jpg\n",
      "Lucia Rijker (en) data\n",
      "{\n",
      "  image: <list(1)> {'kind': 'parse-image', 'file': 'File:Lucia Rij...\n",
      "  infobox: <dict(21)> name, image, caption, realname, nickname, we...\n",
      "  iwlinks: <list(1)> https://commons.wikimedia.org/wiki/Category:L...\n",
      "  pageid: 189420\n",
      "  parsetree: <str(31866)> <root><template><title>short description...\n",
      "  requests: <list(2)> parse, imageinfo\n",
      "  title: Lucia Rijker\n",
      "  wikibase: Q462162\n",
      "  wikidata_url: https://www.wikidata.org/wiki/Q462162\n",
      "  wikitext: <str(19701)> {{short description|Dutch boxer}}{{Infobo...\n",
      "}\n"
     ]
    },
    {
     "name": "stdout",
     "output_type": "stream",
     "text": [
      "173\n"
     ]
    },
    {
     "name": "stderr",
     "output_type": "stream",
     "text": [
      "en.wikipedia.org (parse) Manny Pacquiao\n",
      "en.wikipedia.org (imageinfo) File:Sarangani Lone District Represe...\n",
      "Manny Pacquiao (en) data\n",
      "{\n",
      "  image: <list(1)> {'kind': 'parse-image', 'file': 'File:Sarangani...\n",
      "  infobox: <dict(30)> honorific_prefix, name, image, office, term_...\n",
      "  iwlinks: <list(2)> https://commons.wikimedia.org/wiki/Category:M...\n",
      "  pageid: 916099\n",
      "  parsetree: <str(131859)> <root><template><title>Redirect</title>...\n",
      "  requests: <list(2)> parse, imageinfo\n",
      "  title: Manny Pacquiao\n",
      "  wikibase: Q486359\n",
      "  wikidata_url: https://www.wikidata.org/wiki/Q486359\n",
      "  wikitext: <str(101680)> {{Redirect|Pacquiao|other uses|Pacquiao ...\n",
      "}\n"
     ]
    },
    {
     "name": "stdout",
     "output_type": "stream",
     "text": [
      "174\n"
     ]
    },
    {
     "name": "stderr",
     "output_type": "stream",
     "text": [
      "en.wikipedia.org (parse) Vitali Klitschko\n",
      "en.wikipedia.org (imageinfo) File:2014-09-12 - Vitali Klitschko -...\n",
      "Vitali Klitschko (en) data\n",
      "{\n",
      "  image: <list(1)> {'kind': 'parse-image', 'file': 'File:2014-09-1...\n",
      "  infobox: <dict(33)> honorific_suffix, name, native_name, office,...\n",
      "  iwlinks: <list(1)> https://commons.wikimedia.org/wiki/Category:V...\n",
      "  pageid: 555483\n",
      "  parsetree: <str(149916)> <root><template><title>short descriptio...\n",
      "  requests: <list(2)> parse, imageinfo\n",
      "  title: Vitali Klitschko\n",
      "  wikibase: Q31919\n",
      "  wikidata_url: https://www.wikidata.org/wiki/Q31919\n",
      "  wikitext: <str(100428)> {{short description|Ukrainian boxer and ...\n",
      "}\n"
     ]
    },
    {
     "name": "stdout",
     "output_type": "stream",
     "text": [
      "175\n"
     ]
    },
    {
     "name": "stderr",
     "output_type": "stream",
     "text": [
      "en.wikipedia.org (parse) Holly Holm\n",
      "en.wikipedia.org (imageinfo) File:Holly holm 2016.png\n",
      "Holly Holm (en) data\n",
      "{\n",
      "  image: <list(1)> {'kind': 'parse-image', 'file': 'File:Holly hol...\n",
      "  infobox: <dict(39)> name, other_names, image, image_size, captio...\n",
      "  iwlinks: <list(1)> https://commons.wikimedia.org/wiki/Category:H...\n",
      "  pageid: 12635050\n",
      "  parsetree: <str(126674)> <root><template><title>Use mdy dates</t...\n",
      "  requests: <list(2)> parse, imageinfo\n",
      "  title: Holly Holm\n",
      "  wikibase: Q2414305\n",
      "  wikidata_url: https://www.wikidata.org/wiki/Q2414305\n",
      "  wikitext: <str(80354)> {{Use mdy dates|date=September 2019}}{{sh...\n",
      "}\n"
     ]
    },
    {
     "name": "stdout",
     "output_type": "stream",
     "text": [
      "176\n"
     ]
    },
    {
     "name": "stderr",
     "output_type": "stream",
     "text": [
      "en.wikipedia.org (parse) Gary Mason (boxer)\n",
      "Gary Mason (boxer) (en) data\n",
      "{\n",
      "  infobox: <dict(15)> name, realname, weight, nationality, birth_d...\n",
      "  pageid: 2758896\n",
      "  parsetree: <str(27314)> <root><template><title>EngvarB</title><p...\n",
      "  requests: <list(1)> parse\n",
      "  title: Gary Mason (boxer)\n",
      "  wikibase: Q3244609\n",
      "  wikidata_url: https://www.wikidata.org/wiki/Q3244609\n",
      "  wikitext: <str(12454)> {{EngvarB|date=May 2015}}{{Use dmy dates|...\n",
      "}\n"
     ]
    },
    {
     "name": "stdout",
     "output_type": "stream",
     "text": [
      "177\n"
     ]
    },
    {
     "name": "stderr",
     "output_type": "stream",
     "text": [
      "en.wikipedia.org (parse) Eric Esch\n",
      "en.wikipedia.org (imageinfo) File:Eric Esch 2006.jpg\n",
      "Eric Esch (en) data\n",
      "{\n",
      "  image: <list(1)> {'kind': 'parse-image', 'file': 'File:Eric Esch...\n",
      "  infobox: <dict(31)> name, image, caption, birth_name, other_name...\n",
      "  pageid: 23577434\n",
      "  parsetree: <str(123845)> <root><template><title>short descriptio...\n",
      "  requests: <list(2)> parse, imageinfo\n",
      "  title: Eric Esch\n",
      "  wikibase: Q1347670\n",
      "  wikidata_url: https://www.wikidata.org/wiki/Q1347670\n",
      "  wikitext: <str(61893)> {{short description|American boxer, mixed...\n",
      "}\n"
     ]
    },
    {
     "name": "stdout",
     "output_type": "stream",
     "text": [
      "178\n"
     ]
    },
    {
     "name": "stderr",
     "output_type": "stream",
     "text": [
      "en.wikipedia.org (parse) Jesse Lumsden\n",
      "Jesse Lumsden (en) data\n",
      "{\n",
      "  infobox: <dict(11)> name, headercolor, nationality, birth_date, ...\n",
      "  pageid: 7121800\n",
      "  parsetree: <str(13708)> <root><template><title>Infobox sportsper...\n",
      "  requests: <list(1)> parse\n",
      "  title: Jesse Lumsden\n",
      "  wikibase: Q648496\n",
      "  wikidata_url: https://www.wikidata.org/wiki/Q648496\n",
      "  wikitext: <str(8321)> {{Infobox sportsperson| name           = J...\n",
      "}\n"
     ]
    },
    {
     "name": "stdout",
     "output_type": "stream",
     "text": [
      "179\n"
     ]
    },
    {
     "name": "stderr",
     "output_type": "stream",
     "text": [
      "en.wikipedia.org (parse) Red Storey\n",
      "Red Storey (en) data\n",
      "{\n",
      "  infobox: <dict(7)> birth_name, birth_date, birth_place, death_da...\n",
      "  pageid: 3807903\n",
      "  parsetree: <str(8731)> <root><template><title>Use mdy dates</tit...\n",
      "  requests: <list(1)> parse\n",
      "  title: Red Storey\n",
      "  wikibase: Q3422787\n",
      "  wikidata_url: https://www.wikidata.org/wiki/Q3422787\n",
      "  wikitext: <str(6358)> {{Use mdy dates|date=September 2017}}{{Use...\n",
      "}\n"
     ]
    },
    {
     "name": "stdout",
     "output_type": "stream",
     "text": [
      "180\n"
     ]
    },
    {
     "name": "stderr",
     "output_type": "stream",
     "text": [
      "en.wikipedia.org (parse) Luc Tousignant\n",
      "Luc Tousignant (en) data\n",
      "{\n",
      "  infobox: <dict(16)> name, import, position1, birth_place, Colleg...\n",
      "  pageid: 8390452\n",
      "  parsetree: <str(5481)> <root><template><title>Infobox CFL player...\n",
      "  requests: <list(1)> parse\n",
      "  title: Luc Tousignant\n",
      "  wikibase: Q12795236\n",
      "  wikidata_url: https://www.wikidata.org/wiki/Q12795236\n",
      "  wikitext: <str(3314)> {{Infobox CFL player |name=Luc Tousignant ...\n",
      "}\n"
     ]
    },
    {
     "name": "stdout",
     "output_type": "stream",
     "text": [
      "181\n"
     ]
    },
    {
     "name": "stderr",
     "output_type": "stream",
     "text": [
      "en.wikipedia.org (parse) Albert Alderman\n",
      "Albert Alderman (en) data\n",
      "{\n",
      "  infobox: <dict(38)> name, country, fullname, birth_date, birth_p...\n",
      "  pageid: 9947227\n",
      "  parsetree: <str(11520)> <root><template><title>short description...\n",
      "  requests: <list(1)> parse\n",
      "  title: Albert Alderman\n",
      "  wikibase: Q4709618\n",
      "  wikidata_url: https://www.wikidata.org/wiki/Q4709618\n",
      "  wikitext: <str(6653)> {{short description|English cricketer and ...\n",
      "}\n"
     ]
    },
    {
     "name": "stdout",
     "output_type": "stream",
     "text": [
      "182\n"
     ]
    },
    {
     "name": "stderr",
     "output_type": "stream",
     "text": [
      "en.wikipedia.org (parse) Andrew Flintoff\n",
      "en.wikipedia.org (imageinfo) File:Flintoff during the 2009 Ashes ...\n",
      "Andrew Flintoff (en) data\n",
      "{\n",
      "  image: <list(1)> {'kind': 'parse-image', 'file': 'File:Flintoff ...\n",
      "  infobox: <dict(104)> name, honorific_suffix, image, caption, ful...\n",
      "  iwlinks: <list(1)> https://commons.wikimedia.org/wiki/Category:A...\n",
      "  pageid: 849886\n",
      "  parsetree: <str(77658)> <root><template><title>short description...\n",
      "  requests: <list(2)> parse, imageinfo\n",
      "  title: Andrew Flintoff\n",
      "  wikibase: Q95885\n",
      "  wikidata_url: https://www.wikidata.org/wiki/Q95885\n",
      "  wikitext: <str(60923)> {{short description|English cricketer}}{{...\n",
      "}\n"
     ]
    },
    {
     "name": "stdout",
     "output_type": "stream",
     "text": [
      "183\n"
     ]
    },
    {
     "name": "stderr",
     "output_type": "stream",
     "text": [
      "en.wikipedia.org (parse) C. B. Fry\n",
      "en.wikipedia.org (imageinfo) File:CB Fry batting.jpg\n",
      "C. B. Fry (en) data\n",
      "{\n",
      "  image: <list(1)> {'kind': 'parse-image', 'file': 'File:CB Fry ba...\n",
      "  infobox: <dict(59)> name, image, country, fullname, birth_date, ...\n",
      "  iwlinks: <list(2)> https://commons.wikimedia.org/wiki/Category:C...\n",
      "  pageid: 571915\n",
      "  parsetree: <str(102971)> <root><template><title>EngvarB</title><...\n",
      "  requests: <list(2)> parse, imageinfo\n",
      "  title: C. B. Fry\n",
      "  wikibase: Q1106119\n",
      "  wikidata_url: https://www.wikidata.org/wiki/Q1106119\n",
      "  wikitext: <str(51896)> {{EngvarB|date=April 2014}}{{Use dmy date...\n",
      "}\n"
     ]
    },
    {
     "name": "stdout",
     "output_type": "stream",
     "text": [
      "184\n"
     ]
    },
    {
     "name": "stderr",
     "output_type": "stream",
     "text": [
      "en.wikipedia.org (parse) Chris Balderstone\n",
      "Chris Balderstone (en) data\n",
      "{\n",
      "  infobox: <dict(26)> name, fullname, birth_date, birth_place, dea...\n",
      "  pageid: 3727519\n",
      "  parsetree: <str(21613)> <root><template><title>use dmy dates</ti...\n",
      "  requests: <list(1)> parse\n",
      "  title: Chris Balderstone\n",
      "  wikibase: Q3528380\n",
      "  wikidata_url: https://www.wikidata.org/wiki/Q3528380\n",
      "  wikitext: <str(14145)> {{use dmy dates|date=February 2013}}{{Inf...\n",
      "}\n"
     ]
    },
    {
     "name": "stdout",
     "output_type": "stream",
     "text": [
      "185\n"
     ]
    },
    {
     "name": "stderr",
     "output_type": "stream",
     "text": [
      "en.wikipedia.org (parse) Denis Compton\n",
      "en.wikipedia.org (imageinfo) File:Denis Compton 1936.jpg\n",
      "Denis Compton (en) data\n",
      "{\n",
      "  image: <list(1)> {'kind': 'parse-image', 'file': 'File:Denis Com...\n",
      "  infobox: <dict(60)> name, image, caption, country, fullname, bir...\n",
      "  iwlinks: <list(1)> https://commons.wikimedia.org/wiki/Category:D...\n",
      "  pageid: 539457\n",
      "  parsetree: <str(42497)> <root><template><title>short description...\n",
      "  requests: <list(2)> parse, imageinfo\n",
      "  title: Denis Compton\n",
      "  wikibase: Q2725351\n",
      "  wikidata_url: https://www.wikidata.org/wiki/Q2725351\n",
      "  wikitext: <str(30446)> {{short description|English cricket playe...\n",
      "}\n"
     ]
    },
    {
     "name": "stdout",
     "output_type": "stream",
     "text": [
      "186\n"
     ]
    },
    {
     "name": "stderr",
     "output_type": "stream",
     "text": [
      "en.wikipedia.org (parse) Leslie Compton\n",
      "en.wikipedia.org (imageinfo) File:Leslie Compton 1947-09-19.jpg\n",
      "Leslie Compton (en) data\n",
      "{\n",
      "  image: <list(1)> {'kind': 'parse-image', 'file': 'File:Leslie Co...\n",
      "  infobox: <dict(18)> name, image, image_size, caption, fullname, ...\n",
      "  iwlinks: <list(1)> https://commons.wikimedia.org/wiki/Category:L...\n",
      "  pageid: 1902389\n",
      "  parsetree: <str(13462)> <root><template><title>Use British Engli...\n",
      "  requests: <list(2)> parse, imageinfo\n",
      "  title: Leslie Compton\n",
      "  wikibase: Q2601072\n",
      "  wikidata_url: https://www.wikidata.org/wiki/Q2601072\n",
      "  wikitext: <str(8880)> {{Use British English|date=February 2013}}...\n",
      "}\n"
     ]
    },
    {
     "name": "stdout",
     "output_type": "stream",
     "text": [
      "187\n"
     ]
    },
    {
     "name": "stderr",
     "output_type": "stream",
     "text": [
      "en.wikipedia.org (parse) Keith Miller\n",
      "en.wikipedia.org (imageinfo) File:Keith Miller 1951.jpg\n",
      "Keith Miller (en) data\n",
      "{\n",
      "  image: <list(1)> {'kind': 'parse-image', 'file': 'File:Keith Mil...\n",
      "  infobox: <dict(61)> name, image, image_size, caption, country, f...\n",
      "  iwlinks: <list(3)> https://commons.wikimedia.org/wiki/Category:K...\n",
      "  pageid: 1061737\n",
      "  parsetree: <str(220692)> <root><template><title>short descriptio...\n",
      "  requests: <list(2)> parse, imageinfo\n",
      "  title: Keith Miller\n",
      "  wikibase: Q2735268\n",
      "  wikidata_url: https://www.wikidata.org/wiki/Q2735268\n",
      "  wikitext: <str(144841)> {{short description|Australian rules foo...\n",
      "}\n"
     ]
    },
    {
     "name": "stdout",
     "output_type": "stream",
     "text": [
      "188\n"
     ]
    },
    {
     "name": "stderr",
     "output_type": "stream",
     "text": [
      "en.wikipedia.org (parse) Ellyse Perry\n",
      "en.wikipedia.org (imageinfo) File:2017–18 W Ashes A v E Test 17-1...\n",
      "Ellyse Perry (en) data\n",
      "{\n",
      "  image: <list(1)> {'kind': 'parse-image', 'file': 'File:2017–18 W...\n",
      "  infobox: <dict(101)> name, female, image, image_size, caption, c...\n",
      "  iwlinks: <list(1)> https://commons.wikimedia.org/wiki/Category:E...\n",
      "  pageid: 15767011\n",
      "  parsetree: <str(91880)> <root><template><title>short description...\n",
      "  requests: <list(2)> parse, imageinfo\n",
      "  title: Ellyse Perry\n",
      "  wikibase: Q600090\n",
      "  wikidata_url: https://www.wikidata.org/wiki/Q600090\n",
      "  wikitext: <str(69902)> {{short description|Australian sportswoma...\n",
      "}\n"
     ]
    },
    {
     "name": "stdout",
     "output_type": "stream",
     "text": [
      "189\n"
     ]
    },
    {
     "name": "stderr",
     "output_type": "stream",
     "text": [
      "en.wikipedia.org (parse) Ian Botham\n",
      "en.wikipedia.org (imageinfo) File:Ian Botham headshot.jpg\n",
      "Ian Botham (en) data\n",
      "{\n",
      "  image: <list(1)> {'kind': 'parse-image', 'file': 'File:Ian Botha...\n",
      "  infobox: <dict(94)> honorific_prefix, name, honorific-suffix, im...\n",
      "  pageid: 15524\n",
      "  parsetree: <str(168704)> <root><template><title>short descriptio...\n",
      "  requests: <list(2)> parse, imageinfo\n",
      "  title: Ian Botham\n",
      "  wikibase: Q982121\n",
      "  wikidata_url: https://www.wikidata.org/wiki/Q982121\n",
      "  wikitext: <str(134961)> {{short description|English cricketer}}{...\n",
      "}\n"
     ]
    },
    {
     "name": "stdout",
     "output_type": "stream",
     "text": [
      "190\n"
     ]
    },
    {
     "name": "stderr",
     "output_type": "stream",
     "text": [
      "en.wikipedia.org (parse) Adam Hollioake\n",
      "Adam Hollioake (en) data\n",
      "{\n",
      "  infobox: <dict(84)> name, country, fullname, birth_date, birth_p...\n",
      "  pageid: 2037175\n",
      "  parsetree: <str(28350)> <root><template><title>Infobox cricketer...\n",
      "  requests: <list(1)> parse\n",
      "  title: Adam Hollioake\n",
      "  wikibase: Q3528923\n",
      "  wikidata_url: https://www.wikidata.org/wiki/Q3528923\n",
      "  wikitext: <str(16541)> {{Infobox cricketer|          name = Adam...\n",
      "}\n"
     ]
    },
    {
     "name": "stdout",
     "output_type": "stream",
     "text": [
      "191\n"
     ]
    },
    {
     "name": "stderr",
     "output_type": "stream",
     "text": [
      "en.wikipedia.org (parse) Jeff Wilson (sportsman)\n",
      "en.wikipedia.org (imageinfo) File:Jeff Wilson.jpg\n",
      "Jeff Wilson (sportsman) (en) data\n",
      "{\n",
      "  image: <list(1)> {'kind': 'parse-image', 'file': 'File:Jeff Wils...\n",
      "  infobox: <dict(27)> name, image, caption, birth_name, birth_plac...\n",
      "  pageid: 905152\n",
      "  parsetree: <str(20240)> <root><template><title>short description...\n",
      "  requests: <list(2)> parse, imageinfo\n",
      "  title: Jeff Wilson (sportsman)\n",
      "  wikibase: Q366237\n",
      "  wikidata_url: https://www.wikidata.org/wiki/Q366237\n",
      "  wikitext: <str(11359)> {{short description|New Zealand cricketer...\n",
      "}\n"
     ]
    },
    {
     "name": "stdout",
     "output_type": "stream",
     "text": [
      "192\n"
     ]
    },
    {
     "name": "stderr",
     "output_type": "stream",
     "text": [
      "en.wikipedia.org (parse) Jonty Rhodes\n",
      "en.wikipedia.org (imageinfo) File:Jonty rhodes02.jpg\n",
      "Jonty Rhodes (en) data\n",
      "{\n",
      "  image: <list(1)> {'kind': 'parse-image', 'file': 'File:Jonty rho...\n",
      "  infobox: <dict(90)> name, image, country, fullname, birth_date, ...\n",
      "  iwlinks: <list(1)> https://commons.wikimedia.org/wiki/Category:J...\n",
      "  pageid: 4287169\n",
      "  parsetree: <str(21176)> <root><template><title>short description...\n",
      "  requests: <list(2)> parse, imageinfo\n",
      "  title: Jonty Rhodes\n",
      "  wikibase: Q3521562\n",
      "  wikidata_url: https://www.wikidata.org/wiki/Q3521562\n",
      "  wikitext: <str(13156)> {{short description|South African cricket...\n",
      "}\n"
     ]
    },
    {
     "name": "stdout",
     "output_type": "stream",
     "text": [
      "193\n"
     ]
    },
    {
     "name": "stderr",
     "output_type": "stream",
     "text": [
      "en.wikipedia.org (parse) Rudie van Vuuren\n",
      "en.wikipedia.org (imageinfo) File:Rudie, Marlice & Zacheo van Vuu...\n",
      "Rudie van Vuuren (en) data\n",
      "{\n",
      "  image: <list(1)> {'kind': 'parse-image', 'file': 'File:Rudie, Ma...\n",
      "  infobox: <dict(49)> name, image, caption, country, fullname, bir...\n",
      "  pageid: 2994263\n",
      "  parsetree: <str(8370)> <root><template><title>EngvarB</title><pa...\n",
      "  requests: <list(2)> parse, imageinfo\n",
      "  title: Rudie van Vuuren\n",
      "  wikibase: Q3446664\n",
      "  wikidata_url: https://www.wikidata.org/wiki/Q3446664\n",
      "  wikitext: <str(4220)> {{EngvarB|date=August 2013}}{{Use dmy date...\n",
      "}\n"
     ]
    },
    {
     "name": "stdout",
     "output_type": "stream",
     "text": [
      "194\n"
     ]
    },
    {
     "name": "stderr",
     "output_type": "stream",
     "text": [
      "en.wikipedia.org (parse) Liam Botham\n",
      "Liam Botham (en) data\n",
      "{\n",
      "  infobox: <dict(23)> name, birth_name, birth_date, birth_place, h...\n",
      "  pageid: 1789550\n",
      "  parsetree: <str(12114)> <root><template><title>short description...\n",
      "  requests: <list(1)> parse\n",
      "  title: Liam Botham\n",
      "  wikibase: Q11004140\n",
      "  wikidata_url: https://www.wikidata.org/wiki/Q11004140\n",
      "  wikitext: <str(6774)> {{short description|English sportsman}}{{U...\n",
      "}\n"
     ]
    },
    {
     "name": "stdout",
     "output_type": "stream",
     "text": [
      "195\n"
     ]
    },
    {
     "name": "stderr",
     "output_type": "stream",
     "text": [
      "en.wikipedia.org (parse) Phil Neale\n",
      "Phil Neale (en) data\n",
      "{\n",
      "  infobox: <dict(4)> before, title, years, after\n",
      "  pageid: 4697878\n",
      "  parsetree: <str(5256)> <root><template><title>For</title><part><...\n",
      "  requests: <list(1)> parse\n",
      "  title: Phil Neale\n",
      "  wikibase: Q7182215\n",
      "  wikidata_url: https://www.wikidata.org/wiki/Q7182215\n",
      "  wikitext: <str(4041)> {{For|the England international defender|P...\n",
      "}\n"
     ]
    },
    {
     "name": "stdout",
     "output_type": "stream",
     "text": [
      "196\n"
     ]
    },
    {
     "name": "stderr",
     "output_type": "stream",
     "text": [
      "en.wikipedia.org (parse) Viv Richards\n",
      "en.wikipedia.org (imageinfo) File:Vivian richards crop.jpg\n",
      "Viv Richards (en) data\n",
      "{\n",
      "  image: <list(1)> {'kind': 'parse-image', 'file': 'File:Vivian ri...\n",
      "  infobox: <dict(97)> name, honorific_prefix, honorific_suffix, im...\n",
      "  iwlinks: <list(1)> https://commons.wikimedia.org/wiki/Category:V...\n",
      "  pageid: 565925\n",
      "  parsetree: <str(56455)> <root><template><title>Use British Engli...\n",
      "  requests: <list(2)> parse, imageinfo\n",
      "  title: Viv Richards\n",
      "  wikibase: Q738016\n",
      "  wikidata_url: https://www.wikidata.org/wiki/Q738016\n",
      "  wikitext: <str(40511)> {{Use British English|date=August 2011}}{...\n",
      "}\n"
     ]
    },
    {
     "name": "stdout",
     "output_type": "stream",
     "text": [
      "197\n"
     ]
    },
    {
     "name": "stderr",
     "output_type": "stream",
     "text": [
      "en.wikipedia.org (parse) Don Bradman\n",
      "en.wikipedia.org (imageinfo) File:Don Bradman 1930.jpg\n",
      "Don Bradman (en) data\n",
      "{\n",
      "  image: <list(1)> {'kind': 'parse-image', 'file': 'File:Don Bradm...\n",
      "  infobox: <dict(57)> name, image, caption, fullname, birth_date, ...\n",
      "  iwlinks: <list(2)> https://commons.wikimedia.org/wiki/Category:D...\n",
      "  pageid: 87021\n",
      "  parsetree: <str(175744)> <root><template><title>Redirect</title>...\n",
      "  requests: <list(2)> parse, imageinfo\n",
      "  title: Don Bradman\n",
      "  wikibase: Q313591\n",
      "  wikidata_url: https://www.wikidata.org/wiki/Q313591\n",
      "  wikitext: <str(139370)> {{Redirect|Bradman}}{{Pp-move-indef}}{{p...\n",
      "}\n"
     ]
    },
    {
     "name": "stdout",
     "output_type": "stream",
     "text": [
      "198\n"
     ]
    },
    {
     "name": "stderr",
     "output_type": "stream",
     "text": [
      "en.wikipedia.org (parse) Johnny Douglas\n",
      "en.wikipedia.org (imageinfo) File:Johnny Douglas c1906.jpg\n",
      "Johnny Douglas (en) data\n",
      "{\n",
      "  image: <list(1)> {'kind': 'parse-image', 'file': 'File:Johnny Do...\n",
      "  infobox: <dict(53)> name, image, caption, country, fullname, bir...\n",
      "  iwlinks: <list(1)> https://commons.wikimedia.org/wiki/Category:J...\n",
      "  pageid: 1343925\n",
      "  parsetree: <str(20768)> <root><template><title>About</title><par...\n",
      "  requests: <list(2)> parse, imageinfo\n",
      "  title: Johnny Douglas\n",
      "  wikibase: Q735824\n",
      "  wikidata_url: https://www.wikidata.org/wiki/Q735824\n",
      "  wikitext: <str(13602)> {{About|the cricketer|the easy listening ...\n",
      "}\n"
     ]
    },
    {
     "name": "stdout",
     "output_type": "stream",
     "text": [
      "199\n"
     ]
    },
    {
     "name": "stderr",
     "output_type": "stream",
     "text": [
      "en.wikipedia.org (parse) Yuzvendra Chahal\n",
      "Yuzvendra Chahal (en) data\n",
      "{\n",
      "  infobox: <dict(90)> name, birth_date, birth_place, caption, batt...\n",
      "  pageid: 36319694\n",
      "  parsetree: <str(19367)> <root><template><title>short description...\n",
      "  requests: <list(1)> parse\n",
      "  title: Yuzvendra Chahal\n",
      "  wikibase: Q8062264\n",
      "  wikidata_url: https://www.wikidata.org/wiki/Q8062264\n",
      "  wikitext: <str(11570)> {{short description|Indian cricketer}}{{U...\n",
      "}\n"
     ]
    },
    {
     "name": "stdout",
     "output_type": "stream",
     "text": [
      "200\n"
     ]
    },
    {
     "name": "stderr",
     "output_type": "stream",
     "text": [
      "en.wikipedia.org (parse) Lance Armstrong\n",
      "en.wikipedia.org (imageinfo) File:Lance Armstrong (Tour Down Unde...\n",
      "Lance Armstrong (en) data\n",
      "{\n",
      "  image: <list(1)> {'kind': 'parse-image', 'file': 'File:Lance Arm...\n",
      "  infobox: <dict(30)> name, image, caption, fullname, nickname, bi...\n",
      "  iwlinks: <list(4)> https://commons.wikimedia.org/wiki/Special:Se...\n",
      "  pageid: 23243880\n",
      "  parsetree: <str(193655)> <root><template><title>For</title><part...\n",
      "  requests: <list(2)> parse, imageinfo\n",
      "  title: Lance Armstrong\n",
      "  wikibase: Q2172\n",
      "  wikidata_url: https://www.wikidata.org/wiki/Q2172\n",
      "  wikitext: <str(150503)> {{For|the Australian politician|Lance Ar...\n",
      "}\n"
     ]
    },
    {
     "name": "stdout",
     "output_type": "stream",
     "text": [
      "201\n"
     ]
    },
    {
     "name": "stderr",
     "output_type": "stream",
     "text": [
      "en.wikipedia.org (parse) Hamish Bond\n",
      "en.wikipedia.org (imageinfo) File:Hamish Bond MNZM (cropped).jpg\n",
      "Hamish Bond (en) data\n",
      "{\n",
      "  image: <list(1)> {'kind': 'parse-image', 'file': 'File:Hamish Bo...\n",
      "  infobox: <dict(13)> name, honorific_suffix, image, caption, full...\n",
      "  iwlinks: <list(1)> https://commons.wikimedia.org/wiki/Category:H...\n",
      "  pageid: 26113604\n",
      "  parsetree: <str(27774)> <root><template><title>short description...\n",
      "  requests: <list(2)> parse, imageinfo\n",
      "  title: Hamish Bond\n",
      "  wikibase: Q1321253\n",
      "  wikidata_url: https://www.wikidata.org/wiki/Q1321253\n",
      "  wikitext: <str(18607)> {{short description|New Zealand rower}}{{...\n",
      "}\n"
     ]
    },
    {
     "name": "stdout",
     "output_type": "stream",
     "text": [
      "202\n"
     ]
    },
    {
     "name": "stderr",
     "output_type": "stream",
     "text": [
      "en.wikipedia.org (parse) Maria Canins\n",
      "Maria Canins (en) data\n",
      "{\n",
      "  infobox: <dict(9)> name, fullname, nickname, birth_date, birth_p...\n",
      "  iwlinks: <list(1)> https://de.wikipedia.org/wiki/Gazzetta_Sports...\n",
      "  pageid: 17637511\n",
      "  parsetree: <str(12617)> <root><template><title>short description...\n",
      "  requests: <list(1)> parse\n",
      "  title: Maria Canins\n",
      "  wikibase: Q432209\n",
      "  wikidata_url: https://www.wikidata.org/wiki/Q432209\n",
      "  wikitext: <str(8077)> {{short description|Italian racing cyclist...\n",
      "}\n"
     ]
    },
    {
     "name": "stdout",
     "output_type": "stream",
     "text": [
      "203\n"
     ]
    },
    {
     "name": "stderr",
     "output_type": "stream",
     "text": [
      "en.wikipedia.org (parse) Jaap Eden\n",
      "en.wikipedia.org (imageinfo) File:Jaap Eden world champion 1893.jpg\n",
      "Jaap Eden (en) data\n",
      "{\n",
      "  image: <list(1)> {'kind': 'parse-image', 'file': 'File:Jaap Eden...\n",
      "  infobox: <dict(13)> name, image, caption, headercolor, birth_nam...\n",
      "  iwlinks: <list(1)> https://commons.wikimedia.org/wiki/Category:J...\n",
      "  pageid: 1050140\n",
      "  parsetree: <str(17830)> <root><template><title>Infobox speed ska...\n",
      "  requests: <list(2)> parse, imageinfo\n",
      "  title: Jaap Eden\n",
      "  wikibase: Q719491\n",
      "  wikidata_url: https://www.wikidata.org/wiki/Q719491\n",
      "  wikitext: <str(10786)> {{Infobox speed skater| name           = ...\n",
      "}\n"
     ]
    },
    {
     "name": "stdout",
     "output_type": "stream",
     "text": [
      "204\n"
     ]
    },
    {
     "name": "stderr",
     "output_type": "stream",
     "text": [
      "en.wikipedia.org (parse) Eric Heiden\n",
      "en.wikipedia.org (imageinfo) File:Eric Heiden2.jpg\n",
      "Eric Heiden (en) data\n",
      "{\n",
      "  image: <list(1)> {'kind': 'parse-image', 'file': 'File:Eric Heid...\n",
      "  infobox: <dict(14)> name, image, caption, headercolor, nationali...\n",
      "  iwlinks: <list(1)> https://commons.wikimedia.org/wiki/Category:E...\n",
      "  pageid: 38988\n",
      "  parsetree: <str(30800)> <root><template><title>short description...\n",
      "  requests: <list(2)> parse, imageinfo\n",
      "  title: Eric Heiden\n",
      "  wikibase: Q311289\n",
      "  wikidata_url: https://www.wikidata.org/wiki/Q311289\n",
      "  wikitext: <str(20871)> {{short description|American speed skater...\n",
      "}\n"
     ]
    },
    {
     "name": "stdout",
     "output_type": "stream",
     "text": [
      "205\n"
     ]
    },
    {
     "name": "stderr",
     "output_type": "stream",
     "text": [
      "en.wikipedia.org (parse) Chris Hoy\n",
      "en.wikipedia.org (imageinfo) File:Chris Hoy at the Homecoming Par...\n",
      "Chris Hoy (en) data\n",
      "{\n",
      "  image: <list(1)> {'kind': 'parse-image', 'file': 'File:Chris Hoy...\n",
      "  infobox: <dict(27)> name, image, caption, fullname, birth_date, ...\n",
      "  iwlinks: <list(1)> https://commons.wikimedia.org/wiki/Category:C...\n",
      "  pageid: 2132449\n",
      "  parsetree: <str(70739)> <root><template><title>Infobox cyclist</...\n",
      "  requests: <list(2)> parse, imageinfo\n",
      "  title: Chris Hoy\n",
      "  wikibase: Q310383\n",
      "  wikidata_url: https://www.wikidata.org/wiki/Q310383\n",
      "  wikitext: <str(50060)> {{Infobox cyclist| name           = [[Sir...\n",
      "}\n"
     ]
    },
    {
     "name": "stdout",
     "output_type": "stream",
     "text": [
      "206\n"
     ]
    },
    {
     "name": "stderr",
     "output_type": "stream",
     "text": [
      "en.wikipedia.org (parse) Clara Hughes\n",
      "en.wikipedia.org (imageinfo) File:Clara Hughes on Walk of Fame 2.jpg\n",
      "Clara Hughes (en) data\n",
      "{\n",
      "  image: <list(1)> {'kind': 'parse-image', 'file': 'File:Clara Hug...\n",
      "  infobox: <dict(16)> name, image, caption, birth_name, birth_date...\n",
      "  iwlinks: <list(1)> https://commons.wikimedia.org/wiki/Category:C...\n",
      "  pageid: 102190\n",
      "  parsetree: <str(45466)> <root><template><title>short description...\n",
      "  requests: <list(2)> parse, imageinfo\n",
      "  title: Clara Hughes\n",
      "  wikibase: Q232682\n",
      "  wikidata_url: https://www.wikidata.org/wiki/Q232682\n",
      "  wikitext: <str(32312)> {{short description|Canadian speed skater...\n",
      "}\n"
     ]
    },
    {
     "name": "stdout",
     "output_type": "stream",
     "text": [
      "207\n"
     ]
    },
    {
     "name": "stderr",
     "output_type": "stream",
     "text": [
      "en.wikipedia.org (parse) Greg LeMond\n",
      "en.wikipedia.org (imageinfo) File:Greg-LeMond-2009 (2) (cropped).jpg\n",
      "Greg LeMond (en) data\n",
      "{\n",
      "  image: <list(1)> {'kind': 'parse-image', 'file': 'File:Greg-LeMo...\n",
      "  infobox: <dict(27)> name, image, caption, fullname, nickname, bi...\n",
      "  iwlinks: <list(3)> https://commons.wikimedia.org/wiki/Category:G...\n",
      "  pageid: 275268\n",
      "  parsetree: <str(189563)> <root><template><title>short descriptio...\n",
      "  requests: <list(2)> parse, imageinfo\n",
      "  title: Greg LeMond\n",
      "  wikibase: Q312697\n",
      "  wikidata_url: https://www.wikidata.org/wiki/Q312697\n",
      "  wikitext: <str(146748)> {{short description|American racing cycl...\n",
      "}\n"
     ]
    },
    {
     "name": "stdout",
     "output_type": "stream",
     "text": [
      "208\n"
     ]
    },
    {
     "name": "stderr",
     "output_type": "stream",
     "text": [
      "en.wikipedia.org (parse) Christa Luding-Rothenburger\n",
      "en.wikipedia.org (imageinfo) File:Bundesarchiv Bild 183-1988-0830...\n",
      "Christa Luding-Rothenburger (en) data\n",
      "{\n",
      "  image: <list(1)> {'kind': 'parse-image', 'file': 'File:Bundesarc...\n",
      "  infobox: <dict(9)> name, image, imagesize, headercolor, country,...\n",
      "  iwlinks: <list(1)> https://commons.wikimedia.org/wiki/Category:C...\n",
      "  pageid: 2240360\n",
      "  parsetree: <str(15858)> <root><template><title>short description...\n",
      "  requests: <list(2)> parse, imageinfo\n",
      "  title: Christa Luding-Rothenburger\n",
      "  wikibase: Q237064\n",
      "  wikidata_url: https://www.wikidata.org/wiki/Q237064\n",
      "  wikitext: <str(10971)> {{short description|German cyclist and sp...\n",
      "}\n"
     ]
    },
    {
     "name": "stdout",
     "output_type": "stream",
     "text": [
      "209\n"
     ]
    },
    {
     "name": "stderr",
     "output_type": "stream",
     "text": [
      "en.wikipedia.org (parse) Jaqueline Mourão\n",
      "Jaqueline Mourão (en) data\n",
      "{\n",
      "  infobox: <dict(12)> name, birth_date, birth_place, height, weigh...\n",
      "  pageid: 26669330\n",
      "  parsetree: <str(7938)> <root><template><title>Infobox sportspers...\n",
      "  requests: <list(1)> parse\n",
      "  title: Jaqueline Mourão\n",
      "  wikibase: Q440200\n",
      "  wikidata_url: https://www.wikidata.org/wiki/Q440200\n",
      "  wikitext: <str(3714)> {{Infobox sportsperson| name             =...\n",
      "}\n"
     ]
    },
    {
     "name": "stdout",
     "output_type": "stream",
     "text": [
      "210\n"
     ]
    },
    {
     "name": "stderr",
     "output_type": "stream",
     "text": [
      "en.wikipedia.org (parse) Emma Pooley\n",
      "en.wikipedia.org (imageinfo) File:Pooley PodiumF Ventouxman 2017.jpg\n",
      "Emma Pooley (en) data\n",
      "{\n",
      "  image: <list(1)> {'kind': 'parse-image', 'file': 'File:Pooley Po...\n",
      "  infobox: <dict(30)> name, image, caption, full_name, birth_date,...\n",
      "  iwlinks: <list(1)> https://commons.wikimedia.org/wiki/Category:E...\n",
      "  pageid: 17685876\n",
      "  parsetree: <str(54426)> <root><template><title>Use dmy dates</ti...\n",
      "  requests: <list(2)> parse, imageinfo\n",
      "  title: Emma Pooley\n",
      "  wikibase: Q239853\n",
      "  wikidata_url: https://www.wikidata.org/wiki/Q239853\n",
      "  wikitext: <str(42411)> {{Use dmy dates|date=August 2012}}{{Infob...\n",
      "}\n"
     ]
    },
    {
     "name": "stdout",
     "output_type": "stream",
     "text": [
      "211\n"
     ]
    },
    {
     "name": "stderr",
     "output_type": "stream",
     "text": [
      "en.wikipedia.org (parse) Primoz Roglic\n",
      "en.wikipedia.org (imageinfo) File:Primož Roglič (Team Jumbo-Visma...\n",
      "Primož Roglič (en) data\n",
      "{\n",
      "  image: <list(1)> {'kind': 'parse-image', 'file': 'File:Primož Ro...\n",
      "  infobox: <dict(18)> name, image, caption, fullname, birth_date, ...\n",
      "  iwlinks: <list(1)> https://commons.wikimedia.org/wiki/Category:P...\n",
      "  pageid: 40853057\n",
      "  parsetree: <str(29044)> <root><template><title>short description...\n",
      "  requests: <list(2)> parse, imageinfo\n",
      "  title: Primož Roglič\n",
      "  wikibase: Q2110167\n",
      "  wikidata_url: https://www.wikidata.org/wiki/Q2110167\n",
      "  wikitext: <str(21224)> {{short description|Slovenian ski jumper ...\n",
      "}\n"
     ]
    },
    {
     "name": "stdout",
     "output_type": "stream",
     "text": [
      "212\n"
     ]
    },
    {
     "name": "stderr",
     "output_type": "stream",
     "text": [
      "en.wikipedia.org (parse) Rebecca Romero\n",
      "en.wikipedia.org (imageinfo) File:Rebecca Romero.jpg\n",
      "Rebecca Romero (en) data\n",
      "{\n",
      "  image: <list(1)> {'kind': 'parse-image', 'file': 'File:Rebecca R...\n",
      "  infobox: <dict(12)> name, image, caption, fullname, birth_date, ...\n",
      "  pageid: 8385597\n",
      "  parsetree: <str(20142)> <root><template><title>EngvarB</title><p...\n",
      "  requests: <list(2)> parse, imageinfo\n",
      "  title: Rebecca Romero\n",
      "  wikibase: Q237209\n",
      "  wikidata_url: https://www.wikidata.org/wiki/Q237209\n",
      "  wikitext: <str(14302)> {{EngvarB|date=May 2015}}{{Use dmy dates|...\n",
      "}\n"
     ]
    },
    {
     "name": "stdout",
     "output_type": "stream",
     "text": [
      "213\n"
     ]
    },
    {
     "name": "stderr",
     "output_type": "stream",
     "text": [
      "en.wikipedia.org (parse) Alison Shanks\n",
      "en.wikipedia.org (imageinfo) File:Alison Shanks.jpg\n",
      "Alison Shanks (en) data\n",
      "{\n",
      "  image: <list(1)> {'kind': 'parse-image', 'file': 'File:Alison Sh...\n",
      "  infobox: <dict(12)> name, image, birth_date, birth_place, height...\n",
      "  pageid: 18894310\n",
      "  parsetree: <str(13026)> <root><template><title>Use New Zealand E...\n",
      "  requests: <list(2)> parse, imageinfo\n",
      "  title: Alison Shanks\n",
      "  wikibase: Q456580\n",
      "  wikidata_url: https://www.wikidata.org/wiki/Q456580\n",
      "  wikitext: <str(8787)> {{Use New Zealand English|date=March 2017}...\n",
      "}\n"
     ]
    },
    {
     "name": "stdout",
     "output_type": "stream",
     "text": [
      "214\n"
     ]
    },
    {
     "name": "stderr",
     "output_type": "stream",
     "text": [
      "en.wikipedia.org (parse) Nicolas Vouilloz\n",
      "Nicolas Vouilloz (en) data\n",
      "{\n",
      "  infobox: <dict(4)> before, title, years, after\n",
      "  iwlinks: <list(1)> https://commons.wikimedia.org/wiki/Category:N...\n",
      "  pageid: 4481263\n",
      "  parsetree: <str(16699)> <root><template><title>MedalTableTop</ti...\n",
      "  requests: <list(1)> parse\n",
      "  title: Nicolas Vouilloz\n",
      "  wikibase: Q923510\n",
      "  wikidata_url: https://www.wikidata.org/wiki/Q923510\n",
      "  wikitext: <str(12431)> {{MedalTableTop|Vouillozmc2011head2.JPG|2...\n",
      "}\n"
     ]
    },
    {
     "name": "stdout",
     "output_type": "stream",
     "text": [
      "215\n"
     ]
    },
    {
     "name": "stderr",
     "output_type": "stream",
     "text": [
      "en.wikipedia.org (parse) Michael Woods (cyclist)\n",
      "en.wikipedia.org (imageinfo) File:MikeWoods 2015TOA.jpg\n",
      "Michael Woods (cyclist) (en) data\n",
      "{\n",
      "  image: <list(1)> {'kind': 'parse-image', 'file': 'File:MikeWoods...\n",
      "  infobox: <dict(25)> name, image, caption, birth_date, birth_plac...\n",
      "  pageid: 44016093\n",
      "  parsetree: <str(23322)> <root><template><title>short description...\n",
      "  requests: <list(2)> parse, imageinfo\n",
      "  title: Michael Woods (cyclist)\n",
      "  wikibase: Q18211822\n",
      "  wikidata_url: https://www.wikidata.org/wiki/Q18211822\n",
      "  wikitext: <str(15918)> {{short description|Canadian cyclist}}{{U...\n",
      "}\n"
     ]
    },
    {
     "name": "stdout",
     "output_type": "stream",
     "text": [
      "216\n"
     ]
    },
    {
     "name": "stderr",
     "output_type": "stream",
     "text": [
      "en.wikipedia.org (parse) Cameron Wurf\n",
      "en.wikipedia.org (imageinfo) File:G7C7236 (cropped).JPG\n",
      "Cameron Wurf (en) data\n",
      "{\n",
      "  image: <list(1)> {'kind': 'parse-image', 'file': 'File:G7C7236 (...\n",
      "  infobox: <dict(32)> name, image, caption, fullname, birth_date, ...\n",
      "  iwlinks: <list(1)> https://commons.wikimedia.org/wiki/Category:C...\n",
      "  pageid: 32854685\n",
      "  parsetree: <str(17313)> <root><template><title>short description...\n",
      "  requests: <list(2)> parse, imageinfo\n",
      "  title: Cameron Wurf\n",
      "  wikibase: Q1028804\n",
      "  wikidata_url: https://www.wikidata.org/wiki/Q1028804\n",
      "  wikitext: <str(10310)> {{short description|Australian rower, roa...\n",
      "}\n"
     ]
    },
    {
     "name": "stdout",
     "output_type": "stream",
     "text": [
      "217\n"
     ]
    },
    {
     "name": "stderr",
     "output_type": "stream",
     "text": [
      "en.wikipedia.org (parse) Max Aaron\n",
      "en.wikipedia.org (imageinfo) File:Max Aaron - 2013 U.S. Champions...\n",
      "Max Aaron (en) data\n",
      "{\n",
      "  image: <list(1)> {'kind': 'parse-image', 'file': 'File:Max Aaron...\n",
      "  infobox: <dict(24)> name, image, caption, fullname, country, bir...\n",
      "  iwlinks: <list(1)> https://commons.wikimedia.org/wiki/Category:M...\n",
      "  pageid: 31102424\n",
      "  parsetree: <str(52265)> <root><template><title>short description...\n",
      "  requests: <list(2)> parse, imageinfo\n",
      "  title: Max Aaron\n",
      "  wikibase: Q7424848\n",
      "  wikidata_url: https://www.wikidata.org/wiki/Q7424848\n",
      "  wikitext: <str(39042)> {{short description|American figure skate...\n",
      "}\n"
     ]
    },
    {
     "name": "stdout",
     "output_type": "stream",
     "text": [
      "218\n"
     ]
    },
    {
     "name": "stderr",
     "output_type": "stream",
     "text": [
      "en.wikipedia.org (parse) Elvis Stojko\n",
      "en.wikipedia.org (imageinfo) File:ElvisStojko2002.jpg\n",
      "Elvis Stojko (en) data\n",
      "{\n",
      "  image: <list(1)> {'kind': 'parse-image', 'file': 'File:ElvisStoj...\n",
      "  infobox: <dict(12)> name, image, caption, country, birth_date, b...\n",
      "  iwlinks: <list(1)> https://commons.wikimedia.org/wiki/Category:E...\n",
      "  pageid: 247469\n",
      "  parsetree: <str(41890)> <root><template><title>short description...\n",
      "  requests: <list(2)> parse, imageinfo\n",
      "  title: Elvis Stojko\n",
      "  wikibase: Q473575\n",
      "  wikidata_url: https://www.wikidata.org/wiki/Q473575\n",
      "  wikitext: <str(29004)> {{short description|Canadian figure skate...\n",
      "}\n"
     ]
    },
    {
     "name": "stdout",
     "output_type": "stream",
     "text": [
      "219\n"
     ]
    },
    {
     "name": "stderr",
     "output_type": "stream",
     "text": [
      "en.wikipedia.org (parse) Hale Irwin\n",
      "en.wikipedia.org (imageinfo) File:HaleIrwin1986.jpg\n",
      "Hale Irwin (en) data\n",
      "{\n",
      "  image: <list(1)> {'kind': 'parse-image', 'file': 'File:HaleIrwin...\n",
      "  infobox: <dict(37)> name, image, caption, fullname, birth_date, ...\n",
      "  pageid: 1307603\n",
      "  parsetree: <str(70224)> <root><template><title>Infobox golfer</t...\n",
      "  requests: <list(2)> parse, imageinfo\n",
      "  title: Hale Irwin\n",
      "  wikibase: Q1384203\n",
      "  wikidata_url: https://www.wikidata.org/wiki/Q1384203\n",
      "  wikitext: <str(49851)> {{Infobox golfer| name              = Hal...\n",
      "}\n"
     ]
    },
    {
     "name": "stdout",
     "output_type": "stream",
     "text": [
      "220\n"
     ]
    },
    {
     "name": "stderr",
     "output_type": "stream",
     "text": [
      "en.wikipedia.org (parse) Ralph McKittrick\n",
      "Ralph McKittrick (en) data\n",
      "{\n",
      "  pageid: 13917224\n",
      "  parsetree: <str(3262)> <root><template><title>short description<...\n",
      "  requests: <list(1)> parse\n",
      "  title: Ralph McKittrick\n",
      "  wikibase: Q54541\n",
      "  wikidata_url: https://www.wikidata.org/wiki/Q54541\n",
      "  wikitext: <str(2174)> {{short description|American golfer and te...\n",
      "}\n"
     ]
    },
    {
     "name": "stdout",
     "output_type": "stream",
     "text": [
      "221\n"
     ]
    },
    {
     "name": "stderr",
     "output_type": "stream",
     "text": [
      "en.wikipedia.org (parse) Masashi Ozaki\n",
      "Masashi Ozaki (en) data\n",
      "{\n",
      "  infobox: <dict(20)> name, nickname, birth_date, birth_place, hei...\n",
      "  pageid: 2200260\n",
      "  parsetree: <str(19676)> <root><template><title>short description...\n",
      "  requests: <list(1)> parse\n",
      "  title: Masashi Ozaki\n",
      "  wikibase: Q713073\n",
      "  wikidata_url: https://www.wikidata.org/wiki/Q713073\n",
      "  wikitext: <str(13511)> {{short description|Japanese golfer}}{{In...\n",
      "}\n"
     ]
    },
    {
     "name": "stdout",
     "output_type": "stream",
     "text": [
      "222\n"
     ]
    },
    {
     "name": "stderr",
     "output_type": "stream",
     "text": [
      "en.wikipedia.org (parse) Frank Souchak\n",
      "Frank Souchak (en) data\n",
      "{\n",
      "  infobox: <dict(13)> name, fullname, birth_date, birth_place, dea...\n",
      "  pageid: 31357236\n",
      "  parsetree: <str(9918)> <root><template><title>Infobox golfer</ti...\n",
      "  requests: <list(1)> parse\n",
      "  title: Frank Souchak\n",
      "  wikibase: Q5489703\n",
      "  wikidata_url: https://www.wikidata.org/wiki/Q5489703\n",
      "  wikitext: <str(6006)> {{Infobox golfer| name              = Fran...\n",
      "}\n"
     ]
    },
    {
     "name": "stdout",
     "output_type": "stream",
     "text": [
      "223\n"
     ]
    },
    {
     "name": "stderr",
     "output_type": "stream",
     "text": [
      "en.wikipedia.org (parse) Babe Zaharias\n",
      "en.wikipedia.org (imageinfo) File:Babe Didrikson Zaharias 1938cr.jpg\n",
      "Babe Didrikson Zaharias (en) data\n",
      "{\n",
      "  image: <list(1)> {'kind': 'parse-image', 'file': 'File:Babe Didr...\n",
      "  infobox: <dict(34)> name, image, image_size, caption, fullname, ...\n",
      "  iwlinks: <list(1)> https://commons.wikimedia.org/wiki/Category:B...\n",
      "  pageid: 318477\n",
      "  parsetree: <str(61860)> <root><template><title>Use mdy dates</ti...\n",
      "  requests: <list(2)> parse, imageinfo\n",
      "  title: Babe Didrikson Zaharias\n",
      "  wikibase: Q231983\n",
      "  wikidata_url: https://www.wikidata.org/wiki/Q231983\n",
      "  wikitext: <str(45243)> {{Use mdy dates|date=August 2017}}{{Infob...\n",
      "}\n"
     ]
    },
    {
     "name": "stdout",
     "output_type": "stream",
     "text": [
      "224\n"
     ]
    },
    {
     "name": "stderr",
     "output_type": "stream",
     "text": [
      "en.wikipedia.org (parse) Laura Coenen\n",
      "Laura Coenen (en) data\n",
      "{\n",
      "  infobox: <dict(2)> boxes, count\n",
      "  pageid: 36460365\n",
      "  parsetree: <str(1589)> <root>'''Laura Coenen''' (born 16 October...\n",
      "  requests: <list(1)> parse\n",
      "  title: Laura Coenen\n",
      "  wikibase: Q6498810\n",
      "  wikidata_url: https://www.wikidata.org/wiki/Q6498810\n",
      "  wikitext: <str(1298)> '''Laura Coenen''' (born 16 October 1962) ...\n",
      "}\n"
     ]
    },
    {
     "name": "stdout",
     "output_type": "stream",
     "text": [
      "225\n"
     ]
    },
    {
     "name": "stderr",
     "output_type": "stream",
     "text": [
      "en.wikipedia.org (parse) Vsevolod Bobrov\n",
      "en.wikipedia.org (imageinfo) File:Vsevolod bobrov.jpg\n",
      "Vsevolod Bobrov (en) data\n",
      "{\n",
      "  image: <list(1)> {'kind': 'parse-image', 'file': 'File:Vsevolod ...\n",
      "  infobox: <dict(9)> name, image, caption, image_size, birth_date,...\n",
      "  iwlinks: <list(1)> https://commons.wikimedia.org/wiki/Category:V...\n",
      "  pageid: 1724199\n",
      "  parsetree: <str(18071)> <root><template><title>Eastern Slavic na...\n",
      "  requests: <list(2)> parse, imageinfo\n",
      "  title: Vsevolod Bobrov\n",
      "  wikibase: Q433391\n",
      "  wikidata_url: https://www.wikidata.org/wiki/Q433391\n",
      "  wikitext: <str(11750)> {{Eastern Slavic name|Mikhailovich|Bobrov...\n",
      "}\n"
     ]
    },
    {
     "name": "stdout",
     "output_type": "stream",
     "text": [
      "226\n"
     ]
    },
    {
     "name": "stderr",
     "output_type": "stream",
     "text": [
      "en.wikipedia.org (parse) Petr Čech\n",
      "en.wikipedia.org (imageinfo) File:Petr Čech Chelsea vs AS-Roma 10...\n",
      "Petr Čech (en) data\n",
      "{\n",
      "  image: <list(1)> {'kind': 'parse-image', 'file': 'File:Petr Čech...\n",
      "  infobox: <dict(62)> name, image, caption, fullname, birth_date, ...\n",
      "  iwlinks: <list(2)> https://commons.wikimedia.org/wiki/Category:P...\n",
      "  pageid: 1031818\n",
      "  parsetree: <str(152251)> <root><template><title>for</title><part...\n",
      "  requests: <list(2)> parse, imageinfo\n",
      "  title: Petr Čech\n",
      "  wikibase: Q483137\n",
      "  wikidata_url: https://www.wikidata.org/wiki/Q483137\n",
      "  wikitext: <str(120976)> {{for|the Olympic hurdler|Petr Čech (hur...\n",
      "}\n"
     ]
    },
    {
     "name": "stdout",
     "output_type": "stream",
     "text": [
      "227\n"
     ]
    },
    {
     "name": "stderr",
     "output_type": "stream",
     "text": [
      "en.wikipedia.org (parse) Donald Brashear\n",
      "en.wikipedia.org (imageinfo) File:Brashear87.jpg\n",
      "Donald Brashear (en) data\n",
      "{\n",
      "  image: <list(1)> {'kind': 'parse-image', 'file': 'File:Brashear8...\n",
      "  infobox: <dict(15)> image, image_size, caption, birth_date, birt...\n",
      "  iwlinks: <list(1)> https://commons.wikimedia.org/wiki/Category:D...\n",
      "  pageid: 718894\n",
      "  parsetree: <str(66296)> <root><template><title>short description...\n",
      "  requests: <list(2)> parse, imageinfo\n",
      "  title: Donald Brashear\n",
      "  wikibase: Q283795\n",
      "  wikidata_url: https://www.wikidata.org/wiki/Q283795\n",
      "  wikitext: <str(55447)> {{short description|Ice hockey player}}{{...\n",
      "}\n"
     ]
    },
    {
     "name": "stdout",
     "output_type": "stream",
     "text": [
      "228\n"
     ]
    },
    {
     "name": "stderr",
     "output_type": "stream",
     "text": [
      "en.wikipedia.org (parse) Jack Caffery (ice hockey)\n",
      "Jack Caffery (ice hockey) (en) data\n",
      "{\n",
      "  infobox: <dict(11)> birth_date, birth_place, death_date, height_...\n",
      "  pageid: 25473821\n",
      "  parsetree: <str(3464)> <root><template><title>Infobox ice hockey...\n",
      "  requests: <list(1)> parse\n",
      "  title: Jack Caffery (ice hockey)\n",
      "  wikibase: Q6111539\n",
      "  wikidata_url: https://www.wikidata.org/wiki/Q6111539\n",
      "  wikitext: <str(1409)> {{Infobox ice hockey player| image = | cap...\n",
      "}\n"
     ]
    },
    {
     "name": "stdout",
     "output_type": "stream",
     "text": [
      "229\n"
     ]
    },
    {
     "name": "stderr",
     "output_type": "stream",
     "text": [
      "en.wikipedia.org (parse) Lionel Conacher\n",
      "en.wikipedia.org (imageinfo) File:Lionel Conacher crosse.jpg\n",
      "Lionel Conacher (en) data\n",
      "{\n",
      "  image: <list(1)> {'kind': 'parse-image', 'file': 'File:Lionel Co...\n",
      "  infobox: <dict(27)> image, image_size, office1, constituency1, t...\n",
      "  pageid: 1103472\n",
      "  parsetree: <str(55440)> <root><template><title>short description...\n",
      "  requests: <list(2)> parse, imageinfo\n",
      "  title: Lionel Conacher\n",
      "  wikibase: Q934093\n",
      "  wikidata_url: https://www.wikidata.org/wiki/Q934093\n",
      "  wikitext: <str(39046)> {{short description|Canadian athlete and ...\n",
      "}\n"
     ]
    },
    {
     "name": "stdout",
     "output_type": "stream",
     "text": [
      "230\n"
     ]
    },
    {
     "name": "stderr",
     "output_type": "stream",
     "text": [
      "en.wikipedia.org (parse) Bill Ezinicki\n",
      "en.wikipedia.org (imageinfo) File:Bill Ezinicki, c 1946.jpg\n",
      "Bill Ezinicki (en) data\n",
      "{\n",
      "  image: <list(1)> {'kind': 'parse-image', 'file': 'File:Bill Ezin...\n",
      "  infobox: <dict(15)> image, image_size, caption, position, played...\n",
      "  pageid: 3082970\n",
      "  parsetree: <str(6074)> <root><template><title>Infobox ice hockey...\n",
      "  requests: <list(2)> parse, imageinfo\n",
      "  title: Bill Ezinicki\n",
      "  wikibase: Q4908935\n",
      "  wikidata_url: https://www.wikidata.org/wiki/Q4908935\n",
      "  wikitext: <str(3916)> {{Infobox ice hockey player| image = Bill ...\n",
      "}\n"
     ]
    },
    {
     "name": "stdout",
     "output_type": "stream",
     "text": [
      "231\n"
     ]
    },
    {
     "name": "stderr",
     "output_type": "stream",
     "text": [
      "en.wikipedia.org (parse) Chris Drury\n",
      "en.wikipedia.org (imageinfo) File:Chris Drury2.jpg\n",
      "Chris Drury (en) data\n",
      "{\n",
      "  image: <list(1)> {'kind': 'parse-image', 'file': 'File:Chris Dru...\n",
      "  infobox: <dict(18)> image, image_size, caption, played_for, leag...\n",
      "  iwlinks: <list(1)> https://commons.wikimedia.org/wiki/Category:C...\n",
      "  pageid: 976963\n",
      "  parsetree: <str(40758)> <root><template><title>other uses</title...\n",
      "  requests: <list(2)> parse, imageinfo\n",
      "  title: Chris Drury\n",
      "  wikibase: Q471491\n",
      "  wikidata_url: https://www.wikidata.org/wiki/Q471491\n",
      "  wikitext: <str(31465)> {{other uses}}{{Use mdy dates|date=Decemb...\n",
      "}\n"
     ]
    },
    {
     "name": "stdout",
     "output_type": "stream",
     "text": [
      "232\n"
     ]
    },
    {
     "name": "stderr",
     "output_type": "stream",
     "text": [
      "en.wikipedia.org (parse) Jarome Iginla\n",
      "en.wikipedia.org (imageinfo) File:Jarome Iginla. 2008.JPG\n",
      "Jarome Iginla (en) data\n",
      "{\n",
      "  image: <list(1)> {'kind': 'parse-image', 'file': 'File:Jarome Ig...\n",
      "  infobox: <dict(18)> name, image, image_size, caption, birth_date...\n",
      "  iwlinks: <list(1)> https://commons.wikimedia.org/wiki/Category:J...\n",
      "  pageid: 440375\n",
      "  parsetree: <str(108987)> <root><template><title>Use Canadian Eng...\n",
      "  requests: <list(2)> parse, imageinfo\n",
      "  title: Jarome Iginla\n",
      "  wikibase: Q456708\n",
      "  wikidata_url: https://www.wikidata.org/wiki/Q456708\n",
      "  wikitext: <str(87935)> {{Use Canadian English|date=March 2017}}{...\n",
      "}\n"
     ]
    },
    {
     "name": "stdout",
     "output_type": "stream",
     "text": [
      "233\n"
     ]
    },
    {
     "name": "stderr",
     "output_type": "stream",
     "text": [
      "en.wikipedia.org (parse) Gerry James\n",
      "Gerry James (en) data\n",
      "{\n",
      "  infobox: <dict(8)> name, birth_name, birth_date, birth_place, re...\n",
      "  pageid: 6808591\n",
      "  parsetree: <str(14261)> <root><template><title>For</title><part>...\n",
      "  requests: <list(1)> parse\n",
      "  title: Gerry James\n",
      "  wikibase: Q5552813\n",
      "  wikidata_url: https://www.wikidata.org/wiki/Q5552813\n",
      "  wikitext: <str(10552)> {{For|those of a similar name|Jerry James...\n",
      "}\n"
     ]
    },
    {
     "name": "stdout",
     "output_type": "stream",
     "text": [
      "234\n"
     ]
    },
    {
     "name": "stderr",
     "output_type": "stream",
     "text": [
      "en.wikipedia.org (parse) Jon Mirasty\n",
      "en.wikipedia.org (imageinfo) File:Jon Mirasty 2014.jpg\n",
      "Jon Mirasty (en) data\n",
      "{\n",
      "  image: <list(1)> {'kind': 'parse-image', 'file': 'File:Jon Miras...\n",
      "  infobox: <dict(15)> image_size, image, caption, position, shoots...\n",
      "  pageid: 22271370\n",
      "  parsetree: <str(8310)> <root><template><title>Infobox ice hockey...\n",
      "  requests: <list(2)> parse, imageinfo\n",
      "  title: Jon Mirasty\n",
      "  wikibase: Q984600\n",
      "  wikidata_url: https://www.wikidata.org/wiki/Q984600\n",
      "  wikitext: <str(5672)> {{Infobox ice hockey player| image_size = ...\n",
      "}\n"
     ]
    },
    {
     "name": "stdout",
     "output_type": "stream",
     "text": [
      "235\n"
     ]
    },
    {
     "name": "stderr",
     "output_type": "stream",
     "text": [
      "en.wikipedia.org (parse) Matt Moulson\n",
      "en.wikipedia.org (imageinfo) File:Matt Moulson - Buffalo Sabres.jpg\n",
      "Matt Moulson (en) data\n",
      "{\n",
      "  image: <list(1)> {'kind': 'parse-image', 'file': 'File:Matt Moul...\n",
      "  infobox: <dict(18)> name, image, image_size, caption, birth_date...\n",
      "  pageid: 14054847\n",
      "  parsetree: <str(21872)> <root><template><title>short description...\n",
      "  requests: <list(2)> parse, imageinfo\n",
      "  title: Matt Moulson\n",
      "  wikibase: Q949932\n",
      "  wikidata_url: https://www.wikidata.org/wiki/Q949932\n",
      "  wikitext: <str(17413)> {{short description|Canadian ice hockey p...\n",
      "}\n"
     ]
    },
    {
     "name": "stdout",
     "output_type": "stream",
     "text": [
      "236\n"
     ]
    },
    {
     "name": "stderr",
     "output_type": "stream",
     "text": [
      "en.wikipedia.org (parse) Joe Nieuwendyk\n",
      "en.wikipedia.org (imageinfo) File:Joe Nieuwendyk.png\n",
      "Joe Nieuwendyk (en) data\n",
      "{\n",
      "  image: <list(1)> {'kind': 'parse-image', 'file': 'File:Joe Nieuw...\n",
      "  infobox: <dict(20)> name, halloffame, image, image_size, caption...\n",
      "  pageid: 629998\n",
      "  parsetree: <str(62404)> <root><template><title>good article</tit...\n",
      "  requests: <list(2)> parse, imageinfo\n",
      "  title: Joe Nieuwendyk\n",
      "  wikibase: Q693585\n",
      "  wikidata_url: https://www.wikidata.org/wiki/Q693585\n",
      "  wikitext: <str(49353)> {{good article}}{{Infobox ice hockey play...\n",
      "}\n"
     ]
    },
    {
     "name": "stdout",
     "output_type": "stream",
     "text": [
      "237\n"
     ]
    },
    {
     "name": "stderr",
     "output_type": "stream",
     "text": [
      "en.wikipedia.org (parse) Patrice Brisebois\n",
      "en.wikipedia.org (imageinfo) File:Patrice Brisebois August 2011.jpg\n",
      "Patrice Brisebois (en) data\n",
      "{\n",
      "  image: <list(1)> {'kind': 'parse-image', 'file': 'File:Patrice B...\n",
      "  infobox: <dict(18)> position, shoots, height_ft, height_in, weig...\n",
      "  pageid: 850739\n",
      "  parsetree: <str(24868)> <root><template><title>Infobox ice hocke...\n",
      "  requests: <list(2)> parse, imageinfo\n",
      "  title: Patrice Brisebois\n",
      "  wikibase: Q1356279\n",
      "  wikidata_url: https://www.wikidata.org/wiki/Q1356279\n",
      "  wikitext: <str(19981)> {{Infobox ice hockey player| position    ...\n",
      "}\n"
     ]
    },
    {
     "name": "stdout",
     "output_type": "stream",
     "text": [
      "238\n"
     ]
    },
    {
     "name": "stderr",
     "output_type": "stream",
     "text": [
      "en.wikipedia.org (parse) Gary Roberts (ice hockey)\n",
      "en.wikipedia.org (imageinfo) File:Gary Roberts.JPG\n",
      "Gary Roberts (ice hockey) (en) data\n",
      "{\n",
      "  image: <list(1)> {'kind': 'parse-image', 'file': 'File:Gary Robe...\n",
      "  infobox: <dict(17)> name, image, image_size, image_alt, birth_da...\n",
      "  pageid: 440128\n",
      "  parsetree: <str(52878)> <root><template><title>good article</tit...\n",
      "  requests: <list(2)> parse, imageinfo\n",
      "  title: Gary Roberts (ice hockey)\n",
      "  wikibase: Q239137\n",
      "  wikidata_url: https://www.wikidata.org/wiki/Q239137\n",
      "  wikitext: <str(42109)> {{good article}}{{Infobox ice hockey play...\n",
      "}\n"
     ]
    },
    {
     "name": "stdout",
     "output_type": "stream",
     "text": [
      "239\n"
     ]
    },
    {
     "name": "stderr",
     "output_type": "stream",
     "text": [
      "en.wikipedia.org (parse) Teemu Selänne\n",
      "en.wikipedia.org (imageinfo) File:Teemu Selanne on the ice Novemb...\n",
      "Teemu Selänne (en) data\n",
      "{\n",
      "  image: <list(1)> {'kind': 'parse-image', 'file': 'File:Teemu Sel...\n",
      "  infobox: <dict(19)> image, image_size, caption, league, position...\n",
      "  iwlinks: <list(1)> https://commons.wikimedia.org/wiki/Category:T...\n",
      "  pageid: 264865\n",
      "  parsetree: <str(104619)> <root><template><title>redirect</title>...\n",
      "  requests: <list(2)> parse, imageinfo\n",
      "  title: Teemu Selänne\n",
      "  wikibase: Q253073\n",
      "  wikidata_url: https://www.wikidata.org/wiki/Q253073\n",
      "  wikitext: <str(81370)> {{redirect|Selänne|the documentary film|S...\n",
      "}\n"
     ]
    },
    {
     "name": "stdout",
     "output_type": "stream",
     "text": [
      "240\n"
     ]
    },
    {
     "name": "stderr",
     "output_type": "stream",
     "text": [
      "en.wikipedia.org (parse) Dave Semenko\n",
      "en.wikipedia.org (imageinfo) File:Dave Semenko 2016.jpg\n",
      "Dave Semenko (en) data\n",
      "{\n",
      "  image: <list(1)> {'kind': 'parse-image', 'file': 'File:Dave Seme...\n",
      "  infobox: <dict(21)> image, image_size, caption, position, played...\n",
      "  pageid: 2410775\n",
      "  parsetree: <str(17552)> <root><template><title>Infobox ice hocke...\n",
      "  requests: <list(2)> parse, imageinfo\n",
      "  title: Dave Semenko\n",
      "  wikibase: Q962628\n",
      "  wikidata_url: https://www.wikidata.org/wiki/Q962628\n",
      "  wikitext: <str(13393)> {{Infobox ice hockey player| image = Dave...\n",
      "}\n"
     ]
    },
    {
     "name": "stdout",
     "output_type": "stream",
     "text": [
      "241\n"
     ]
    },
    {
     "name": "stderr",
     "output_type": "stream",
     "text": [
      "en.wikipedia.org (parse) Sven Tumba\n",
      "en.wikipedia.org (imageinfo) File:Sven Tumba SOK.jpg\n",
      "Sven Tumba (en) data\n",
      "{\n",
      "  image: <list(1)> {'kind': 'parse-image', 'file': 'File:Sven Tumb...\n",
      "  infobox: <dict(13)> image, caption, image_size, birth_name, birt...\n",
      "  iwlinks: <list(1)> https://commons.wikimedia.org/wiki/Category:S...\n",
      "  pageid: 6088073\n",
      "  parsetree: <str(24682)> <root><template><title>use dmy dates</ti...\n",
      "  requests: <list(2)> parse, imageinfo\n",
      "  title: Sven Tumba\n",
      "  wikibase: Q368539\n",
      "  wikidata_url: https://www.wikidata.org/wiki/Q368539\n",
      "  wikitext: <str(17495)> {{use dmy dates|date=October 2011}}{{Info...\n",
      "}\n"
     ]
    },
    {
     "name": "stdout",
     "output_type": "stream",
     "text": [
      "242\n"
     ]
    },
    {
     "name": "stderr",
     "output_type": "stream",
     "text": [
      "en.wikipedia.org (parse) Carl Voss\n",
      "en.wikipedia.org (imageinfo) File:Carl Voss.jpg\n",
      "Carl Voss (en) data\n",
      "{\n",
      "  image: <list(1)> {'kind': 'parse-image', 'file': 'File:Carl Voss...\n",
      "  infobox: <dict(16)> image, image_size, caption, position, played...\n",
      "  pageid: 3688785\n",
      "  parsetree: <str(14407)> <root><template><title>for</title><part>...\n",
      "  requests: <list(2)> parse, imageinfo\n",
      "  title: Carl Voss\n",
      "  wikibase: Q288876\n",
      "  wikidata_url: https://www.wikidata.org/wiki/Q288876\n",
      "  wikitext: <str(11299)> {{for|the actor|Carl Voss (film extra)}}{...\n",
      "}\n"
     ]
    },
    {
     "name": "stdout",
     "output_type": "stream",
     "text": [
      "243\n"
     ]
    },
    {
     "name": "stderr",
     "output_type": "stream",
     "text": [
      "en.wikipedia.org (parse) Hayley Wickenheiser\n",
      "en.wikipedia.org (imageinfo) File:Hayley Wickenheiser (17378332249).jpg\n",
      "Hayley Wickenheiser (en) data\n",
      "{\n",
      "  image: <list(1)> {'kind': 'parse-image', 'file': 'File:Hayley Wi...\n",
      "  infobox: <dict(16)> name, halloffame, image, caption, position, ...\n",
      "  iwlinks: <list(2)> https://commons.wikimedia.org/wiki/Category:B...\n",
      "  pageid: 40628\n",
      "  parsetree: <str(49768)> <root><template><title>pp-move-indef</ti...\n",
      "  requests: <list(2)> parse, imageinfo\n",
      "  title: Hayley Wickenheiser\n",
      "  wikibase: Q235029\n",
      "  wikidata_url: https://www.wikidata.org/wiki/Q235029\n",
      "  wikitext: <str(37585)> {{pp-move-indef}}{{Use mdy dates|date=Jan...\n",
      "}\n"
     ]
    },
    {
     "name": "stdout",
     "output_type": "stream",
     "text": [
      "244\n"
     ]
    },
    {
     "name": "stderr",
     "output_type": "stream",
     "text": [
      "en.wikipedia.org (parse) Jeremy Yablonski\n",
      "Jeremy Yablonski (en) data\n",
      "{\n",
      "  infobox: <dict(11)> birth_date, birth_place, height_ft, height_i...\n",
      "  pageid: 2932772\n",
      "  parsetree: <str(10317)> <root><template><title>short description...\n",
      "  requests: <list(1)> parse\n",
      "  title: Jeremy Yablonski\n",
      "  wikibase: Q536720\n",
      "  wikidata_url: https://www.wikidata.org/wiki/Q536720\n",
      "  wikitext: <str(8030)> {{short description|Canadian ice hockey pl...\n",
      "}\n"
     ]
    },
    {
     "name": "stdout",
     "output_type": "stream",
     "text": [
      "245\n"
     ]
    },
    {
     "name": "stderr",
     "output_type": "stream",
     "text": [
      "en.wikipedia.org (parse) Peter Zezel\n",
      "en.wikipedia.org (imageinfo) File:Peter Zezel 1992 Vujcic photo.jpg\n",
      "Peter Zezel (en) data\n",
      "{\n",
      "  image: <list(1)> {'kind': 'parse-image', 'file': 'File:Peter Zez...\n",
      "  infobox: <dict(18)> image, caption, image_size, position, played...\n",
      "  iwlinks: <list(1)> https://commons.wikimedia.org/wiki/Category:P...\n",
      "  pageid: 1888296\n",
      "  parsetree: <str(23252)> <root><template><title>Infobox ice hocke...\n",
      "  requests: <list(2)> parse, imageinfo\n",
      "  title: Peter Zezel\n",
      "  wikibase: Q946247\n",
      "  wikidata_url: https://www.wikidata.org/wiki/Q946247\n",
      "  wikitext: <str(18377)> {{Infobox ice hockey player| image = Pete...\n",
      "}\n"
     ]
    },
    {
     "name": "stdout",
     "output_type": "stream",
     "text": [
      "246\n"
     ]
    },
    {
     "name": "stderr",
     "output_type": "stream",
     "text": [
      "en.wikipedia.org (parse) Jaroslav Drobný\n",
      "en.wikipedia.org (imageinfo) File:Jaroslav Drobný and Bob Mark 1958.jpg\n",
      "Jaroslav Drobný (en) data\n",
      "{\n",
      "  image: <list(1)> {'kind': 'parse-image', 'file': 'File:Jaroslav ...\n",
      "  infobox: <dict(26)> name, image, image_size, caption, country, b...\n",
      "  iwlinks: <list(1)> https://commons.wikimedia.org/wiki/Category:J...\n",
      "  pageid: 2138013\n",
      "  parsetree: <str(30722)> <root><template><title>short description...\n",
      "  requests: <list(2)> parse, imageinfo\n",
      "  title: Jaroslav Drobný\n",
      "  wikibase: Q365518\n",
      "  wikidata_url: https://www.wikidata.org/wiki/Q365518\n",
      "  wikitext: <str(20556)> {{short description|Czech tennis and ice ...\n",
      "}\n"
     ]
    },
    {
     "name": "stdout",
     "output_type": "stream",
     "text": [
      "247\n"
     ]
    },
    {
     "name": "stderr",
     "output_type": "stream",
     "text": [
      "en.wikipedia.org (parse) Chazz Woodson\n",
      "Chazz Woodson (en) data\n",
      "{\n",
      "  infobox: <dict(13)> order, position, height_ft, height_in, weigh...\n",
      "  pageid: 10316917\n",
      "  parsetree: <str(7686)> <root><template><title>Infobox lacrosse p...\n",
      "  requests: <list(1)> parse\n",
      "  title: Chazz Woodson\n",
      "  wikibase: Q5088695\n",
      "  wikidata_url: https://www.wikidata.org/wiki/Q5088695\n",
      "  wikitext: <str(5302)> {{Infobox lacrosse player| image     = | o...\n",
      "}\n"
     ]
    },
    {
     "name": "stdout",
     "output_type": "stream",
     "text": [
      "248\n"
     ]
    },
    {
     "name": "stderr",
     "output_type": "stream",
     "text": [
      "en.wikipedia.org (parse) Dave Bautista\n",
      "en.wikipedia.org (imageinfo) File:Dave Bautista Photo Op GalaxyCo...\n",
      "Dave Bautista (en) data\n",
      "{\n",
      "  image: <list(1)> {'kind': 'parse-image', 'file': 'File:Dave Baut...\n",
      "  infobox: <dict(12)> name, image, caption, birth_name, birth_date...\n",
      "  iwlinks: <list(2)> https://commons.wikimedia.org/wiki/Category:D...\n",
      "  pageid: 652402\n",
      "  parsetree: <str(144670)> <root><template><title>redirect</title>...\n",
      "  requests: <list(2)> parse, imageinfo\n",
      "  title: Dave Bautista\n",
      "  wikibase: Q44158\n",
      "  wikidata_url: https://www.wikidata.org/wiki/Q44158\n",
      "  wikitext: <str(119786)> {{redirect|David Batista|the Brazilian f...\n",
      "}\n"
     ]
    },
    {
     "name": "stdout",
     "output_type": "stream",
     "text": [
      "249\n"
     ]
    },
    {
     "name": "stderr",
     "output_type": "stream",
     "text": [
      "en.wikipedia.org (parse) Nick Diaz\n",
      "en.wikipedia.org (imageinfo) File:Nick Diaz 2009.jpg\n",
      "Nick Diaz (en) data\n",
      "{\n",
      "  image: <list(1)> {'kind': 'parse-image', 'file': 'File:Nick Diaz...\n",
      "  infobox: <dict(28)> name, image, image_size, caption, birth_name...\n",
      "  iwlinks: <list(1)> https://en.wikiquote.org/wiki/Special:Search/...\n",
      "  pageid: 3848862\n",
      "  parsetree: <str(105593)> <root><template><title>Use mdy dates</t...\n",
      "  requests: <list(2)> parse, imageinfo\n",
      "  title: Nick Diaz\n",
      "  wikibase: Q919177\n",
      "  wikidata_url: https://www.wikidata.org/wiki/Q919177\n",
      "  wikitext: <str(78081)> {{Use mdy dates|date=August 2016}}{{short...\n",
      "}\n"
     ]
    },
    {
     "name": "stdout",
     "output_type": "stream",
     "text": [
      "250\n"
     ]
    },
    {
     "name": "stderr",
     "output_type": "stream",
     "text": [
      "en.wikipedia.org (parse) Fedor Emelianenko\n",
      "en.wikipedia.org (imageinfo) File:Fedor Emelianenko 2012.jpg\n",
      "Fedor Emelianenko (en) data\n",
      "{\n",
      "  image: <list(1)> {'kind': 'parse-image', 'file': 'File:Fedor Eme...\n",
      "  infobox: <dict(37)> name, native_name, native_name_lang, image, ...\n",
      "  iwlinks: <list(1)> https://commons.wikimedia.org/wiki/Category:F...\n",
      "  pageid: 26182584\n",
      "  parsetree: <str(176607)> <root><template><title>pp-protect</titl...\n",
      "  requests: <list(2)> parse, imageinfo\n",
      "  title: Fedor Emelianenko\n",
      "  wikibase: Q205953\n",
      "  wikidata_url: https://www.wikidata.org/wiki/Q205953\n",
      "  wikitext: <str(135474)> {{pp-protect|small=yes}}{{pp-move-indef|...\n",
      "}\n"
     ]
    },
    {
     "name": "stdout",
     "output_type": "stream",
     "text": [
      "251\n"
     ]
    },
    {
     "name": "stderr",
     "output_type": "stream",
     "text": [
      "en.wikipedia.org (parse) Dan Severn\n",
      "en.wikipedia.org (imageinfo) File:Dan \"The Beast\" Severn 2016 crop.jpg\n",
      "Dan Severn (en) data\n",
      "{\n",
      "  image: <list(1)> {'kind': 'parse-image', 'file': 'File:Dan \"The ...\n",
      "  infobox: <dict(31)> name, other_names, image, image_size, captio...\n",
      "  iwlinks: <list(1)> https://commons.wikimedia.org/wiki/Category:D...\n",
      "  pageid: 1716185\n",
      "  parsetree: <str(107317)> <root><template><title>Use mdy dates</t...\n",
      "  requests: <list(2)> parse, imageinfo\n",
      "  title: Dan Severn\n",
      "  wikibase: Q2268766\n",
      "  wikidata_url: https://www.wikidata.org/wiki/Q2268766\n",
      "  wikitext: <str(79522)> {{Use mdy dates|date=January 2019}}{{shor...\n",
      "}\n"
     ]
    },
    {
     "name": "stdout",
     "output_type": "stream",
     "text": [
      "252\n"
     ]
    },
    {
     "name": "stderr",
     "output_type": "stream",
     "text": [
      "en.wikipedia.org (parse) Adam Hollioake\n",
      "Adam Hollioake (en) data\n",
      "{\n",
      "  infobox: <dict(84)> name, country, fullname, birth_date, birth_p...\n",
      "  pageid: 2037175\n",
      "  parsetree: <str(28350)> <root><template><title>Infobox cricketer...\n",
      "  requests: <list(1)> parse\n",
      "  title: Adam Hollioake\n",
      "  wikibase: Q3528923\n",
      "  wikidata_url: https://www.wikidata.org/wiki/Q3528923\n",
      "  wikitext: <str(16541)> {{Infobox cricketer|          name = Adam...\n",
      "}\n"
     ]
    },
    {
     "name": "stdout",
     "output_type": "stream",
     "text": [
      "253\n"
     ]
    },
    {
     "name": "stderr",
     "output_type": "stream",
     "text": [
      "en.wikipedia.org (parse) Holly Holm\n",
      "en.wikipedia.org (imageinfo) File:Holly holm 2016.png\n",
      "Holly Holm (en) data\n",
      "{\n",
      "  image: <list(1)> {'kind': 'parse-image', 'file': 'File:Holly hol...\n",
      "  infobox: <dict(39)> name, other_names, image, image_size, captio...\n",
      "  iwlinks: <list(1)> https://commons.wikimedia.org/wiki/Category:H...\n",
      "  pageid: 12635050\n",
      "  parsetree: <str(126674)> <root><template><title>Use mdy dates</t...\n",
      "  requests: <list(2)> parse, imageinfo\n",
      "  title: Holly Holm\n",
      "  wikibase: Q2414305\n",
      "  wikidata_url: https://www.wikidata.org/wiki/Q2414305\n",
      "  wikitext: <str(80354)> {{Use mdy dates|date=September 2019}}{{sh...\n",
      "}\n"
     ]
    },
    {
     "name": "stdout",
     "output_type": "stream",
     "text": [
      "254\n"
     ]
    },
    {
     "name": "stderr",
     "output_type": "stream",
     "text": [
      "en.wikipedia.org (parse) Keith Jardine\n",
      "en.wikipedia.org (imageinfo) File:Keith Jardine - UFC 100 Fan Exp...\n",
      "Keith Jardine (en) data\n",
      "{\n",
      "  image: <list(1)> {'kind': 'parse-image', 'file': 'File:Keith Jar...\n",
      "  infobox: <dict(31)> name, other_names, image, image_size, alt, c...\n",
      "  iwlinks: <list(1)> https://commons.wikimedia.org/wiki/Category:K...\n",
      "  pageid: 7705535\n",
      "  parsetree: <str(49459)> <root><template><title>short description...\n",
      "  requests: <list(2)> parse, imageinfo\n",
      "  title: Keith Jardine\n",
      "  wikibase: Q2617121\n",
      "  wikidata_url: https://www.wikidata.org/wiki/Q2617121\n",
      "  wikitext: <str(33870)> {{short description|American actor and mi...\n",
      "}\n"
     ]
    },
    {
     "name": "stdout",
     "output_type": "stream",
     "text": [
      "255\n"
     ]
    },
    {
     "name": "stderr",
     "output_type": "stream",
     "text": [
      "en.wikipedia.org (parse) Bobby Lashley\n",
      "en.wikipedia.org (imageinfo) File:Bobby Lashley at Slammiversary XV.jpg\n",
      "Bobby Lashley (en) data\n",
      "{\n",
      "  image: <list(1)> {'kind': 'parse-image', 'file': 'File:Bobby Las...\n",
      "  infobox: <dict(14)> name, image, caption, children, birth_name, ...\n",
      "  iwlinks: <list(1)> https://commons.wikimedia.org/wiki/Category:F...\n",
      "  pageid: 2234586\n",
      "  parsetree: <str(131157)> <root><template><title>short descriptio...\n",
      "  requests: <list(2)> parse, imageinfo\n",
      "  title: Bobby Lashley\n",
      "  wikibase: Q317370\n",
      "  wikidata_url: https://www.wikidata.org/wiki/Q317370\n",
      "  wikitext: <str(106783)> {{short description|American professiona...\n",
      "}\n"
     ]
    },
    {
     "name": "stdout",
     "output_type": "stream",
     "text": [
      "256\n"
     ]
    },
    {
     "name": "stderr",
     "output_type": "stream",
     "text": [
      "en.wikipedia.org (parse) Brock Lesnar\n",
      "en.wikipedia.org (imageinfo) File:Brock Lesnar in March 2015.jpg\n",
      "Brock Lesnar (en) data\n",
      "{\n",
      "  image: <list(1)> {'kind': 'parse-image', 'file': 'File:Brock Les...\n",
      "  infobox: <dict(10)> name, image, caption, birth_date, birth_plac...\n",
      "  iwlinks: <list(1)> https://commons.wikimedia.org/wiki/Brock_Lesnar\n",
      "  pageid: 316592\n",
      "  parsetree: <str(238992)> <root><template><title>short descriptio...\n",
      "  requests: <list(2)> parse, imageinfo\n",
      "  title: Brock Lesnar\n",
      "  wikibase: Q220556\n",
      "  wikidata_url: https://www.wikidata.org/wiki/Q220556\n",
      "  wikitext: <str(196835)> {{short description|American professiona...\n",
      "}\n"
     ]
    },
    {
     "name": "stdout",
     "output_type": "stream",
     "text": [
      "257\n"
     ]
    },
    {
     "name": "stderr",
     "output_type": "stream",
     "text": [
      "en.wikipedia.org (parse) Darko Milicic\n",
      "en.wikipedia.org (imageinfo) File:Darko Milicic cropped.jpg\n",
      "Darko Miličić (en) data\n",
      "{\n",
      "  image: <list(1)> {'kind': 'parse-image', 'file': 'File:Darko Mil...\n",
      "  infobox: <dict(47)> name, image, caption, league, team, position...\n",
      "  iwlinks: <list(2)> https://commons.wikimedia.org/wiki/Category:D...\n",
      "  pageid: 1591560\n",
      "  parsetree: <str(51451)> <root><template><title>short description...\n",
      "  requests: <list(2)> parse, imageinfo\n",
      "  title: Darko Miličić\n",
      "  wikibase: Q316256\n",
      "  wikidata_url: https://www.wikidata.org/wiki/Q316256\n",
      "  wikitext: <str(37317)> {{short description|Serbian basketball pl...\n",
      "}\n"
     ]
    },
    {
     "name": "stdout",
     "output_type": "stream",
     "text": [
      "258\n"
     ]
    },
    {
     "name": "stderr",
     "output_type": "stream",
     "text": [
      "en.wikipedia.org (parse) Stipe Miocic\n",
      "en.wikipedia.org (imageinfo) File:Stipe Miocic in Cleveland on Oc...\n",
      "Stipe Miocic (en) data\n",
      "{\n",
      "  image: <list(1)> {'kind': 'parse-image', 'file': 'File:Stipe Mio...\n",
      "  infobox: <dict(23)> name, image, image_size, caption, birth_date...\n",
      "  iwlinks: <list(1)> https://commons.wikimedia.org/wiki/Category:S...\n",
      "  pageid: 31521492\n",
      "  parsetree: <str(67073)> <root><template><title>Use mdy dates</ti...\n",
      "  requests: <list(2)> parse, imageinfo\n",
      "  title: Stipe Miocic\n",
      "  wikibase: Q40266\n",
      "  wikidata_url: https://www.wikidata.org/wiki/Q40266\n",
      "  wikitext: <str(47507)> {{Use mdy dates|date=January 2019}}{{shor...\n",
      "}\n"
     ]
    },
    {
     "name": "stdout",
     "output_type": "stream",
     "text": [
      "259\n"
     ]
    },
    {
     "name": "stderr",
     "output_type": "stream",
     "text": [
      "en.wikipedia.org (parse) Matt Mitrione\n",
      "en.wikipedia.org (imageinfo) File:Matt Mitrione 2011 crop.jpg\n",
      "Matt Mitrione (en) data\n",
      "{\n",
      "  image: <list(1)> {'kind': 'parse-image', 'file': 'File:Matt Mitr...\n",
      "  infobox: <dict(10)> name, other_names, image, image_size, captio...\n",
      "  iwlinks: <list(1)> https://commons.wikimedia.org/wiki/Category:M...\n",
      "  pageid: 24441987\n",
      "  parsetree: <str(51244)> <root><template><title>short description...\n",
      "  requests: <list(2)> parse, imageinfo\n",
      "  title: Matt Mitrione\n",
      "  wikibase: Q859780\n",
      "  wikidata_url: https://www.wikidata.org/wiki/Q859780\n",
      "  wikitext: <str(35210)> {{short description|American American pro...\n",
      "}\n"
     ]
    },
    {
     "name": "stdout",
     "output_type": "stream",
     "text": [
      "260\n"
     ]
    },
    {
     "name": "stderr",
     "output_type": "stream",
     "text": [
      "en.wikipedia.org (parse) Alistair Overeem\n",
      "en.wikipedia.org (imageinfo) File:Alistair Overeem.png\n",
      "Alistair Overeem (en) data\n",
      "{\n",
      "  image: <list(1)> {'kind': 'parse-image', 'file': 'File:Alistair ...\n",
      "  infobox: <dict(35)> name, image, image_size, birth_name, other_n...\n",
      "  pageid: 2515754\n",
      "  parsetree: <str(109840)> <root><template><title>short descriptio...\n",
      "  requests: <list(2)> parse, imageinfo\n",
      "  title: Alistair Overeem\n",
      "  wikibase: Q458121\n",
      "  wikidata_url: https://www.wikidata.org/wiki/Q458121\n",
      "  wikitext: <str(75272)> {{short description|Dutch professional ki...\n",
      "}\n"
     ]
    },
    {
     "name": "stdout",
     "output_type": "stream",
     "text": [
      "261\n"
     ]
    },
    {
     "name": "stderr",
     "output_type": "stream",
     "text": [
      "en.wikipedia.org (parse) Ronda Rousey\n",
      "en.wikipedia.org (imageinfo) File:Rousey HOF 2018 (cropped).jpg\n",
      "Ronda Rousey (en) data\n",
      "{\n",
      "  image: <list(1)> {'kind': 'parse-image', 'file': 'File:Rousey HO...\n",
      "  infobox: <dict(9)> name, other_names, image, caption, birth_name...\n",
      "  iwlinks: <list(3)> https://commons.wikimedia.org/wiki/Category:R...\n",
      "  pageid: 18783042\n",
      "  parsetree: <str(170064)> <root><template><title>short descriptio...\n",
      "  requests: <list(2)> parse, imageinfo\n",
      "  title: Ronda Rousey\n",
      "  wikibase: Q242201\n",
      "  wikidata_url: https://www.wikidata.org/wiki/Q242201\n",
      "  wikitext: <str(129250)> {{short description|American professiona...\n",
      "}\n"
     ]
    },
    {
     "name": "stdout",
     "output_type": "stream",
     "text": [
      "262\n"
     ]
    },
    {
     "name": "stderr",
     "output_type": "stream",
     "text": [
      "en.wikipedia.org (parse) Bob Sapp\n",
      "en.wikipedia.org (imageinfo) File:Bob Sapp 2011.jpg\n",
      "Bob Sapp (en) data\n",
      "{\n",
      "  image: <list(1)> {'kind': 'parse-image', 'file': 'File:Bob Sapp ...\n",
      "  infobox: <dict(31)> image, caption, name, birth_name, other_name...\n",
      "  iwlinks: <list(1)> https://commons.wikimedia.org/wiki/Category:B...\n",
      "  pageid: 204196\n",
      "  parsetree: <str(115610)> <root><template><title>short descriptio...\n",
      "  requests: <list(2)> parse, imageinfo\n",
      "  title: Bob Sapp\n",
      "  wikibase: Q463644\n",
      "  wikidata_url: https://www.wikidata.org/wiki/Q463644\n",
      "  wikitext: <str(82353)> {{short description|American professional...\n",
      "}\n"
     ]
    },
    {
     "name": "stdout",
     "output_type": "stream",
     "text": [
      "263\n"
     ]
    },
    {
     "name": "stderr",
     "output_type": "stream",
     "text": [
      "en.wikipedia.org (parse) Semmy Schilt\n",
      "en.wikipedia.org (imageinfo) File:Sem-schilt.jpg\n",
      "Semmy Schilt (en) data\n",
      "{\n",
      "  image: <list(1)> {'kind': 'parse-image', 'file': 'File:Sem-schil...\n",
      "  infobox: <dict(31)> name, image, image_size, other_names, nation...\n",
      "  pageid: 3440458\n",
      "  parsetree: <str(70112)> <root><template><title>short description...\n",
      "  requests: <list(2)> parse, imageinfo\n",
      "  title: Semmy Schilt\n",
      "  wikibase: Q311016\n",
      "  wikidata_url: https://www.wikidata.org/wiki/Q311016\n",
      "  wikitext: <str(48039)> {{short description|Dutch kickboxer, Ashi...\n",
      "}\n"
     ]
    },
    {
     "name": "stdout",
     "output_type": "stream",
     "text": [
      "264\n"
     ]
    },
    {
     "name": "stderr",
     "output_type": "stream",
     "text": [
      "en.wikipedia.org (parse) Ken Shamrock\n",
      "en.wikipedia.org (imageinfo) File:Kenshamrock.png\n",
      "Ken Shamrock (en) data\n",
      "{\n",
      "  image: <list(1)> {'kind': 'parse-image', 'file': 'File:Kenshamro...\n",
      "  infobox: <dict(35)> name, image, caption, birth_name, birth_date...\n",
      "  iwlinks: <list(1)> https://commons.wikimedia.org/wiki/Category:K...\n",
      "  pageid: 690231\n",
      "  parsetree: <str(136343)> <root><template><title>Use mdy dates</t...\n",
      "  requests: <list(2)> parse, imageinfo\n",
      "  title: Ken Shamrock\n",
      "  wikibase: Q380834\n",
      "  wikidata_url: https://www.wikidata.org/wiki/Q380834\n",
      "  wikitext: <str(107250)> {{Use mdy dates|date=January 2019}}{{sho...\n",
      "}\n"
     ]
    },
    {
     "name": "stdout",
     "output_type": "stream",
     "text": [
      "265\n"
     ]
    },
    {
     "name": "stderr",
     "output_type": "stream",
     "text": [
      "en.wikipedia.org (parse) Anderson Silva\n",
      "en.wikipedia.org (imageinfo) File:Anderson Silva.png\n",
      "Anderson Silva (en) data\n",
      "{\n",
      "  image: <list(1)> {'kind': 'parse-image', 'file': 'File:Anderson ...\n",
      "  infobox: <dict(37)> name, image, caption, birth_name, residence,...\n",
      "  iwlinks: <list(1)> https://commons.wikimedia.org/wiki/Category:A...\n",
      "  pageid: 5390123\n",
      "  parsetree: <str(130495)> <root><template><title>Use dmy dates</t...\n",
      "  requests: <list(2)> parse, imageinfo\n",
      "  title: Anderson Silva\n",
      "  wikibase: Q356871\n",
      "  wikidata_url: https://www.wikidata.org/wiki/Q356871\n",
      "  wikitext: <str(98502)> {{Use dmy dates|date=January 2019}}{{abou...\n",
      "}\n"
     ]
    },
    {
     "name": "stdout",
     "output_type": "stream",
     "text": [
      "266\n"
     ]
    },
    {
     "name": "stderr",
     "output_type": "stream",
     "text": [
      "en.wikipedia.org (parse) Mark Hunt\n",
      "en.wikipedia.org (imageinfo) File:Mark Hunt on 22 November 2007.j...\n",
      "Mark Hunt (en) data\n",
      "{\n",
      "  image: <list(1)> {'kind': 'parse-image', 'file': 'File:Mark Hunt...\n",
      "  infobox: <dict(38)> name, image, image_size, caption, birth_name...\n",
      "  iwlinks: <list(1)> https://en.wikiquote.org/wiki/Special:Search/...\n",
      "  pageid: 1390968\n",
      "  parsetree: <str(101587)> <root><template><title>other people</ti...\n",
      "  requests: <list(2)> parse, imageinfo\n",
      "  title: Mark Hunt\n",
      "  wikibase: Q714678\n",
      "  wikidata_url: https://www.wikidata.org/wiki/Q714678\n",
      "  wikitext: <str(73739)> {{other people}}{{short description|New Z...\n",
      "}\n"
     ]
    },
    {
     "name": "stdout",
     "output_type": "stream",
     "text": [
      "267\n"
     ]
    },
    {
     "name": "stderr",
     "output_type": "stream",
     "text": [
      "en.wikipedia.org (parse) Tank Abbott\n",
      "en.wikipedia.org (imageinfo) File:Tank2015 crop.jpg\n",
      "Tank Abbott (en) data\n",
      "{\n",
      "  image: <list(1)> {'kind': 'parse-image', 'file': 'File:Tank2015 ...\n",
      "  infobox: <dict(22)> name, image, caption, birth_name, birth_date...\n",
      "  pageid: 1334806\n",
      "  parsetree: <str(44519)> <root><template><title>Use mdy dates</ti...\n",
      "  requests: <list(2)> parse, imageinfo\n",
      "  title: Tank Abbott\n",
      "  wikibase: Q651586\n",
      "  wikidata_url: https://www.wikidata.org/wiki/Q651586\n",
      "  wikitext: <str(31421)> {{Use mdy dates|date=January 2019}}{{shor...\n",
      "}\n"
     ]
    },
    {
     "name": "stdout",
     "output_type": "stream",
     "text": [
      "268\n"
     ]
    },
    {
     "name": "stderr",
     "output_type": "stream",
     "text": [
      "en.wikipedia.org (parse) Oleg Prudius\n",
      "en.wikipedia.org (imageinfo) File:Vladimir Kozlov 2010 Tribute to...\n",
      "Vladimir Kozlov (en) data\n",
      "{\n",
      "  image: <list(1)> {'kind': 'parse-image', 'file': 'File:Vladimir ...\n",
      "  infobox: <dict(14)> name, image, caption, birth_name, birth_date...\n",
      "  pageid: 3761307\n",
      "  parsetree: <str(35904)> <root><template><title>other people</tit...\n",
      "  requests: <list(2)> parse, imageinfo\n",
      "  title: Vladimir Kozlov\n",
      "  wikibase: Q336143\n",
      "  wikidata_url: https://www.wikidata.org/wiki/Q336143\n",
      "  wikitext: <str(29330)> {{other people}}{{short description|Ukrai...\n",
      "}\n"
     ]
    },
    {
     "name": "stdout",
     "output_type": "stream",
     "text": [
      "269\n"
     ]
    },
    {
     "name": "stderr",
     "output_type": "stream",
     "text": [
      "en.wikipedia.org (parse) Fernando Alonso\n",
      "en.wikipedia.org (imageinfo) File:Alonso 2016.jpg\n",
      "Fernando Alonso (en) data\n",
      "{\n",
      "  image: <list(1)> {'kind': 'parse-image', 'file': 'File:Alonso 20...\n",
      "  infobox: <dict(26)> name, image, image_size, caption, birth_name...\n",
      "  iwlinks: <list(2)> https://commons.wikimedia.org/wiki/Category:F...\n",
      "  pageid: 240390\n",
      "  parsetree: <str(342284)> <root><template><title>About</title><pa...\n",
      "  requests: <list(2)> parse, imageinfo\n",
      "  title: Fernando Alonso\n",
      "  wikibase: Q10514\n",
      "  wikidata_url: https://www.wikidata.org/wiki/Q10514\n",
      "  wikitext: <str(257584)> {{About|the Formula One driver|other peo...\n",
      "}\n"
     ]
    },
    {
     "name": "stdout",
     "output_type": "stream",
     "text": [
      "270\n"
     ]
    },
    {
     "name": "stderr",
     "output_type": "stream",
     "text": [
      "en.wikipedia.org (parse) Nasser Al-Attiyah\n",
      "en.wikipedia.org (imageinfo) File:Nasser saleh al attiyah2.jpg\n",
      "Nasser Al-Attiyah (en) data\n",
      "{\n",
      "  image: <list(1)> {'kind': 'parse-image', 'file': 'File:Nasser sa...\n",
      "  infobox: <dict(15)> name, fullname, image, caption, country, spo...\n",
      "  iwlinks: <list(1)> https://commons.wikimedia.org/wiki/Category:N...\n",
      "  pageid: 12927587\n",
      "  parsetree: <str(53911)> <root><template><title>short description...\n",
      "  requests: <list(2)> parse, imageinfo\n",
      "  title: Nasser Al-Attiyah\n",
      "  wikibase: Q316739\n",
      "  wikidata_url: https://www.wikidata.org/wiki/Q316739\n",
      "  wikitext: <str(38976)> {{short description|Qatari sportsman}}{{I...\n",
      "}\n"
     ]
    },
    {
     "name": "stdout",
     "output_type": "stream",
     "text": [
      "271\n"
     ]
    },
    {
     "name": "stderr",
     "output_type": "stream",
     "text": [
      "en.wikipedia.org (parse) Jenson Button\n",
      "en.wikipedia.org (imageinfo) File:Jenson Button bahrain 2012.jpg\n",
      "Jenson Button (en) data\n",
      "{\n",
      "  image: <list(1)> {'kind': 'parse-image', 'file': 'File:Jenson Bu...\n",
      "  infobox: <dict(22)> name, image, caption, nationality, birth_nam...\n",
      "  iwlinks: <list(2)> https://commons.wikimedia.org/wiki/Category:H...\n",
      "  pageid: 548212\n",
      "  parsetree: <str(226550)> <root><template><title>short descriptio...\n",
      "  requests: <list(2)> parse, imageinfo\n",
      "  title: Jenson Button\n",
      "  wikibase: Q10510\n",
      "  wikidata_url: https://www.wikidata.org/wiki/Q10510\n",
      "  wikitext: <str(159933)> {{short description|British racing drive...\n",
      "}\n"
     ]
    },
    {
     "name": "stdout",
     "output_type": "stream",
     "text": [
      "272\n"
     ]
    },
    {
     "name": "stderr",
     "output_type": "stream",
     "text": [
      "en.wikipedia.org (parse) Austin Dillon\n",
      "en.wikipedia.org (imageinfo) File:Austin dillon (47819122161) (cr...\n",
      "Austin Dillon (en) data\n",
      "{\n",
      "  image: <list(1)> {'kind': 'parse-image', 'file': 'File:Austin di...\n",
      "  infobox: <dict(56)> name, image, caption, birth_name, birth_date...\n",
      "  iwlinks: <list(1)> https://commons.wikimedia.org/wiki/Category:A...\n",
      "  pageid: 22583176\n",
      "  parsetree: <str(145597)> <root><template><title>short descriptio...\n",
      "  requests: <list(2)> parse, imageinfo\n",
      "  title: Austin Dillon\n",
      "  wikibase: Q4823059\n",
      "  wikidata_url: https://www.wikidata.org/wiki/Q4823059\n",
      "  wikitext: <str(115919)> {{short description|American racing driv...\n",
      "}\n"
     ]
    },
    {
     "name": "stdout",
     "output_type": "stream",
     "text": [
      "273\n"
     ]
    },
    {
     "name": "stderr",
     "output_type": "stream",
     "text": [
      "en.wikipedia.org (parse) Brendan Gaughan\n",
      "en.wikipedia.org (imageinfo) File:Brendan Gaughan Road America 2017.jpg\n",
      "Brendan Gaughan (en) data\n",
      "{\n",
      "  image: <list(1)> {'kind': 'parse-image', 'file': 'File:Brendan G...\n",
      "  infobox: <dict(44)> name, image, caption, birth_name, birth_date...\n",
      "  iwlinks: <list(1)> https://commons.wikimedia.org/wiki/Category:B...\n",
      "  pageid: 2190928\n",
      "  parsetree: <str(123907)> <root><template><title>short descriptio...\n",
      "  requests: <list(2)> parse, imageinfo\n",
      "  title: Brendan Gaughan\n",
      "  wikibase: Q4960894\n",
      "  wikidata_url: https://www.wikidata.org/wiki/Q4960894\n",
      "  wikitext: <str(99812)> {{short description|American racing drive...\n",
      "}\n"
     ]
    },
    {
     "name": "stdout",
     "output_type": "stream",
     "text": [
      "274\n"
     ]
    },
    {
     "name": "stderr",
     "output_type": "stream",
     "text": [
      "en.wikipedia.org (parse) Jimmie Johnson\n"
     ]
    },
    {
     "ename": "ValueError",
     "evalue": "https://en.wikipedia.org/w/api.php?action=parse&formatversion=2&contentmodel=text&disableeditsection=&disablelimitreport=&disabletoc=&prop=text|iwlinks|parsetree|wikitext|displaytitle|properties&redirects&page=Jimmie%20Johnson",
     "output_type": "error",
     "traceback": [
      "\u001b[1;31m---------------------------------------------------------------------------\u001b[0m",
      "\u001b[1;31mJSONDecodeError\u001b[0m                           Traceback (most recent call last)",
      "\u001b[1;32mC:\\Alon\\Anaconda3\\lib\\site-packages\\wptools\\core.py\u001b[0m in \u001b[0;36m_load_response\u001b[1;34m(self, action)\u001b[0m\n\u001b[0;32m    198\u001b[0m         \u001b[1;32mtry\u001b[0m\u001b[1;33m:\u001b[0m\u001b[1;33m\u001b[0m\u001b[1;33m\u001b[0m\u001b[0m\n\u001b[1;32m--> 199\u001b[1;33m             \u001b[0mdata\u001b[0m \u001b[1;33m=\u001b[0m \u001b[0mutils\u001b[0m\u001b[1;33m.\u001b[0m\u001b[0mjson_loads\u001b[0m\u001b[1;33m(\u001b[0m\u001b[0mresponse\u001b[0m\u001b[1;33m)\u001b[0m\u001b[1;33m\u001b[0m\u001b[1;33m\u001b[0m\u001b[0m\n\u001b[0m\u001b[0;32m    200\u001b[0m         \u001b[1;32mexcept\u001b[0m \u001b[0mValueError\u001b[0m\u001b[1;33m:\u001b[0m\u001b[1;33m\u001b[0m\u001b[1;33m\u001b[0m\u001b[0m\n",
      "\u001b[1;32mC:\\Alon\\Anaconda3\\lib\\site-packages\\wptools\\utils.py\u001b[0m in \u001b[0;36mjson_loads\u001b[1;34m(data)\u001b[0m\n\u001b[0;32m     94\u001b[0m     \u001b[1;32mtry\u001b[0m\u001b[1;33m:\u001b[0m\u001b[1;33m\u001b[0m\u001b[1;33m\u001b[0m\u001b[0m\n\u001b[1;32m---> 95\u001b[1;33m         \u001b[1;32mreturn\u001b[0m \u001b[0mjson\u001b[0m\u001b[1;33m.\u001b[0m\u001b[0mloads\u001b[0m\u001b[1;33m(\u001b[0m\u001b[0mdata\u001b[0m\u001b[1;33m,\u001b[0m \u001b[0mencoding\u001b[0m\u001b[1;33m=\u001b[0m\u001b[1;34m'utf-8'\u001b[0m\u001b[1;33m)\u001b[0m\u001b[1;33m\u001b[0m\u001b[1;33m\u001b[0m\u001b[0m\n\u001b[0m\u001b[0;32m     96\u001b[0m     \u001b[1;32mexcept\u001b[0m \u001b[0mTypeError\u001b[0m\u001b[1;33m:\u001b[0m\u001b[1;33m\u001b[0m\u001b[1;33m\u001b[0m\u001b[0m\n",
      "\u001b[1;32mC:\\Alon\\Anaconda3\\lib\\json\\__init__.py\u001b[0m in \u001b[0;36mloads\u001b[1;34m(s, encoding, cls, object_hook, parse_float, parse_int, parse_constant, object_pairs_hook, **kw)\u001b[0m\n\u001b[0;32m    347\u001b[0m             parse_constant is None and object_pairs_hook is None and not kw):\n\u001b[1;32m--> 348\u001b[1;33m         \u001b[1;32mreturn\u001b[0m \u001b[0m_default_decoder\u001b[0m\u001b[1;33m.\u001b[0m\u001b[0mdecode\u001b[0m\u001b[1;33m(\u001b[0m\u001b[0ms\u001b[0m\u001b[1;33m)\u001b[0m\u001b[1;33m\u001b[0m\u001b[1;33m\u001b[0m\u001b[0m\n\u001b[0m\u001b[0;32m    349\u001b[0m     \u001b[1;32mif\u001b[0m \u001b[0mcls\u001b[0m \u001b[1;32mis\u001b[0m \u001b[1;32mNone\u001b[0m\u001b[1;33m:\u001b[0m\u001b[1;33m\u001b[0m\u001b[1;33m\u001b[0m\u001b[0m\n",
      "\u001b[1;32mC:\\Alon\\Anaconda3\\lib\\json\\decoder.py\u001b[0m in \u001b[0;36mdecode\u001b[1;34m(self, s, _w)\u001b[0m\n\u001b[0;32m    336\u001b[0m         \"\"\"\n\u001b[1;32m--> 337\u001b[1;33m         \u001b[0mobj\u001b[0m\u001b[1;33m,\u001b[0m \u001b[0mend\u001b[0m \u001b[1;33m=\u001b[0m \u001b[0mself\u001b[0m\u001b[1;33m.\u001b[0m\u001b[0mraw_decode\u001b[0m\u001b[1;33m(\u001b[0m\u001b[0ms\u001b[0m\u001b[1;33m,\u001b[0m \u001b[0midx\u001b[0m\u001b[1;33m=\u001b[0m\u001b[0m_w\u001b[0m\u001b[1;33m(\u001b[0m\u001b[0ms\u001b[0m\u001b[1;33m,\u001b[0m \u001b[1;36m0\u001b[0m\u001b[1;33m)\u001b[0m\u001b[1;33m.\u001b[0m\u001b[0mend\u001b[0m\u001b[1;33m(\u001b[0m\u001b[1;33m)\u001b[0m\u001b[1;33m)\u001b[0m\u001b[1;33m\u001b[0m\u001b[1;33m\u001b[0m\u001b[0m\n\u001b[0m\u001b[0;32m    338\u001b[0m         \u001b[0mend\u001b[0m \u001b[1;33m=\u001b[0m \u001b[0m_w\u001b[0m\u001b[1;33m(\u001b[0m\u001b[0ms\u001b[0m\u001b[1;33m,\u001b[0m \u001b[0mend\u001b[0m\u001b[1;33m)\u001b[0m\u001b[1;33m.\u001b[0m\u001b[0mend\u001b[0m\u001b[1;33m(\u001b[0m\u001b[1;33m)\u001b[0m\u001b[1;33m\u001b[0m\u001b[1;33m\u001b[0m\u001b[0m\n",
      "\u001b[1;32mC:\\Alon\\Anaconda3\\lib\\json\\decoder.py\u001b[0m in \u001b[0;36mraw_decode\u001b[1;34m(self, s, idx)\u001b[0m\n\u001b[0;32m    352\u001b[0m         \u001b[1;32mtry\u001b[0m\u001b[1;33m:\u001b[0m\u001b[1;33m\u001b[0m\u001b[1;33m\u001b[0m\u001b[0m\n\u001b[1;32m--> 353\u001b[1;33m             \u001b[0mobj\u001b[0m\u001b[1;33m,\u001b[0m \u001b[0mend\u001b[0m \u001b[1;33m=\u001b[0m \u001b[0mself\u001b[0m\u001b[1;33m.\u001b[0m\u001b[0mscan_once\u001b[0m\u001b[1;33m(\u001b[0m\u001b[0ms\u001b[0m\u001b[1;33m,\u001b[0m \u001b[0midx\u001b[0m\u001b[1;33m)\u001b[0m\u001b[1;33m\u001b[0m\u001b[1;33m\u001b[0m\u001b[0m\n\u001b[0m\u001b[0;32m    354\u001b[0m         \u001b[1;32mexcept\u001b[0m \u001b[0mStopIteration\u001b[0m \u001b[1;32mas\u001b[0m \u001b[0merr\u001b[0m\u001b[1;33m:\u001b[0m\u001b[1;33m\u001b[0m\u001b[1;33m\u001b[0m\u001b[0m\n",
      "\u001b[1;31mJSONDecodeError\u001b[0m: Unterminated string starting at: line 1 column 857270 (char 857269)",
      "\nDuring handling of the above exception, another exception occurred:\n",
      "\u001b[1;31mValueError\u001b[0m                                Traceback (most recent call last)",
      "\u001b[1;32m<ipython-input-79-6b1ddf99e4bd>\u001b[0m in \u001b[0;36m<module>\u001b[1;34m\u001b[0m\n\u001b[0;32m     10\u001b[0m     \u001b[1;32mif\u001b[0m \u001b[0mdoc\u001b[0m \u001b[1;32mis\u001b[0m \u001b[1;32mNone\u001b[0m\u001b[1;33m:\u001b[0m\u001b[1;33m\u001b[0m\u001b[1;33m\u001b[0m\u001b[0m\n\u001b[0;32m     11\u001b[0m         \u001b[1;32mcontinue\u001b[0m\u001b[1;33m\u001b[0m\u001b[1;33m\u001b[0m\u001b[0m\n\u001b[1;32m---> 12\u001b[1;33m     \u001b[0minfobox\u001b[0m \u001b[1;33m=\u001b[0m \u001b[0mload_info_box\u001b[0m\u001b[1;33m(\u001b[0m\u001b[0mp\u001b[0m\u001b[1;33m)\u001b[0m\u001b[1;33m\u001b[0m\u001b[1;33m\u001b[0m\u001b[0m\n\u001b[0m\u001b[0;32m     13\u001b[0m \u001b[1;33m\u001b[0m\u001b[0m\n\u001b[0;32m     14\u001b[0m     \u001b[0mtokens\u001b[0m \u001b[1;33m=\u001b[0m \u001b[0mtokenize_doc\u001b[0m\u001b[1;33m(\u001b[0m\u001b[0mdoc\u001b[0m\u001b[1;33m)\u001b[0m\u001b[1;33m\u001b[0m\u001b[1;33m\u001b[0m\u001b[0m\n",
      "\u001b[1;32m<ipython-input-74-5032500e8c93>\u001b[0m in \u001b[0;36mload_info_box\u001b[1;34m(page_name)\u001b[0m\n\u001b[0;32m      1\u001b[0m \u001b[1;32mdef\u001b[0m \u001b[0mload_info_box\u001b[0m\u001b[1;33m(\u001b[0m\u001b[0mpage_name\u001b[0m\u001b[1;33m)\u001b[0m\u001b[1;33m:\u001b[0m\u001b[1;33m\u001b[0m\u001b[1;33m\u001b[0m\u001b[0m\n\u001b[1;32m----> 2\u001b[1;33m     \u001b[0mso\u001b[0m \u001b[1;33m=\u001b[0m \u001b[0mwptools\u001b[0m\u001b[1;33m.\u001b[0m\u001b[0mpage\u001b[0m\u001b[1;33m(\u001b[0m\u001b[0mpage_name\u001b[0m\u001b[1;33m)\u001b[0m\u001b[1;33m.\u001b[0m\u001b[0mget_parse\u001b[0m\u001b[1;33m(\u001b[0m\u001b[1;33m)\u001b[0m\u001b[1;33m\u001b[0m\u001b[1;33m\u001b[0m\u001b[0m\n\u001b[0m\u001b[0;32m      3\u001b[0m     \u001b[0minfobox\u001b[0m \u001b[1;33m=\u001b[0m \u001b[0mso\u001b[0m\u001b[1;33m.\u001b[0m\u001b[0mdata\u001b[0m\u001b[1;33m[\u001b[0m\u001b[1;34m'infobox'\u001b[0m\u001b[1;33m]\u001b[0m\u001b[1;33m\u001b[0m\u001b[1;33m\u001b[0m\u001b[0m\n\u001b[0;32m      4\u001b[0m     \u001b[1;32mreturn\u001b[0m \u001b[0minfobox\u001b[0m\u001b[1;33m\u001b[0m\u001b[1;33m\u001b[0m\u001b[0m\n",
      "\u001b[1;32mC:\\Alon\\Anaconda3\\lib\\site-packages\\wptools\\page.py\u001b[0m in \u001b[0;36mget_parse\u001b[1;34m(self, show, proxy, timeout)\u001b[0m\n\u001b[0;32m    601\u001b[0m             \u001b[1;32mraise\u001b[0m \u001b[0mValueError\u001b[0m\u001b[1;33m(\u001b[0m\u001b[1;34m\"get_parse needs title or pageid\"\u001b[0m\u001b[1;33m)\u001b[0m\u001b[1;33m\u001b[0m\u001b[1;33m\u001b[0m\u001b[0m\n\u001b[0;32m    602\u001b[0m \u001b[1;33m\u001b[0m\u001b[0m\n\u001b[1;32m--> 603\u001b[1;33m         \u001b[0mself\u001b[0m\u001b[1;33m.\u001b[0m\u001b[0m_get\u001b[0m\u001b[1;33m(\u001b[0m\u001b[1;34m'parse'\u001b[0m\u001b[1;33m,\u001b[0m \u001b[0mshow\u001b[0m\u001b[1;33m,\u001b[0m \u001b[0mproxy\u001b[0m\u001b[1;33m,\u001b[0m \u001b[0mtimeout\u001b[0m\u001b[1;33m)\u001b[0m\u001b[1;33m\u001b[0m\u001b[1;33m\u001b[0m\u001b[0m\n\u001b[0m\u001b[0;32m    604\u001b[0m \u001b[1;33m\u001b[0m\u001b[0m\n\u001b[0;32m    605\u001b[0m         \u001b[1;32mreturn\u001b[0m \u001b[0mself\u001b[0m\u001b[1;33m\u001b[0m\u001b[1;33m\u001b[0m\u001b[0m\n",
      "\u001b[1;32mC:\\Alon\\Anaconda3\\lib\\site-packages\\wptools\\core.py\u001b[0m in \u001b[0;36m_get\u001b[1;34m(self, action, show, proxy, timeout)\u001b[0m\n\u001b[0;32m    181\u001b[0m         \u001b[0mself\u001b[0m\u001b[1;33m.\u001b[0m\u001b[0mdata\u001b[0m\u001b[1;33m[\u001b[0m\u001b[1;34m'requests'\u001b[0m\u001b[1;33m]\u001b[0m\u001b[1;33m.\u001b[0m\u001b[0mappend\u001b[0m\u001b[1;33m(\u001b[0m\u001b[0maction\u001b[0m\u001b[1;33m)\u001b[0m\u001b[1;33m\u001b[0m\u001b[1;33m\u001b[0m\u001b[0m\n\u001b[0;32m    182\u001b[0m \u001b[1;33m\u001b[0m\u001b[0m\n\u001b[1;32m--> 183\u001b[1;33m         \u001b[0mself\u001b[0m\u001b[1;33m.\u001b[0m\u001b[0m_set_data\u001b[0m\u001b[1;33m(\u001b[0m\u001b[0maction\u001b[0m\u001b[1;33m)\u001b[0m\u001b[1;33m\u001b[0m\u001b[1;33m\u001b[0m\u001b[0m\n\u001b[0m\u001b[0;32m    184\u001b[0m \u001b[1;33m\u001b[0m\u001b[0m\n\u001b[0;32m    185\u001b[0m         \u001b[1;32mif\u001b[0m \u001b[0mshow\u001b[0m \u001b[1;32mand\u001b[0m \u001b[1;32mnot\u001b[0m \u001b[0mself\u001b[0m\u001b[1;33m.\u001b[0m\u001b[0mflags\u001b[0m\u001b[1;33m.\u001b[0m\u001b[0mget\u001b[0m\u001b[1;33m(\u001b[0m\u001b[1;34m'silent'\u001b[0m\u001b[1;33m)\u001b[0m\u001b[1;33m:\u001b[0m\u001b[1;33m\u001b[0m\u001b[1;33m\u001b[0m\u001b[0m\n",
      "\u001b[1;32mC:\\Alon\\Anaconda3\\lib\\site-packages\\wptools\\page.py\u001b[0m in \u001b[0;36m_set_data\u001b[1;34m(self, action)\u001b[0m\n\u001b[0;32m    202\u001b[0m             \u001b[0mself\u001b[0m\u001b[1;33m.\u001b[0m\u001b[0m_set_imageinfo_data\u001b[0m\u001b[1;33m(\u001b[0m\u001b[1;33m)\u001b[0m\u001b[1;33m\u001b[0m\u001b[1;33m\u001b[0m\u001b[0m\n\u001b[0;32m    203\u001b[0m         \u001b[1;32melif\u001b[0m \u001b[0maction\u001b[0m \u001b[1;33m==\u001b[0m \u001b[1;34m'parse'\u001b[0m\u001b[1;33m:\u001b[0m\u001b[1;33m\u001b[0m\u001b[1;33m\u001b[0m\u001b[0m\n\u001b[1;32m--> 204\u001b[1;33m             \u001b[0mself\u001b[0m\u001b[1;33m.\u001b[0m\u001b[0m_set_parse_data\u001b[0m\u001b[1;33m(\u001b[0m\u001b[1;33m)\u001b[0m\u001b[1;33m\u001b[0m\u001b[1;33m\u001b[0m\u001b[0m\n\u001b[0m\u001b[0;32m    205\u001b[0m         \u001b[1;32melif\u001b[0m \u001b[0maction\u001b[0m \u001b[1;33m==\u001b[0m \u001b[1;34m'random'\u001b[0m\u001b[1;33m:\u001b[0m\u001b[1;33m\u001b[0m\u001b[1;33m\u001b[0m\u001b[0m\n\u001b[0;32m    206\u001b[0m             \u001b[0mself\u001b[0m\u001b[1;33m.\u001b[0m\u001b[0m_set_random_data\u001b[0m\u001b[1;33m(\u001b[0m\u001b[1;33m)\u001b[0m\u001b[1;33m\u001b[0m\u001b[1;33m\u001b[0m\u001b[0m\n",
      "\u001b[1;32mC:\\Alon\\Anaconda3\\lib\\site-packages\\wptools\\page.py\u001b[0m in \u001b[0;36m_set_parse_data\u001b[1;34m(self)\u001b[0m\n\u001b[0;32m    242\u001b[0m         \u001b[0mset\u001b[0m \u001b[0mattributes\u001b[0m \u001b[0mderived\u001b[0m \u001b[1;32mfrom\u001b[0m \u001b[0mMediaWiki\u001b[0m \u001b[1;33m(\u001b[0m\u001b[0maction\u001b[0m\u001b[1;33m=\u001b[0m\u001b[0mparse\u001b[0m\u001b[1;33m)\u001b[0m\u001b[1;33m\u001b[0m\u001b[1;33m\u001b[0m\u001b[0m\n\u001b[0;32m    243\u001b[0m         \"\"\"\n\u001b[1;32m--> 244\u001b[1;33m         \u001b[0mpdata\u001b[0m \u001b[1;33m=\u001b[0m \u001b[0mself\u001b[0m\u001b[1;33m.\u001b[0m\u001b[0m_load_response\u001b[0m\u001b[1;33m(\u001b[0m\u001b[1;34m'parse'\u001b[0m\u001b[1;33m)\u001b[0m\u001b[1;33m[\u001b[0m\u001b[1;34m'parse'\u001b[0m\u001b[1;33m]\u001b[0m\u001b[1;33m\u001b[0m\u001b[1;33m\u001b[0m\u001b[0m\n\u001b[0m\u001b[0;32m    245\u001b[0m \u001b[1;33m\u001b[0m\u001b[0m\n\u001b[0;32m    246\u001b[0m         \u001b[0mself\u001b[0m\u001b[1;33m.\u001b[0m\u001b[0mdata\u001b[0m\u001b[1;33m[\u001b[0m\u001b[1;34m'iwlinks'\u001b[0m\u001b[1;33m]\u001b[0m \u001b[1;33m=\u001b[0m \u001b[0mutils\u001b[0m\u001b[1;33m.\u001b[0m\u001b[0mget_links\u001b[0m\u001b[1;33m(\u001b[0m\u001b[0mpdata\u001b[0m\u001b[1;33m.\u001b[0m\u001b[0mget\u001b[0m\u001b[1;33m(\u001b[0m\u001b[1;34m'iwlinks'\u001b[0m\u001b[1;33m)\u001b[0m\u001b[1;33m)\u001b[0m\u001b[1;33m\u001b[0m\u001b[1;33m\u001b[0m\u001b[0m\n",
      "\u001b[1;32mC:\\Alon\\Anaconda3\\lib\\site-packages\\wptools\\core.py\u001b[0m in \u001b[0;36m_load_response\u001b[1;34m(self, action)\u001b[0m\n\u001b[0;32m    199\u001b[0m             \u001b[0mdata\u001b[0m \u001b[1;33m=\u001b[0m \u001b[0mutils\u001b[0m\u001b[1;33m.\u001b[0m\u001b[0mjson_loads\u001b[0m\u001b[1;33m(\u001b[0m\u001b[0mresponse\u001b[0m\u001b[1;33m)\u001b[0m\u001b[1;33m\u001b[0m\u001b[1;33m\u001b[0m\u001b[0m\n\u001b[0;32m    200\u001b[0m         \u001b[1;32mexcept\u001b[0m \u001b[0mValueError\u001b[0m\u001b[1;33m:\u001b[0m\u001b[1;33m\u001b[0m\u001b[1;33m\u001b[0m\u001b[0m\n\u001b[1;32m--> 201\u001b[1;33m             \u001b[1;32mraise\u001b[0m \u001b[0mValueError\u001b[0m\u001b[1;33m(\u001b[0m\u001b[0m_query\u001b[0m\u001b[1;33m)\u001b[0m\u001b[1;33m\u001b[0m\u001b[1;33m\u001b[0m\u001b[0m\n\u001b[0m\u001b[0;32m    202\u001b[0m \u001b[1;33m\u001b[0m\u001b[0m\n\u001b[0;32m    203\u001b[0m         \u001b[1;32mif\u001b[0m \u001b[0mdata\u001b[0m\u001b[1;33m.\u001b[0m\u001b[0mget\u001b[0m\u001b[1;33m(\u001b[0m\u001b[1;34m'warnings'\u001b[0m\u001b[1;33m)\u001b[0m\u001b[1;33m:\u001b[0m\u001b[1;33m\u001b[0m\u001b[1;33m\u001b[0m\u001b[0m\n",
      "\u001b[1;31mValueError\u001b[0m: https://en.wikipedia.org/w/api.php?action=parse&formatversion=2&contentmodel=text&disableeditsection=&disablelimitreport=&disabletoc=&prop=text|iwlinks|parsetree|wikitext|displaytitle|properties&redirects&page=Jimmie%20Johnson"
     ]
    }
   ],
   "source": [
    "i=0\n",
    "\n",
    "vocab = set()\n",
    "content_lst = []\n",
    "infoboxes_lst = []\n",
    "for p in pages_lst:\n",
    "    i += 1\n",
    "    print(i)\n",
    "    doc = load_text(p)\n",
    "    if doc is None:\n",
    "        continue\n",
    "    infobox = load_info_box(p)\n",
    "\n",
    "    tokens = tokenize_doc(doc)\n",
    "    vocab = vocab.union(set(tokens))\n",
    "    content_lst.append(doc)\n",
    "#     pages_lst.append(f)\n",
    "    infoboxes_lst.append(infobox)\n",
    "    \n",
    "    \n",
    "    \n",
    "df = pd.DataFrame()\n",
    "df['page'] = pages_lst\n",
    "df['text'] = content_lst\n",
    "df['infobox'] = infoboxes_lst\n",
    "df = df.set_index('page')"
   ]
  },
  {
   "cell_type": "code",
   "execution_count": null,
   "metadata": {},
   "outputs": [],
   "source": [
    "df.tail()"
   ]
  },
  {
   "cell_type": "code",
   "execution_count": null,
   "metadata": {
    "scrolled": true
   },
   "outputs": [],
   "source": [
    "df.loc['Darren Fells'].text"
   ]
  },
  {
   "cell_type": "code",
   "execution_count": 158,
   "metadata": {},
   "outputs": [
    {
     "name": "stderr",
     "output_type": "stream",
     "text": [
      "en.wikipedia.org (categorymembers) Category:Musicians\n",
      "Category:Musicians (en) data\n",
      "{\n",
      "  members: <list(4)> {'pageid': 38284, 'ns': 0, 'title': 'Musician...\n",
      "  requests: <list(1)> category\n",
      "  subcategories: <list(64)> {'pageid': 3541924, 'ns': 14, 'title':...\n",
      "}\n"
     ]
    },
    {
     "data": {
      "text/plain": [
       "{'requests': ['category'],\n",
       " 'members': [{'pageid': 38284, 'ns': 0, 'title': 'Musician'},\n",
       "  {'pageid': 11579263, 'ns': 0, 'title': 'Songster'},\n",
       "  {'pageid': 63788, 'ns': 0, 'title': 'Troubadour'},\n",
       "  {'pageid': 201480, 'ns': 0, 'title': 'Virtuoso'}],\n",
       " 'subcategories': [{'pageid': 3541924,\n",
       "   'ns': 14,\n",
       "   'title': 'Category:Musicians by band'},\n",
       "  {'pageid': 23774570, 'ns': 14, 'title': 'Category:Musicians by century'},\n",
       "  {'pageid': 711259, 'ns': 14, 'title': 'Category:Musicians by genre'},\n",
       "  {'pageid': 711270, 'ns': 14, 'title': 'Category:Musicians by instrument'},\n",
       "  {'pageid': 6499717, 'ns': 14, 'title': 'Category:Artists by record label'},\n",
       "  {'pageid': 51884979,\n",
       "   'ns': 14,\n",
       "   'title': 'Category:Musicians of Indian descent'},\n",
       "  {'pageid': 57266841,\n",
       "   'ns': 14,\n",
       "   'title': 'Category:Musicians of Iranian descent'},\n",
       "  {'pageid': 695237, 'ns': 14, 'title': 'Category:Lists of musicians'},\n",
       "  {'pageid': 699821, 'ns': 14, 'title': 'Category:Musical groups'},\n",
       "  {'pageid': 12709586, 'ns': 14, 'title': 'Category:Female musicians'},\n",
       "  {'pageid': 44800464, 'ns': 14, 'title': 'Category:Male musicians'},\n",
       "  {'pageid': 33689306,\n",
       "   'ns': 14,\n",
       "   'title': 'Category:Musicians with physical disabilities'},\n",
       "  {'pageid': 23978399, 'ns': 14, 'title': 'Category:Accompanists'},\n",
       "  {'pageid': 60877142, 'ns': 14, 'title': 'Category:Alt-right musicians'},\n",
       "  {'pageid': 62163354, 'ns': 14, 'title': 'Category:Ancient musicians'},\n",
       "  {'pageid': 42144501, 'ns': 14, 'title': 'Category:Anime musicians'},\n",
       "  {'pageid': 2938425, 'ns': 14, 'title': 'Category:Music arrangers'},\n",
       "  {'pageid': 7599624, 'ns': 14, 'title': 'Category:Music award winners'},\n",
       "  {'pageid': 17396523, 'ns': 14, 'title': 'Category:Ballad musicians'},\n",
       "  {'pageid': 696792, 'ns': 14, 'title': 'Category:Bandleaders'},\n",
       "  {'pageid': 42447708, 'ns': 14, 'title': 'Category:Books about musicians'},\n",
       "  {'pageid': 2267439, 'ns': 14, 'title': 'Category:Buskers'},\n",
       "  {'pageid': 32381398, 'ns': 14, 'title': 'Category:Musician castes'},\n",
       "  {'pageid': 26541041, 'ns': 14, 'title': 'Category:Child musicians'},\n",
       "  {'pageid': 35252098,\n",
       "   'ns': 14,\n",
       "   'title': 'Category:Music competition participants'},\n",
       "  {'pageid': 691718, 'ns': 14, 'title': 'Category:Composers'},\n",
       "  {'pageid': 40348644, 'ns': 14, 'title': 'Category:Cover artists'},\n",
       "  {'pageid': 10978279,\n",
       "   'ns': 14,\n",
       "   'title': 'Category:Musicians who died on stage'},\n",
       "  {'pageid': 7392935, 'ns': 14, 'title': 'Category:Music educators'},\n",
       "  {'pageid': 31149945, 'ns': 14, 'title': 'Category:Feminist musicians'},\n",
       "  {'pageid': 915968, 'ns': 14, 'title': 'Category:Fictional musicians'},\n",
       "  {'pageid': 35629247, 'ns': 14, 'title': 'Category:Gay musicians'},\n",
       "  {'pageid': 12438239, 'ns': 14, 'title': 'Category:Indigenous musicians'},\n",
       "  {'pageid': 34943546,\n",
       "   'ns': 14,\n",
       "   'title': 'Category:Musicians awarded knighthoods'},\n",
       "  {'pageid': 1885987, 'ns': 14, 'title': 'Category:LGBT musicians'},\n",
       "  {'pageid': 48519362, 'ns': 14, 'title': 'Category:March musicians'},\n",
       "  {'pageid': 33407172, 'ns': 14, 'title': 'Category:Masked musicians'},\n",
       "  {'pageid': 48563389, 'ns': 14, 'title': 'Category:Medieval musicians'},\n",
       "  {'pageid': 30265912, 'ns': 14, 'title': 'Category:Military musicians'},\n",
       "  {'pageid': 28796288, 'ns': 14, 'title': 'Category:Murdered musicians'},\n",
       "  {'pageid': 55442478,\n",
       "   'ns': 14,\n",
       "   'title': 'Category:Music instrument endorsement lists'},\n",
       "  {'pageid': 59331136, 'ns': 14, 'title': 'Category:Music YouTubers'},\n",
       "  {'pageid': 8251471, 'ns': 14, 'title': 'Category:Musical families'},\n",
       "  {'pageid': 62254099, 'ns': 14, 'title': 'Category:Musicians by geography'},\n",
       "  {'pageid': 59845442,\n",
       "   'ns': 14,\n",
       "   'title': 'Category:Musicians of the Chapel Royal'},\n",
       "  {'pageid': 39515568, 'ns': 14, 'title': 'Category:One-man bands'},\n",
       "  {'pageid': 1039319, 'ns': 14, 'title': 'Category:Orchestra leaders'},\n",
       "  {'pageid': 39957732, 'ns': 14, 'title': 'Category:Musicians who were peers'},\n",
       "  {'pageid': 63016913, 'ns': 14, 'title': 'Category:Musician-politicians'},\n",
       "  {'pageid': 8934139,\n",
       "   'ns': 14,\n",
       "   'title': 'Category:Cultural depictions of musicians'},\n",
       "  {'pageid': 713761, 'ns': 14, 'title': 'Category:Record producers'},\n",
       "  {'pageid': 18916861, 'ns': 14, 'title': 'Category:Robot musicians'},\n",
       "  {'pageid': 5835629, 'ns': 14, 'title': 'Category:Session musicians'},\n",
       "  {'pageid': 1345014, 'ns': 14, 'title': 'Category:Singers'},\n",
       "  {'pageid': 51247555, 'ns': 14, 'title': 'Category:Musicians by software'},\n",
       "  {'pageid': 715484, 'ns': 14, 'title': 'Category:Songwriters'},\n",
       "  {'pageid': 57496218, 'ns': 14, 'title': 'Category:Sports musicians'},\n",
       "  {'pageid': 47532463, 'ns': 14, 'title': 'Category:Statues of musicians'},\n",
       "  {'pageid': 4743227,\n",
       "   'ns': 14,\n",
       "   'title': 'Category:Musicians who committed suicide'},\n",
       "  {'pageid': 38414991, 'ns': 14, 'title': 'Category:Tribute acts'},\n",
       "  {'pageid': 26218689, 'ns': 14, 'title': 'Category:Works by musician'},\n",
       "  {'pageid': 10319125, 'ns': 14, 'title': 'Category:Images of musicians'},\n",
       "  {'pageid': 1298120, 'ns': 14, 'title': 'Category:Musician stubs'},\n",
       "  {'pageid': 35320913,\n",
       "   'ns': 14,\n",
       "   'title': 'Category:Wikipedia categories named after musicians'}]}"
      ]
     },
     "execution_count": 158,
     "metadata": {},
     "output_type": "execute_result"
    }
   ],
   "source": [
    "wptools.category('Category:Musicians').get_members().data"
   ]
  },
  {
   "cell_type": "code",
   "execution_count": null,
   "metadata": {},
   "outputs": [],
   "source": []
  },
  {
   "cell_type": "code",
   "execution_count": 144,
   "metadata": {
    "scrolled": true
   },
   "outputs": [
    {
     "name": "stderr",
     "output_type": "stream",
     "text": [
      "en.wikipedia.org (categorymembers) Category:Musicians by band\n",
      "en.wikipedia.org (categorymembers) Category:Musicians by band (&c...\n",
      "en.wikipedia.org (categorymembers) Category:Musicians by band (&c...\n",
      "en.wikipedia.org (categorymembers) Category:Musicians by band (&c...\n",
      "en.wikipedia.org (categorymembers) Category:Musicians by band (&c...\n",
      "en.wikipedia.org (categorymembers) Category:Musicians by band (&c...\n",
      "en.wikipedia.org (categorymembers) Category:Musicians by band (&c...\n",
      "Category:Musicians by band (en) data\n",
      "{\n",
      "  members: <list(0)> \n",
      "  requests: <list(7)> category, category, category, category, cate...\n",
      "  subcategories: <list(3396)> {'pageid': 62685209, 'ns': 14, 'titl...\n",
      "}\n"
     ]
    }
   ],
   "source": [
    "subcategories = wptools.category('Category:Musicians by band').get_members().data['subcategories']"
   ]
  },
  {
   "cell_type": "code",
   "execution_count": 152,
   "metadata": {},
   "outputs": [
    {
     "data": {
      "text/plain": [
       "62755037"
      ]
     },
     "execution_count": 152,
     "metadata": {},
     "output_type": "execute_result"
    }
   ],
   "source": [
    "subcategories[0]['pageid']"
   ]
  },
  {
   "cell_type": "code",
   "execution_count": null,
   "metadata": {},
   "outputs": [],
   "source": []
  },
  {
   "cell_type": "code",
   "execution_count": 155,
   "metadata": {},
   "outputs": [
    {
     "name": "stderr",
     "output_type": "stream",
     "text": [
      "en.wikipedia.org (categorymembers) 62755037\n",
      "62755037 (en) data\n",
      "{\n",
      "  members: <list(3)> {'pageid': 38062667, 'ns': 0, 'title': 'Maho ...\n",
      "  requests: <list(1)> category\n",
      "}\n"
     ]
    },
    {
     "data": {
      "text/plain": [
       "[{'pageid': 38062667, 'ns': 0, 'title': 'Maho Matsunaga'},\n",
       " {'pageid': 32050207, 'ns': 0, 'title': 'Ayuru Ōhashi'},\n",
       " {'pageid': 55471586, 'ns': 0, 'title': 'Megu Sakuragawa'}]"
      ]
     },
     "execution_count": 155,
     "metadata": {},
     "output_type": "execute_result"
    }
   ],
   "source": [
    "wptools.category(pageid=subcategories[0]['pageid']).get_members().data['members']"
   ]
  },
  {
   "cell_type": "code",
   "execution_count": 151,
   "metadata": {},
   "outputs": [
    {
     "name": "stdout",
     "output_type": "stream",
     "text": [
      "Category:A-Rise members\n",
      "Category:AAA (band) members\n",
      "Category:AKB48 Group members\n",
      "Category:Animetal members\n",
      "Category:Anthem (band) members\n",
      "Category:Aqours members\n",
      "Category:Arashi members\n",
      "Category:Asian Kung-Fu Generation members\n",
      "Category:The Blue Hearts members\n",
      "Category:Boredoms members\n",
      "Category:Casiopea members\n",
      "Category:Crazy Cats members\n",
      "Category:Dempagumi.inc members\n",
      "Category:Earphones (band) members\n",
      "Category:Every Little Thing (band) members\n",
      "Category:The Folk Crusaders members\n",
      "Category:Glay members\n",
      "Category:Globe (band) members\n",
      "Category:Hello! Project members\n",
      "Category:Hey! Say! JUMP members\n",
      "Category:I've Sound members\n",
      "Category:Idoling!!! members\n",
      "Category:Iris (Japanese band) members\n",
      "Category:JAM Project members\n",
      "Category:Kanjani Eight members\n",
      "Category:KAT-TUN members\n",
      "Category:Lands (band) members\n",
      "Category:Lazy (band) members\n",
      "Category:Loudness (band) members\n",
      "Category:M-Flo members\n",
      "Category:Milky Holmes members\n",
      "Category:Momoiro Clover Z members\n",
      "Category:Nijigasaki High School Idol Club members\n",
      "Category:Perfume (Japanese band) members\n",
      "Category:Peril (band) members\n",
      "Category:Prits members\n",
      "Category:Rats & Star members\n",
      "Category:Ravex members\n",
      "Category:Run Girls, Run! members\n",
      "Category:Sadistic Mika Band members\n",
      "Category:Saint Snow members\n",
      "Category:Sakamichi Series members\n",
      "Category:Sakura Gakuin members\n",
      "Category:Scandal (Japanese band) members\n",
      "Category:Shiritsu Ebisu Chugaku members\n",
      "Category:Shonen Knife members\n",
      "Category:Show-Ya members\n",
      "Category:SMAP members\n",
      "Category:Southern All Stars members\n",
      "Category:Starlight 99-gumi members\n",
      "Category:StylipS members\n",
      "Category:Tak Matsumoto Group members\n",
      "Category:Tube (band) members\n",
      "Category:Unicorn (Japanese band) members\n",
      "Category:W-inds members\n",
      "Category:Yellow Magic Orchestra members\n",
      "Category:YuiKaori members\n",
      "Category:Zeni Geva members\n",
      "Category:Μ's members\n"
     ]
    },
    {
     "name": "stderr",
     "output_type": "stream",
     "text": [
      "en.wikipedia.org (categorymembers) 62755037\n",
      "62755037 (en) data\n",
      "{\n",
      "  members: <list(3)> {'pageid': 38062667, 'ns': 0, 'title': 'Maho ...\n",
      "  requests: <list(1)> category\n",
      "}\n"
     ]
    },
    {
     "ename": "KeyError",
     "evalue": "'subcategories'",
     "output_type": "error",
     "traceback": [
      "\u001b[1;31m---------------------------------------------------------------------------\u001b[0m",
      "\u001b[1;31mKeyError\u001b[0m                                  Traceback (most recent call last)",
      "\u001b[1;32m<ipython-input-151-78738c57755d>\u001b[0m in \u001b[0;36m<module>\u001b[1;34m\u001b[0m\n\u001b[0;32m      2\u001b[0m     \u001b[0mprint\u001b[0m\u001b[1;33m(\u001b[0m\u001b[0mcat\u001b[0m\u001b[1;33m[\u001b[0m\u001b[1;34m'title'\u001b[0m\u001b[1;33m]\u001b[0m\u001b[1;33m)\u001b[0m\u001b[1;33m\u001b[0m\u001b[1;33m\u001b[0m\u001b[0m\n\u001b[0;32m      3\u001b[0m \u001b[0mpageid\u001b[0m \u001b[1;33m=\u001b[0m \u001b[0msubcategories\u001b[0m\u001b[1;33m[\u001b[0m\u001b[1;36m0\u001b[0m\u001b[1;33m]\u001b[0m\u001b[1;33m[\u001b[0m\u001b[1;34m'pageid'\u001b[0m\u001b[1;33m]\u001b[0m\u001b[1;33m\u001b[0m\u001b[1;33m\u001b[0m\u001b[0m\n\u001b[1;32m----> 4\u001b[1;33m \u001b[0msubcategories\u001b[0m \u001b[1;33m=\u001b[0m \u001b[0mwptools\u001b[0m\u001b[1;33m.\u001b[0m\u001b[0mcategory\u001b[0m\u001b[1;33m(\u001b[0m\u001b[0mpageid\u001b[0m\u001b[1;33m=\u001b[0m\u001b[0mpageid\u001b[0m\u001b[1;33m)\u001b[0m\u001b[1;33m.\u001b[0m\u001b[0mget_members\u001b[0m\u001b[1;33m(\u001b[0m\u001b[1;33m)\u001b[0m\u001b[1;33m.\u001b[0m\u001b[0mdata\u001b[0m\u001b[1;33m[\u001b[0m\u001b[1;34m'subcategories'\u001b[0m\u001b[1;33m]\u001b[0m\u001b[1;33m\u001b[0m\u001b[1;33m\u001b[0m\u001b[0m\n\u001b[0m",
      "\u001b[1;31mKeyError\u001b[0m: 'subcategories'"
     ]
    }
   ],
   "source": [
    "for cat in subcategories:\n",
    "    print(cat['title'])\n",
    "pageid = subcategories[0]['pageid']\n",
    "subcategories = wptools.category(pageid=pageid).get_members().data['subcategories']"
   ]
  },
  {
   "cell_type": "code",
   "execution_count": 130,
   "metadata": {},
   "outputs": [
    {
     "name": "stderr",
     "output_type": "stream",
     "text": [
      "en.wikipedia.org (categorymembers) Category:A-ha members\n",
      "Category:A-ha members (en) data\n",
      "{\n",
      "  members: <list(3)> {'pageid': 1395725, 'ns': 0, 'title': 'Magne ...\n",
      "  requests: <list(1)> category\n",
      "}\n"
     ]
    },
    {
     "ename": "KeyError",
     "evalue": "'subcategories'",
     "output_type": "error",
     "traceback": [
      "\u001b[1;31m---------------------------------------------------------------------------\u001b[0m",
      "\u001b[1;31mKeyError\u001b[0m                                  Traceback (most recent call last)",
      "\u001b[1;32m<ipython-input-130-f4d9eeec73d0>\u001b[0m in \u001b[0;36m<module>\u001b[1;34m\u001b[0m\n\u001b[1;32m----> 1\u001b[1;33m \u001b[0mwptools\u001b[0m\u001b[1;33m.\u001b[0m\u001b[0mcategory\u001b[0m\u001b[1;33m(\u001b[0m\u001b[1;34m'Category:A-ha members'\u001b[0m\u001b[1;33m)\u001b[0m\u001b[1;33m.\u001b[0m\u001b[0mget_members\u001b[0m\u001b[1;33m(\u001b[0m\u001b[1;33m)\u001b[0m\u001b[1;33m.\u001b[0m\u001b[0mdata\u001b[0m\u001b[1;33m[\u001b[0m\u001b[1;34m'subcategories'\u001b[0m\u001b[1;33m]\u001b[0m\u001b[1;33m\u001b[0m\u001b[1;33m\u001b[0m\u001b[0m\n\u001b[0m",
      "\u001b[1;31mKeyError\u001b[0m: 'subcategories'"
     ]
    }
   ],
   "source": [
    "wptools.category('Category:A-ha members').get_members().data['subcategories']"
   ]
  },
  {
   "cell_type": "code",
   "execution_count": null,
   "metadata": {},
   "outputs": [],
   "source": []
  },
  {
   "cell_type": "code",
   "execution_count": 124,
   "metadata": {
    "scrolled": true
   },
   "outputs": [
    {
     "name": "stderr",
     "output_type": "stream",
     "text": [
      "www.wikidata.org (wikidata) Lists of musicians\n",
      "www.wikidata.org (labels) P527|P31|Q33532284|P360|Q4763783|Q70130...\n",
      "Lists of musicians (en) data\n",
      "{\n",
      "  claims: <dict(4)> P31, P360, P1754, P527\n",
      "  description: list of Wikimedia list articles\n",
      "  label: lists of musicians and bands\n",
      "  labels: <dict(8)> P527, P31, Q33532284, P360, Q4763783, Q7013087...\n",
      "  modified: <dict(1)> wikidata\n",
      "  requests: <list(2)> wikidata, labels\n",
      "  title: Lists_of_musicians\n",
      "  what: Wikimedia list of lists\n",
      "  wikibase: Q12370634\n",
      "  wikidata: <dict(4)> instance of (P31), is a list of (P360), cate...\n",
      "  wikidata_pageid: 13597604\n",
      "  wikidata_url: https://www.wikidata.org/wiki/Q12370634\n",
      "}\n"
     ]
    },
    {
     "data": {
      "text/plain": [
       "{'requests': ['wikidata', 'labels'],\n",
       " 'labels': {'P527': 'has part',\n",
       "  'P31': 'instance of',\n",
       "  'Q33532284': 'Wikimedia list of lists',\n",
       "  'P360': 'is a list of',\n",
       "  'Q4763783': 'list of musicians from Angola',\n",
       "  'Q7013087': 'Category:Lists of musicians',\n",
       "  'Q13406463': 'Wikimedia list article',\n",
       "  'P1754': 'category related to list'},\n",
       " 'wikidata': {'instance of (P31)': 'Wikimedia list of lists (Q33532284)',\n",
       "  'is a list of (P360)': 'Wikimedia list article (Q13406463)',\n",
       "  'category related to list (P1754)': 'Category:Lists of musicians (Q7013087)',\n",
       "  'has part (P527)': 'list of musicians from Angola (Q4763783)'},\n",
       " 'wikidata_pageid': 13597604,\n",
       " 'modified': {'wikidata': '2020-02-23T17:17:25Z'},\n",
       " 'wikibase': 'Q12370634',\n",
       " 'wikidata_url': 'https://www.wikidata.org/wiki/Q12370634',\n",
       " 'description': 'list of Wikimedia list articles',\n",
       " 'label': 'lists of musicians and bands',\n",
       " 'claims': {'P31': ['Q33532284'],\n",
       "  'P360': ['Q13406463'],\n",
       "  'P1754': ['Q7013087'],\n",
       "  'P527': ['Q4763783']},\n",
       " 'title': 'Lists_of_musicians',\n",
       " 'what': 'Wikimedia list of lists'}"
      ]
     },
     "execution_count": 124,
     "metadata": {},
     "output_type": "execute_result"
    }
   ],
   "source": [
    "wptools.page('Lists of musicians').get_wikidata().data"
   ]
  },
  {
   "cell_type": "code",
   "execution_count": 127,
   "metadata": {},
   "outputs": [
    {
     "name": "stderr",
     "output_type": "stream",
     "text": [
      "www.wikidata.org (wikidata) Darren Fletcher\n",
      "www.wikidata.org (labels) P373|Q1166608|P641|P2446|P1350|P3537|P3...\n",
      "www.wikidata.org (labels) P1477|P27|Q61771840|Q23436|Q145|Q34044|...\n",
      "en.wikipedia.org (imageinfo) File:Darren Fletcher vs Everton (cro...\n",
      "Darren Fletcher (en) data\n",
      "{\n",
      "  aliases: <list(1)> Darren Barr Fletcher\n",
      "  claims: <dict(38)> P21, P54, P106, P373, P18, P569, P31, P19, P6...\n",
      "  description: Scottish association football player\n",
      "  image: <list(1)> {'file': 'File:Darren Fletcher vs Everton (crop...\n",
      "  label: Darren Fletcher\n",
      "  labels: <dict(58)> P373, Q1166608, P641, P2446, P1350, P3537, P3...\n",
      "  modified: <dict(1)> wikidata\n",
      "  requests: <list(4)> wikidata, labels, labels, imageinfo\n",
      "  title: Darren_Fletcher\n",
      "  what: human\n",
      "  wikibase: Q172792\n",
      "  wikidata: <dict(38)> sex or gender (P21), member of sports team ...\n",
      "  wikidata_pageid: 172868\n",
      "  wikidata_url: https://www.wikidata.org/wiki/Q172792\n",
      "}\n"
     ]
    },
    {
     "data": {
      "text/plain": [
       "{'requests': ['wikidata', 'labels', 'labels', 'imageinfo'],\n",
       " 'labels': {'P373': 'Commons category',\n",
       "  'Q1166608': 'Darren',\n",
       "  'P641': 'sport',\n",
       "  'P2446': 'Transfermarkt player ID',\n",
       "  'P1350': 'number of matches played/races/starts',\n",
       "  'P3537': 'FootballDatabase.eu player ID',\n",
       "  'P3049': 'Scottish Football Association player ID',\n",
       "  'P413': 'position played on team / speciality',\n",
       "  'P1559': 'name in native language',\n",
       "  'P2031': 'work period (start)',\n",
       "  'Q7435700': 'Scotland national under-20 football team',\n",
       "  'P31': 'instance of',\n",
       "  'P6509': 'total goals in career',\n",
       "  'P2020': 'WorldFootball.net player ID',\n",
       "  'Q5': 'human',\n",
       "  'P2067': 'mass',\n",
       "  'Q2736': 'association football',\n",
       "  'P2048': 'height',\n",
       "  'P1412': 'languages spoken, written or signed',\n",
       "  'Q193592': 'midfielder',\n",
       "  'P569': 'date of birth',\n",
       "  'Q1860': 'English',\n",
       "  'P1532': 'country for sport',\n",
       "  'P3681': 'ESPNFC.com player ID',\n",
       "  'P2276': 'UEFA player ID',\n",
       "  'P3427': 'AS.com athlete ID',\n",
       "  'P106': 'occupation',\n",
       "  'P19': 'place of birth',\n",
       "  'Q937857': 'association football player',\n",
       "  'Q22': 'Scotland',\n",
       "  'P118': 'league',\n",
       "  'P18': 'image',\n",
       "  'Q6581097': 'male',\n",
       "  'P1469': 'FIFA player ID',\n",
       "  'P2369': 'Soccerway player ID',\n",
       "  'P69': 'educated at',\n",
       "  'Q18656': 'Manchester United F.C.',\n",
       "  'Q7587714': \"St. David's RC High School\",\n",
       "  'Q18744': 'West Bromwich Albion F.C.',\n",
       "  'P734': 'family name',\n",
       "  'P646': 'Freebase ID',\n",
       "  'P21': 'sex or gender',\n",
       "  'Q1812121': 'Scotland national under-21 football team',\n",
       "  'Q1158860': 'Fletcher',\n",
       "  'P735': 'given name',\n",
       "  'P2574': 'National-Football-Teams.com player ID',\n",
       "  'Q9448': 'Premier League',\n",
       "  'P3538': 'Fussballdaten.de player ID',\n",
       "  'P54': 'member of sports team',\n",
       "  'P3043': 'Scoresway soccer person ID',\n",
       "  'P1477': 'birth name',\n",
       "  'P27': 'country of citizenship',\n",
       "  'Q61771840': 'Barr',\n",
       "  'Q23436': 'Edinburgh',\n",
       "  'Q145': 'United Kingdom',\n",
       "  'Q34044': 'Scotland national football team',\n",
       "  'P2193': 'Soccerbase player ID',\n",
       "  'Q4127960': 'Scotland B national football team'},\n",
       " 'wikidata': {'sex or gender (P21)': 'male (Q6581097)',\n",
       "  'member of sports team (P54)': ['Manchester United F.C. (Q18656)',\n",
       "   'West Bromwich Albion F.C. (Q18744)',\n",
       "   'Scotland national under-20 football team (Q7435700)',\n",
       "   'Scotland national under-21 football team (Q1812121)',\n",
       "   'Scotland B national football team (Q4127960)',\n",
       "   'Scotland national football team (Q34044)'],\n",
       "  'occupation (P106)': 'association football player (Q937857)',\n",
       "  'Commons category (P373)': 'Darren Fletcher',\n",
       "  'image (P18)': 'Darren Fletcher vs Everton (cropped).jpg',\n",
       "  'date of birth (P569)': '+1984-02-01T00:00:00Z',\n",
       "  'instance of (P31)': 'human (Q5)',\n",
       "  'place of birth (P19)': 'Edinburgh (Q23436)',\n",
       "  'Freebase ID (P646)': '/m/039vth',\n",
       "  'country of citizenship (P27)': 'United Kingdom (Q145)',\n",
       "  'given name (P735)': ['Darren (Q1166608)', 'Barr (Q61771840)'],\n",
       "  'FIFA player ID (P1469)': '215561',\n",
       "  'WorldFootball.net player ID (P2020)': 'darren-fletcher',\n",
       "  'sport (P641)': 'association football (Q2736)',\n",
       "  'position played on team / speciality (P413)': 'midfielder (Q193592)',\n",
       "  'UEFA player ID (P2276)': '56384',\n",
       "  'Transfermarkt player ID (P2446)': '3547',\n",
       "  'Soccerbase player ID (P2193)': '21778',\n",
       "  'National-Football-Teams.com player ID (P2574)': '5787',\n",
       "  'Soccerway player ID (P2369)': 'darren-fletcher/2911',\n",
       "  'height (P2048)': {'amount': '+184',\n",
       "   'unit': 'http://www.wikidata.org/entity/Q174728'},\n",
       "  'mass (P2067)': {'amount': '+74',\n",
       "   'unit': 'http://www.wikidata.org/entity/Q11570'},\n",
       "  'Scottish Football Association player ID (P3049)': '27512',\n",
       "  'Scoresway soccer person ID (P3043)': '2911',\n",
       "  'Fussballdaten.de player ID (P3538)': 'fletcherdarren',\n",
       "  'FootballDatabase.eu player ID (P3537)': '2264',\n",
       "  'AS.com athlete ID (P3427)': 'fletcher/5970',\n",
       "  'family name (P734)': 'Fletcher (Q1158860)',\n",
       "  'country for sport (P1532)': 'Scotland (Q22)',\n",
       "  'educated at (P69)': \"St. David's RC High School (Q7587714)\",\n",
       "  'league (P118)': 'Premier League (Q9448)',\n",
       "  'birth name (P1477)': 'Darren Barr Fletcher',\n",
       "  'name in native language (P1559)': 'Darren Fletcher',\n",
       "  'languages spoken, written or signed (P1412)': 'English (Q1860)',\n",
       "  'ESPNFC.com player ID (P3681)': '8871',\n",
       "  'work period (start) (P2031)': '+2003-00-00T00:00:00Z',\n",
       "  'number of matches played/races/starts (P1350)': {'amount': '+1',\n",
       "   'unit': '1'},\n",
       "  'total goals in career (P6509)': {'amount': '+0', 'unit': '1'}},\n",
       " 'wikidata_pageid': 172868,\n",
       " 'aliases': ['Darren Barr Fletcher'],\n",
       " 'modified': {'wikidata': '2020-03-01T13:17:18Z'},\n",
       " 'wikibase': 'Q172792',\n",
       " 'wikidata_url': 'https://www.wikidata.org/wiki/Q172792',\n",
       " 'description': 'Scottish association football player',\n",
       " 'label': 'Darren Fletcher',\n",
       " 'claims': {'P21': ['Q6581097'],\n",
       "  'P54': ['Q18656', 'Q18744', 'Q7435700', 'Q1812121', 'Q4127960', 'Q34044'],\n",
       "  'P106': ['Q937857'],\n",
       "  'P373': ['Darren Fletcher'],\n",
       "  'P18': ['Darren Fletcher vs Everton (cropped).jpg'],\n",
       "  'P569': ['+1984-02-01T00:00:00Z'],\n",
       "  'P31': ['Q5'],\n",
       "  'P19': ['Q23436'],\n",
       "  'P646': ['/m/039vth'],\n",
       "  'P27': ['Q145'],\n",
       "  'P735': ['Q1166608', 'Q61771840'],\n",
       "  'P1469': ['215561'],\n",
       "  'P2020': ['darren-fletcher'],\n",
       "  'P641': ['Q2736'],\n",
       "  'P413': ['Q193592'],\n",
       "  'P2276': ['56384'],\n",
       "  'P2446': ['3547'],\n",
       "  'P2193': ['21778'],\n",
       "  'P2574': ['5787'],\n",
       "  'P2369': ['darren-fletcher/2911'],\n",
       "  'P2048': [{'amount': '+184',\n",
       "    'unit': 'http://www.wikidata.org/entity/Q174728'}],\n",
       "  'P2067': [{'amount': '+74',\n",
       "    'unit': 'http://www.wikidata.org/entity/Q11570'}],\n",
       "  'P3049': ['27512'],\n",
       "  'P3043': ['2911'],\n",
       "  'P3538': ['fletcherdarren'],\n",
       "  'P3537': ['2264'],\n",
       "  'P3427': ['fletcher/5970'],\n",
       "  'P734': ['Q1158860'],\n",
       "  'P1532': ['Q22'],\n",
       "  'P69': ['Q7587714'],\n",
       "  'P118': ['Q9448'],\n",
       "  'P1477': ['Darren Barr Fletcher'],\n",
       "  'P1559': ['Darren Fletcher'],\n",
       "  'P1412': ['Q1860'],\n",
       "  'P3681': ['8871'],\n",
       "  'P2031': ['+2003-00-00T00:00:00Z'],\n",
       "  'P1350': [{'amount': '+1', 'unit': '1'}],\n",
       "  'P6509': [{'amount': '+0', 'unit': '1'}]},\n",
       " 'title': 'Darren_Fletcher',\n",
       " 'image': [{'file': 'File:Darren Fletcher vs Everton (cropped).jpg',\n",
       "   'kind': 'wikidata-image',\n",
       "   'orig': 'Darren Fletcher vs Everton (cropped).jpg',\n",
       "   'timestamp': '2016-01-19T23:31:50Z',\n",
       "   'size': 188633,\n",
       "   'width': 408,\n",
       "   'height': 534,\n",
       "   'url': 'https://upload.wikimedia.org/wikipedia/commons/1/10/Darren_Fletcher_vs_Everton_%28cropped%29.jpg',\n",
       "   'descriptionurl': 'https://commons.wikimedia.org/wiki/File:Darren_Fletcher_vs_Everton_(cropped).jpg',\n",
       "   'descriptionshorturl': 'https://commons.wikimedia.org/w/index.php?curid=20464181',\n",
       "   'title': 'File:Darren Fletcher vs Everton (cropped).jpg',\n",
       "   'metadata': {'DateTime': {'value': '2016-01-19 23:31:50',\n",
       "     'source': 'mediawiki-metadata',\n",
       "     'hidden': ''},\n",
       "    'ObjectName': {'value': 'Darren Fletcher vs Everton (cropped)',\n",
       "     'source': 'mediawiki-metadata',\n",
       "     'hidden': ''},\n",
       "    'CommonsMetadataExtension': {'value': 1.2,\n",
       "     'source': 'extension',\n",
       "     'hidden': ''},\n",
       "    'Categories': {'value': 'Darren Fletcher|Extracted images|Flickr images uploaded by Flickr upload bot|Manchester United v Everton, 21 November 2009|Retouched pictures',\n",
       "     'source': 'commons-categories',\n",
       "     'hidden': ''},\n",
       "    'Assessments': {'value': '', 'source': 'commons-categories', 'hidden': ''},\n",
       "    'ImageDescription': {'value': 'Darren Fletcher vs Everton, at Old Trafford, Manchester, November 2009.',\n",
       "     'source': 'commons-desc-page'},\n",
       "    'DateTimeOriginal': {'value': '2009-11-21 20:25:06',\n",
       "     'source': 'commons-desc-page'},\n",
       "    'Credit': {'value': 'originally posted to <b><a href=\"//commons.wikimedia.org/wiki/Flickr\" class=\"mw-redirect\" title=\"Flickr\">Flickr</a></b> as <a rel=\"nofollow\" class=\"external text\" href=\"https://www.flickr.com/photos/90074625@N00/4138652888\">Man Utd V Everton-29</a>',\n",
       "     'source': 'commons-desc-page',\n",
       "     'hidden': ''},\n",
       "    'Artist': {'value': '<a rel=\"nofollow\" class=\"external text\" href=\"https://www.flickr.com/photos/90074625@N00\">Gordon Flood</a>',\n",
       "     'source': 'commons-desc-page'},\n",
       "    'Permission': {'value': '<table id=\"FlickrReview\" style=\"width:100%; margin:0.3em auto; text-align: start; background: #eeffee; padding: 3px; border: 1px solid #aaaa88;\" class=\"mw-content-ltr\" dir=\"ltr\" lang=\"en\"><tbody><tr>\\n<td><img alt=\"Checked copyright icon.svg\" src=\"https://upload.wikimedia.org/wikipedia/commons/thumb/9/95/Checked_copyright_icon.svg/50px-Checked_copyright_icon.svg.png\" decoding=\"async\" width=\"50\" height=\"48\" srcset=\"https://upload.wikimedia.org/wikipedia/commons/thumb/9/95/Checked_copyright_icon.svg/75px-Checked_copyright_icon.svg.png 1.5x, https://upload.wikimedia.org/wikipedia/commons/thumb/9/95/Checked_copyright_icon.svg/100px-Checked_copyright_icon.svg.png 2x\" data-file-width=\"160\" data-file-height=\"153\"></td>\\n<td>This image, which was originally posted to <b><a href=\"https://en.wikipedia.org/wiki/Flickr\" class=\"extiw\" title=\"en:Flickr\">Flickr</a></b>, was uploaded to Commons using <b><a href=\"//commons.wikimedia.org/wiki/User:Flickr_upload_bot\" title=\"User:Flickr upload bot\">Flickr upload bot</a></b> on <span style=\"white-space:nowrap\"><time class=\"dtstart\" datetime=\"2009-11-29 19:51\">29 November 2009, 19:51</time></span> by <span id=\"flickr_upload_bot_reviewer\"><b><a href=\"//commons.wikimedia.org/wiki/User:Ytoyoda\" title=\"User:Ytoyoda\">Ytoyoda</a></b></span>. On that date, it was confirmed to be licensed under the terms of the license indicated.\\n</td>\\n</tr></tbody></table>\\n<table style=\"width:100%; clear:both; text-align:center; margin:0.5em auto; background-color:#f9f9f9; border:2px solid #e0e0e0; padding: 0; border-spacing: 8px;\" class=\"layouttemplate licensetpl mw-content-ltr\" lang=\"en\"><tbody>\\n<tr>\\n<td style=\"width:90px;\" rowspan=\"3\">\\n<img alt=\"w:en:Creative Commons\" src=\"https://upload.wikimedia.org/wikipedia/commons/thumb/7/79/CC_some_rights_reserved.svg/90px-CC_some_rights_reserved.svg.png\" decoding=\"async\" title=\"w:en:Creative Commons\" width=\"90\" height=\"36\" srcset=\"https://upload.wikimedia.org/wikipedia/commons/thumb/7/79/CC_some_rights_reserved.svg/135px-CC_some_rights_reserved.svg.png 1.5x, https://upload.wikimedia.org/wikipedia/commons/thumb/7/79/CC_some_rights_reserved.svg/180px-CC_some_rights_reserved.svg.png 2x\" data-file-width=\"744\" data-file-height=\"300\"><br><img alt=\"attribution\" src=\"https://upload.wikimedia.org/wikipedia/commons/thumb/1/11/Cc-by_new_white.svg/24px-Cc-by_new_white.svg.png\" decoding=\"async\" title=\"attribution\" width=\"24\" height=\"24\" srcset=\"https://upload.wikimedia.org/wikipedia/commons/thumb/1/11/Cc-by_new_white.svg/36px-Cc-by_new_white.svg.png 1.5x, https://upload.wikimedia.org/wikipedia/commons/thumb/1/11/Cc-by_new_white.svg/48px-Cc-by_new_white.svg.png 2x\" data-file-width=\"64\" data-file-height=\"64\">\\n</td>\\n<td>This file is licensed under the <a href=\"https://en.wikipedia.org/wiki/en:Creative_Commons\" class=\"extiw\" title=\"w:en:Creative Commons\">Creative Commons</a> <a rel=\"nofollow\" class=\"external text\" href=\"https://creativecommons.org/licenses/by/2.0/deed.en\">Attribution 2.0 Generic</a> license.\\n</td>\\n<td style=\"width:90px;\" rowspan=\"3\">\\n</td>\\n</tr>\\n<tr style=\"text-align:center;\"><td>\\n</td></tr>\\n<tr style=\"text-align:left;\"><td>\\n<dl>\\n<dd>You are free:\\n<ul>\\n<li>\\n<b>to share</b> – to copy, distribute and transmit the work</li>\\n<li>\\n<b>to remix</b> – to adapt the work</li>\\n</ul>\\n</dd>\\n<dd>Under the following conditions:\\n<ul><li>\\n<b>attribution</b> – You must give appropriate credit, provide a link to the license, and indicate if changes were made. You may do so in any reasonable manner, but not in any way that suggests the licensor endorses you or your use.</li></ul>\\n</dd>\\n</dl>\\n<p><span class=\"licensetpl_link\" style=\"display:none;\">https://creativecommons.org/licenses/by/2.0\\n</span><span class=\"licensetpl_short\" style=\"display:none;\">CC BY 2.0 \\n</span><span class=\"licensetpl_long\" style=\"display:none;\">Creative Commons Attribution 2.0 \\n</span><span class=\"licensetpl_link_req\" style=\"display:none;\">true</span><span class=\"licensetpl_attr_req\" style=\"display:none;\">true</span>\\n</p>\\n</td></tr>\\n</tbody></table>',\n",
       "     'source': 'commons-desc-page',\n",
       "     'hidden': ''},\n",
       "    'LicenseShortName': {'value': 'CC BY 2.0',\n",
       "     'source': 'commons-desc-page',\n",
       "     'hidden': ''},\n",
       "    'UsageTerms': {'value': 'Creative Commons Attribution 2.0',\n",
       "     'source': 'commons-desc-page',\n",
       "     'hidden': ''},\n",
       "    'AttributionRequired': {'value': 'true',\n",
       "     'source': 'commons-desc-page',\n",
       "     'hidden': ''},\n",
       "    'LicenseUrl': {'value': 'https://creativecommons.org/licenses/by/2.0',\n",
       "     'source': 'commons-desc-page',\n",
       "     'hidden': ''},\n",
       "    'Copyrighted': {'value': 'True',\n",
       "     'source': 'commons-desc-page',\n",
       "     'hidden': ''},\n",
       "    'Restrictions': {'value': '', 'source': 'commons-desc-page', 'hidden': ''},\n",
       "    'License': {'value': 'cc-by-2.0',\n",
       "     'source': 'commons-templates',\n",
       "     'hidden': ''}}}],\n",
       " 'what': 'human'}"
      ]
     },
     "execution_count": 127,
     "metadata": {},
     "output_type": "execute_result"
    }
   ],
   "source": [
    "wptools.page('Darren Fletcher').get_wikidata().data.wiki"
   ]
  },
  {
   "cell_type": "code",
   "execution_count": 108,
   "metadata": {},
   "outputs": [
    {
     "data": {
      "text/plain": [
       "[{'pageid': 3541924, 'ns': 14, 'title': 'Category:Musicians by band'},\n",
       " {'pageid': 23774570, 'ns': 14, 'title': 'Category:Musicians by century'},\n",
       " {'pageid': 711259, 'ns': 14, 'title': 'Category:Musicians by genre'},\n",
       " {'pageid': 711270, 'ns': 14, 'title': 'Category:Musicians by instrument'},\n",
       " {'pageid': 6499717, 'ns': 14, 'title': 'Category:Artists by record label'},\n",
       " {'pageid': 51884979,\n",
       "  'ns': 14,\n",
       "  'title': 'Category:Musicians of Indian descent'},\n",
       " {'pageid': 57266841,\n",
       "  'ns': 14,\n",
       "  'title': 'Category:Musicians of Iranian descent'},\n",
       " {'pageid': 695237, 'ns': 14, 'title': 'Category:Lists of musicians'},\n",
       " {'pageid': 699821, 'ns': 14, 'title': 'Category:Musical groups'},\n",
       " {'pageid': 12709586, 'ns': 14, 'title': 'Category:Female musicians'},\n",
       " {'pageid': 44800464, 'ns': 14, 'title': 'Category:Male musicians'},\n",
       " {'pageid': 33689306,\n",
       "  'ns': 14,\n",
       "  'title': 'Category:Musicians with physical disabilities'},\n",
       " {'pageid': 23978399, 'ns': 14, 'title': 'Category:Accompanists'},\n",
       " {'pageid': 60877142, 'ns': 14, 'title': 'Category:Alt-right musicians'},\n",
       " {'pageid': 62163354, 'ns': 14, 'title': 'Category:Ancient musicians'},\n",
       " {'pageid': 42144501, 'ns': 14, 'title': 'Category:Anime musicians'},\n",
       " {'pageid': 2938425, 'ns': 14, 'title': 'Category:Music arrangers'},\n",
       " {'pageid': 7599624, 'ns': 14, 'title': 'Category:Music award winners'},\n",
       " {'pageid': 17396523, 'ns': 14, 'title': 'Category:Ballad musicians'},\n",
       " {'pageid': 696792, 'ns': 14, 'title': 'Category:Bandleaders'},\n",
       " {'pageid': 42447708, 'ns': 14, 'title': 'Category:Books about musicians'},\n",
       " {'pageid': 2267439, 'ns': 14, 'title': 'Category:Buskers'},\n",
       " {'pageid': 32381398, 'ns': 14, 'title': 'Category:Musician castes'},\n",
       " {'pageid': 26541041, 'ns': 14, 'title': 'Category:Child musicians'},\n",
       " {'pageid': 35252098,\n",
       "  'ns': 14,\n",
       "  'title': 'Category:Music competition participants'},\n",
       " {'pageid': 691718, 'ns': 14, 'title': 'Category:Composers'},\n",
       " {'pageid': 40348644, 'ns': 14, 'title': 'Category:Cover artists'},\n",
       " {'pageid': 10978279,\n",
       "  'ns': 14,\n",
       "  'title': 'Category:Musicians who died on stage'},\n",
       " {'pageid': 7392935, 'ns': 14, 'title': 'Category:Music educators'},\n",
       " {'pageid': 31149945, 'ns': 14, 'title': 'Category:Feminist musicians'},\n",
       " {'pageid': 915968, 'ns': 14, 'title': 'Category:Fictional musicians'},\n",
       " {'pageid': 35629247, 'ns': 14, 'title': 'Category:Gay musicians'},\n",
       " {'pageid': 12438239, 'ns': 14, 'title': 'Category:Indigenous musicians'},\n",
       " {'pageid': 34943546,\n",
       "  'ns': 14,\n",
       "  'title': 'Category:Musicians awarded knighthoods'},\n",
       " {'pageid': 1885987, 'ns': 14, 'title': 'Category:LGBT musicians'},\n",
       " {'pageid': 48519362, 'ns': 14, 'title': 'Category:March musicians'},\n",
       " {'pageid': 33407172, 'ns': 14, 'title': 'Category:Masked musicians'},\n",
       " {'pageid': 48563389, 'ns': 14, 'title': 'Category:Medieval musicians'},\n",
       " {'pageid': 30265912, 'ns': 14, 'title': 'Category:Military musicians'},\n",
       " {'pageid': 28796288, 'ns': 14, 'title': 'Category:Murdered musicians'},\n",
       " {'pageid': 55442478,\n",
       "  'ns': 14,\n",
       "  'title': 'Category:Music instrument endorsement lists'},\n",
       " {'pageid': 59331136, 'ns': 14, 'title': 'Category:Music YouTubers'},\n",
       " {'pageid': 8251471, 'ns': 14, 'title': 'Category:Musical families'},\n",
       " {'pageid': 62254099, 'ns': 14, 'title': 'Category:Musicians by geography'},\n",
       " {'pageid': 59845442,\n",
       "  'ns': 14,\n",
       "  'title': 'Category:Musicians of the Chapel Royal'},\n",
       " {'pageid': 39515568, 'ns': 14, 'title': 'Category:One-man bands'},\n",
       " {'pageid': 1039319, 'ns': 14, 'title': 'Category:Orchestra leaders'},\n",
       " {'pageid': 39957732, 'ns': 14, 'title': 'Category:Musicians who were peers'},\n",
       " {'pageid': 63016913, 'ns': 14, 'title': 'Category:Musician-politicians'},\n",
       " {'pageid': 8934139,\n",
       "  'ns': 14,\n",
       "  'title': 'Category:Cultural depictions of musicians'},\n",
       " {'pageid': 713761, 'ns': 14, 'title': 'Category:Record producers'},\n",
       " {'pageid': 18916861, 'ns': 14, 'title': 'Category:Robot musicians'},\n",
       " {'pageid': 5835629, 'ns': 14, 'title': 'Category:Session musicians'},\n",
       " {'pageid': 1345014, 'ns': 14, 'title': 'Category:Singers'},\n",
       " {'pageid': 51247555, 'ns': 14, 'title': 'Category:Musicians by software'},\n",
       " {'pageid': 715484, 'ns': 14, 'title': 'Category:Songwriters'},\n",
       " {'pageid': 57496218, 'ns': 14, 'title': 'Category:Sports musicians'},\n",
       " {'pageid': 47532463, 'ns': 14, 'title': 'Category:Statues of musicians'},\n",
       " {'pageid': 4743227,\n",
       "  'ns': 14,\n",
       "  'title': 'Category:Musicians who committed suicide'},\n",
       " {'pageid': 38414991, 'ns': 14, 'title': 'Category:Tribute acts'},\n",
       " {'pageid': 26218689, 'ns': 14, 'title': 'Category:Works by musician'},\n",
       " {'pageid': 10319125, 'ns': 14, 'title': 'Category:Images of musicians'},\n",
       " {'pageid': 1298120, 'ns': 14, 'title': 'Category:Musician stubs'},\n",
       " {'pageid': 35320913,\n",
       "  'ns': 14,\n",
       "  'title': 'Category:Wikipedia categories named after musicians'}]"
      ]
     },
     "execution_count": 108,
     "metadata": {},
     "output_type": "execute_result"
    }
   ],
   "source": [
    "cat.data['subcategories']"
   ]
  },
  {
   "cell_type": "code",
   "execution_count": 94,
   "metadata": {},
   "outputs": [
    {
     "data": {
      "text/plain": [
       "'<div class=\"mw-parser-output\"><p>\\nThis is a <b>list of <a href=\"/wiki/Post-dubstep\" class=\"mw-redirect\" title=\"Post-dubstep\">post-dubstep</a> musicians</b>.\\n</p>\\n<h2><span class=\"mw-headline\" id=\"List\">List</span><span class=\"mw-editsection\"><span class=\"mw-editsection-bracket\">[</span><a href=\"/w/index.php?title=List_of_post-dubstep_musicians&amp;action=edit&amp;section=1\" title=\"Edit section: List\">edit</a><span class=\"mw-editsection-bracket\">]</span></span></h2>\\n<div class=\"div-col columns column-width\" style=\"-moz-column-width: 30em; -webkit-column-width: 30em; column-width: 30em;\">\\n<ul><li><a href=\"/wiki/Chase_%26_Status\" title=\"Chase &amp; Status\">Chase &amp; Status</a><sup id=\"cite_ref-PD_1-0\" class=\"reference\"><a href=\"#cite_note-PD-1\">&#91;1&#93;</a></sup></li>\\n<li><a href=\"/wiki/Darkstar_(band)\" title=\"Darkstar (band)\">Darkstar</a><sup id=\"cite_ref-PD_1-1\" class=\"reference\"><a href=\"#cite_note-PD-1\">&#91;1&#93;</a></sup><sup id=\"cite_ref-2\" class=\"reference\"><a href=\"#cite_note-2\">&#91;2&#93;</a></sup><sup id=\"cite_ref-3\" class=\"reference\"><a href=\"#cite_note-3\">&#91;3&#93;</a></sup></li>\\n<li><a href=\"/wiki/Flux_Pavilion\" title=\"Flux Pavilion\">Flux Pavilion</a><sup id=\"cite_ref-PD_1-2\" class=\"reference\"><a href=\"#cite_note-PD-1\">&#91;1&#93;</a></sup></li>\\n<li><a href=\"/wiki/Gemini_(musician)\" title=\"Gemini (musician)\">Gemini</a><sup id=\"cite_ref-4\" class=\"reference\"><a href=\"#cite_note-4\">&#91;4&#93;</a></sup></li>\\n<li><a href=\"/wiki/Gold_Panda\" title=\"Gold Panda\">Gold Panda</a><sup id=\"cite_ref-Smith_5-0\" class=\"reference\"><a href=\"#cite_note-Smith-5\">&#91;5&#93;</a></sup></li>\\n<li><a href=\"/wiki/Ikonika\" title=\"Ikonika\">Ikonika</a><sup id=\"cite_ref-PD_1-3\" class=\"reference\"><a href=\"#cite_note-PD-1\">&#91;1&#93;</a></sup><sup id=\"cite_ref-6\" class=\"reference\"><a href=\"#cite_note-6\">&#91;6&#93;</a></sup></li>\\n<li><a href=\"/wiki/Jakwob\" title=\"Jakwob\">Jakwob</a><sup id=\"cite_ref-PD_1-4\" class=\"reference\"><a href=\"#cite_note-PD-1\">&#91;1&#93;</a></sup></li>\\n<li><a href=\"/wiki/James_Blake_(musician)\" title=\"James Blake (musician)\">James Blake</a><sup id=\"cite_ref-PD_1-5\" class=\"reference\"><a href=\"#cite_note-PD-1\">&#91;1&#93;</a></sup><sup id=\"cite_ref-Smith_5-1\" class=\"reference\"><a href=\"#cite_note-Smith-5\">&#91;5&#93;</a></sup><sup id=\"cite_ref-JW_7-0\" class=\"reference\"><a href=\"#cite_note-JW-7\">&#91;7&#93;</a></sup><sup id=\"cite_ref-8\" class=\"reference\"><a href=\"#cite_note-8\">&#91;8&#93;</a></sup><sup id=\"cite_ref-9\" class=\"reference\"><a href=\"#cite_note-9\">&#91;9&#93;</a></sup></li>\\n<li><a href=\"/wiki/Jamie_Woon\" title=\"Jamie Woon\">Jamie Woon</a><sup id=\"cite_ref-JW_7-1\" class=\"reference\"><a href=\"#cite_note-JW-7\">&#91;7&#93;</a></sup></li>\\n<li><a href=\"/wiki/Jamie_xx\" title=\"Jamie xx\">Jamie xx</a><sup id=\"cite_ref-10\" class=\"reference\"><a href=\"#cite_note-10\">&#91;10&#93;</a></sup><sup id=\"cite_ref-11\" class=\"reference\"><a href=\"#cite_note-11\">&#91;11&#93;</a></sup></li>\\n<li><a href=\"/wiki/Joker_(musician)\" title=\"Joker (musician)\">Joker</a><sup id=\"cite_ref-12\" class=\"reference\"><a href=\"#cite_note-12\">&#91;12&#93;</a></sup></li>\\n<li><a href=\"/wiki/Joy_Orbison\" title=\"Joy Orbison\">Joy Orbison</a><sup id=\"cite_ref-PD_1-6\" class=\"reference\"><a href=\"#cite_note-PD-1\">&#91;1&#93;</a></sup></li>\\n<li><a href=\"/wiki/Kode9\" title=\"Kode9\">Kode9</a><sup id=\"cite_ref-PD_1-7\" class=\"reference\"><a href=\"#cite_note-PD-1\">&#91;1&#93;</a></sup></li>\\n<li><a href=\"/wiki/Magnetic_Man\" title=\"Magnetic Man\">Magnetic Man</a><sup id=\"cite_ref-PD_1-8\" class=\"reference\"><a href=\"#cite_note-PD-1\">&#91;1&#93;</a></sup></li>\\n<li><a href=\"/wiki/Mount_Kimbie\" title=\"Mount Kimbie\">Mount Kimbie</a><sup id=\"cite_ref-PD_1-9\" class=\"reference\"><a href=\"#cite_note-PD-1\">&#91;1&#93;</a></sup><sup id=\"cite_ref-Smith_5-2\" class=\"reference\"><a href=\"#cite_note-Smith-5\">&#91;5&#93;</a></sup><sup id=\"cite_ref-JW_7-2\" class=\"reference\"><a href=\"#cite_note-JW-7\">&#91;7&#93;</a></sup><sup id=\"cite_ref-13\" class=\"reference\"><a href=\"#cite_note-13\">&#91;13&#93;</a></sup><sup id=\"cite_ref-14\" class=\"reference\"><a href=\"#cite_note-14\">&#91;14&#93;</a></sup></li>\\n<li><a href=\"/wiki/Nero_(band)\" title=\"Nero (band)\">Nero</a><sup id=\"cite_ref-PD_1-10\" class=\"reference\"><a href=\"#cite_note-PD-1\">&#91;1&#93;</a></sup></li>\\n<li><a href=\"/wiki/Scuba_(musician)\" title=\"Scuba (musician)\">Scuba</a><sup id=\"cite_ref-PD_1-11\" class=\"reference\"><a href=\"#cite_note-PD-1\">&#91;1&#93;</a></sup></li>\\n<li><a href=\"/wiki/SBTRKT\" class=\"mw-redirect\" title=\"SBTRKT\">SBTRKT</a><sup id=\"cite_ref-Smith_5-3\" class=\"reference\"><a href=\"#cite_note-Smith-5\">&#91;5&#93;</a></sup><sup id=\"cite_ref-15\" class=\"reference\"><a href=\"#cite_note-15\">&#91;15&#93;</a></sup><sup id=\"cite_ref-16\" class=\"reference\"><a href=\"#cite_note-16\">&#91;16&#93;</a></sup></li>\\n<li><a href=\"/wiki/Sepalcure\" title=\"Sepalcure\">Sepalcure</a><sup id=\"cite_ref-17\" class=\"reference\"><a href=\"#cite_note-17\">&#91;17&#93;</a></sup></li>\\n<li><a href=\"/wiki/Stubborn_Heart\" title=\"Stubborn Heart\">Stubborn Heart</a><sup id=\"cite_ref-18\" class=\"reference\"><a href=\"#cite_note-18\">&#91;18&#93;</a></sup></li>\\n<li><a href=\"/wiki/XXYYXX\" title=\"XXYYXX\">XXYYXX</a><sup id=\"cite_ref-19\" class=\"reference\"><a href=\"#cite_note-19\">&#91;19&#93;</a></sup><sup id=\"cite_ref-20\" class=\"reference\"><a href=\"#cite_note-20\">&#91;20&#93;</a></sup></li>\\n<li><a href=\"/wiki/Zomby\" title=\"Zomby\">Zomby</a><sup id=\"cite_ref-21\" class=\"reference\"><a href=\"#cite_note-21\">&#91;21&#93;</a></sup><sup id=\"cite_ref-22\" class=\"reference\"><a href=\"#cite_note-22\">&#91;22&#93;</a></sup></li></ul>\\n</div>\\n<h2><span class=\"mw-headline\" id=\"References\">References</span><span class=\"mw-editsection\"><span class=\"mw-editsection-bracket\">[</span><a href=\"/w/index.php?title=List_of_post-dubstep_musicians&amp;action=edit&amp;section=2\" title=\"Edit section: References\">edit</a><span class=\"mw-editsection-bracket\">]</span></span></h2>\\n<div class=\"reflist columns references-column-width\" style=\"-moz-column-width: 30em; -webkit-column-width: 30em; column-width: 30em; list-style-type: decimal;\">\\n<ol class=\"references\">\\n<li id=\"cite_note-PD-1\"><span class=\"mw-cite-backlink\">^ <a href=\"#cite_ref-PD_1-0\"><sup><i><b>a</b></i></sup></a> <a href=\"#cite_ref-PD_1-1\"><sup><i><b>b</b></i></sup></a> <a href=\"#cite_ref-PD_1-2\"><sup><i><b>c</b></i></sup></a> <a href=\"#cite_ref-PD_1-3\"><sup><i><b>d</b></i></sup></a> <a href=\"#cite_ref-PD_1-4\"><sup><i><b>e</b></i></sup></a> <a href=\"#cite_ref-PD_1-5\"><sup><i><b>f</b></i></sup></a> <a href=\"#cite_ref-PD_1-6\"><sup><i><b>g</b></i></sup></a> <a href=\"#cite_ref-PD_1-7\"><sup><i><b>h</b></i></sup></a> <a href=\"#cite_ref-PD_1-8\"><sup><i><b>i</b></i></sup></a> <a href=\"#cite_ref-PD_1-9\"><sup><i><b>j</b></i></sup></a> <a href=\"#cite_ref-PD_1-10\"><sup><i><b>k</b></i></sup></a> <a href=\"#cite_ref-PD_1-11\"><sup><i><b>l</b></i></sup></a></span> <span class=\"reference-text\"><cite class=\"citation magazine\">Aaron, Charles (14 March 2011). <a rel=\"nofollow\" class=\"external text\" href=\"https://www.spin.com/2011/03/listen-10-post-dubstep-artists-who-matter//\">\"LISTEN: 10 Post-Dubstep Artists Who Matter\"</a>. <i><a href=\"/wiki/Spin_(magazine)\" title=\"Spin (magazine)\">Spin</a></i><span class=\"reference-accessdate\">. Retrieved <span class=\"nowrap\">11 November</span> 2013</span>.</cite><span title=\"ctx_ver=Z39.88-2004&amp;rft_val_fmt=info%3Aofi%2Ffmt%3Akev%3Amtx%3Ajournal&amp;rft.genre=article&amp;rft.jtitle=Spin&amp;rft.atitle=LISTEN%3A+10+Post-Dubstep+Artists+Who+Matter&amp;rft.date=2011-03-14&amp;rft.aulast=Aaron&amp;rft.aufirst=Charles&amp;rft_id=https%3A%2F%2Fwww.spin.com%2F2011%2F03%2Flisten-10-post-dubstep-artists-who-matter%2F%2F&amp;rfr_id=info%3Asid%2Fen.wikipedia.org%3AList+of+post-dubstep+musicians\" class=\"Z3988\"></span><style data-mw-deduplicate=\"TemplateStyles:r935243608\">.mw-parser-output cite.citation{font-style:inherit}.mw-parser-output .citation q{quotes:\"\\\\\"\"\"\\\\\"\"\"\\'\"\"\\'\"}.mw-parser-output .id-lock-free a,.mw-parser-output .citation .cs1-lock-free a{background:url(\"//upload.wikimedia.org/wikipedia/commons/thumb/6/65/Lock-green.svg/9px-Lock-green.svg.png\")no-repeat;background-position:right .1em center}.mw-parser-output .id-lock-limited a,.mw-parser-output .id-lock-registration a,.mw-parser-output .citation .cs1-lock-limited a,.mw-parser-output .citation .cs1-lock-registration a{background:url(\"//upload.wikimedia.org/wikipedia/commons/thumb/d/d6/Lock-gray-alt-2.svg/9px-Lock-gray-alt-2.svg.png\")no-repeat;background-position:right .1em center}.mw-parser-output .id-lock-subscription a,.mw-parser-output .citation .cs1-lock-subscription a{background:url(\"//upload.wikimedia.org/wikipedia/commons/thumb/a/aa/Lock-red-alt-2.svg/9px-Lock-red-alt-2.svg.png\")no-repeat;background-position:right .1em center}.mw-parser-output .cs1-subscription,.mw-parser-output .cs1-registration{color:#555}.mw-parser-output .cs1-subscription span,.mw-parser-output .cs1-registration span{border-bottom:1px dotted;cursor:help}.mw-parser-output .cs1-ws-icon a{background:url(\"//upload.wikimedia.org/wikipedia/commons/thumb/4/4c/Wikisource-logo.svg/12px-Wikisource-logo.svg.png\")no-repeat;background-position:right .1em center}.mw-parser-output code.cs1-code{color:inherit;background:inherit;border:inherit;padding:inherit}.mw-parser-output .cs1-hidden-error{display:none;font-size:100%}.mw-parser-output .cs1-visible-error{font-size:100%}.mw-parser-output .cs1-maint{display:none;color:#33aa33;margin-left:0.3em}.mw-parser-output .cs1-subscription,.mw-parser-output .cs1-registration,.mw-parser-output .cs1-format{font-size:95%}.mw-parser-output .cs1-kern-left,.mw-parser-output .cs1-kern-wl-left{padding-left:0.2em}.mw-parser-output .cs1-kern-right,.mw-parser-output .cs1-kern-wl-right{padding-right:0.2em}</style></span>\\n</li>\\n<li id=\"cite_note-2\"><span class=\"mw-cite-backlink\"><b><a href=\"#cite_ref-2\">^</a></b></span> <span class=\"reference-text\"><cite class=\"citation magazine\">Denney, Alex (31 January 2013). <a rel=\"nofollow\" class=\"external text\" href=\"http://www.nme.com/reviews/darkstar/14029\">\"Darkstar – \\'News From Nowhere<span class=\"cs1-kern-right\">\\'</span>\"</a>. <i><a href=\"/wiki/NME\" title=\"NME\">NME</a></i><span class=\"reference-accessdate\">. Retrieved <span class=\"nowrap\">11 November</span> 2013</span>.</cite><span title=\"ctx_ver=Z39.88-2004&amp;rft_val_fmt=info%3Aofi%2Ffmt%3Akev%3Amtx%3Ajournal&amp;rft.genre=article&amp;rft.jtitle=NME&amp;rft.atitle=Darkstar+%E2%80%93+%27News+From+Nowhere%27&amp;rft.date=2013-01-31&amp;rft.aulast=Denney&amp;rft.aufirst=Alex&amp;rft_id=http%3A%2F%2Fwww.nme.com%2Freviews%2Fdarkstar%2F14029&amp;rfr_id=info%3Asid%2Fen.wikipedia.org%3AList+of+post-dubstep+musicians\" class=\"Z3988\"></span><link rel=\"mw-deduplicated-inline-style\" href=\"mw-data:TemplateStyles:r935243608\"/></span>\\n</li>\\n<li id=\"cite_note-3\"><span class=\"mw-cite-backlink\"><b><a href=\"#cite_ref-3\">^</a></b></span> <span class=\"reference-text\"><cite class=\"citation news\"><a rel=\"nofollow\" class=\"external text\" href=\"https://web.archive.org/web/20130118035134/http://www.thestoolpigeon.co.uk/features/music-darkstar-stream-news-from-nowhere.html\">\"Music: Darkstar\"</a>. <i><a href=\"/wiki/The_Stool_Pigeon_(newspaper)\" title=\"The Stool Pigeon (newspaper)\">The Stool Pigeon</a></i>. 16 January 2013. Archived from <a rel=\"nofollow\" class=\"external text\" href=\"http://www.thestoolpigeon.co.uk/features/music-darkstar-stream-news-from-nowhere.html\">the original</a> on 18 January 2013.</cite><span title=\"ctx_ver=Z39.88-2004&amp;rft_val_fmt=info%3Aofi%2Ffmt%3Akev%3Amtx%3Ajournal&amp;rft.genre=article&amp;rft.jtitle=The+Stool+Pigeon&amp;rft.atitle=Music%3A+Darkstar&amp;rft.date=2013-01-16&amp;rft_id=http%3A%2F%2Fwww.thestoolpigeon.co.uk%2Ffeatures%2Fmusic-darkstar-stream-news-from-nowhere.html&amp;rfr_id=info%3Asid%2Fen.wikipedia.org%3AList+of+post-dubstep+musicians\" class=\"Z3988\"></span><link rel=\"mw-deduplicated-inline-style\" href=\"mw-data:TemplateStyles:r935243608\"/></span>\\n</li>\\n<li id=\"cite_note-4\"><span class=\"mw-cite-backlink\"><b><a href=\"#cite_ref-4\">^</a></b></span> <span class=\"reference-text\"><cite class=\"citation web\"><a rel=\"nofollow\" class=\"external text\" href=\"http://www.self-titledmag.com/2010/04/21/recording-under-the-influence-ikonika-on-streets-of-rage-dalis-film-buddy-and-why-kode9s-wrong-about-numbers/\">\"Recording Under The Influence: Ikonika\"</a>. <i>Self-titledmag.com</i>. 21 April 2010<span class=\"reference-accessdate\">. Retrieved <span class=\"nowrap\">11 November</span> 2013</span>.</cite><span title=\"ctx_ver=Z39.88-2004&amp;rft_val_fmt=info%3Aofi%2Ffmt%3Akev%3Amtx%3Ajournal&amp;rft.genre=unknown&amp;rft.jtitle=Self-titledmag.com&amp;rft.atitle=Recording+Under+The+Influence%3A+Ikonika&amp;rft.date=2010-04-21&amp;rft_id=http%3A%2F%2Fwww.self-titledmag.com%2F2010%2F04%2F21%2Frecording-under-the-influence-ikonika-on-streets-of-rage-dalis-film-buddy-and-why-kode9s-wrong-about-numbers%2F&amp;rfr_id=info%3Asid%2Fen.wikipedia.org%3AList+of+post-dubstep+musicians\" class=\"Z3988\"></span><link rel=\"mw-deduplicated-inline-style\" href=\"mw-data:TemplateStyles:r935243608\"/></span>\\n</li>\\n<li id=\"cite_note-Smith-5\"><span class=\"mw-cite-backlink\">^ <a href=\"#cite_ref-Smith_5-0\"><sup><i><b>a</b></i></sup></a> <a href=\"#cite_ref-Smith_5-1\"><sup><i><b>b</b></i></sup></a> <a href=\"#cite_ref-Smith_5-2\"><sup><i><b>c</b></i></sup></a> <a href=\"#cite_ref-Smith_5-3\"><sup><i><b>d</b></i></sup></a></span> <span class=\"reference-text\"><cite class=\"citation magazine\">Smith, Trevor (29 May 2013). <a rel=\"nofollow\" class=\"external text\" href=\"http://www.cmj.com/news/listen-gold-pandas-we-work-nights/\">\"Listen: Gold Panda\\'s \"We Work Nights<span class=\"cs1-kern-right\">\"</span>\"</a>. <i><a href=\"/wiki/CMJ\" title=\"CMJ\">CMJ</a></i><span class=\"reference-accessdate\">. Retrieved <span class=\"nowrap\">25 October</span> 2014</span>.</cite><span title=\"ctx_ver=Z39.88-2004&amp;rft_val_fmt=info%3Aofi%2Ffmt%3Akev%3Amtx%3Ajournal&amp;rft.genre=article&amp;rft.jtitle=CMJ&amp;rft.atitle=Listen%3A+Gold+Panda%27s+%22We+Work+Nights%22&amp;rft.date=2013-05-29&amp;rft.aulast=Smith&amp;rft.aufirst=Trevor&amp;rft_id=http%3A%2F%2Fwww.cmj.com%2Fnews%2Flisten-gold-pandas-we-work-nights%2F&amp;rfr_id=info%3Asid%2Fen.wikipedia.org%3AList+of+post-dubstep+musicians\" class=\"Z3988\"></span><link rel=\"mw-deduplicated-inline-style\" href=\"mw-data:TemplateStyles:r935243608\"/></span>\\n</li>\\n<li id=\"cite_note-6\"><span class=\"mw-cite-backlink\"><b><a href=\"#cite_ref-6\">^</a></b></span> <span class=\"reference-text\"><cite class=\"citation magazine\">Ritchie, Matthew (30 July 2013). <a rel=\"nofollow\" class=\"external text\" href=\"http://exclaim.ca/News/reviews_of_alunageorge_robin_thicke_ikonika_more_in_this_weeks_new_release_roundup\">\"Reviews of AlunaGeorge, Robin Thicke, Ikonika and More in This Week\\'s New Release Roundup\"</a>. <i><a href=\"/wiki/Exclaim!\" title=\"Exclaim!\">Exclaim!</a></i><span class=\"reference-accessdate\">. Retrieved <span class=\"nowrap\">11 November</span> 2013</span>.</cite><span title=\"ctx_ver=Z39.88-2004&amp;rft_val_fmt=info%3Aofi%2Ffmt%3Akev%3Amtx%3Ajournal&amp;rft.genre=article&amp;rft.jtitle=Exclaim%21&amp;rft.atitle=Reviews+of+AlunaGeorge%2C+Robin+Thicke%2C+Ikonika+and+More+in+This+Week%27s+New+Release+Roundup&amp;rft.date=2013-07-30&amp;rft.aulast=Ritchie&amp;rft.aufirst=Matthew&amp;rft_id=http%3A%2F%2Fexclaim.ca%2FNews%2Freviews_of_alunageorge_robin_thicke_ikonika_more_in_this_weeks_new_release_roundup&amp;rfr_id=info%3Asid%2Fen.wikipedia.org%3AList+of+post-dubstep+musicians\" class=\"Z3988\"></span><link rel=\"mw-deduplicated-inline-style\" href=\"mw-data:TemplateStyles:r935243608\"/></span>\\n</li>\\n<li id=\"cite_note-JW-7\"><span class=\"mw-cite-backlink\">^ <a href=\"#cite_ref-JW_7-0\"><sup><i><b>a</b></i></sup></a> <a href=\"#cite_ref-JW_7-1\"><sup><i><b>b</b></i></sup></a> <a href=\"#cite_ref-JW_7-2\"><sup><i><b>c</b></i></sup></a></span> <span class=\"reference-text\"><cite class=\"citation web\"><a rel=\"nofollow\" class=\"external text\" href=\"https://www.bbc.co.uk/music/soundof/2011/artists/jamiewoon/\">\"4th place for London producer Woon\"</a>. <a href=\"/wiki/BBC_Online\" title=\"BBC Online\">BBC Online</a><span class=\"reference-accessdate\">. Retrieved <span class=\"nowrap\">11 November</span> 2013</span>.</cite><span title=\"ctx_ver=Z39.88-2004&amp;rft_val_fmt=info%3Aofi%2Ffmt%3Akev%3Amtx%3Abook&amp;rft.genre=unknown&amp;rft.btitle=4th+place+for+London+producer+Woon&amp;rft.pub=BBC+Online&amp;rft_id=https%3A%2F%2Fwww.bbc.co.uk%2Fmusic%2Fsoundof%2F2011%2Fartists%2Fjamiewoon%2F&amp;rfr_id=info%3Asid%2Fen.wikipedia.org%3AList+of+post-dubstep+musicians\" class=\"Z3988\"></span><link rel=\"mw-deduplicated-inline-style\" href=\"mw-data:TemplateStyles:r935243608\"/></span>\\n</li>\\n<li id=\"cite_note-8\"><span class=\"mw-cite-backlink\"><b><a href=\"#cite_ref-8\">^</a></b></span> <span class=\"reference-text\"><cite class=\"citation web\">Copsey, Robert (5 April 2013). <a rel=\"nofollow\" class=\"external text\" href=\"http://www.digitalspy.co.uk/music/review/a470907/james-blake-overgrown-album-review.html\">\"James Blake: \\'Overgrown\\' - Album review\"</a>. <i><a href=\"/wiki/Digital_Spy\" title=\"Digital Spy\">Digital Spy</a></i><span class=\"reference-accessdate\">. Retrieved <span class=\"nowrap\">25 October</span> 2014</span>.</cite><span title=\"ctx_ver=Z39.88-2004&amp;rft_val_fmt=info%3Aofi%2Ffmt%3Akev%3Amtx%3Ajournal&amp;rft.genre=unknown&amp;rft.jtitle=Digital+Spy&amp;rft.atitle=James+Blake%3A+%27Overgrown%27+-+Album+review&amp;rft.date=2013-04-05&amp;rft.aulast=Copsey&amp;rft.aufirst=Robert&amp;rft_id=http%3A%2F%2Fwww.digitalspy.co.uk%2Fmusic%2Freview%2Fa470907%2Fjames-blake-overgrown-album-review.html&amp;rfr_id=info%3Asid%2Fen.wikipedia.org%3AList+of+post-dubstep+musicians\" class=\"Z3988\"></span><link rel=\"mw-deduplicated-inline-style\" href=\"mw-data:TemplateStyles:r935243608\"/></span>\\n</li>\\n<li id=\"cite_note-9\"><span class=\"mw-cite-backlink\"><b><a href=\"#cite_ref-9\">^</a></b></span> <span class=\"reference-text\"><cite class=\"citation web\">Dombal, Ryan (16 September 2010). <a rel=\"nofollow\" class=\"external text\" href=\"http://pitchfork.com/news/40084-james-blake-readies-new-ep/\">\"James Blake Readies New EP\"</a>. <i><a href=\"/wiki/Pitchfork_(website)\" title=\"Pitchfork (website)\">Pitchfork</a></i><span class=\"reference-accessdate\">. Retrieved <span class=\"nowrap\">25 October</span> 2014</span>.</cite><span title=\"ctx_ver=Z39.88-2004&amp;rft_val_fmt=info%3Aofi%2Ffmt%3Akev%3Amtx%3Ajournal&amp;rft.genre=unknown&amp;rft.jtitle=Pitchfork&amp;rft.atitle=James+Blake+Readies+New+EP&amp;rft.date=2010-09-16&amp;rft.aulast=Dombal&amp;rft.aufirst=Ryan&amp;rft_id=http%3A%2F%2Fpitchfork.com%2Fnews%2F40084-james-blake-readies-new-ep%2F&amp;rfr_id=info%3Asid%2Fen.wikipedia.org%3AList+of+post-dubstep+musicians\" class=\"Z3988\"></span><link rel=\"mw-deduplicated-inline-style\" href=\"mw-data:TemplateStyles:r935243608\"/></span>\\n</li>\\n<li id=\"cite_note-10\"><span class=\"mw-cite-backlink\"><b><a href=\"#cite_ref-10\">^</a></b></span> <span class=\"reference-text\"><cite class=\"citation web\">Fennessey, Sean (22 February 2011). <a rel=\"nofollow\" class=\"external text\" href=\"http://pitchfork.com/reviews/albums/15140-were-new-here/\">\"Gil Scott-Heron / Jamie xx: \"We\\'re New Here<span class=\"cs1-kern-right\">\"</span>\"</a>. <i>Pitchfork</i><span class=\"reference-accessdate\">. Retrieved <span class=\"nowrap\">11 November</span> 2013</span>.</cite><span title=\"ctx_ver=Z39.88-2004&amp;rft_val_fmt=info%3Aofi%2Ffmt%3Akev%3Amtx%3Ajournal&amp;rft.genre=unknown&amp;rft.jtitle=Pitchfork&amp;rft.atitle=Gil+Scott-Heron+%2F+Jamie+xx%3A+%22We%27re+New+Here%22&amp;rft.date=2011-02-22&amp;rft.aulast=Fennessey&amp;rft.aufirst=Sean&amp;rft_id=http%3A%2F%2Fpitchfork.com%2Freviews%2Falbums%2F15140-were-new-here%2F&amp;rfr_id=info%3Asid%2Fen.wikipedia.org%3AList+of+post-dubstep+musicians\" class=\"Z3988\"></span><link rel=\"mw-deduplicated-inline-style\" href=\"mw-data:TemplateStyles:r935243608\"/></span>\\n</li>\\n<li id=\"cite_note-11\"><span class=\"mw-cite-backlink\"><b><a href=\"#cite_ref-11\">^</a></b></span> <span class=\"reference-text\"><cite class=\"citation magazine\">Lipshutz, Jason (10 August 2011). <a rel=\"nofollow\" class=\"external text\" href=\"http://www.billboard.com/articles/news/467991/radiohead-to-release-double-disc-remix-album-in-october\">\"Radiohead To Release Double-Disc Remix Album in October\"</a>. <i><a href=\"/wiki/Billboard_(magazine)\" title=\"Billboard (magazine)\">Billboard</a></i><span class=\"reference-accessdate\">. Retrieved <span class=\"nowrap\">25 October</span> 2014</span>.</cite><span title=\"ctx_ver=Z39.88-2004&amp;rft_val_fmt=info%3Aofi%2Ffmt%3Akev%3Amtx%3Ajournal&amp;rft.genre=article&amp;rft.jtitle=Billboard&amp;rft.atitle=Radiohead+To+Release+Double-Disc+Remix+Album+in+October&amp;rft.date=2011-08-10&amp;rft.aulast=Lipshutz&amp;rft.aufirst=Jason&amp;rft_id=http%3A%2F%2Fwww.billboard.com%2Farticles%2Fnews%2F467991%2Fradiohead-to-release-double-disc-remix-album-in-october&amp;rfr_id=info%3Asid%2Fen.wikipedia.org%3AList+of+post-dubstep+musicians\" class=\"Z3988\"></span><link rel=\"mw-deduplicated-inline-style\" href=\"mw-data:TemplateStyles:r935243608\"/></span>\\n</li>\\n<li id=\"cite_note-12\"><span class=\"mw-cite-backlink\"><b><a href=\"#cite_ref-12\">^</a></b></span> <span class=\"reference-text\"><cite class=\"citation web\">Bromwich, Jonah (28 March 2013). <a rel=\"nofollow\" class=\"external text\" href=\"http://pitchfork.com/reviews/tracks/15206-joker-newham-generals/\">\"Joker: \"Newham Generals<span class=\"cs1-kern-right\">\"</span>\"</a>. <i>Pitchfork</i><span class=\"reference-accessdate\">. Retrieved <span class=\"nowrap\">11 November</span> 2013</span>.</cite><span title=\"ctx_ver=Z39.88-2004&amp;rft_val_fmt=info%3Aofi%2Ffmt%3Akev%3Amtx%3Ajournal&amp;rft.genre=unknown&amp;rft.jtitle=Pitchfork&amp;rft.atitle=Joker%3A+%22Newham+Generals%22&amp;rft.date=2013-03-28&amp;rft.aulast=Bromwich&amp;rft.aufirst=Jonah&amp;rft_id=http%3A%2F%2Fpitchfork.com%2Freviews%2Ftracks%2F15206-joker-newham-generals%2F&amp;rfr_id=info%3Asid%2Fen.wikipedia.org%3AList+of+post-dubstep+musicians\" class=\"Z3988\"></span><link rel=\"mw-deduplicated-inline-style\" href=\"mw-data:TemplateStyles:r935243608\"/></span>\\n</li>\\n<li id=\"cite_note-13\"><span class=\"mw-cite-backlink\"><b><a href=\"#cite_ref-13\">^</a></b></span> <span class=\"reference-text\"><cite class=\"citation web\">Jeffries, David. <a rel=\"nofollow\" class=\"external text\" href=\"http://www.allmusic.com/artist/mount-kimbie-mn0001597708/biography\">\"Mount Kimbie – Artist Biography\"</a>. <i><a href=\"/wiki/AllMusic\" title=\"AllMusic\">AllMusic</a></i><span class=\"reference-accessdate\">. Retrieved <span class=\"nowrap\">25 October</span> 2014</span>.</cite><span title=\"ctx_ver=Z39.88-2004&amp;rft_val_fmt=info%3Aofi%2Ffmt%3Akev%3Amtx%3Ajournal&amp;rft.genre=unknown&amp;rft.jtitle=AllMusic&amp;rft.atitle=Mount+Kimbie+%E2%80%93+Artist+Biography&amp;rft.aulast=Jeffries&amp;rft.aufirst=David&amp;rft_id=http%3A%2F%2Fwww.allmusic.com%2Fartist%2Fmount-kimbie-mn0001597708%2Fbiography&amp;rfr_id=info%3Asid%2Fen.wikipedia.org%3AList+of+post-dubstep+musicians\" class=\"Z3988\"></span><link rel=\"mw-deduplicated-inline-style\" href=\"mw-data:TemplateStyles:r935243608\"/></span>\\n</li>\\n<li id=\"cite_note-14\"><span class=\"mw-cite-backlink\"><b><a href=\"#cite_ref-14\">^</a></b></span> <span class=\"reference-text\"><cite class=\"citation web\">Monk, Christopher (21 May 2013). <a rel=\"nofollow\" class=\"external text\" href=\"http://www.musicomh.com/reviews/albums/mount-kimbie-cold-spring-fault-less-youth\">\"Mount Kimbie – Cold Spring Fault Less Youth\"</a>. <i><a href=\"/wiki/MusicOMH\" title=\"MusicOMH\">musicOMH</a></i><span class=\"reference-accessdate\">. Retrieved <span class=\"nowrap\">25 October</span> 2014</span>.</cite><span title=\"ctx_ver=Z39.88-2004&amp;rft_val_fmt=info%3Aofi%2Ffmt%3Akev%3Amtx%3Ajournal&amp;rft.genre=unknown&amp;rft.jtitle=musicOMH&amp;rft.atitle=Mount+Kimbie+%E2%80%93+Cold+Spring+Fault+Less+Youth&amp;rft.date=2013-05-21&amp;rft.aulast=Monk&amp;rft.aufirst=Christopher&amp;rft_id=http%3A%2F%2Fwww.musicomh.com%2Freviews%2Falbums%2Fmount-kimbie-cold-spring-fault-less-youth&amp;rfr_id=info%3Asid%2Fen.wikipedia.org%3AList+of+post-dubstep+musicians\" class=\"Z3988\"></span><link rel=\"mw-deduplicated-inline-style\" href=\"mw-data:TemplateStyles:r935243608\"/></span>\\n</li>\\n<li id=\"cite_note-15\"><span class=\"mw-cite-backlink\"><b><a href=\"#cite_ref-15\">^</a></b></span> <span class=\"reference-text\"><cite class=\"citation magazine\"><a rel=\"nofollow\" class=\"external text\" href=\"https://books.google.com/books?id=jim-YANOn5AC&amp;pg=RA11-PA22&amp;dq=%22post+dubstep%22\">\"A Bass Supreme\"</a>. <i><a href=\"/wiki/Billboard_(magazine)\" title=\"Billboard (magazine)\">Billboard</a></i>. Vol.&#160;123 no.&#160;35. 17 December 2011. p.&#160;22. <a href=\"/wiki/International_Standard_Serial_Number\" title=\"International Standard Serial Number\">ISSN</a>&#160;<a rel=\"nofollow\" class=\"external text\" href=\"//www.worldcat.org/issn/0006-2510\">0006-2510</a>.</cite><span title=\"ctx_ver=Z39.88-2004&amp;rft_val_fmt=info%3Aofi%2Ffmt%3Akev%3Amtx%3Ajournal&amp;rft.genre=article&amp;rft.jtitle=Billboard&amp;rft.atitle=A+Bass+Supreme&amp;rft.volume=123&amp;rft.issue=35&amp;rft.pages=22&amp;rft.date=2011-12-17&amp;rft.issn=0006-2510&amp;rft_id=https%3A%2F%2Fbooks.google.com%2Fbooks%3Fid%3Djim-YANOn5AC%26pg%3DRA11-PA22%26dq%3D%2522post%2Bdubstep%2522&amp;rfr_id=info%3Asid%2Fen.wikipedia.org%3AList+of+post-dubstep+musicians\" class=\"Z3988\"></span><link rel=\"mw-deduplicated-inline-style\" href=\"mw-data:TemplateStyles:r935243608\"/></span>\\n</li>\\n<li id=\"cite_note-16\"><span class=\"mw-cite-backlink\"><b><a href=\"#cite_ref-16\">^</a></b></span> <span class=\"reference-text\"><cite class=\"citation magazine\">Martins, Chris (15 November 2013). <a rel=\"nofollow\" class=\"external text\" href=\"https://www.spin.com/2013/11/sbtrkt-untitled-video-audio-experiment/\">\"SBTRKT Shares Highly Trippy Untitled Audio-Visual Experiment\"</a>. <i>Spin</i><span class=\"reference-accessdate\">. Retrieved <span class=\"nowrap\">25 October</span> 2014</span>.</cite><span title=\"ctx_ver=Z39.88-2004&amp;rft_val_fmt=info%3Aofi%2Ffmt%3Akev%3Amtx%3Ajournal&amp;rft.genre=article&amp;rft.jtitle=Spin&amp;rft.atitle=SBTRKT+Shares+Highly+Trippy+Untitled+Audio-Visual+Experiment&amp;rft.date=2013-11-15&amp;rft.aulast=Martins&amp;rft.aufirst=Chris&amp;rft_id=https%3A%2F%2Fwww.spin.com%2F2013%2F11%2Fsbtrkt-untitled-video-audio-experiment%2F&amp;rfr_id=info%3Asid%2Fen.wikipedia.org%3AList+of+post-dubstep+musicians\" class=\"Z3988\"></span><link rel=\"mw-deduplicated-inline-style\" href=\"mw-data:TemplateStyles:r935243608\"/></span>\\n</li>\\n<li id=\"cite_note-17\"><span class=\"mw-cite-backlink\"><b><a href=\"#cite_ref-17\">^</a></b></span> <span class=\"reference-text\"><cite class=\"citation magazine\">Stolman, Elissa (22 April 2013). <a rel=\"nofollow\" class=\"external text\" href=\"http://www.billboard.com/articles/columns/code/1559087/dj-duo-sepalcure-talks-influences\">\"DJ Duo Sepalcure Talks Influences\"</a>. <i>Billboard</i><span class=\"reference-accessdate\">. Retrieved <span class=\"nowrap\">25 October</span> 2014</span>.</cite><span title=\"ctx_ver=Z39.88-2004&amp;rft_val_fmt=info%3Aofi%2Ffmt%3Akev%3Amtx%3Ajournal&amp;rft.genre=article&amp;rft.jtitle=Billboard&amp;rft.atitle=DJ+Duo+Sepalcure+Talks+Influences&amp;rft.date=2013-04-22&amp;rft.aulast=Stolman&amp;rft.aufirst=Elissa&amp;rft_id=http%3A%2F%2Fwww.billboard.com%2Farticles%2Fcolumns%2Fcode%2F1559087%2Fdj-duo-sepalcure-talks-influences&amp;rfr_id=info%3Asid%2Fen.wikipedia.org%3AList+of+post-dubstep+musicians\" class=\"Z3988\"></span><link rel=\"mw-deduplicated-inline-style\" href=\"mw-data:TemplateStyles:r935243608\"/></span>\\n</li>\\n<li id=\"cite_note-18\"><span class=\"mw-cite-backlink\"><b><a href=\"#cite_ref-18\">^</a></b></span> <span class=\"reference-text\"><cite class=\"citation web\">Kellman, Andy. <a rel=\"nofollow\" class=\"external text\" href=\"http://www.allmusic.com/artist/stubborn-heart-mn0002984486/biography\">\"Stubborn Heart – Artist Biography\"</a>. <i>AllMusic</i><span class=\"reference-accessdate\">. Retrieved <span class=\"nowrap\">25 October</span> 2014</span>.</cite><span title=\"ctx_ver=Z39.88-2004&amp;rft_val_fmt=info%3Aofi%2Ffmt%3Akev%3Amtx%3Ajournal&amp;rft.genre=unknown&amp;rft.jtitle=AllMusic&amp;rft.atitle=Stubborn+Heart+%E2%80%93+Artist+Biography&amp;rft.aulast=Kellman&amp;rft.aufirst=Andy&amp;rft_id=http%3A%2F%2Fwww.allmusic.com%2Fartist%2Fstubborn-heart-mn0002984486%2Fbiography&amp;rfr_id=info%3Asid%2Fen.wikipedia.org%3AList+of+post-dubstep+musicians\" class=\"Z3988\"></span><link rel=\"mw-deduplicated-inline-style\" href=\"mw-data:TemplateStyles:r935243608\"/></span>\\n</li>\\n<li id=\"cite_note-19\"><span class=\"mw-cite-backlink\"><b><a href=\"#cite_ref-19\">^</a></b></span> <span class=\"reference-text\"><cite class=\"citation web\">Sayol, Franc (16 July 2012). <a rel=\"nofollow\" class=\"external text\" href=\"http://www.playgroundmag.net/music/music-magazine-articles/music-interviews/xxyyxx-im-just-a-brat-with-a-laptop-and-a-midi-controller\">\"XXYYXX: \"I\\'m Just A Brat With A Laptop And A MIDI Controller<span class=\"cs1-kern-right\">\"</span>\"</a>. <i>PlayGround</i><span class=\"reference-accessdate\">. Retrieved <span class=\"nowrap\">11 November</span> 2013</span>.</cite><span title=\"ctx_ver=Z39.88-2004&amp;rft_val_fmt=info%3Aofi%2Ffmt%3Akev%3Amtx%3Ajournal&amp;rft.genre=unknown&amp;rft.jtitle=PlayGround&amp;rft.atitle=XXYYXX%3A+%22I%27m+Just+A+Brat+With+A+Laptop+And+A+MIDI+Controller%22&amp;rft.date=2012-07-16&amp;rft.aulast=Sayol&amp;rft.aufirst=Franc&amp;rft_id=http%3A%2F%2Fwww.playgroundmag.net%2Fmusic%2Fmusic-magazine-articles%2Fmusic-interviews%2Fxxyyxx-im-just-a-brat-with-a-laptop-and-a-midi-controller&amp;rfr_id=info%3Asid%2Fen.wikipedia.org%3AList+of+post-dubstep+musicians\" class=\"Z3988\"></span><link rel=\"mw-deduplicated-inline-style\" href=\"mw-data:TemplateStyles:r935243608\"/></span>\\n</li>\\n<li id=\"cite_note-20\"><span class=\"mw-cite-backlink\"><b><a href=\"#cite_ref-20\">^</a></b></span> <span class=\"reference-text\"><cite class=\"citation web\">Taft, Scott (3 April 2012). <a rel=\"nofollow\" class=\"external text\" href=\"http://offkiltermusic.com/minimal/xxyyxx-outdoes-debut-album-with-a-more-minimal-follow-up/\">\"XXYYXX Outdoes Debut Album With A More Minimal Follow-Up\"</a>. <i>Off Kilter Future Music</i><span class=\"reference-accessdate\">. Retrieved <span class=\"nowrap\">11 November</span> 2013</span>.</cite><span title=\"ctx_ver=Z39.88-2004&amp;rft_val_fmt=info%3Aofi%2Ffmt%3Akev%3Amtx%3Ajournal&amp;rft.genre=unknown&amp;rft.jtitle=Off+Kilter+Future+Music&amp;rft.atitle=XXYYXX+Outdoes+Debut+Album+With+A+More+Minimal+Follow-Up&amp;rft.date=2012-04-03&amp;rft.aulast=Taft&amp;rft.aufirst=Scott&amp;rft_id=http%3A%2F%2Foffkiltermusic.com%2Fminimal%2Fxxyyxx-outdoes-debut-album-with-a-more-minimal-follow-up%2F&amp;rfr_id=info%3Asid%2Fen.wikipedia.org%3AList+of+post-dubstep+musicians\" class=\"Z3988\"></span><link rel=\"mw-deduplicated-inline-style\" href=\"mw-data:TemplateStyles:r935243608\"/></span>\\n</li>\\n<li id=\"cite_note-21\"><span class=\"mw-cite-backlink\"><b><a href=\"#cite_ref-21\">^</a></b></span> <span class=\"reference-text\"><cite class=\"citation web\">Harvell, Jess (12 July 2011). <a rel=\"nofollow\" class=\"external text\" href=\"http://pitchfork.com/reviews/albums/15617-dedication/\">\"Zomby: \"Dedication<span class=\"cs1-kern-right\">\"</span>\"</a>. <i>Pitchfork</i><span class=\"reference-accessdate\">. Retrieved <span class=\"nowrap\">11 November</span> 2013</span>.</cite><span title=\"ctx_ver=Z39.88-2004&amp;rft_val_fmt=info%3Aofi%2Ffmt%3Akev%3Amtx%3Ajournal&amp;rft.genre=unknown&amp;rft.jtitle=Pitchfork&amp;rft.atitle=Zomby%3A+%22Dedication%22&amp;rft.date=2011-07-12&amp;rft.aulast=Harvell&amp;rft.aufirst=Jess&amp;rft_id=http%3A%2F%2Fpitchfork.com%2Freviews%2Falbums%2F15617-dedication%2F&amp;rfr_id=info%3Asid%2Fen.wikipedia.org%3AList+of+post-dubstep+musicians\" class=\"Z3988\"></span><link rel=\"mw-deduplicated-inline-style\" href=\"mw-data:TemplateStyles:r935243608\"/></span>\\n</li>\\n<li id=\"cite_note-22\"><span class=\"mw-cite-backlink\"><b><a href=\"#cite_ref-22\">^</a></b></span> <span class=\"reference-text\"><cite class=\"citation book\"><a href=\"/wiki/Simon_Reynolds\" title=\"Simon Reynolds\">Reynolds, Simon</a> (2013). <i>Energy Flash: A Journey Through Rave Music and Dance Culture</i>. <a href=\"/wiki/Faber_and_Faber\" title=\"Faber and Faber\">Faber and Faber</a>. <a href=\"/wiki/International_Standard_Book_Number\" title=\"International Standard Book Number\">ISBN</a>&#160;<a href=\"/wiki/Special:BookSources/978-0-571-28914-1\" title=\"Special:BookSources/978-0-571-28914-1\"><bdi>978-0-571-28914-1</bdi></a>. <q>Above all, there was Zomby. He was arguably the least \\'post\\' of the post-dubstep artists.</q></cite><span title=\"ctx_ver=Z39.88-2004&amp;rft_val_fmt=info%3Aofi%2Ffmt%3Akev%3Amtx%3Abook&amp;rft.genre=book&amp;rft.btitle=Energy+Flash%3A+A+Journey+Through+Rave+Music+and+Dance+Culture&amp;rft.pub=Faber+and+Faber&amp;rft.date=2013&amp;rft.isbn=978-0-571-28914-1&amp;rft.aulast=Reynolds&amp;rft.aufirst=Simon&amp;rfr_id=info%3Asid%2Fen.wikipedia.org%3AList+of+post-dubstep+musicians\" class=\"Z3988\"></span><link rel=\"mw-deduplicated-inline-style\" href=\"mw-data:TemplateStyles:r935243608\"/></span>\\n</li>\\n</ol></div></div>'"
      ]
     },
     "execution_count": 94,
     "metadata": {},
     "output_type": "execute_result"
    }
   ],
   "source": [
    "wikipedia.page('List of post-dubstep musicians').html()"
   ]
  }
 ],
 "metadata": {
  "kernelspec": {
   "display_name": "Python 3",
   "language": "python",
   "name": "python3"
  },
  "language_info": {
   "codemirror_mode": {
    "name": "ipython",
    "version": 3
   },
   "file_extension": ".py",
   "mimetype": "text/x-python",
   "name": "python",
   "nbconvert_exporter": "python",
   "pygments_lexer": "ipython3",
   "version": "3.7.5"
  }
 },
 "nbformat": 4,
 "nbformat_minor": 4
}
