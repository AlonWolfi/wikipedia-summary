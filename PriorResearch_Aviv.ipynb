{
 "cells": [
  {
   "cell_type": "code",
   "execution_count": 1,
   "metadata": {},
   "outputs": [],
   "source": [
    "import numpy as np\n",
    "import pickle\n",
    "import matplotlib.pyplot as plt\n",
    "import pandas as pd\n",
    "\n",
    "import utils.luigi_wrapper as luigi\n",
    "from utils.utils import *\n",
    "\n",
    "# from preprocess.questions_label_extraction import QuestionsLabelExtractionTask\n",
    "# from questions_model.create_predictions import QuestionsMakePredictionsTask\n",
    "# from preprocess.train_test_split import TrainTestSplitTask\n",
    "# from preprocess.data_tokenization import DataTokenizationTask\n",
    "# from preprocess.feature_selection import FeatureSelectionTask\n",
    "from preprocess.create_dataset import CreateDataSetTask\n",
    "from preprocess.dataset import DataSet\n",
    "\n",
    "\n",
    "from sklearn.metrics import classification_report\n",
    "from sklearn.metrics import roc_auc_score, f1_score\n",
    "\n",
    "from IPython.display import display"
   ]
  },
  {
   "cell_type": "code",
   "execution_count": 2,
   "metadata": {},
   "outputs": [],
   "source": [
    "from scipy.sparse.csgraph import minimum_spanning_tree\n",
    "import networkx as nx"
   ]
  },
  {
   "cell_type": "code",
   "execution_count": 3,
   "metadata": {},
   "outputs": [],
   "source": [
    "pd.set_option('max_rows', 70)"
   ]
  },
  {
   "cell_type": "code",
   "execution_count": 4,
   "metadata": {},
   "outputs": [],
   "source": [
    "def get_prior(y):\n",
    "    num_of_pages = y.shape[0]\n",
    "    num_of_classes = y.shape[1]\n",
    "\n",
    "    p_ij = np.zeros((num_of_classes, num_of_classes))\n",
    "    for lst in y:\n",
    "        for i in range(num_of_classes):\n",
    "            for j in range(num_of_classes):\n",
    "                p_ij[i, j] += (lst[i] * lst[j]) / num_of_pages\n",
    "    return p_ij\n",
    "\n",
    "def get_mutual_information(p_ij, nan=0, neginf=-5):\n",
    "    E = np.zeros(p_ij.shape)\n",
    "    for i in range(p_ij.shape[0]):\n",
    "        for j in range(p_ij.shape[0]):\n",
    "            i1_j1 = p_ij[i,j] * np.log(p_ij[i,j] / (p_ij[i, i] * p_ij[j, j]))\n",
    "            i1_j0 = (p_ij[i,i] - p_ij[i,j]) * np.log((p_ij[i,i] - p_ij[i,j]) / (p_ij[i,i] * (1 - p_ij[j,j])))\n",
    "            i0_j1 = (p_ij[j,j] - p_ij[i,j]) * np.log((p_ij[j,j] - p_ij[i,j]) / (p_ij[j,j] * (1 - p_ij[i,i])))\n",
    "            i0_j0 = (1 - p_ij[j,j] - p_ij[i,i] + p_ij[i,j]) * np.log((1 - p_ij[j,j] - p_ij[i,i] + p_ij[i,j]) / (1 - p_ij[j,j]) * (1 - p_ij[i,i]))\n",
    "            E[i, j] = i1_j1 + i1_j0 + i0_j1 + i0_j0\n",
    "    E_filled = - np.nan_to_num(E, nan=nan, neginf=neginf)\n",
    "    return E_filled\n",
    "\n",
    "def theta(p_ij, i, j, i_val, j_val):\n",
    "    if i_val == 1 and j_val == 1:\n",
    "        return p_ij[i,j] / (p_ij[i,i] * p_ij[j,j])\n",
    "    elif i_val == 1 and j_val == 0:\n",
    "        return (p_ij[i,i] - p_ij[i,j]) / (p_ij[i,i] * (1 - p_ij[j,j]))\n",
    "    elif i_val == 0 and j_val == 1:\n",
    "        return (p_ij[j,j] - p_ij[i,j]) / (p_ij[j,j] * (1 - p_ij[i,i]))\n",
    "    elif i_val == 0 and j_val == 0:\n",
    "        return (1 - p_ij[j,j] - p_ij[i,i] + p_ij[i,j]) / ((1 - p_ij[j,j]) * (1 - p_ij[i,i]))\n",
    "    \n",
    "def get_neg_conn_strength(p_ij):\n",
    "    conn_strength = np.zeros(p_ij.shape)\n",
    "    for i in range(p_ij.shape[0]):\n",
    "        for j in range(p_ij.shape[0]):\n",
    "            conn_strength[i, j] = (theta(p_ij, i, j, 1, 0) + theta(p_ij, i, j, 0, 1)) / 2\n",
    "    return conn_strength"
   ]
  },
  {
   "cell_type": "code",
   "execution_count": 5,
   "metadata": {},
   "outputs": [],
   "source": [
    "def get_neg_mutual_information(p_ij, nan=0, neginf=-5):\n",
    "    E = np.zeros(p_ij.shape)\n",
    "    for i in range(p_ij.shape[0]):\n",
    "        for j in range(p_ij.shape[0]):\n",
    "            i1_j0 = (p_ij[i,i] - p_ij[i,j]) * np.log((p_ij[i,i] - p_ij[i,j]) / (p_ij[i,i] * (1 - p_ij[j,j])))\n",
    "            i0_j1 = (p_ij[j,j] - p_ij[i,j]) * np.log((p_ij[j,j] - p_ij[i,j]) / (p_ij[j,j] * (1 - p_ij[i,i])))\n",
    "            E[i, j] = i1_j0 + i0_j1\n",
    "    E_filled = - np.nan_to_num(E, nan=nan, neginf=neginf)\n",
    "    return E_filled"
   ]
  },
  {
   "cell_type": "code",
   "execution_count": 6,
   "metadata": {},
   "outputs": [],
   "source": [
    "def get_y_by_thresh(y_proba, th= 0.5):\n",
    "    return (y_proba > th).astype(int)\n",
    "\n",
    "def get_thresh(y_true, y_pred, n_thers = 500, plot=False):\n",
    "    thresholds = [n / n_thers for n in list(range(1, n_thers, 1))]\n",
    "    f1_scores = [f1_score(y_true, get_y_by_thresh(y_pred, thresh), average = 'macro') for thresh in thresholds]\n",
    "    \n",
    "    if plot:\n",
    "        plt.plot(thresholds, f1_scores)\n",
    "        plt.show()\n",
    "    \n",
    "    return thresholds[np.argmax(f1_scores)]\n",
    "\n",
    "def normalize(y_proba, th= 0.5):\n",
    "    y_proba_fixed = np.zeros(y_proba.shape)\n",
    "    y_proba_fixed[y_proba<th] = (y_proba[y_proba<th] / th) * 0.5\n",
    "    y_proba_fixed[y_proba>=th] = ((y_proba[y_proba>=th] - th) / (1-th)) * 0.5 + 0.5\n",
    "    return y_proba_fixed\n",
    "\n",
    "# def sigmoid_normalize(y_proba, th= 0.5):\n",
    "#     y_proba_fixed = np.zeros(y_proba.shape)\n",
    "#     y_proba_fixed = 1 / (1 + np.exp())\n",
    "#     return y_proba_fixed\n",
    "\n",
    "def get_y(y_test, y_proba, do_normalize=False):\n",
    "    y = []\n",
    "    y_proba_fixed = []\n",
    "    for c in range(y_proba.shape[1]):\n",
    "        y_proba_c = y_proba[:, c]\n",
    "        y_test_c = y_test[:, c]\n",
    "        th = get_thresh(y_test_c, y_proba_c)\n",
    "        y.append(get_y_by_thresh(y_proba_c, th))\n",
    "        y_proba_fixed.append(normalize(y_proba_c, th))\n",
    "    \n",
    "    if do_normalize:\n",
    "        return np.array(y).T, np.array(y_proba_fixed).T\n",
    "    else:\n",
    "        return np.array(y).T, y_proba    "
   ]
  },
  {
   "cell_type": "markdown",
   "metadata": {},
   "source": [
    "## Read Data"
   ]
  },
  {
   "cell_type": "code",
   "execution_count": 7,
   "metadata": {},
   "outputs": [
    {
     "name": "stderr",
     "output_type": "stream",
     "text": [
      "C:\\Users\\Aviv\\PycharmProjects\\wikipedia-summary\\utils\\utils.py:169: Warning: Warning:   File not found: C:\\Users\\Aviv\\PycharmProjects\\wikipedia-summary\\cache\\data\\dataset.pickle\n",
      "  warnings.warn(f'Warning:   File not found: {file_path}', Warning)\n"
     ]
    },
    {
     "ename": "AttributeError",
     "evalue": "'NoneType' object has no attribute 'X'",
     "output_type": "error",
     "traceback": [
      "\u001b[1;31m---------------------------------------------------------------------------\u001b[0m",
      "\u001b[1;31mAttributeError\u001b[0m                            Traceback (most recent call last)",
      "\u001b[1;32m<ipython-input-7-dbbf35e45948>\u001b[0m in \u001b[0;36m<module>\u001b[1;34m\u001b[0m\n\u001b[0;32m      1\u001b[0m \u001b[0mdata\u001b[0m\u001b[1;33m:\u001b[0m \u001b[0mDataSet\u001b[0m \u001b[1;33m=\u001b[0m \u001b[0mread_data\u001b[0m\u001b[1;33m(\u001b[0m\u001b[0mget_file_path\u001b[0m\u001b[1;33m(\u001b[0m\u001b[1;34m'dataset.pickle'\u001b[0m\u001b[1;33m,\u001b[0m \u001b[1;34m'data'\u001b[0m\u001b[1;33m)\u001b[0m\u001b[1;33m)\u001b[0m\u001b[1;33m\u001b[0m\u001b[1;33m\u001b[0m\u001b[0m\n\u001b[1;32m----> 2\u001b[1;33m \u001b[0mX\u001b[0m \u001b[1;33m=\u001b[0m \u001b[0mdata\u001b[0m\u001b[1;33m.\u001b[0m\u001b[0mX\u001b[0m\u001b[1;33m\u001b[0m\u001b[1;33m\u001b[0m\u001b[0m\n\u001b[0m\u001b[0;32m      3\u001b[0m \u001b[0my\u001b[0m \u001b[1;33m=\u001b[0m \u001b[0mdata\u001b[0m\u001b[1;33m.\u001b[0m\u001b[0my\u001b[0m\u001b[1;33m\u001b[0m\u001b[1;33m\u001b[0m\u001b[0m\n\u001b[0;32m      4\u001b[0m \u001b[0mX_train\u001b[0m\u001b[1;33m,\u001b[0m \u001b[0mX_test\u001b[0m \u001b[1;33m=\u001b[0m \u001b[0mdata\u001b[0m\u001b[1;33m.\u001b[0m\u001b[0mX_train\u001b[0m\u001b[1;33m,\u001b[0m \u001b[0mdata\u001b[0m\u001b[1;33m.\u001b[0m\u001b[0mX_test\u001b[0m\u001b[1;33m\u001b[0m\u001b[1;33m\u001b[0m\u001b[0m\n\u001b[0;32m      5\u001b[0m \u001b[0my_train\u001b[0m\u001b[1;33m,\u001b[0m \u001b[0my_test\u001b[0m \u001b[1;33m=\u001b[0m \u001b[0mdata\u001b[0m\u001b[1;33m.\u001b[0m\u001b[0my_train\u001b[0m\u001b[1;33m,\u001b[0m \u001b[0mdata\u001b[0m\u001b[1;33m.\u001b[0m\u001b[0my_test\u001b[0m\u001b[1;33m\u001b[0m\u001b[1;33m\u001b[0m\u001b[0m\n",
      "\u001b[1;31mAttributeError\u001b[0m: 'NoneType' object has no attribute 'X'"
     ]
    }
   ],
   "source": [
    "data: DataSet = read_data(get_file_path('dataset.pickle', 'data'))\n",
    "X = data.X\n",
    "y = data.y\n",
    "X_train, X_test = data.X_train, data.X_test\n",
    "y_train, y_test = data.y_train, data.y_test"
   ]
  },
  {
   "cell_type": "code",
   "execution_count": null,
   "metadata": {},
   "outputs": [],
   "source": []
  },
  {
   "cell_type": "markdown",
   "metadata": {},
   "source": [
    "## Get Prior"
   ]
  },
  {
   "cell_type": "code",
   "execution_count": null,
   "metadata": {},
   "outputs": [],
   "source": [
    "p_ij = get_prior(y_train)"
   ]
  },
  {
   "cell_type": "markdown",
   "metadata": {},
   "source": [
    "## Train Model"
   ]
  },
  {
   "cell_type": "code",
   "execution_count": null,
   "metadata": {},
   "outputs": [],
   "source": [
    "from lightgbm import LGBMClassifier\n",
    "from sklearn.multiclass import OneVsRestClassifier\n",
    "model = OneVsRestClassifier(LGBMClassifier(class_weight = 'balanced'), n_jobs=-2)\n",
    "#model.fit(X_train, y_train)"
   ]
  },
  {
   "cell_type": "code",
   "execution_count": null,
   "metadata": {},
   "outputs": [],
   "source": [
    "#pickle.dump(model, open('temp_model.pickle', 'wb'))"
   ]
  },
  {
   "cell_type": "code",
   "execution_count": null,
   "metadata": {},
   "outputs": [],
   "source": [
    "model = pickle.load(open('temp_model.pickle', 'rb'))"
   ]
  },
  {
   "cell_type": "code",
   "execution_count": null,
   "metadata": {},
   "outputs": [],
   "source": [
    "y_pred_proba = model.predict_proba(X_test)"
   ]
  },
  {
   "cell_type": "code",
   "execution_count": null,
   "metadata": {},
   "outputs": [],
   "source": [
    "#print(classification_report(y_test, np.round(y_pred_proba)))"
   ]
  },
  {
   "cell_type": "markdown",
   "metadata": {},
   "source": [
    "## Priored Predictions"
   ]
  },
  {
   "cell_type": "code",
   "execution_count": null,
   "metadata": {},
   "outputs": [],
   "source": [
    "global messages_dict\n",
    "messages_dict = {}"
   ]
  },
  {
   "cell_type": "code",
   "execution_count": null,
   "metadata": {},
   "outputs": [],
   "source": [
    "def message(p_ij, T, prediction, i, parent, parent_val):\n",
    "    N = []\n",
    "    #print(f'child: {i}, parent: {parent}')\n",
    "    for j in range(len(prediction)):\n",
    "        if (T[i,j] != 0 or T[j,i] != 0) and j != parent and j != i:\n",
    "            N.append(j)\n",
    "    if f'{i}_{parent}_{parent_val}' in messages_dict.keys():\n",
    "        m1 = messages_dict[f'{i}_{parent}_{parent_val}'][1]\n",
    "        m0 = messages_dict[f'{i}_{parent}_{parent_val}'][0]\n",
    "    else:\n",
    "        #print('calculate')\n",
    "        if len(N) > 0 :  \n",
    "            m1 = theta(p_ij, i, parent, 1, parent_val) * prediction[i] * np.prod([message(p_ij, T, prediction, n, i, 1) for n in N])\n",
    "            #print('theta1: ' + str(theta(p_ij, i, parent, 1, parent_val)))\n",
    "            m0 = theta(p_ij, i, parent, 0, parent_val) * (1 - prediction[i]) * np.prod([message(p_ij, T, prediction, n, i, 0) for n in N])\n",
    "            #print('theta0: ' + str(theta(p_ij, i, parent, 0, parent_val)))\n",
    "\n",
    "        else:\n",
    "            m1 = theta(p_ij, i, parent, 1, parent_val) * prediction[i]\n",
    "            m0 = theta(p_ij, i, parent, 0, parent_val) * (1 - prediction[i])\n",
    "        \n",
    "        messages_dict[f'{i}_{parent}_{parent_val}'] = (m0, m1)\n",
    "    #  m1 + m0 - ?\n",
    "    return m1 + m0     "
   ]
  },
  {
   "cell_type": "code",
   "execution_count": null,
   "metadata": {},
   "outputs": [],
   "source": [
    "def run_prior_on_prediction(p_ij, T, prediction):\n",
    "    \n",
    "    priored_prediction = []\n",
    "    global messages_dict\n",
    "    messages_dict = {}\n",
    "    \n",
    "    for i in range(len(prediction)):\n",
    "        p_i_new = 0\n",
    "        N = []\n",
    "        for j in range(len(prediction)):\n",
    "            if T[i,j] != 0 or T[j,i] != 0:\n",
    "                N.append(j)\n",
    "        \n",
    "        messages1 = [message(p_ij, T, prediction, n, i, 1) for n in N]\n",
    "        messages0 = [message(p_ij, T, prediction, n, i, 0) for n in N]\n",
    "            \n",
    "        p_i1 = prediction[i] * np.prod(messages1) #* p_ij[i,i]\n",
    "        p_i0 = (1 - prediction[i]) * np.prod(messages0) * (1- p_ij[i,i])\n",
    "            \n",
    "        p_i_new += p_i1 / (p_i1 + p_i0)\n",
    "            \n",
    "\n",
    "        priored_prediction.append(p_i_new)\n",
    "    return priored_prediction"
   ]
  },
  {
   "cell_type": "markdown",
   "metadata": {},
   "source": [
    "### y_pred w/o prior"
   ]
  },
  {
   "cell_type": "code",
   "execution_count": null,
   "metadata": {},
   "outputs": [],
   "source": [
    "y_pred, y_pred_proba = get_y(y_test, y_pred_proba)"
   ]
  },
  {
   "cell_type": "markdown",
   "metadata": {},
   "source": [
    "### y_pred with pos prior"
   ]
  },
  {
   "cell_type": "code",
   "execution_count": null,
   "metadata": {},
   "outputs": [],
   "source": [
    "E = get_mutual_information(p_ij)\n",
    "T = minimum_spanning_tree(E)"
   ]
  },
  {
   "cell_type": "code",
   "execution_count": null,
   "metadata": {},
   "outputs": [],
   "source": [
    "#y_pred_after_prior_proba_pos = np.array([run_prior_on_prediction(p_ij, T, p) for p in y_pred_proba])"
   ]
  },
  {
   "cell_type": "code",
   "execution_count": null,
   "metadata": {},
   "outputs": [],
   "source": [
    "#pickle.dump(y_pred_after_prior_proba_pos, open('y_pred_after_prior_proba_pos.pickle', 'wb'))"
   ]
  },
  {
   "cell_type": "code",
   "execution_count": null,
   "metadata": {},
   "outputs": [],
   "source": [
    "y_pred_after_prior_proba_pos = pickle.load(open('y_pred_after_prior_proba_pos.pickle', 'rb'))"
   ]
  },
  {
   "cell_type": "code",
   "execution_count": null,
   "metadata": {},
   "outputs": [],
   "source": [
    "y_pred_after_prior, y_pred_after_prior_proba_pos = get_y(y_test, y_pred_after_prior_proba_pos)"
   ]
  },
  {
   "cell_type": "markdown",
   "metadata": {},
   "source": [
    "### y_pred with  neg prior"
   ]
  },
  {
   "cell_type": "code",
   "execution_count": null,
   "metadata": {},
   "outputs": [],
   "source": [
    "E_neg = get_neg_mutual_information(p_ij)\n",
    "T_neg = minimum_spanning_tree(E_neg)"
   ]
  },
  {
   "cell_type": "code",
   "execution_count": null,
   "metadata": {},
   "outputs": [],
   "source": [
    "#y_pred_after_prior_proba_neg = np.array([run_prior_on_prediction(p_ij, T_neg, p) for p in y_pred_proba])"
   ]
  },
  {
   "cell_type": "code",
   "execution_count": null,
   "metadata": {},
   "outputs": [],
   "source": [
    "#pickle.dump(y_pred_after_prior_proba_neg, open('y_pred_after_prior_proba_neg.pickle', 'wb'))"
   ]
  },
  {
   "cell_type": "code",
   "execution_count": null,
   "metadata": {},
   "outputs": [],
   "source": [
    "y_pred_after_prior_proba_neg = pickle.load(open('y_pred_after_prior_proba_neg.pickle', 'rb'))"
   ]
  },
  {
   "cell_type": "code",
   "execution_count": null,
   "metadata": {},
   "outputs": [],
   "source": [
    "y_pred_after_prior_neg, y_pred_after_prior_neg_proba = get_y(y_test, y_pred_after_prior_proba_neg)"
   ]
  },
  {
   "cell_type": "markdown",
   "metadata": {},
   "source": [
    "## Neg After Pos"
   ]
  },
  {
   "cell_type": "code",
   "execution_count": null,
   "metadata": {},
   "outputs": [],
   "source": [
    "#y_pred_after_prior_proba_neg_after_pos = np.array([run_prior_on_prediction(p_ij, T_neg, p) for p in y_pred_after_prior_proba_pos])"
   ]
  },
  {
   "cell_type": "code",
   "execution_count": null,
   "metadata": {},
   "outputs": [],
   "source": [
    "#pickle.dump(y_pred_after_prior_proba_neg_after_pos, open('y_pred_after_prior_proba_neg_after_pos.pickle', 'wb'))"
   ]
  },
  {
   "cell_type": "code",
   "execution_count": null,
   "metadata": {},
   "outputs": [],
   "source": [
    "y_pred_after_prior_proba_neg_after_pos = pickle.load(open('y_pred_after_prior_proba_neg_after_pos.pickle', 'rb'))"
   ]
  },
  {
   "cell_type": "code",
   "execution_count": null,
   "metadata": {},
   "outputs": [],
   "source": [
    "y_pred_after_prior_neg_after_pos, y_pred_after_prior_proba_neg_after_pos = get_y(y_test, y_pred_after_prior_proba_neg_after_pos)"
   ]
  },
  {
   "cell_type": "markdown",
   "metadata": {},
   "source": [
    "## Pos After Neg "
   ]
  },
  {
   "cell_type": "code",
   "execution_count": null,
   "metadata": {},
   "outputs": [],
   "source": [
    "#y_pred_after_prior_proba_pos_after_neg = np.array([run_prior_on_prediction(p_ij, T, p) for p in y_pred_after_prior_proba_neg])"
   ]
  },
  {
   "cell_type": "code",
   "execution_count": null,
   "metadata": {},
   "outputs": [],
   "source": [
    "#pickle.dump(y_pred_after_prior_proba_pos_after_neg, open('y_pred_after_prior_proba_pos_after_neg.pickle', 'wb'))"
   ]
  },
  {
   "cell_type": "code",
   "execution_count": null,
   "metadata": {},
   "outputs": [],
   "source": [
    "y_pred_after_prior_proba_pos_after_neg = pickle.load(open('y_pred_after_prior_proba_pos_after_neg.pickle', 'rb'))"
   ]
  },
  {
   "cell_type": "code",
   "execution_count": null,
   "metadata": {},
   "outputs": [],
   "source": [
    "y_pred_after_prior_pos_after_neg, y_pred_after_prior_proba_pos_after_neg = get_y(y_test, y_pred_after_prior_proba_pos_after_neg)"
   ]
  },
  {
   "cell_type": "markdown",
   "metadata": {},
   "source": [
    "### normalize pos"
   ]
  },
  {
   "cell_type": "code",
   "execution_count": null,
   "metadata": {},
   "outputs": [],
   "source": [
    "y_pred_after_prior, y_pred_norm_proba_pos = get_y(y_test, y_pred_after_prior_proba_pos, do_normalize=True)"
   ]
  },
  {
   "cell_type": "code",
   "execution_count": null,
   "metadata": {},
   "outputs": [],
   "source": [
    "#y_pred_norm_proba_neg_after_pos = np.array([run_prior_on_prediction(p_ij, T_neg, p) for p in y_pred_norm_proba_pos])"
   ]
  },
  {
   "cell_type": "code",
   "execution_count": null,
   "metadata": {},
   "outputs": [],
   "source": [
    "#pickle.dump(y_pred_norm_proba_neg_after_pos, open('y_pred_norm_proba_neg_after_pos.pickle', 'wb'))"
   ]
  },
  {
   "cell_type": "code",
   "execution_count": null,
   "metadata": {},
   "outputs": [],
   "source": [
    "y_pred_norm_proba_neg_after_pos = pickle.load(open('y_pred_norm_proba_neg_after_pos.pickle', 'rb'))"
   ]
  },
  {
   "cell_type": "code",
   "execution_count": null,
   "metadata": {},
   "outputs": [],
   "source": [
    "y_pred_norm_neg_after_pos, y_pred_norm_proba_neg_after_pos = get_y(y_test, y_pred_norm_proba_neg_after_pos)"
   ]
  },
  {
   "cell_type": "markdown",
   "metadata": {},
   "source": [
    "### normalize neg"
   ]
  },
  {
   "cell_type": "code",
   "execution_count": null,
   "metadata": {},
   "outputs": [],
   "source": [
    "y_pred_after_prior_neg, y_pred_norm_proba_neg = get_y(y_test, y_pred_after_prior_proba_neg, do_normalize=True)"
   ]
  },
  {
   "cell_type": "code",
   "execution_count": null,
   "metadata": {},
   "outputs": [],
   "source": [
    "#y_pred_norm_proba_pos_after_neg = np.array([run_prior_on_prediction(p_ij, T_neg, p) for p in y_pred_norm_proba_neg])"
   ]
  },
  {
   "cell_type": "code",
   "execution_count": null,
   "metadata": {},
   "outputs": [],
   "source": [
    "#pickle.dump(y_pred_norm_proba_pos_after_neg, open('y_pred_norm_proba_pos_after_neg.pickle', 'wb'))"
   ]
  },
  {
   "cell_type": "code",
   "execution_count": null,
   "metadata": {},
   "outputs": [],
   "source": [
    "y_pred_norm_proba_pos_after_neg = pickle.load(open('y_pred_norm_proba_pos_after_neg.pickle', 'rb'))"
   ]
  },
  {
   "cell_type": "code",
   "execution_count": null,
   "metadata": {},
   "outputs": [],
   "source": [
    "y_pred_norm_pos_after_neg, y_pred_norm_proba_pos_after_neg = get_y(y_test, y_pred_norm_proba_pos_after_neg)"
   ]
  },
  {
   "cell_type": "markdown",
   "metadata": {},
   "source": [
    "## Scores Comparisons"
   ]
  },
  {
   "cell_type": "code",
   "execution_count": null,
   "metadata": {},
   "outputs": [],
   "source": [
    "print(f1_score(y_test, y_pred, average = 'macro'))\n",
    "print(f1_score(y_test, y_pred_after_prior, average = 'macro'))\n",
    "print(f1_score(y_test, y_pred_after_prior_neg, average = 'macro'))\n",
    "print(f1_score(y_test, y_pred_after_prior_neg_after_pos, average = 'macro'))\n",
    "print(f1_score(y_test, y_pred_after_prior_pos_after_neg, average = 'macro'))\n",
    "print(f1_score(y_test, y_pred_norm_neg_after_pos, average = 'macro'))\n",
    "print(f1_score(y_test, y_pred_norm_pos_after_neg, average = 'macro'))"
   ]
  },
  {
   "cell_type": "code",
   "execution_count": null,
   "metadata": {},
   "outputs": [],
   "source": [
    "print(roc_auc_score(y_test, y_pred_proba, average = 'macro'))\n",
    "print(roc_auc_score(y_test, y_pred_after_prior_proba_pos, average = 'macro'))\n",
    "print(roc_auc_score(y_test, y_pred_after_prior_neg_proba, average = 'macro'))\n",
    "print(roc_auc_score(y_test, y_pred_after_prior_proba_neg_after_pos, average = 'macro'))\n",
    "print(roc_auc_score(y_test, y_pred_after_prior_proba_pos_after_neg, average = 'macro'))\n",
    "print(roc_auc_score(y_test, y_pred_norm_proba_neg_after_pos, average = 'macro'))\n",
    "print(roc_auc_score(y_test, y_pred_norm_proba_pos_after_neg, average = 'macro'))"
   ]
  },
  {
   "cell_type": "markdown",
   "metadata": {},
   "source": [
    "## Research probas distributions"
   ]
  },
  {
   "cell_type": "code",
   "execution_count": null,
   "metadata": {},
   "outputs": [],
   "source": [
    "def normalize_func(y_proba, th):\n",
    "    y_proba_fixed = np.zeros(y_proba.shape)\n",
    "    y_proba_fixed[y_proba<th] = ((y_proba[y_proba<th] / th)) * 0.5\n",
    "    y_proba_fixed[y_proba>=th] = (((y_proba[y_proba>=th] - th) / (1-th)) * 0.5 + 0.5)\n",
    "    return y_proba_fixed"
   ]
  },
  {
   "cell_type": "code",
   "execution_count": null,
   "metadata": {},
   "outputs": [],
   "source": [
    "def try_normalization(y_test, y_proba, normalize_func=None):\n",
    "\n",
    "    y = []\n",
    "    y_proba_fixed = []\n",
    "    threshs = []\n",
    "    for c in range(y_proba.shape[1]):\n",
    "        y_proba_c = y_proba[:, c]\n",
    "        y_test_c = y_test[:, c]\n",
    "        th = get_thresh(y_test_c, y_proba_c)\n",
    "        threshs.append(th)\n",
    "        y.append(get_y_by_thresh(y_proba_c, th))\n",
    "        y_proba_fixed.append(normalize_func(y_proba_c, th))\n",
    "    \n",
    "    for i in range(59):\n",
    "        print(i)\n",
    "        #plt.plot(sorted(y_pred_proba[:, i]), label='no prior')\n",
    "        plt.plot(sorted(y_pred_after_prior_proba_pos[:, i]), label='pos prior')\n",
    "        #plt.plot(sorted(y_pred_after_prior_neg_proba[:, i]), label='neg prior')\n",
    "        #plt.plot(sorted(y_pred_norm_proba_neg_after_pos[:, i]), label='neg_after_pos_normed')\n",
    "        plt.plot(sorted(np.array(y_proba_fixed).T[:, i]), label='pos_normed')\n",
    "        plt.plot([0, 1200], [threshs[i],threshs[i]])\n",
    "        plt.legend()\n",
    "        plt.show()\n",
    "    \n",
    "    return np.array(y).T, np.array(y_proba_fixed).T, threshs"
   ]
  },
  {
   "cell_type": "code",
   "execution_count": null,
   "metadata": {},
   "outputs": [],
   "source": [
    "2, 10, 11, 12, 18, 19, 23, 27, 28, 32, 44, 53"
   ]
  },
  {
   "cell_type": "code",
   "execution_count": null,
   "metadata": {},
   "outputs": [],
   "source": [
    "x = try_normalization(y_test, y_pred_after_prior_proba_pos, normalize_func)"
   ]
  },
  {
   "cell_type": "code",
   "execution_count": null,
   "metadata": {},
   "outputs": [],
   "source": [
    "plt.hist(x[2])"
   ]
  },
  {
   "cell_type": "markdown",
   "metadata": {},
   "source": [
    "## Other Visualizations and Statistics"
   ]
  },
  {
   "cell_type": "code",
   "execution_count": null,
   "metadata": {},
   "outputs": [],
   "source": [
    "#colors_dict"
   ]
  },
  {
   "cell_type": "code",
   "execution_count": null,
   "metadata": {},
   "outputs": [],
   "source": [
    "#len(pos_index), len(neg_index), len(set(pos_index).intersection(set(neg_index)))"
   ]
  },
  {
   "cell_type": "code",
   "execution_count": null,
   "metadata": {},
   "outputs": [],
   "source": [
    "#pos_index"
   ]
  },
  {
   "cell_type": "code",
   "execution_count": null,
   "metadata": {},
   "outputs": [],
   "source": [
    "#neg_index"
   ]
  },
  {
   "cell_type": "code",
   "execution_count": null,
   "metadata": {},
   "outputs": [],
   "source": [
    "def get_classification_df(y_test, y_pred):\n",
    "    \n",
    "    df = pd.DataFrame(classification_report(y_test, y_pred, output_dict=True, target_names=data._y_cols)).T.reset_index()\n",
    "    return df\n",
    "\n",
    "global colors_dict\n",
    "colors_dict = {'red':0, 'green':0, 'blue':0}\n",
    "\n",
    "global y_index\n",
    "y_index = []\n",
    "\n",
    "def highlight_greater(row):\n",
    "    global colors_dict\n",
    "\n",
    "    if row['f1-score'] > row['f1-score_prior']:\n",
    "        color = 'red'\n",
    "    elif row['f1-score'] < row['f1-score_prior']:\n",
    "        color = 'green'\n",
    "    else:\n",
    "        color= 'blue'\n",
    "        \n",
    "    if not 'avg' in row['index']:\n",
    "        colors_dict[color] += 1\n",
    "        if color == 'red':\n",
    "            y_index.append(row['index'])\n",
    "        \n",
    "    background = ['background-color: {}'.format(color) for _ in row]\n",
    "    return background\n",
    "\n",
    "\n",
    "\n",
    "df = get_classification_df(y_test, y_pred).join(get_classification_df(y_test, y_pred_after_prior), rsuffix = '_prior')\n",
    "df.style.apply(highlight_greater, axis=1)"
   ]
  },
  {
   "cell_type": "markdown",
   "metadata": {},
   "source": [
    "\n",
    "17 red\n",
    "11 blue\n",
    "31 green"
   ]
  },
  {
   "cell_type": "code",
   "execution_count": null,
   "metadata": {},
   "outputs": [],
   "source": [
    "get_classification_df(y_pred_after_prior, y_pred_norm_neg_after_pos)"
   ]
  },
  {
   "cell_type": "code",
   "execution_count": null,
   "metadata": {},
   "outputs": [],
   "source": [
    "for c in range(y.shape[1]):\n",
    "    plt.scatter(y_pred_proba[:, c], y_pred_after_prior_proba[:, c])\n",
    "plt.show()"
   ]
  },
  {
   "cell_type": "code",
   "execution_count": null,
   "metadata": {
    "scrolled": true
   },
   "outputs": [],
   "source": [
    "for c in range(y.shape[1]):\n",
    "    plt.plot(y_pred_proba[:, c], '.')\n",
    "    plt.plot(y_pred_after_prior_proba[:, c], '.')\n",
    "    plt.show()"
   ]
  },
  {
   "cell_type": "code",
   "execution_count": null,
   "metadata": {},
   "outputs": [],
   "source": [
    "label_count = len(y.columns)"
   ]
  },
  {
   "cell_type": "code",
   "execution_count": null,
   "metadata": {},
   "outputs": [],
   "source": [
    "# T = minimum_spanning_tree(get_mutual_information(p_ij)).todense()\n",
    "# G = nx.Graph(T, nodes=y.columns)\n",
    "# G = nx.relabel_nodes(g, {i: c for i,c in zip(range(y.shape[1]), y.columns)})\n",
    "# nx.draw_networkx(G, cmap=plt.get_cmap('jet'), with_labels=True,font_size=16, pos=nx.fruchterman_reingold_layout(G))\n",
    "# fig = plt.gcf()\n",
    "# fig.set_size_inches(18.5, 10.5)"
   ]
  },
  {
   "cell_type": "code",
   "execution_count": null,
   "metadata": {},
   "outputs": [],
   "source": [
    "plt.imshow(p_ij)\n",
    "plt.colorbar()"
   ]
  },
  {
   "cell_type": "code",
   "execution_count": null,
   "metadata": {},
   "outputs": [],
   "source": [
    "plt.imshow(np.array((T != 0) * 1.) * p_ij)\n",
    "plt.colorbar()"
   ]
  },
  {
   "cell_type": "code",
   "execution_count": null,
   "metadata": {},
   "outputs": [],
   "source": [
    "E = get_mutual_information(p_ij)\n",
    "plt.imshow(E)\n",
    "plt.colorbar()"
   ]
  },
  {
   "cell_type": "code",
   "execution_count": null,
   "metadata": {},
   "outputs": [],
   "source": [
    "plt.imshow(np.array((T != 0) * 1.) * E)\n",
    "plt.colorbar()"
   ]
  },
  {
   "cell_type": "code",
   "execution_count": null,
   "metadata": {},
   "outputs": [],
   "source": []
  },
  {
   "cell_type": "code",
   "execution_count": null,
   "metadata": {},
   "outputs": [],
   "source": []
  }
 ],
 "metadata": {
  "kernelspec": {
   "display_name": "Python 3",
   "language": "python",
   "name": "python3"
  },
  "language_info": {
   "codemirror_mode": {
    "name": "ipython",
    "version": 3
   },
   "file_extension": ".py",
   "mimetype": "text/x-python",
   "name": "python",
   "nbconvert_exporter": "python",
   "pygments_lexer": "ipython3",
   "version": "3.7.7"
  }
 },
 "nbformat": 4,
 "nbformat_minor": 4
}
