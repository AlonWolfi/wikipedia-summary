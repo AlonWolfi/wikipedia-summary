{
 "cells": [
  {
   "cell_type": "code",
   "execution_count": 2,
   "metadata": {},
   "outputs": [],
   "source": [
    "import os\n",
    "import glob\n",
    "import nltk\n",
    "import gensim\n",
    "import pandas as pd\n",
    "import wikipedia\n",
    "import wikipediaapi\n",
    "import wptools\n",
    "\n",
    "import utils.luigi_wrapper as luigi\n",
    "from nltk.corpus import stopwords\n",
    "from nltk.stem.porter import PorterStemmer\n",
    "\n",
    "stop_words = set(stopwords.words('english'))\n",
    "porter = PorterStemmer()\n",
    "\n",
    "from preprocess.data_extractor import DataExtractor\n",
    "from utils.utils import *"
   ]
  },
  {
   "cell_type": "code",
   "execution_count": 4,
   "metadata": {},
   "outputs": [
    {
     "name": "stdout",
     "output_type": "stream",
     "text": [
      "'DataExtractor' output's path is D:\\אלון\\תואר שני\\שיטות מתקדמות בלמידה חישובית\\wikipedia-summary\\cache\\full_df.pickle\n"
     ]
    }
   ],
   "source": [
    "df = DataExtractor.get_output()"
   ]
  },
  {
   "cell_type": "code",
   "execution_count": 5,
   "metadata": {},
   "outputs": [
    {
     "ename": "AttributeError",
     "evalue": "'NoneType' object has no attribute 'keys'",
     "output_type": "error",
     "traceback": [
      "\u001b[1;31m---------------------------------------------------------------------------\u001b[0m",
      "\u001b[1;31mAttributeError\u001b[0m                            Traceback (most recent call last)",
      "\u001b[1;32m<ipython-input-5-3ae2d020936d>\u001b[0m in \u001b[0;36m<module>\u001b[1;34m\u001b[0m\n\u001b[1;32m----> 1\u001b[1;33m \u001b[0mdf\u001b[0m\u001b[1;33m[\u001b[0m\u001b[1;34m'questions'\u001b[0m\u001b[1;33m]\u001b[0m \u001b[1;33m=\u001b[0m \u001b[0mdf\u001b[0m\u001b[1;33m[\u001b[0m\u001b[1;34m'infobox'\u001b[0m\u001b[1;33m]\u001b[0m\u001b[1;33m.\u001b[0m\u001b[0mapply\u001b[0m\u001b[1;33m(\u001b[0m\u001b[1;32mlambda\u001b[0m \u001b[0minfobox\u001b[0m\u001b[1;33m:\u001b[0m \u001b[0mlist\u001b[0m\u001b[1;33m(\u001b[0m\u001b[0minfobox\u001b[0m\u001b[1;33m.\u001b[0m\u001b[0mkeys\u001b[0m\u001b[1;33m(\u001b[0m\u001b[1;33m)\u001b[0m\u001b[1;33m)\u001b[0m\u001b[1;33m)\u001b[0m\u001b[1;33m\u001b[0m\u001b[1;33m\u001b[0m\u001b[0m\n\u001b[0m\u001b[0;32m      2\u001b[0m \u001b[0mdf\u001b[0m\u001b[1;33m.\u001b[0m\u001b[0mhead\u001b[0m\u001b[1;33m(\u001b[0m\u001b[1;33m)\u001b[0m\u001b[1;33m\u001b[0m\u001b[1;33m\u001b[0m\u001b[0m\n",
      "\u001b[1;32mC:\\Alon\\Anaconda3\\lib\\site-packages\\pandas\\core\\series.py\u001b[0m in \u001b[0;36mapply\u001b[1;34m(self, func, convert_dtype, args, **kwds)\u001b[0m\n\u001b[0;32m   4043\u001b[0m             \u001b[1;32melse\u001b[0m\u001b[1;33m:\u001b[0m\u001b[1;33m\u001b[0m\u001b[1;33m\u001b[0m\u001b[0m\n\u001b[0;32m   4044\u001b[0m                 \u001b[0mvalues\u001b[0m \u001b[1;33m=\u001b[0m \u001b[0mself\u001b[0m\u001b[1;33m.\u001b[0m\u001b[0mastype\u001b[0m\u001b[1;33m(\u001b[0m\u001b[0mobject\u001b[0m\u001b[1;33m)\u001b[0m\u001b[1;33m.\u001b[0m\u001b[0mvalues\u001b[0m\u001b[1;33m\u001b[0m\u001b[1;33m\u001b[0m\u001b[0m\n\u001b[1;32m-> 4045\u001b[1;33m                 \u001b[0mmapped\u001b[0m \u001b[1;33m=\u001b[0m \u001b[0mlib\u001b[0m\u001b[1;33m.\u001b[0m\u001b[0mmap_infer\u001b[0m\u001b[1;33m(\u001b[0m\u001b[0mvalues\u001b[0m\u001b[1;33m,\u001b[0m \u001b[0mf\u001b[0m\u001b[1;33m,\u001b[0m \u001b[0mconvert\u001b[0m\u001b[1;33m=\u001b[0m\u001b[0mconvert_dtype\u001b[0m\u001b[1;33m)\u001b[0m\u001b[1;33m\u001b[0m\u001b[1;33m\u001b[0m\u001b[0m\n\u001b[0m\u001b[0;32m   4046\u001b[0m \u001b[1;33m\u001b[0m\u001b[0m\n\u001b[0;32m   4047\u001b[0m         \u001b[1;32mif\u001b[0m \u001b[0mlen\u001b[0m\u001b[1;33m(\u001b[0m\u001b[0mmapped\u001b[0m\u001b[1;33m)\u001b[0m \u001b[1;32mand\u001b[0m \u001b[0misinstance\u001b[0m\u001b[1;33m(\u001b[0m\u001b[0mmapped\u001b[0m\u001b[1;33m[\u001b[0m\u001b[1;36m0\u001b[0m\u001b[1;33m]\u001b[0m\u001b[1;33m,\u001b[0m \u001b[0mSeries\u001b[0m\u001b[1;33m)\u001b[0m\u001b[1;33m:\u001b[0m\u001b[1;33m\u001b[0m\u001b[1;33m\u001b[0m\u001b[0m\n",
      "\u001b[1;32mpandas/_libs/lib.pyx\u001b[0m in \u001b[0;36mpandas._libs.lib.map_infer\u001b[1;34m()\u001b[0m\n",
      "\u001b[1;32m<ipython-input-5-3ae2d020936d>\u001b[0m in \u001b[0;36m<lambda>\u001b[1;34m(infobox)\u001b[0m\n\u001b[1;32m----> 1\u001b[1;33m \u001b[0mdf\u001b[0m\u001b[1;33m[\u001b[0m\u001b[1;34m'questions'\u001b[0m\u001b[1;33m]\u001b[0m \u001b[1;33m=\u001b[0m \u001b[0mdf\u001b[0m\u001b[1;33m[\u001b[0m\u001b[1;34m'infobox'\u001b[0m\u001b[1;33m]\u001b[0m\u001b[1;33m.\u001b[0m\u001b[0mapply\u001b[0m\u001b[1;33m(\u001b[0m\u001b[1;32mlambda\u001b[0m \u001b[0minfobox\u001b[0m\u001b[1;33m:\u001b[0m \u001b[0mlist\u001b[0m\u001b[1;33m(\u001b[0m\u001b[0minfobox\u001b[0m\u001b[1;33m.\u001b[0m\u001b[0mkeys\u001b[0m\u001b[1;33m(\u001b[0m\u001b[1;33m)\u001b[0m\u001b[1;33m)\u001b[0m\u001b[1;33m)\u001b[0m\u001b[1;33m\u001b[0m\u001b[1;33m\u001b[0m\u001b[0m\n\u001b[0m\u001b[0;32m      2\u001b[0m \u001b[0mdf\u001b[0m\u001b[1;33m.\u001b[0m\u001b[0mhead\u001b[0m\u001b[1;33m(\u001b[0m\u001b[1;33m)\u001b[0m\u001b[1;33m\u001b[0m\u001b[1;33m\u001b[0m\u001b[0m\n",
      "\u001b[1;31mAttributeError\u001b[0m: 'NoneType' object has no attribute 'keys'"
     ]
    }
   ],
   "source": [
    "df['questions'] = df['infobox'].apply(lambda infobox: list(infobox.keys()))\n",
    "df.head()"
   ]
  },
  {
   "cell_type": "code",
   "execution_count": 7,
   "metadata": {},
   "outputs": [
    {
     "data": {
      "text/plain": [
       "page\n",
       "Norihiko Hashida                                                                None\n",
       "Selene Vigil-Wilk                  {'name': 'Selene Vigil', 'background': 'solo_s...\n",
       "Jay Park                           {'name': 'Jay Park', 'background': 'solo_singe...\n",
       "Miho Miyazaki                      {'name': 'Miho Miyazaki', 'image': '180805 Miy...\n",
       "Wu Xuanyi                          {'name': 'Wu Xuanyi', 'image': '170406 프로배구 시상...\n",
       "Shizuka Ōya                        {'name': 'Shizuka Ōya', 'native_name': '大家 志津香...\n",
       "Brad Arnold                        {'name': 'Brad Arnold', 'image': 'Brad-arnold-...\n",
       "Emika Kamieda                      {'name': 'Emika Kamieda', 'background': 'solo_...\n",
       "Yook Sung-jae                      {'name': 'Yook Sung-jae', 'image': 'Yook Sung-...\n",
       "Kazumi Urano                       {'name': 'Kazumi Urano', 'image': 'Kazumi Uran...\n",
       "Tetsuya Kajiwara (musician)        {'name': 'Tetsuya Kajiwara<br/>梶原 徹也', 'backgr...\n",
       "Narsha                             {'name': 'Narsha', 'image': 'Narsha at the Exp...\n",
       "Hitomi Saito                       {'name': 'Hitomi Saito', 'native_name': '斉藤 瞳'...\n",
       "Cherprang Areekul                  {'name': 'Cherprang Areekul', 'image': 'Cherpr...\n",
       "Roger Rocha                        {'name': 'Roger Rocha', 'instrument': 'Guitar,...\n",
       "Kaori Mochida                      {'name': 'Kaori Mochida', 'background': 'solo_...\n",
       "Jung Dae-hyun                      {'name': 'Jung Dae-hyun', 'image': '191020 정대현...\n",
       "Airi Suzuki                        {'name': 'Airi Suzuki', 'image': 'Airi Suzuki ...\n",
       "Fred Thelonious Baker                                                           None\n",
       "Nana Owada                         {'name': 'Owada Nana', 'background': 'solo_sin...\n",
       "Ric Sanders                        {'name': 'Ric Sanders', 'image': 'RicSanders20...\n",
       "Nao Furuhata                       {'name': 'Nao Furuhata', 'background': 'solo_s...\n",
       "Park Soo-ah                        {'name': 'Park Soo-ah', 'image': 'Lizzy 15-08-...\n",
       "Yuko Oshima                        {'name': 'Yuko Oshima', 'image': 'Yūko Ōshima ...\n",
       "Yoshimi P-We                       {'name': 'Yoshimi', 'background': 'solo_singer...\n",
       "Nana Okada                         {'name': 'Nana Okada', 'native_name': '岡田 奈々',...\n",
       "Aki Takajo                         {'name': 'Aki Takajo', 'image': 'Aki Takajō (c...\n",
       "Yukari Goto                        {'name': 'Yukari Goto', 'native_name': '後藤 友香里...\n",
       "Aya Matsuura                       {'name': 'Aya Matsuura', 'image': '061209 Aya ...\n",
       "Shu Yabushita                      {'name': 'Shu Yabushita', 'background': 'solo_...\n",
       "Fūko Yagura                        {'name': 'Fūko Yagura', 'background': 'solo_si...\n",
       "Kim Chanmi (singer)                {'name': 'Chanmi', 'image': 'Kim Chan-mi at Ps...\n",
       "Jung Eun-ji                        {'name': 'Jung Eun-ji', 'image': '190112 Sanga...\n",
       "Sae Murase                         {'name': 'Sae Murase', 'background': 'solo_sin...\n",
       "Yuna Ego                           {'name': 'Yuna Ego', 'background': 'solo_singe...\n",
       "Erina Mano                         {'name': 'Erina Mano', 'background': 'solo_sin...\n",
       "Graham Bonnet                      {'name': 'Graham Bonnet', 'image': 'Graham Bon...\n",
       "Sho Sakurai                        {'name': 'Sho Sakurai', 'native_name': '櫻井 翔',...\n",
       "Airi Tanigawa                      {'name': 'Airi Tanigawa', 'background': 'solo_...\n",
       "Megumi Ohori                       {'name': 'Megumi Ohori', 'native_name': '大堀 恵'...\n",
       "Gil Sharone                        {'name': 'Gil Sharone', 'birth_date': '{{birth...\n",
       "List of former members of AKB48                                                 None\n",
       "Kei Tani                                                                        None\n",
       "Ami Miyamae                        {'name': 'Ami Miyamae', 'background': 'solo_si...\n",
       "Mayu Watanabe                      {'name': 'Mayu Watanabe', 'background': 'solo_...\n",
       "Yuki Kashiwagi                     {'name': 'Yuki Kashiwagi', 'image': 'AKB48 Gro...\n",
       "Hyuna                              {'name': 'Hyuna', 'image': 'Hyuna at a fansign...\n",
       "Akari Takeuchi                     {'name': 'Akari Takeuchi', 'native_name': '竹内朱...\n",
       "Sawako Hata                        {'name': 'Sawako Hata', 'background': 'solo_si...\n",
       "Kavana (singer)                    {'name': 'Kavana', 'background': 'solo_singer'...\n",
       "Name: infobox, dtype: object"
      ]
     },
     "execution_count": 7,
     "metadata": {},
     "output_type": "execute_result"
    }
   ],
   "source": [
    "df['infobox']"
   ]
  },
  {
   "cell_type": "code",
   "execution_count": null,
   "metadata": {
    "scrolled": true
   },
   "outputs": [],
   "source": [
    "from sklearn.feature_extraction.text import CountVectorizer\n",
    "vectorizer = CountVectorizer(tokenizer=lambda x:x, binary='true')\n",
    "vectorizer.fit_transform(df['questions']).toarray()"
   ]
  },
  {
   "cell_type": "code",
   "execution_count": null,
   "metadata": {},
   "outputs": [],
   "source": [
    "from sklearn.preprocessing import MultiLabelBinarizer\n",
    "vectorizer = MultiLabelBinarizer()\n",
    "vectorizer.fit(df['questions'])\n",
    "transformed_array = vectorizer.transform(df['questions'])\n",
    "df = pd.DataFrame(index = df.index)\n",
    "for col, value in zip(vectorizer.classes_, transformed_array.T):\n",
    "    df[col] = value"
   ]
  },
  {
   "cell_type": "code",
   "execution_count": null,
   "metadata": {
    "scrolled": true
   },
   "outputs": [],
   "source": [
    "df"
   ]
  },
  {
   "cell_type": "code",
   "execution_count": null,
   "metadata": {},
   "outputs": [],
   "source": []
  }
 ],
 "metadata": {
  "kernelspec": {
   "display_name": "Python 3",
   "language": "python",
   "name": "python3"
  },
  "language_info": {
   "codemirror_mode": {
    "name": "ipython",
    "version": 3
   },
   "file_extension": ".py",
   "mimetype": "text/x-python",
   "name": "python",
   "nbconvert_exporter": "python",
   "pygments_lexer": "ipython3",
   "version": "3.7.5"
  }
 },
 "nbformat": 4,
 "nbformat_minor": 2
}
