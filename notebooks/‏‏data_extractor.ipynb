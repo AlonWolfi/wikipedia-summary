{
 "cells": [
  {
   "cell_type": "code",
   "execution_count": 2,
   "metadata": {},
   "outputs": [],
   "source": [
    "import xml\n",
    "import shutil\n",
    "import xml.etree.ElementTree as ET\n",
    "import re\n",
    "import pathlib\n",
    "import json\n",
    "\n",
    "from utils.xml_utils import *\n",
    "from utils.text_utils import *"
   ]
  },
  {
   "cell_type": "code",
   "execution_count": 2,
   "metadata": {},
   "outputs": [],
   "source": [
    "data_list_xml_path = 'data/data.xml'"
   ]
  },
  {
   "cell_type": "code",
   "execution_count": 3,
   "metadata": {},
   "outputs": [],
   "source": [
    "remove_first_line_nonesense_xml(data_list_xml_path)"
   ]
  },
  {
   "cell_type": "code",
   "execution_count": 4,
   "metadata": {},
   "outputs": [],
   "source": [
    "tree = ET.parse(data_list_xml_path)\n",
    "root = tree.getroot()"
   ]
  },
  {
   "cell_type": "code",
   "execution_count": 5,
   "metadata": {},
   "outputs": [],
   "source": [
    "pages = root.findall('page')\n",
    "page = pages[0]"
   ]
  },
  {
   "cell_type": "code",
   "execution_count": 6,
   "metadata": {},
   "outputs": [],
   "source": [
    "name = page.find('title').text"
   ]
  },
  {
   "cell_type": "code",
   "execution_count": 7,
   "metadata": {
    "scrolled": true
   },
   "outputs": [
    {
     "data": {
      "text/plain": [
       "'{{short description|American football tight end}}\\n{{Use mdy dates|date=January 2019}}\\n{{Infobox NFL player\\n|name=Darren Fells\\n|image=Darren Fells (cropped).jpg\\n|caption=Fells with the Browns in 2018\\n|image_size=225\\n|current_team = Houston Texans\\n|number=87\\n|position=[[Tight end]]\\n|birth_date={{Birth date and age|1986|4|22|mf=y}}\\n|birth_place=[[Fullerton, California]]\\n|death_date=\\n|death_place=\\n|height_ft = 6\\n|height_in = 7\\n|weight_lbs=270\\n|high_school = [[Fullerton Union High School|Fullerton Union]]<br/>([[Fullerton, California]])\\n|college=[[UC Irvine Anteaters men\\'s basketball|UC Irvine]]\\n|undraftedyear=2013\\n|pastteams=\\n* [[Seattle Seahawks]] ({{NFL Year|2013}})*\\n* [[Arizona Cardinals]] ({{NFL Year|2013}}–{{NFL Year|2016}})\\n* [[Detroit Lions]] ({{NFL Year|2017}})\\n* [[Cleveland Browns]] ({{NFL Year|2018}})\\n* [[Houston Texans]] ({{NFL Year|2019}}–present)\\n|pastteamsnote=yes\\n|status=Active\\n|statweek=\\n|statseason=2019\\n|statlabel1=[[Reception (American football)|Receptions]]\\n|statvalue1=102\\n|statlabel2=[[Receiving yards]]\\n|statvalue2=1,171\\n|statlabel3=[[Touchdown|Receiving touchdowns]]\\n|statvalue3=17\\n|nflnew=darrenfells/2540928\\n}}\\n\\n\\'\\'\\'Darren Andre Fells\\'\\'\\' (born April 22, 1986) is an [[American football]] [[tight end]] for the [[Houston Texans]] of the [[National Football League]] (NFL). He did not play [[college football]], instead playing [[college basketball]] at the [[UC Irvine Anteaters men\\'s basketball|University of California, Irvine]]. Prior to his NFL career, he played professional basketball in several countries and was then signed by the [[Seattle Seahawks]]. He has also played for the [[Arizona Cardinals]], [[Detroit Lions]], and [[Cleveland Browns]], and is the brother of former NFL tight end [[Daniel Fells]].\\n\\n==Early years==\\nFells attended [[Fullerton Union High School]] in [[Fullerton, California]], where he played basketball. He was selected to the All-CIF Southern Section II-A second team as a junior while averaging 17 points and 10 rebounds as the team\\'s center.<ref name=\"CAL-IRV\">{{cite web | title=California-Irvine Profile | work=ucirvinesports.com | url=http://www.ucirvinesports.com/sports/m-baskbl/mtt/fells_darren00.html | accessdate= | archive-url=https://web.archive.org/web/20140903143308/http://www.ucirvinesports.com/sports/m-baskbl/mtt/fells_darren00.html | archive-date=September 3, 2014 | url-status=dead }}</ref> He was named All-Freeway League second team also in his junior season.<ref name=\"CAL-IRV\" />\\n\\n==Professional basketball career==\\n{{Infobox basketball biography\\n| name         = Darren Fells\\n| image        = \\n| number       = 14, 12, 7 \\n| position     = [[Power forward (basketball)|Power forward]] / [[center (basketball)|Center]]\\n| height_ft    = 6\\n| height_in    = 7\\n| weight_lbs =  244\\n| league       = \\n| nationality  = American\\n| high_school  = [[Fullerton Union High School|Fullerton Union]] (Fullerton, California)\\n| college      = [[UC Irvine Anteaters men\\'s basketball|UC Irvine]] (2004–2008)\\n| draft_year   = 2008\\n| career_start = 2008\\n| career_end   = 2012\\n| years1       = 2008–2010\\n| team1        = [[Leuven Bears]] ([[Basketball League Belgium Division I|Belgium]])\\n| years2       = 2010–2011\\n| team2        = [[Kataja Basket Club|Kataja]] ([[Korisliiga|Finland]])\\n| years3       = 2011\\n| team3        = [[Étendard de Brest]] ([[LNB Pro B|France]])\\n| years4       = 2011–2012\\n| team4        = [[Soles de Mexicali]] ([[Liga Nacional de Baloncesto Profesional|Mexico]])\\n| years5       =2008 and  2012\\n| team5        = [[Obras Sanitarias]] ([[Liga Nacional de Básquet|Argentina]])\\n| highlights   =\\n*Second-team All-[[Big West Conference|Big West]] (2008)\\n*2× honorable mention All-Big West (2006–2007)\\n}}\\n\\nBetween 2008 and 2012, Fells played basketball professionally in Argentina, Mexico, Belgium, Finland, and France.<ref>{{cite web | title=From Hoops To Tight End | work=azcardinals.com | url=http://www.azcardinals.com/news-and-events/article-2/From-Hoops-To-Tight-End/06008d87-853c-40d6-aef3-22e0ce13b611 |accessdate=June 30, 2014}}</ref>\\n\\nAs a rookie on the [[Basketball League Belgium Division I]] team [[Leuven Bears]] in 2008–09, Fells wore jersey #14 and averaged 9.3 points, 4.9 rebounds, and 1.5 assists in 33 games.<ref>http://basketball.eurobasket.com/team/Belgium/Stella_Artois_Leuven_Bears/334?Page=3&Stats=2009</ref> In his second season with the team in 2009–10, Fells averaged 8.1 points and 4.7 rebounds.<ref>http://basketball.eurobasket.com/team/Belgium/Stella_Artois_Leuven_Bears/334?Page=3&Stats=2010</ref>\\n\\nIn the 2010–11 season, Fells played for [[Kataja Basket Club]] of the Finnish [[Korisliiga]], wearing jersey #7. In 55 games, Fells averaged 13.8 points and 8.3 rebounds.<ref>http://basketball.eurobasket.com/team/Finland/Joensuun_Kataja_Basket/1864?Page=3&Stats=2011</ref> Kataja were runners-up of the 2011 Korisliiga Finals.<ref>http://www.eurobasket.com/team/Finland/Joensuun_Kataja_Basket/1864?Page=2&Stats=2011</ref>\\n\\nA [[Étendard de Brest]] of French [[LNB Pro B]],<ref>http://basketball.eurobasket.com/team/France/Etendard_de_Brest/867?Page=3&Stats=2012</ref> Fells played 25 games for [[Soles de Mexicali]] of the Mexican [[Liga Nacional de Baloncesto Profesional]] in the 2011–12 season and wore jersey #12. He averaged 13.5 points and 7.5 rebounds.<ref>http://basketball.latinbasket.com/team/Mexico/Soles_de_Mexicali/7313?Page=3&Stats=2012</ref> After the LNBP season ended, Fells played nine games for [[Obras Sanitarias]] of the Argentine [[Liga Nacional de Basquet]] from March to April 2012 and averaged 6.9 points and 4.7 rebounds.<ref>{{Cite web |url=http://www.fiba.com/pages/eng/fc/gameCent/p/leagueid/COPCC/ot/1/pid/73439/season/2012/tid/90054/tidstat//playerView.html |title=Archived copy |access-date=January 24, 2015 |archive-url=https://web.archive.org/web/20150128112950/http://www.fiba.com/pages/eng/fc/gameCent/p/leagueid/COPCC/ot/1/pid/73439/season/2012/tid/90054/tidstat//playerView.html |archive-date=January 28, 2015 |url-status=dead }}</ref> Like at Soles de Mexicali, Fells wore jersey #12 for Obras.<ref>http://basketball.latinbasket.com/team/Argentina/Obras_Sanitarias_Buenos_Aires/1085?Page=3&Stats=2012</ref>\\n\\nIn December 2012, Fells signed with [[Libertad de Sunchales]] but did not play any games.<ref>http://www.basquetplus.com/nota-13142-darren-fells-sera-el-segundo-extranjero-de-libertad-de-sunchales</ref>\\n\\n==Professional football career==\\n===Seattle Seahawks===\\nOn March 6, 2013, Fells was signed by the [[Seattle Seahawks]].<ref>{{cite web | title=Seattle Seahawks sign former pro basketball player Darren Fells | work=nfl.com | url=http://www.nfl.com/news/story/0ap1000000147151/article/seattle-seahawks-sign-former-pro-basketball-player-darren-fells |accessdate=March 5, 2013}}</ref> On May 18, 2013, he was waived by the team.<ref>{{cite web | title=Seahawks waive tight end Darren Fells | work=nbcsports.com | url=http://profootballtalk.nbcsports.com/2013/05/08/seahawks-waive-tight-end-darren-fells/ |accessdate=May 8, 2013}}</ref> On May 20, 2013, he was re-signed with the team. On August 31, 2013, Fells was released by the team.\\n\\n===Arizona Cardinals===\\nOn October 9, 2013, Fells signed with the [[Arizona Cardinals]] practice squad. On January 1, 2014, he was re-signed to a reserve/future contract with the [[Arizona Cardinals]].\\n\\n====2014 season====\\nFells entered Cardinals\\' training camp competing with [[John Carlson (American football)|John Carlson]], [[Troy Niklas]], and [[Jake Ballard]] to be a backup tight end. He was named the fifth tight end on the Cardinals\\' depth chart to begin the regular season, behind [[Rob Housler]], John Carlson, Troy Niklas, and Jake Ballard.<ref>{{cite web|URL=http://www.ourlads.com/nfldepthcharts/archive/161/ARZ| title=Ourlads.com: Arizona Cardinal\\'s depth chart: 08/31/2014| accessdate=October 2, 2017| website=Ourlads.com}}</ref>\\n\\nDuring Week 3, he made his first NFL start as the Cardinals defeated the [[2014 San Francisco 49ers season|San Francisco 49ers]] by a score of 23–14. On December 11, 2014, Fells made his first NFL reception on a six-yard pass from [[Carson Palmer]] during a 12–6 victory over the [[2014 St. Louis Rams season|St. Louis Rams]]. During the regular-season finale, he caught a 24-yard pass for his longest catch of the season and finished the 17–20 loss to the 49ers with two receptions for 39 receiving yards.\\n\\nFells completed his rookie season with five receptions for 59 yards while playing ten games and starting in five.\\n\\nOn January 3, 2015, Fells appeared in his first NFL postseason game after the Cardinals finished the season with an 11–5 record. In the 16–27 [[National Football Conference|NFC]] Wildcard loss to the [[2014 Carolina Panthers season|Carolina Panthers]], he caught a one-yard touchdown.<ref name=\"NFL\">{{cite web|URL=http://www.nfl.com/player/darrenfells/2540928/profile| title=NFL Player Profile: Darren Fells| accessdate=October 2, 2017| website=NFL.com}}</ref>\\n\\n====2015 season====\\nFells started the 2015 season as the second tight end behind [[Jermaine Gresham]]. During the [[2015 Arizona Cardinals season|Arizona Cardinals]]\\' home opener against the [[2015 New Orleans Saints season|New Orleans Saints]], he caught his first NFL touchdown on a 17-yard pass from Carson Palmer. He finished the 31-19 victory with four receptions for 82 yards and a touchdown.<ref>{{cite web|URL=http://www.nfl.com/gamecenter/2015091307/2015/REG1/saints@cardinals| title=NFL Game Center: Week 1-2015: New Orleans Saints @ Arizona Cardinals| accessdate=October 2, 2017| website=NFL.com}}</ref> On October 18, 2015, he left a 25-13 loss to the [[2015 Pittsburgh Steelers season|Pittsburgh Steelers]] after suffering a shoulder sprain that would keep him out the next two games.<ref>{{cite web|URL=https://www.bleacherreport.com/amp/2580722-darren-fells-injury-updates-on-cardinals-tes-shoulder-and-return| title=Darren Fells Injury: Updates on Cardinals TE\\'s Shoulder and Return| accessdate=October 2, 2017| website=bleacherreport.com| author=Daniel Kramer| date=October 19, 2015}}</ref>\\n\\nFells finished the 2015 season with a career-high 21 receptions for 311 yards and three touchdowns in 14 games and 12 starts.<ref name=\"NFL\"/>\\n\\nIn the postseason, Fells caught four receptions for 50 yards and a touchdown.\\n\\n====2016 season====\\nFells remained the Cardinals\\' second tight end behind Gresham in 2016. During Week 2 against the [[2016 Tampa Bay Buccaneers season|Tampa Bay Buccaneers]], he caught a career-high four passes for 31 yards in a 40-7 victory. On January 1, 2017, he caught a 37-yard touchdown  from Carson Palmer as the Cardinals defeated the [[2016 Los Angeles Rams season|Los Angeles Rams]] by a score44-7.<ref>{{cite web|URL=http://www.nfl.com/gamecenter/2017010113/2016/REG17/cardinals@rams| title=NFL Game Center: Week 17-2016: Arizona Cardinals @ Los Angeles Rams| accessdate=October 2, 2017| website=NFL.com}}</ref>\\n\\nFells finished the 2016 season with 14 receptions for 154 yards and a touchdown in 14 games and seven starts.<ref name=NFL/>\\n\\n===Detroit Lions===\\nOn March 11, 2017, Fells signed a one-year, $1.5 million contract with the [[Detroit Lions]].<ref>{{cite web|title=Lions sign free agent TE Darren Fells|url=https://www.detroitlions.com/news/lions-sign-free-agent-te-darren-fells-18644361|website=DetroitLions.com|date=March 11, 2017}}</ref>\\n\\nFells entered training camp competing with [[Cole Wick]], [[Khari Lee]], and [[Michael Roberts (American football)|Michael Roberts]] to be the backup tight end. He was named the backup behind [[Eric Ebron]] to begin the regular season. Ebron struggled with drops in the first half of the season, and Fells saw increased snaps and eventually started in place of him.\\n\\nFells finished the 2017 season with 17 receptions for 177 yards and three touchdowns in 16 games and 13 starts.<ref name=NFL/>\\n\\n===Cleveland Browns===\\nOn March 15, 2018, Fells signed a three-year contract with the [[Cleveland Browns]].<ref>{{cite web|title=Browns add tight end Darren Fells to early haul|url=http://profootballtalk.nbcsports.com/2018/03/14/browns-add-tight-end-darren-fells-to-early-haul/|author=Gantt, Darin|website=ProFootballTalk.NBCSports.com|date=March 14, 2018}}</ref><ref>{{cite web|url=https://www.clevelandbrowns.com/news/browns-sign-dl-chris-smith-db-terrance-mitchell-ol-donald-stephenson-te-20454357|title=Browns sign DL Chris Smith, DB Terrance Mitchell, OL Donald Stephenson, TE Darren Fells|work=ClevelandBrowns.com|date=March 15, 2018|first=Patrick|last=Maks}}</ref> He played in 16 games with 11 starts, recording 11 receptions for 117 yards and three touchdowns.\\n\\nOn March 11, 2019, Fells was released by the Browns.<ref>{{cite news |title=Browns release TE Darren Fells |url=https://www.clevelandbrowns.com/news/browns-release-te-darren-fells |website=ClevelandBrowns.com |date=March 11, 2019}}</ref>\\n\\n===Houston Texans===\\nOn March 18, 2019, Fells signed a one-year contract with the [[Houston Texans]].<ref>{{cite web|title=Texans sign Darren Fells|url=https://profootballtalk.nbcsports.com/2019/03/18/texans-sign-darren-fells/|author=Alper, Josh|work=Pro Football Talk|publisher=NBC Sports|date=March 18, 2019}}</ref> In week 13 against the [[2019 New England Patriots season|New England Patriots]], Fells set the single-season record for most touchdown receptions by a tight end in Texans\\' history, a record previously held by [[Owen Daniels]] and [[Joel Dreessen]].<ref>{{cite web|website=[[Houston Chronicle]]|last=Wilson|first=Aaron|url=https://www.chron.com/sports/texans/article/Texans-tight-end-Darren-Fells-franchise-record-14878223.php|title=Texans tight end Darren Fells sets franchise record|date=December 3, 2019|accessdate=December 15, 2019}}</ref> Fells finished the regular season with 34 receptions for 341 yards and 7 touchdowns, all career bests.<ref>{{cite web|publisher=NFL.com|url=http://www.nfl.com/player/darrenfells/2540928/profile|title=Darren Fells, TE for the Houston Texans|accessdate=January 4, 2020}}</ref>\\n\\n===NFL statistics===\\n====Regular season====\\n{|style=\"cellpadding=1; text-align:center;\" class=\"wikitable\"\\n|-style=\"font-weight:bold;background:#03202F;color:White;\"\\n|-\\n! rowspan=\"2\"| Year\\n! rowspan=\"2\"| Team\\n! colspan=\"2\"| Games\\n! colspan=\"5\"| Receiving\\n|-\\n! GP !! GS !! Rec !! Yds !! Avg !! Lng !! TD \\n|-\\n! [[2014 NFL season|2014]] !! [[2014 Arizona Cardinals season|ARI]]\\n| 10 || 5 || 5 || 71 || 14.2 || 24 || 0 \\n|-\\n! [[2015 NFL season|2015]] !! [[2015 Arizona Cardinals season|ARI]]\\n| 14 || 12 || 21 || 311 || \\'\\'\\'14.8\\'\\'\\' || 48 || 3 \\n|-\\n! [[2016 NFL season|2016]] !! [[2016 Arizona Cardinals season|ARI]]\\n| 14 || 7 || 14 || 154 || 11.0 || 37T || 1 \\n|-\\n! [[2017 NFL season|2017]] !! [[2017 Detroit Lions season|DET]]\\n| \\'\\'\\'16\\'\\'\\' || 13 || 17 || 177 || 10.4 || 23 || 3 \\n|-\\n! [[2018 NFL season|2018]] !! [[2018 Cleveland Browns season|CLE]]\\n| \\'\\'\\'16\\'\\'\\' || 11 || 11 || 117 || 10.6 || \\'\\'\\'49T\\'\\'\\' || 3 \\n|-\\n! [[2019 NFL season|2019]] !! [[2019 Houston Texans season|HOU]]\\n| \\'\\'\\'16\\'\\'\\' || \\'\\'\\'14\\'\\'\\' || \\'\\'\\'34\\'\\'\\' || \\'\\'\\'341\\'\\'\\' || 10.0 || 24 || \\'\\'\\'7\\'\\'\\' \\n|-\\n! colspan=\"2\"| [https://www.pro-football-reference.com/players/F/FellDa01.htm Career] !! 86 !! 62 !! 102 !! 1,171 !! 11.5 !! 49T !! 17 \\n|}\\n\\n====Postseason====\\n{|style=\"cellpadding=1; text-align:center;\" class=\"wikitable\"\\n|-style=\"font-weight:bold;background:#03202F;color:White;\"\\n|-\\n! rowspan=\"2\"| Year\\n! rowspan=\"2\"| Team\\n! colspan=\"2\"| Games\\n! colspan=\"5\"| Receiving\\n|-\\n! GP !! GS !! Rec !! Yds !! Avg !! Lng !! TD \\n|-\\n! [[2014 NFL season|2014]] !! [[2014 Arizona Cardinals season|ARI]]\\n| 1 || 1 || 1 || 1 || 1.0 || 1T || \\'\\'\\'1\\'\\'\\' \\n|-\\n! [[2015 NFL season|2015]] !! [[2015 Arizona Cardinals season|ARI]]\\n| \\'\\'\\'2\\'\\'\\' || 1 || 4 || 50 || \\'\\'\\'12.5\\'\\'\\' || \\'\\'\\'21T\\'\\'\\' || \\'\\'\\'1\\'\\'\\' \\n|-\\n! [[2019 NFL season|2019]] !! [[2019 Houston Texans season|HOU]]\\n| \\'\\'\\'2\\'\\'\\' || \\'\\'\\'2\\'\\'\\' || \\'\\'\\'7\\'\\'\\' || \\'\\'\\'59\\'\\'\\' || 8.4 || 14 || \\'\\'\\'1\\'\\'\\'\\n|-\\n! colspan=\"2\"| [https://www.pro-football-reference.com/players/F/FellDa01.htm Career] !! 5 !! 4 !! 12 !! 110 !! 9.2 !! 21T !! 3\\n|}\\n\\n==References==\\n{{reflist}}\\n\\n==External links==\\n*[https://web.archive.org/web/20140903143308/http://www.ucirvinesports.com/sports/m-baskbl/mtt/fells_darren00.html California-Irvine bio]\\n*[https://web.archive.org/web/20140903090022/http://www.seahawks.com/team/roster/Darren-Fells/4f4c6a30-b87c-46ba-ba07-46818926515f Seattle Seahawks bio]\\n*[http://www.azcardinals.com/team/roster/Darren-Fells/b1806a45-2489-4a3d-a113-3b0d5c2fdb52 Arizona Cardinals bio]\\n\\n{{Houston Texans roster navbox}}\\n\\n{{DEFAULTSORT:Fells, Darren}}\\n[[Category:1986 births]]\\n[[Category:Living people]]\\n[[Category:American expatriate basketball people in Argentina]]\\n[[Category:American expatriate basketball people in Belgium]]\\n[[Category:American expatriate basketball people in Finland]]\\n[[Category:American expatriate basketball people in France]]\\n[[Category:American expatriate basketball people in Mexico]]\\n[[Category:American football tight ends]]\\n[[Category:Arizona Cardinals players]]\\n[[Category:Basketball players from California]]\\n[[Category:Cleveland Browns players]]\\n[[Category:Detroit Lions players]]\\n[[Category:Houston Texans players]]\\n[[Category:Kataja BC players]]\\n[[Category:Leuven Bears players]]\\n[[Category:Obras Sanitarias basketball players]]\\n[[Category:Players of American football from California]]\\n[[Category:Seattle Seahawks players]]\\n[[Category:Sportspeople from Fullerton, California]]\\n[[Category:UC Irvine Anteaters men\\'s basketball players]]\\n[[Category:American men\\'s basketball players]]\\n[[Category:Centers (basketball)]]\\n[[Category:Power forwards (basketball)]]'"
      ]
     },
     "execution_count": 7,
     "metadata": {},
     "output_type": "execute_result"
    }
   ],
   "source": [
    "page_text = page.find('revision').find('text').text\n",
    "page_text"
   ]
  },
  {
   "cell_type": "code",
   "execution_count": 8,
   "metadata": {},
   "outputs": [],
   "source": [
    "lines = page_text.split('\\n')"
   ]
  },
  {
   "cell_type": "code",
   "execution_count": 9,
   "metadata": {},
   "outputs": [],
   "source": [
    "def get_lines_generator(lines):\n",
    "    for line in lines:\n",
    "        yield line"
   ]
  },
  {
   "cell_type": "code",
   "execution_count": 11,
   "metadata": {},
   "outputs": [],
   "source": [
    "def extract_answer(answer: str):\n",
    "    start_link = '\\[\\['\n",
    "    link = '[^\\[\\|]+'\n",
    "    links = '(('+link+'\\|)*'+'('+link+'))'\n",
    "    end_link = '\\]\\]'\n",
    "    def get_link_first(m):\n",
    "        try:\n",
    "            return m.group(2)[:-1]\n",
    "        except:\n",
    "            return m.group(1)\n",
    "    return re.sub(start_link + links + end_link, get_link_first, answer)\n",
    "    \n",
    "def extract_label(label_line):\n",
    "    # [1:] for no '|'\n",
    "    line_splited = label_line[1:].split('=')\n",
    "    question = line_splited[0]\n",
    "    answer = '='.join(line_splited[1:])\n",
    "    if answer == '':\n",
    "        return None\n",
    "    return question, extract_answer(answer)"
   ]
  },
  {
   "cell_type": "code",
   "execution_count": 12,
   "metadata": {
    "scrolled": true
   },
   "outputs": [
    {
     "name": "stdout",
     "output_type": "stream",
     "text": [
      "### Data ###\n"
     ]
    },
    {
     "data": {
      "text/plain": [
       "{'name': 'Darren Fells',\n",
       " 'image': 'Darren Fells (cropped).jpg',\n",
       " 'caption': 'Fells with the Browns in 2018',\n",
       " 'image_size': '225',\n",
       " 'current_team ': ' Houston Texans',\n",
       " 'number': '87',\n",
       " 'position': 'Tight end',\n",
       " 'birth_date': '{{Birth date and age|1986|4|22|mf=y}}',\n",
       " 'birth_place': 'Fullerton, California',\n",
       " 'height_ft ': ' 6',\n",
       " 'height_in ': ' 7',\n",
       " 'weight_lbs': '270',\n",
       " 'high_school ': ' Fullerton Union High School<br/>(Fullerton, California)',\n",
       " 'college': \"UC Irvine Anteaters men's basketball\",\n",
       " 'undraftedyear': '2013',\n",
       " 'pastteamsnote': 'yes',\n",
       " 'status': 'Active',\n",
       " 'statseason': '2019',\n",
       " 'statlabel1': 'Reception (American football)',\n",
       " 'statvalue1': '102',\n",
       " 'statlabel2': 'Receiving yards',\n",
       " 'statvalue2': '1,171',\n",
       " 'statlabel3': 'Touchdown',\n",
       " 'statvalue3': '17',\n",
       " 'nflnew': 'darrenfells/2540928'}"
      ]
     },
     "execution_count": 12,
     "metadata": {},
     "output_type": "execute_result"
    }
   ],
   "source": [
    "lines_generator = get_lines_generator(lines)\n",
    "\n",
    "labels = list()\n",
    "\n",
    "line = next(lines_generator)\n",
    "\n",
    "while line[:9] != '{{Infobox':\n",
    "    line = next(lines_generator)\n",
    "\n",
    "line = next(lines_generator)\n",
    "\n",
    "labels = dict()\n",
    "\n",
    "while line != '}}':\n",
    "    extraction = extract_label(line)\n",
    "    if extraction:\n",
    "        q, a = extraction\n",
    "        labels[q] = a\n",
    "    \n",
    "    line = next(lines_generator)\n",
    "    \n",
    "print('### Data ###')\n",
    "\n",
    "data = ''\n",
    "\n",
    "for line in lines_generator:\n",
    "    data += line + '\\n'\n",
    "\n",
    "labels"
   ]
  },
  {
   "cell_type": "code",
   "execution_count": 13,
   "metadata": {},
   "outputs": [],
   "source": [
    "def save_data(name, data):\n",
    "    save_to_file(data, 'data\\\\data\\\\'+name+'.txt')"
   ]
  },
  {
   "cell_type": "code",
   "execution_count": 14,
   "metadata": {},
   "outputs": [],
   "source": [
    "def save_labels(name, labels: dict):\n",
    "    with open('data\\\\labels\\\\'+name+'.json', 'w') as json_file:\n",
    "        json.dump(labels, json_file)"
   ]
  },
  {
   "cell_type": "code",
   "execution_count": 15,
   "metadata": {},
   "outputs": [],
   "source": [
    "save_data(name,data)"
   ]
  },
  {
   "cell_type": "code",
   "execution_count": 16,
   "metadata": {},
   "outputs": [],
   "source": [
    "save_labels(name, labels)"
   ]
  },
  {
   "cell_type": "code",
   "execution_count": 17,
   "metadata": {},
   "outputs": [
    {
     "name": "stdout",
     "output_type": "stream",
     "text": [
      "a\n"
     ]
    }
   ],
   "source": [
    "if re.match('^a.*','a'):\n",
    "    print('a')"
   ]
  },
  {
   "cell_type": "code",
   "execution_count": 24,
   "metadata": {},
   "outputs": [
    {
     "name": "stdout",
     "output_type": "stream",
     "text": [
      "D:\\אלון\\תואר שני\\שיטות מתקדמות בלמידה חישובית\n",
      "D:\\אלון\\תואר שני\n",
      "D:\\אלון\n",
      "D:\\\n"
     ]
    }
   ],
   "source": [
    "for p in Path.cwd().parents:\n",
    "    print(p)"
   ]
  }
 ],
 "metadata": {
  "kernelspec": {
   "display_name": "Python 3",
   "language": "python",
   "name": "python3"
  },
  "language_info": {
   "codemirror_mode": {
    "name": "ipython",
    "version": 3
   },
   "file_extension": ".py",
   "mimetype": "text/x-python",
   "name": "python",
   "nbconvert_exporter": "python",
   "pygments_lexer": "ipython3",
   "version": "3.7.5"
  }
 },
 "nbformat": 4,
 "nbformat_minor": 2
}
