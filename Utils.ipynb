{
 "cells": [
  {
   "cell_type": "markdown",
   "metadata": {},
   "source": [
    "## loop_through_list_iterable"
   ]
  },
  {
   "cell_type": "code",
   "execution_count": 2,
   "metadata": {},
   "outputs": [],
   "source": [
    "dict1 = {\n",
    "    'a': 1,\n",
    "    'b' : [\n",
    "        1,\n",
    "        2\n",
    "    ]\n",
    "}"
   ]
  },
  {
   "cell_type": "code",
   "execution_count": 3,
   "metadata": {},
   "outputs": [],
   "source": [
    "dict2 = {\n",
    "    'a': 3,\n",
    "    'b' : [\n",
    "        4,\n",
    "        5\n",
    "    ]\n",
    "}"
   ]
  },
  {
   "cell_type": "code",
   "execution_count": 7,
   "metadata": {},
   "outputs": [],
   "source": [
    "dict_list = [dict1, dict2]"
   ]
  },
  {
   "cell_type": "code",
   "execution_count": 9,
   "metadata": {},
   "outputs": [
    {
     "name": "stdout",
     "output_type": "stream",
     "text": [
      "a  :  1\n",
      "a  :  3\n",
      "b  :  [1, 2]\n",
      "b  :  [4, 5]\n"
     ]
    }
   ],
   "source": [
    "for l in zip(*[d.items() for d in dict_list]):\n",
    "    for k, v in l:\n",
    "        print(k, ' : ', v)"
   ]
  },
  {
   "cell_type": "code",
   "execution_count": 11,
   "metadata": {},
   "outputs": [
    {
     "data": {
      "text/plain": [
       "False"
      ]
     },
     "execution_count": 11,
     "metadata": {},
     "output_type": "execute_result"
    }
   ],
   "source": [
    "all([False, False, True])"
   ]
  },
  {
   "cell_type": "markdown",
   "metadata": {},
   "source": [
    "## Train test split"
   ]
  },
  {
   "cell_type": "code",
   "execution_count": 8,
   "metadata": {},
   "outputs": [],
   "source": [
    "from sklearn.model_selection import train_test_split\n",
    "import numpy as np"
   ]
  },
  {
   "cell_type": "code",
   "execution_count": 15,
   "metadata": {},
   "outputs": [
    {
     "data": {
      "text/plain": [
       "[array([53, 23, 71, 63, 11, 25, 79, 41,  5, 46, 43, 32, 72, 54, 93, 31, 75,\n",
       "        33, 69, 82,  8, 95, 45, 35, 58, 50,  9, 88, 16, 42,  1, 68, 55, 97,\n",
       "        61, 56, 85, 96, 12, 29, 91, 89, 18, 10, 60, 38, 39, 22, 86, 34, 44,\n",
       "        37,  6, 57, 48, 74, 98, 81, 27,  0, 76, 70, 19, 62, 52, 51, 80, 87,\n",
       "        90, 83, 36, 66,  2, 99, 59, 94, 17, 20, 47, 73]),\n",
       " array([21, 15, 67, 49, 13, 65, 84, 30, 28, 92,  4,  7, 78, 26, 14, 40,  3,\n",
       "        24, 64, 77]),\n",
       " array([ True,  True,  True,  True,  True,  True,  True,  True, False,\n",
       "         True,  True,  True,  True,  True,  True,  True,  True,  True,\n",
       "         True,  True, False,  True,  True,  True,  True,  True, False,\n",
       "         True,  True,  True, False,  True,  True,  True,  True,  True,\n",
       "         True,  True,  True,  True,  True,  True,  True, False,  True,\n",
       "         True,  True,  True,  True,  True,  True,  True, False,  True,\n",
       "         True,  True,  True,  True,  True, False,  True,  True,  True,\n",
       "         True,  True,  True,  True,  True,  True,  True,  True,  True,\n",
       "        False,  True,  True,  True,  True,  True,  True,  True]),\n",
       " array([ True,  True,  True,  True,  True,  True,  True,  True,  True,\n",
       "         True, False, False,  True,  True,  True,  True, False,  True,\n",
       "         True,  True]),\n",
       " array([53, 23, 71, 63, 11, 25, 79, 41,  5, 46, 43, 32, 72, 54, 93, 31, 75,\n",
       "        33, 69, 82,  8, 95, 45, 35, 58, 50,  9, 88, 16, 42,  1, 68, 55, 97,\n",
       "        61, 56, 85, 96, 12, 29, 91, 89, 18, 10, 60, 38, 39, 22, 86, 34, 44,\n",
       "        37,  6, 57, 48, 74, 98, 81, 27,  0, 76, 70, 19, 62, 52, 51, 80, 87,\n",
       "        90, 83, 36, 66,  2, 99, 59, 94, 17, 20, 47, 73]),\n",
       " array([21, 15, 67, 49, 13, 65, 84, 30, 28, 92,  4,  7, 78, 26, 14, 40,  3,\n",
       "        24, 64, 77]),\n",
       " array([2809,  529, 5041, 3969,  121,  625, 6241, 1681,   25, 2116, 1849,\n",
       "        1024, 5184, 2916, 8649,  961, 5625, 1089, 4761, 6724,   64, 9025,\n",
       "        2025, 1225, 3364, 2500,   81, 7744,  256, 1764,    1, 4624, 3025,\n",
       "        9409, 3721, 3136, 7225, 9216,  144,  841, 8281, 7921,  324,  100,\n",
       "        3600, 1444, 1521,  484, 7396, 1156, 1936, 1369,   36, 3249, 2304,\n",
       "        5476, 9604, 6561,  729,    0, 5776, 4900,  361, 3844, 2704, 2601,\n",
       "        6400, 7569, 8100, 6889, 1296, 4356,    4, 9801, 3481, 8836,  289,\n",
       "         400, 2209, 5329], dtype=int32),\n",
       " array([ 441,  225, 4489, 2401,  169, 4225, 7056,  900,  784, 8464,   16,\n",
       "          49, 6084,  676,  196, 1600,    9,  576, 4096, 5929], dtype=int32)]"
      ]
     },
     "execution_count": 15,
     "metadata": {},
     "output_type": "execute_result"
    }
   ],
   "source": [
    "n = 100\n",
    "X = np.arange(n)\n",
    "y = X > 10\n",
    "train_test_split(X, y, X, X ** 2, test_size=0.2)"
   ]
  },
  {
   "cell_type": "markdown",
   "metadata": {},
   "source": [
    "## Class"
   ]
  },
  {
   "cell_type": "code",
   "execution_count": 21,
   "metadata": {},
   "outputs": [],
   "source": [
    "class C:\n",
    "    def __init__(self):\n",
    "        self.a = 5\n",
    "        for c in self.__dict__.keys():\n",
    "            return \n",
    "    def A(self):\n",
    "        return self.a"
   ]
  },
  {
   "cell_type": "code",
   "execution_count": 22,
   "metadata": {},
   "outputs": [],
   "source": [
    "c = C()"
   ]
  },
  {
   "cell_type": "code",
   "execution_count": 23,
   "metadata": {},
   "outputs": [
    {
     "data": {
      "text/plain": [
       "{'a': 5}"
      ]
     },
     "execution_count": 23,
     "metadata": {},
     "output_type": "execute_result"
    }
   ],
   "source": [
    "c.__dict__"
   ]
  },
  {
   "cell_type": "code",
   "execution_count": null,
   "metadata": {},
   "outputs": [],
   "source": []
  }
 ],
 "metadata": {
  "kernelspec": {
   "display_name": "Python 3",
   "language": "python",
   "name": "python3"
  },
  "language_info": {
   "codemirror_mode": {
    "name": "ipython",
    "version": 3
   },
   "file_extension": ".py",
   "mimetype": "text/x-python",
   "name": "python",
   "nbconvert_exporter": "python",
   "pygments_lexer": "ipython3",
   "version": "3.7.5"
  }
 },
 "nbformat": 4,
 "nbformat_minor": 4
}
